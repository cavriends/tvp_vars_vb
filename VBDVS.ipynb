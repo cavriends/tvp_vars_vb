{
 "cells": [
  {
   "cell_type": "code",
   "execution_count": 1,
   "metadata": {},
   "outputs": [],
   "source": [
    "#General libraries\n",
    "import numpy as np\n",
    "import pandas as pd\n",
    "import matplotlib.pyplot as plt\n",
    "from scipy.stats import norm, multivariate_normal\n",
    "from IPython.display import clear_output\n",
    "import time\n",
    "\n",
    "#Own code\n",
    "from utils.data_utils import create_data, create_dgp_data, transformation, standardize\n",
    "from utils.tvp_models import TVPVARModel\n",
    "\n",
    "# Suppress scientific notation in numpy\n",
    "np.set_printoptions(suppress=True)"
   ]
  },
  {
   "cell_type": "code",
   "execution_count": 2,
   "metadata": {},
   "outputs": [
    {
     "name": "stdout",
     "output_type": "stream",
     "text": [
      "k: 39\n"
     ]
    }
   ],
   "source": [
    "train = 200\n",
    "\n",
    "M = 3\n",
    "p = 4\n",
    "T = train - p\n",
    "k = M*(M*p+1)\n",
    "\n",
    "print(\"k: \" + str(k))\n",
    "\n",
    "np.random.seed(12345)"
   ]
  },
  {
   "cell_type": "code",
   "execution_count": 3,
   "metadata": {},
   "outputs": [],
   "source": [
    "ds = pd.read_csv(\"data/fred_qd.csv\")"
   ]
  },
  {
   "cell_type": "code",
   "execution_count": 4,
   "metadata": {},
   "outputs": [],
   "source": [
    "transform=True\n",
    "\n",
    "gdp = transformation(ds[\"GDPC1\"].iloc[2:].to_numpy(), 5, transform)\n",
    "cpi = transformation(ds[\"CPIAUCSL\"].iloc[2:].to_numpy(), 6, transform)\n",
    "fedfund = transformation(ds[\"FEDFUNDS\"].iloc[2:].to_numpy(), 2, transform)\n",
    "compi = transformation(ds[\"PPIACO\"].iloc[2:].to_numpy(), 6, transform)\n",
    "borrowings = transformation(ds[\"TOTRESNS\"].iloc[2:].to_numpy(), 6, transform)\n",
    "sp500 = transformation(ds[\"S&P 500\"].iloc[2:].to_numpy(), 5, transform)\n",
    "m2 = transformation(ds[\"M2REAL\"].iloc[2:].to_numpy(), 5, transform)\n",
    "\n",
    "series_total = [gdp, cpi, fedfund]\n",
    "#series_total = [gdp, cpi, fedfund, compi, borrowings , sp500, m2]"
   ]
  },
  {
   "cell_type": "code",
   "execution_count": 5,
   "metadata": {},
   "outputs": [],
   "source": [
    "standardized_series = standardize(series_total, train)"
   ]
  },
  {
   "cell_type": "code",
   "execution_count": 6,
   "metadata": {},
   "outputs": [],
   "source": [
    "# Create matrices from FED-QD\n",
    "X, y = create_data(standardized_series, train, T, M, p, k)"
   ]
  },
  {
   "cell_type": "code",
   "execution_count": 7,
   "metadata": {},
   "outputs": [],
   "source": [
    "# # SVSS\n",
    "# tvp_svss = TVPVARModel(X, y, p, train)\n",
    "# mt1t_svss, St1t_svss = tvp_svss.train(print_status=False)\n",
    "\n",
    "# # Horseshoe\n",
    "# tvp_horseshoe = TVPVARModel(X, y, p, train)\n",
    "# tvp_horseshoe.initialize_priors(prior='horseshoe')\n",
    "# mt1t_horseshoe, St1t_horseshoe = tvp_horseshoe.train(print_status=False)\n",
    "\n",
    "# # Lasso\n",
    "# tvp_lasso = TVPVARModel(X, y, p, train)\n",
    "# tvp_lasso = tvp_lasso.initialize_priors(prior='lasso')\n",
    "# mt1t_lasso, St1t_lasso = tvp_horseshoe.train(print_status=False)"
   ]
  },
  {
   "cell_type": "code",
   "execution_count": 8,
   "metadata": {},
   "outputs": [],
   "source": [
    "complete_T = cpi.shape[0]\n",
    "X_complete, y_complete = create_data(standardized_series, complete_T, complete_T-p, M, p, k)"
   ]
  },
  {
   "cell_type": "code",
   "execution_count": 9,
   "metadata": {},
   "outputs": [
    {
     "name": "stderr",
     "output_type": "stream",
     "text": [
      "/Users/cavriends/Dropbox/ESE/MSc Econometrics/Thesis/Bayesian VARs/Code/Jupyter/utils/tvp_models.py:193: RuntimeWarning: divide by zero encountered in true_divide\n",
      "  gamma         = 1/(np.multiply(1+(np.divide((1-self.pi0),self.pi0)),np.exp(l_0-l_1)))\n",
      "/Users/cavriends/Dropbox/ESE/MSc Econometrics/Thesis/Bayesian VARs/Code/Jupyter/utils/tvp_models.py:193: RuntimeWarning: invalid value encountered in true_divide\n",
      "  gamma         = 1/(np.multiply(1+(np.divide((1-self.pi0),self.pi0)),np.exp(l_0-l_1)))\n"
     ]
    }
   ],
   "source": [
    "tvp_svss = TVPVARModel(X_complete, y_complete, p, train)\n",
    "mt1t_svss, St1t_svss = tvp_svss.train(print_status=False)"
   ]
  },
  {
   "cell_type": "code",
   "execution_count": 10,
   "metadata": {},
   "outputs": [
    {
     "data": {
      "text/plain": [
       "(241, 3, 39)"
      ]
     },
     "execution_count": 10,
     "metadata": {},
     "output_type": "execute_result"
    }
   ],
   "source": [
    "X_complete.shape"
   ]
  },
  {
   "cell_type": "code",
   "execution_count": 30,
   "metadata": {},
   "outputs": [],
   "source": [
    "tvp_lasso = TVPVARModel(X_complete, y_complete, p, train)\n",
    "tvp_lasso.initialize_priors(prior='lasso', prior_parameters={'lambda_param':50})\n",
    "mt1t_svss, St1t_lasso = tvp_svss.train(print_status=False)"
   ]
  },
  {
   "cell_type": "code",
   "execution_count": 31,
   "metadata": {},
   "outputs": [],
   "source": [
    "predictions = tvp_lasso.calculate_predictions(8)"
   ]
  },
  {
   "cell_type": "code",
   "execution_count": 19,
   "metadata": {},
   "outputs": [
    {
     "data": {
      "text/plain": [
       "array([-1.50042485, -2.92632848, -1.04133431, -0.27563902, -0.15220033,\n",
       "       -0.32116318, -0.65861147, -0.95111289, -0.5208667 ,  0.00740126,\n",
       "        0.07572175, -0.02868685, -0.21736079, -0.26070537, -0.48923686,\n",
       "       -0.61031047, -0.51944212, -0.55143365, -0.95811173, -0.8461438 ,\n",
       "       -0.58026532, -0.51076458, -0.3393177 , -0.45314824, -0.77911839,\n",
       "       -1.58977969, -1.30372307, -0.53778145, -0.96935614, -1.11474887,\n",
       "       -0.72813409, -0.49806457, -0.49102479, -0.34961137, -0.71219652,\n",
       "       -0.93841291, -0.42362866, -0.26037767, -0.38457675, -0.49160859,\n",
       "       -0.72390698, -0.96825284, -0.61017943, -0.44257724, -0.49954756])"
      ]
     },
     "execution_count": 19,
     "metadata": {},
     "output_type": "execute_result"
    }
   ],
   "source": [
    "predictions[:,1,0]"
   ]
  },
  {
   "cell_type": "code",
   "execution_count": 27,
   "metadata": {},
   "outputs": [
    {
     "data": {
      "text/plain": [
       "[<matplotlib.lines.Line2D at 0x1324f7e10>]"
      ]
     },
     "execution_count": 27,
     "metadata": {},
     "output_type": "execute_result"
    },
    {
     "data": {
      "image/png": "[encoded data removed]",
      "text/plain": [
       "<Figure size 432x288 with 1 Axes>"
      ]
     },
     "metadata": {
      "needs_background": "light"
     },
     "output_type": "display_data"
    }
   ],
   "source": [
    "plt.plot(predictions[:,0,0])"
   ]
  },
  {
   "cell_type": "code",
   "execution_count": 33,
   "metadata": {},
   "outputs": [
    {
     "data": {
      "text/plain": [
       "0.4228061423660028"
      ]
     },
     "execution_count": 33,
     "metadata": {},
     "output_type": "execute_result"
    }
   ],
   "source": [
    "np.mean((predictions[:,0,0] - y_complete[196:,0])**2)"
   ]
  },
  {
   "cell_type": "code",
   "execution_count": 22,
   "metadata": {},
   "outputs": [],
   "source": [
    "y_pred = np.empty((T,M))\n",
    "\n",
    "for m in range(M):\n",
    "\n",
    "    for t in range(T):\n",
    "\n",
    "        y_pred[t,m] = X[t,m,:]@mt1t_svss[:,t]"
   ]
  },
  {
   "cell_type": "code",
   "execution_count": 9,
   "metadata": {},
   "outputs": [],
   "source": [
    "def calculate_predictions(total_h, current_X, mt1t):\n",
    "\n",
    "    prev_X = current_X\n",
    "\n",
    "    prev_pred = np.zeros((M,total_h))\n",
    "\n",
    "    for h in range(total_h):\n",
    "\n",
    "        prev_pred[:,h] = prev_X@mt1t[:,-1]\n",
    "        vec_X = prev_X[0,:(M*p+1)]\n",
    "\n",
    "        empty_X = np.zeros((M*p+1))\n",
    "        empty_X[0] = 1\n",
    "\n",
    "        for m in range(M):\n",
    "            empty_X[(m*p+2):((m+1)*p+1)] = vec_X[(m*p+1):((m+1)*p)]\n",
    "\n",
    "        vec_X = empty_X\n",
    "        vec_X[1::p] = prev_pred[:,h]\n",
    "\n",
    "        prev_X = np.zeros((M,k))\n",
    "        for m in range(M):\n",
    "            total_lags = M*p+1\n",
    "            prev_X[m,m*(total_lags):(m+1)*total_lags] = vec_X\n",
    "\n",
    "    return prev_pred"
   ]
  },
  {
   "cell_type": "code",
   "execution_count": 2,
   "metadata": {},
   "outputs": [],
   "source": [
    "def calculate_msfe(X_complete, y_complete, p, train_begin=200, complete_T=243, total_h=8, prior='svss', prior_parameters={'tau_0':0.1, 'tau_1':10, 'pi0':0.5} ,homoskedastic=True):\n",
    "\n",
    "    y_pred = np.zeros((complete_T-train_begin,M,total_h))\n",
    "    counter = 0\n",
    "    MSFE_TVP = np.zeros(total_h)\n",
    "    for idx, t in enumerate(range(train_begin, complete_T)):\n",
    "\n",
    "        train_T = t-p\n",
    "        X_train = X_complete[:train_T]\n",
    "        y_train = y_complete[:train_T]\n",
    "        counter += 1\n",
    "        mt1t, St1t = tvp_var_vb(X_train, y_train, train_T, M, p, k, prior=prior, homoskedastic=homoskedastic, prior_parameters=prior_parameters, prior_default=False, print_status=False)\n",
    "\n",
    "        y_pred[idx] = calculate_predictions(total_h, X_complete[train_T], mt1t)\n",
    "    \n",
    "    for h in range(total_h):\n",
    "        if h == 0:\n",
    "            MSFE_TVP[h] = np.mean((y_complete[train_begin-p:]-y_pred[:,:,0])**2)\n",
    "        else:\n",
    "            MSFE_TVP[h] = np.mean((y_complete[train_begin-p+h:]-y_pred[:-h,:,h])**2)\n",
    "            \n",
    "    return MSFE_TVP"
   ]
  },
  {
   "cell_type": "code",
   "execution_count": 12,
   "metadata": {},
   "outputs": [],
   "source": [
    "# for h in range(total_h):\n",
    "#     if h == 0:\n",
    "#         MSFE_TVP = np.mean((y_complete[train_begin-p:]-y_pred[:,:,0])**2)\n",
    "#         MSFE_RW = np.mean((y_complete[train_begin-p:]-y_complete[train_begin-p-1:-1])**2)\n",
    "#     else:\n",
    "#         MSFE_TVP = np.mean((y_complete[train_begin-p+h:]-y_pred[:-h,:,h])**2)\n",
    "#         MSFE_RW = np.mean((y_complete[train_begin-p:]-y_complete[train_begin-p-(h+1):-(h+1)])**2)\n",
    "              \n",
    "#     print(str(h+1) + \"-step ahead\" + \"\\n\" + \"MSFE TVP-VAR: \" + \"\\t\" + str(round(MSFE_TVP,4)) + \"\\n\" + \"MSFE RW: \" + \"\\t\" + str(round(MSFE_RW,4)) + \"\\n\" + \"Ratio: \" + str(round(MSFE_TVP/MSFE_RW,4)))"
   ]
  },
  {
   "cell_type": "code",
   "execution_count": 13,
   "metadata": {},
   "outputs": [],
   "source": [
    "# %%time\n",
    "\n",
    "# lambda_values = np.arange(50,51,0.5)\n",
    "# derivative_values = np.zeros(lambda_values.shape[0])\n",
    "# error = np.sqrt(1.1e-16)\n",
    "\n",
    "# for idx, lambda_value in enumerate(lambda_values):\n",
    "                                   \n",
    "#     derivative_values[idx] = (calculate_msfe(X_complete, y_complete, p, prior='lasso', prior_parameters={'lambda_param':lambda_value+error})[0] - calculate_msfe(X_complete, y_complete, p, prior='lasso', prior_parameters={'lambda_param':lambda_value-error})[0])/(2*error)\n",
    "#     print(idx)"
   ]
  },
  {
   "cell_type": "code",
   "execution_count": 14,
   "metadata": {},
   "outputs": [],
   "source": [
    "def insample_msfe(X_complete, y_complete, p, train_begin=200, complete_T=243, total_h=8, prior='svss', prior_parameters={'tau_0':0.1, 'tau_1':10, 'pi0':0.5} ,homoskedastic=True):\n",
    "    \n",
    "    M = X_complete.shape[1]\n",
    "    k = X_complete.shape[2]\n",
    "    \n",
    "    train_T = train_begin-p\n",
    "    X_train = X_complete[:train_T]\n",
    "    y_train = y_complete[:train_T]\n",
    "    \n",
    "    tvp_var = TVPVARModel(X_train, y_train)\n",
    "    tvp_var.initialize_priors(prior, prior_parameters, False)\n",
    "    mt1t, St1t = tvp_var.train(print_status=False)\n",
    "    \n",
    "    y_pred = np.empty((train_T,M))\n",
    "\n",
    "    for m in range(M):\n",
    "\n",
    "        for t in range(train_T):\n",
    "\n",
    "            y_pred[t,m] = X_train[t,m,:]@mt1t[:,t]\n",
    "            \n",
    "    msfe = np.mean((y_pred - y_complete[:train_T])**2)\n",
    "    \n",
    "    return msfe"
   ]
  },
  {
   "cell_type": "code",
   "execution_count": null,
   "metadata": {},
   "outputs": [],
   "source": []
  },
  {
   "cell_type": "code",
   "execution_count": 13,
   "metadata": {},
   "outputs": [],
   "source": [
    "def point_prediction(X_complete, y_complete, p, train_begin=242, complete_T=243, prior='svss', prior_parameters={'tau_0':0.1, 'tau_1':10, 'pi0':0.5} ,homoskedastic=True):\n",
    "    \n",
    "    M = X_complete.shape[1]\n",
    "    k = X_complete.shape[2]\n",
    "    \n",
    "    train_T = train_begin-p\n",
    "    X_train = X_complete[:train_T]\n",
    "    y_train = y_complete[:train_T]\n",
    "    \n",
    "    tvp_var = TVPVARModel(X_train, y_train)\n",
    "    tvp_var.initialize_priors(prior, prior_parameters, False)\n",
    "    mt1t, St1t = tvp_var.train(print_status=False)\n",
    "    \n",
    "    y_pred = np.empty((train_T,M))\n",
    "\n",
    "    for m in range(M):\n",
    "\n",
    "        for t in range(train_T):\n",
    "\n",
    "            y_pred[t,m] = X_train[t,m,:]@mt1t[:,t]\n",
    "    \n",
    "    return y_pred"
   ]
  },
  {
   "cell_type": "code",
   "execution_count": 14,
   "metadata": {},
   "outputs": [],
   "source": [
    "train_T = 242\n",
    "\n",
    "X_train = X_complete[:train_T]\n",
    "y_train = y_complete[:train_T]\n",
    "\n",
    "tvp_var = TVPVARModel(X_train, y_train)\n",
    "mt1t, St1t = tvp_var.train(print_status=False)\n",
    "\n"
   ]
  },
  {
   "cell_type": "code",
   "execution_count": 15,
   "metadata": {},
   "outputs": [],
   "source": [
    "def point_prediction_full(X_complete, y_complete, p, prior='svss', prior_parameters={'tau_0':0.1, 'tau_1':10, 'pi0':0.5} ,homoskedastic=True):\n",
    "    \n",
    "    M = X_complete.shape[1]\n",
    "    k = X_complete.shape[2] \n",
    "    \n",
    "    X = X_complete[:-1]\n",
    "    y = y_complete[:-1]\n",
    "    \n",
    "    tvp_var = TVPVARModel(X, y)\n",
    "    tvp_var.initialize_priors(prior, prior_parameters, False)\n",
    "    mt1t, St1t = tvp_var.train(print_status=False)\n",
    "    \n",
    "    pred = np.zeros(M)\n",
    "    \n",
    "    for m in range(M):\n",
    "        pred[m] = X[-1,m,:]@mt1t[:,-1]\n",
    "        \n",
    "    return pred"
   ]
  },
  {
   "cell_type": "code",
   "execution_count": 19,
   "metadata": {},
   "outputs": [],
   "source": [
    "import os\n",
    "\n",
    "def calculate_derivative (parameter_value):\n",
    "    error = np.sqrt(1.1e-16)\n",
    "    derivative = (calculate_msfe(X_complete, y_complete, p, prior='lasso', prior_parameters={'lambda_param':parameter_value+error})[0] - calculate_msfe(X_complete, y_complete, p, prior='lasso', prior_parameters={'lambda_param':parameter_value-error})[0])/(2*error)\n",
    "    print('lambda: ' + str(parameter_value) + \" is done!\" + \"\\n\" + \"process ID: \" + str(os.getpid()))\n",
    "    return derivative"
   ]
  },
  {
   "cell_type": "code",
   "execution_count": null,
   "metadata": {},
   "outputs": [],
   "source": [
    "%%time\n",
    "import os\n",
    "from multiprocessing import Pool, Array\n",
    "\n",
    "lambda_values = np.arange(50,51,0.20)\n",
    "\n",
    "if __name__ == '__main__':\n",
    "    \n",
    "    pool = Pool()\n",
    "    derivatives = pool.map(calculate_derivative, lambda_values)"
   ]
  },
  {
   "cell_type": "code",
   "execution_count": null,
   "metadata": {},
   "outputs": [],
   "source": [
    "import pickle\n",
    "\n",
    "with open('derivatives.pkl', 'wb') as f:\n",
    "    pickle.dump(derivatives, f, pickle.HIGHEST_PROTOCOL)"
   ]
  },
  {
   "cell_type": "code",
   "execution_count": 22,
   "metadata": {},
   "outputs": [],
   "source": [
    "def calculate_derivative_insample (parameter_value):\n",
    "    error = np.sqrt(1.1e-16)\n",
    "    derivative = (insample_msfe(X_complete, y_complete, p, prior='lasso', prior_parameters={'lambda_param':parameter_value+error}) - insample_msfe(X_complete, y_complete, p, prior='lasso', prior_parameters={'lambda_param':parameter_value-error}))/(2*error)\n",
    "    return derivative"
   ]
  },
  {
   "cell_type": "code",
   "execution_count": 23,
   "metadata": {},
   "outputs": [
    {
     "name": "stdout",
     "output_type": "stream",
     "text": [
      "40\n",
      "CPU times: user 79.7 ms, sys: 52.5 ms, total: 132 ms\n",
      "Wall time: 58.1 s\n"
     ]
    }
   ],
   "source": [
    "%%time\n",
    "import os\n",
    "from multiprocessing import Pool, Array\n",
    "from functools import partial\n",
    "\n",
    "lambda_values = np.arange(50,51,0.025)\n",
    "print(lambda_values.shape[0])\n",
    "\n",
    "if __name__ == '__main__':\n",
    "    \n",
    "    pool = Pool()\n",
    "    derivatives = pool.map(calculate_derivative_insample, lambda_values)"
   ]
  },
  {
   "cell_type": "code",
   "execution_count": 24,
   "metadata": {},
   "outputs": [
    {
     "data": {
      "text/plain": [
       "[<matplotlib.lines.Line2D at 0x127fa7990>]"
      ]
     },
     "execution_count": 24,
     "metadata": {},
     "output_type": "execute_result"
    },
    {
     "data": {
      "image/png": "[encoded data removed]",
      "text/plain": [
       "<Figure size 432x288 with 1 Axes>"
      ]
     },
     "metadata": {
      "needs_background": "light"
     },
     "output_type": "display_data"
    }
   ],
   "source": [
    "plt.plot(lambda_values, derivatives)"
   ]
  },
  {
   "cell_type": "code",
   "execution_count": 16,
   "metadata": {},
   "outputs": [],
   "source": [
    "def calculate_derivative_point_gdp(parameter_value):\n",
    "    error = np.sqrt(1.1e-16)\n",
    "    derivative = (point_prediction_full(X_complete, y_complete, p, 'lasso', {'lambda_param':parameter_value+error})[0] - point_prediction_full(X_complete, y_complete, p, 'lasso', {'lambda_param':parameter_value-error})[0])/(2*error)\n",
    "    return derivative"
   ]
  },
  {
   "cell_type": "code",
   "execution_count": null,
   "metadata": {},
   "outputs": [],
   "source": []
  },
  {
   "cell_type": "code",
   "execution_count": 18,
   "metadata": {},
   "outputs": [
    {
     "data": {
      "text/plain": [
       "-1.722469286023001e-06"
      ]
     },
     "execution_count": 18,
     "metadata": {},
     "output_type": "execute_result"
    }
   ],
   "source": [
    "calculate_derivative_point_gdp(50)"
   ]
  },
  {
   "cell_type": "code",
   "execution_count": 27,
   "metadata": {},
   "outputs": [
    {
     "name": "stdout",
     "output_type": "stream",
     "text": [
      "740\n",
      "CPU times: user 4.16 s, sys: 1.62 s, total: 5.78 s\n",
      "Wall time: 16min 54s\n"
     ]
    }
   ],
   "source": [
    "%%time\n",
    "import os\n",
    "from multiprocessing import Pool, Array\n",
    "from functools import partial\n",
    "\n",
    "lambda_values = np.arange(30,400,0.50)\n",
    "print(lambda_values.shape[0])\n",
    "\n",
    "if __name__ == '__main__':\n",
    "    \n",
    "    pool = Pool()\n",
    "    derivatives = pool.map(calculate_derivative_point_gdp, lambda_values)"
   ]
  },
  {
   "cell_type": "code",
   "execution_count": 28,
   "metadata": {},
   "outputs": [
    {
     "data": {
      "text/plain": [
       "[<matplotlib.lines.Line2D at 0x1356ddd90>]"
      ]
     },
     "execution_count": 28,
     "metadata": {},
     "output_type": "execute_result"
    },
    {
     "data": {
      "image/png": "[encoded data removed]",
      "text/plain": [
       "<Figure size 432x288 with 1 Axes>"
      ]
     },
     "metadata": {
      "needs_background": "light"
     },
     "output_type": "display_data"
    }
   ],
   "source": [
    "plt.plot(lambda_values, derivatives)"
   ]
  },
  {
   "cell_type": "code",
   "execution_count": 26,
   "metadata": {},
   "outputs": [],
   "source": [
    "import pickle\n",
    "\n",
    "with open('derivatives.pkl', 'wb') as f:\n",
    "    pickle.dump(derivatives, f, pickle.HIGHEST_PROTOCOL)"
   ]
  },
  {
   "cell_type": "code",
   "execution_count": null,
   "metadata": {},
   "outputs": [],
   "source": []
  }
 ],
 "metadata": {
  "kernelspec": {
   "display_name": "Python 3",
   "language": "python",
   "name": "python3"
  },
  "language_info": {
   "codemirror_mode": {
    "name": "ipython",
    "version": 3
   },
   "file_extension": ".py",
   "mimetype": "text/x-python",
   "name": "python",
   "nbconvert_exporter": "python",
   "pygments_lexer": "ipython3",
   "version": "3.7.6"
  }
 },
 "nbformat": 4,
 "nbformat_minor": 4
}
