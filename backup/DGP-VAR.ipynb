{
 "cells": [
  {
   "cell_type": "code",
   "execution_count": 1,
   "metadata": {},
   "outputs": [],
   "source": [
    "%matplotlib inline\n",
    "import time\n",
    "import sys\n",
    "import pandas as pd\n",
    "import numpy as np\n",
    "import matplotlib.pyplot as plt\n",
    "from scipy.stats import norm, multivariate_normal\n",
    "from scipy import io\n",
    "\n",
    "# Own code\n",
    "sys.path.append(\"../\")\n",
    "from utils.data_utils import create_data, create_dgp_data, transformation, standardize, generate_dgp_tvp_var, generate_matrices, generate_contemp_matrices\n",
    "from utils.tvp_models import TVPVARModel, tvp_ar_contemp, tvp_ar_non_contemp\n",
    "\n",
    "# Suppress scientific notation in numpy\n",
    "np.set_printoptions(suppress=True)"
   ]
  },
  {
   "cell_type": "markdown",
   "metadata": {},
   "source": [
    "### Generate data according to a TVP-VAR DGP"
   ]
  },
  {
   "cell_type": "code",
   "execution_count": 2,
   "metadata": {},
   "outputs": [],
   "source": [
    "M = 2\n",
    "T = 200\n",
    "p = 1\n",
    "train = 150\n",
    "np.random.seed(12345)"
   ]
  },
  {
   "cell_type": "code",
   "execution_count": null,
   "metadata": {
    "jupyter": {
     "source_hidden": true
    }
   },
   "outputs": [],
   "source": [
    "# def generate_dgp_tvp_var(M, T, p, diagonal_coefficient, cross_coefficient, sigma_states, sigma_observation, covariance, binomial_prob):\n",
    "\n",
    "#     y = np.zeros((M,T))\n",
    "#     A_1_vec = np.zeros((M*(M*p),T))\n",
    "#     selection_mask = np.random.binomial(1,binomial_prob,M*(M*p)) == 1\n",
    "    \n",
    "#     for t in range(T):\n",
    "\n",
    "#         if t == 0:\n",
    "#             A_1_vec[selection_mask,t] = cross_coefficient\n",
    "#             np.fill_diagonal(A_1_vec[:,t].reshape(M,(M*p)), np.repeat(diagonal_coefficient,M)) \n",
    "#             y[:,t] = np.ones(M)\n",
    "#         else:\n",
    "#             A_1_vec[:,t] = A_1_vec[:,t-1] + multivariate_normal.rvs(mean=np.zeros(M**2), cov=np.diag(np.ones(M**2)*sigma_states))\n",
    "\n",
    "#             ## Eigen values check\n",
    "#             eigen_values = np.linalg.eig(A_1_vec[:,t].reshape(M,M))[0]\n",
    "#             stationary = any(eigen_values < 1)\n",
    "#             if stationary == False:\n",
    "#                 print(f'Failed eigen values requirement < 1 (explosive process)')\n",
    "#                 print(f'Iteration: {t}')\n",
    "#                 break\n",
    "\n",
    "#             Z = np.zeros((M,M**2))\n",
    "#             for m in range(M):\n",
    "#                 Z[m,m*M:(m*M+M)] = y[:,t-1]\n",
    "#             y[:,t] = Z@A_1_vec[:,t] + multivariate_normal.rvs(mean=np.zeros(M), cov=(np.diag(np.ones(M))*sigma_observation + np.tril(np.repeat(covariance,M),-1)))\n",
    "            \n",
    "#     return y, A_1_vec"
   ]
  },
  {
   "cell_type": "code",
   "execution_count": null,
   "metadata": {},
   "outputs": [],
   "source": [
    "y, coefficients = generate_dgp_tvp_var(M, T, p, 1/2, 1/4, 4*1e-5, 1, 1/2, 1e-2)\n",
    "y_matrix, X_matrix = generate_matrices(T, M, p, y)\n",
    "y_matrix_contemp, X_matrix_contemp = generate_contemp_matrices(T, M, p, y)"
   ]
  },
  {
   "cell_type": "code",
   "execution_count": 16,
   "metadata": {},
   "outputs": [],
   "source": [
    "np.savetxt(\"../data/y.csv\",y[:,1:].T, delimiter=\",\")\n",
    "np.savetxt(\"../data/x.csv\",x.T, delimiter=\",\")\n",
    "np.savetxt(\"../data/coeff.csv\", A_1_vec[:M,1:], delimiter=\",\")\n",
    "np.savetxt(\"../data/sigma_obs.csv\", sigma_observations[:,1:], delimiter=\",\")"
   ]
  },
  {
   "cell_type": "markdown",
   "metadata": {},
   "source": [
    "Generate the matrices for the own implementation of TVP-(V)AR"
   ]
  },
  {
   "cell_type": "code",
   "execution_count": 68,
   "metadata": {
    "jupyter": {
     "source_hidden": true
    }
   },
   "outputs": [],
   "source": [
    "# def generate_matrices(T, M, p, y):\n",
    "\n",
    "#     series = y\n",
    "\n",
    "#     lagged_T = T - p\n",
    "#     lagged_series = []\n",
    "#     y_series = []\n",
    "\n",
    "#     lagged_y = np.ones((lagged_T, M * p))\n",
    "#     k = M*(M*p)\n",
    "#     position_counter = 0\n",
    "#     total_lags = M * p\n",
    "\n",
    "#     for m in range(M):\n",
    "#         y_m = series[m]\n",
    "#         for i in range(1, p + 1):\n",
    "\n",
    "#             lagged_y[:, position_counter] = y_m[(p - i):-i]\n",
    "#             position_counter += 1\n",
    "\n",
    "#     # Create lagged dependent matrix\n",
    "#     X = np.zeros((lagged_T, M, k))\n",
    "#     stacked_X = np.zeros((M, lagged_T, k))\n",
    "\n",
    "#     for m in range(M):\n",
    "#         stacked_X[m, :, m * (total_lags):(m + 1) * total_lags] = lagged_y\n",
    "\n",
    "#     stacked_list = list()\n",
    "\n",
    "#     for m in range(M):\n",
    "#         stacked_list.append(stacked_X[m])\n",
    "\n",
    "#     for t in range(lagged_T):\n",
    "#         X[t] = np.squeeze(np.dstack(tuple(stacked_list)))[t].T\n",
    "\n",
    "#     for s in series:\n",
    "#         y_series.append(s[p:])\n",
    "\n",
    "#     y_own = np.array(y_series)\n",
    "#     X_own = X\n",
    "\n",
    "#     return y_own, X_own"
   ]
  },
  {
   "cell_type": "code",
   "execution_count": 48,
   "metadata": {
    "jupyter": {
     "source_hidden": true
    }
   },
   "outputs": [],
   "source": [
    "# def generate_contemp_matrices(T, M, p, y):\n",
    "\n",
    "#     # Contemperous values added\n",
    "\n",
    "#     series = y\n",
    "\n",
    "#     lagged_T = T - p\n",
    "#     lagged_series = []\n",
    "#     y_series = []\n",
    "\n",
    "#     lagged_y = np.ones((lagged_T, M * p))\n",
    "#     k = M*(M*p)+M*(M-1)\n",
    "#     variable_list = np.arange(M)\n",
    "#     position_counter = 0\n",
    "#     total_lags = M * p + (M-1)\n",
    "\n",
    "#     for m in range(M):\n",
    "#         y_m = series[m]\n",
    "#         for i in range(1, p + 1):\n",
    "\n",
    "#             lagged_y[:, position_counter] = y_m[(p - i):-i]\n",
    "#             position_counter += 1\n",
    "\n",
    "#     # Create lagged dependent matrix\n",
    "#     X = np.zeros((lagged_T, M, k))\n",
    "#     stacked_X = np.zeros((M, lagged_T, k))\n",
    "\n",
    "#     for m in range(M):\n",
    "#         contemp_y = np.zeros((T-1,M-1))\n",
    "\n",
    "#         if m != 0:\n",
    "#             contemp_y[:,:m] = series[:m][:,1:].T\n",
    "\n",
    "#         stacked_X[m, :, m * (total_lags):(m + 1) * total_lags] = np.hstack((lagged_y, contemp_y))\n",
    "\n",
    "#     stacked_list = list()\n",
    "\n",
    "#     for m in range(M):\n",
    "#         stacked_list.append(stacked_X[m])\n",
    "\n",
    "#     for t in range(lagged_T):\n",
    "#         X[t] = np.squeeze(np.dstack(tuple(stacked_list)))[t].T\n",
    "\n",
    "#     for s in series:\n",
    "#         y_series.append(s[p:])\n",
    "\n",
    "#     y_own = np.array(y_series)\n",
    "#     X_own = X\n",
    "    \n",
    "#     return y_own, X_own"
   ]
  },
  {
   "cell_type": "markdown",
   "metadata": {},
   "source": [
    "### Static DGP"
   ]
  },
  {
   "cell_type": "code",
   "execution_count": 42,
   "metadata": {
    "jupyter": {
     "source_hidden": true
    }
   },
   "outputs": [],
   "source": [
    "# y_0 = 5\n",
    "# y_series = np.zeros(T+1)\n",
    "# phi = 0.5\n",
    "# sigma = 0.5\n",
    "# location = 0\n",
    "\n",
    "# for i in range(T+1):\n",
    "\n",
    "#     if i == 0:\n",
    "        \n",
    "#         y_series[i] = phi*y_0 + np.random.normal(location, sigma)\n",
    "        \n",
    "#     else:\n",
    "        \n",
    "#         y_series[i] = phi*y_series[i-1] + np.random.normal(location, sigma)\n"
   ]
  },
  {
   "cell_type": "code",
   "execution_count": 43,
   "metadata": {
    "jupyter": {
     "source_hidden": true
    }
   },
   "outputs": [],
   "source": [
    "# #y_series = (y_series - y_series.mean())/y_series.std()\n",
    "\n",
    "# x = y_series[:-1]\n",
    "# y = y_series[1:]"
   ]
  },
  {
   "cell_type": "code",
   "execution_count": null,
   "metadata": {
    "jupyter": {
     "source_hidden": true
    }
   },
   "outputs": [],
   "source": [
    "# tvp_ar = TVPVARModel(np.expand_dims(x,1),np.expand_dims(y,1), p, train, False, homoskedastic=True)\n",
    "# tvp_ar.k = 1\n",
    "# tvp_ar.iterations = 25\n",
    "# tvp_ar.initialize_priors(prior='horseshoe')#,prior_parameters={'b0': 2, 'a0': 2})\n",
    "# mt1t, st1t  = tvp_ar.train(print_status=True)\n",
    "# #mt1t_mean_set.append(mt1t)\n",
    "# #sigma_set.append(tvp_ar.sigma_t"
   ]
  },
  {
   "cell_type": "markdown",
   "metadata": {},
   "source": [
    "### DGP according to Koop & Korobilis (2020) - MATLAB"
   ]
  },
  {
   "cell_type": "code",
   "execution_count": null,
   "metadata": {
    "jupyter": {
     "source_hidden": true
    }
   },
   "outputs": [],
   "source": [
    "y_matlab_dict = io.loadmat('../../Gary Koop & Dimitris Korobilis (2020) - VBDVS/MONTE_CARLO/y.mat')\n",
    "x_matlab_dict = io.loadmat('../../Gary Koop & Dimitris Korobilis (2020) - VBDVS/MONTE_CARLO/x.mat')\n",
    "\n",
    "y_matlab = y_matlab_dict['y']\n",
    "x_matlab = x_matlab_dict['x']"
   ]
  },
  {
   "cell_type": "markdown",
   "metadata": {},
   "source": [
    "### TVP-AR"
   ]
  },
  {
   "cell_type": "markdown",
   "metadata": {},
   "source": [
    "Own implementation"
   ]
  },
  {
   "cell_type": "markdown",
   "metadata": {},
   "source": [
    "### Simulation of the DGP"
   ]
  },
  {
   "cell_type": "code",
   "execution_count": null,
   "metadata": {},
   "outputs": [],
   "source": [
    "import pickle\n",
    "\n",
    "different_m = [2,5,10]\n",
    "\n",
    "for M in different_m:\n",
    "\n",
    "    n_iterations = 200\n",
    "    np.random.seed(12345)\n",
    "\n",
    "    # M = 10\n",
    "    T = 200\n",
    "    p = 1\n",
    "    train = 150\n",
    "    prior = 'lasso'\n",
    "\n",
    "    contemperanous_statistics = []\n",
    "    non_contemperanous_statistics = []\n",
    "\n",
    "    for run in range(n_iterations):\n",
    "\n",
    "        y, coefficients = generate_dgp_tvp_var(M, T, p, 1/2, 1/4, 4*1e-5, 1, 1/2, 1e-2)\n",
    "        y_matrix, X_matrix = generate_matrices(T, M, p, y)\n",
    "        y_matrix_contemp, X_matrix_contemp = generate_contemp_matrices(T, M, p, y)\n",
    "\n",
    "#         # Without contemperanous values\n",
    "#         msfe, alpl, mt1t, sigma = tvp_ar_non_contemp(T, M, p, train, X_matrix, y_matrix)\n",
    "#         msd = np.mean((mt1t - coefficients[:,1:train])**2)\n",
    "#         non_contemperanous_statistics.append([msfe, alpl, msd])\n",
    "\n",
    "        # Contemperanous values added \n",
    "        msfe_contemp, alpl_contemp, mt1t_full_contemp, mt1t_coeff_contemp, sigma_contemp = tvp_ar_contemp(T, M, p, train, X_matrix_contemp, y_matrix_contemp)\n",
    "        msd_contemp = np.mean((mt1t_coeff_contemp - coefficients[:,1:train])**2)    \n",
    "\n",
    "        contemperanous_statistics.append([msfe_contemp, alpl_contemp, msd_contemp])\n",
    "\n",
    "        if ((run+1) % (n_iterations/20) == 0.0):\n",
    "            print(f'Run {run+1} -> MSD: {msd} - {msd_contemp} | MSFE: {msfe.mean()} - {msfe_contemp.mean()} | ALPL: {alpl.mean()} - {alpl_contemp.mean()}')\n",
    "\n",
    "    # Save simulation parameters\n",
    "    simulation_parameters = [M,T,p,train, 1/2, 1/4, 4*1e-5, 1, 1/2, 1e-2, 12345, prior]\n",
    "\n",
    "    simulation_statistics = [contemperanous_statistics, simulation_parameters]\n",
    "\n",
    "    with open(f'../simulations/statistics_{M}_{T}_{p}_{prior}_{n_iterations}_contemp.pkl', 'wb') as f:\n",
    "        pickle.dump(simulation_statistics, f, pickle.HIGHEST_PROTOCOL)"
   ]
  },
  {
   "cell_type": "code",
   "execution_count": 18,
   "metadata": {},
   "outputs": [],
   "source": [
    "def simulation_run(run):\n",
    "    \n",
    "    start_time = time.time()\n",
    "    \n",
    "    M = 2\n",
    "    T = 200\n",
    "    p = 1\n",
    "    train = 150\n",
    "\n",
    "    y, coefficients = generate_dgp_tvp_var(M, T, p, 1/2, 1/4, 4*1e-5, 1, 1/2, 1e-2)\n",
    "    y_matrix_contemp, X_matrix_contemp = generate_contemp_matrices(T, M, p, y)\n",
    "\n",
    "    # Contemperanous values added \n",
    "    msfe_contemp, alpl_contemp, mt1t_full_contemp, mt1t_coeff_contemp, sigma_contemp = tvp_ar_contemp(T, M, p, train, X_matrix_contemp, y_matrix_contemp)\n",
    "    msd_contemp = np.mean((mt1t_coeff_contemp - coefficients[:,1:train])**2)\n",
    "    \n",
    "    elapsed_time = time.time() - start_time\n",
    "    \n",
    "    print(f'Run: {run} | elapsed for run: {round(elapsed_time,4)}')\n",
    "    \n",
    "    return [msfe_contemp, alpl_contemp, msd_contemp]"
   ]
  },
  {
   "cell_type": "code",
   "execution_count": 12,
   "metadata": {},
   "outputs": [],
   "source": [
    "import warnings\n",
    "warnings.filterwarnings(\"ignore\")"
   ]
  },
  {
   "cell_type": "code",
   "execution_count": 16,
   "metadata": {},
   "outputs": [
    {
     "data": {
      "text/plain": [
       "[array([1.32723715, 1.31447714, 1.38644336, 1.479075  , 1.37413676,\n",
       "        1.38149867, 1.36640555, 1.37664842]),\n",
       " array([0.26692014, 0.23180799, 0.23751774, 0.21921769, 0.35985002,\n",
       "        0.39586062, 0.05366612, 0.        ]),\n",
       " 0.028054248195413554]"
      ]
     },
     "execution_count": 16,
     "metadata": {},
     "output_type": "execute_result"
    }
   ],
   "source": [
    "M = 2\n",
    "T = 200\n",
    "p = 1\n",
    "train = 150\n",
    "prior = 'lasso'\n",
    "\n",
    "contemperanous_statistics = []\n",
    "\n",
    "simulation_run(M,T,p)"
   ]
  },
  {
   "cell_type": "code",
   "execution_count": null,
   "metadata": {},
   "outputs": [],
   "source": [
    "%%time\n",
    "import time\n",
    "import os\n",
    "from multiprocessing import Pool, Array\n",
    "\n",
    "\n",
    "# They are going to be some warnings for the first iterations of the model (has to do with initialization)\n",
    "import warnings\n",
    "warnings.filterwarnings(\"ignore\")\n",
    "\n",
    "iterations = np.arange(1,16,1)\n",
    "\n",
    "M = 2\n",
    "\n",
    "n_iterations = 200\n",
    "np.random.seed(11111)\n",
    "\n",
    "# M = 10\n",
    "T = 200\n",
    "p = 1\n",
    "train = 150\n",
    "prior = 'lasso'\n",
    "\n",
    "if __name__ == '__main__':\n",
    "    \n",
    "    pool = Pool()\n",
    "    simulation = pool.map(simulation_run, iterations)"
   ]
  },
  {
   "cell_type": "code",
   "execution_count": 22,
   "metadata": {},
   "outputs": [
    {
     "data": {
      "text/plain": [
       "array([0.94535682, 1.27283063, 1.32795231, 1.27587858, 1.21390982,\n",
       "       1.24119635, 1.23151354, 1.20167439])"
      ]
     },
     "execution_count": 22,
     "metadata": {},
     "output_type": "execute_result"
    }
   ],
   "source": [
    "np.block(simulation[0])[0:8]"
   ]
  },
  {
   "cell_type": "code",
   "execution_count": 43,
   "metadata": {},
   "outputs": [],
   "source": [
    "different_m = [2,5,10]\n",
    "\n",
    "for M in different_m:\n",
    "\n",
    "    n_iterations = 200\n",
    "    np.random.seed(12345)\n",
    "\n",
    "    # M = 10\n",
    "    T = 200\n",
    "    p = 1\n",
    "    train = 150\n",
    "    prior = 'lasso'\n",
    "\n",
    "    contemperanous_statistics = []\n",
    "    non_contemperanous_statistics = []\n",
    "\n",
    "    for run in range(n_iterations):\n",
    "\n",
    "        y, coefficients = generate_dgp_tvp_var(M, T, p, 1/2, 1/4, 4*1e-5, 1, 1/2, 1e-2)\n",
    "    \n",
    "    x = y[:,:-1]\n",
    "    np.savetxt(f'../simulations/datasets/y_{M}_{T}_{p}_{prior}_{run}.csv',y[:,1:].T, delimiter=\",\")\n",
    "    np.savetxt(f'../simulations/datasets/x_{M}_{T}_{p}_{prior}_{run}.csv',x.T, delimiter=\",\")\n",
    "    np.savetxt(f'../simuations/datasets/coefficients_{M}_{T}_{p}_{prior}_{run}.csv', coefficients[:,1:], delimiter=\",\")"
   ]
  },
  {
   "cell_type": "markdown",
   "metadata": {},
   "source": [
    "### Other stuff"
   ]
  },
  {
   "cell_type": "code",
   "execution_count": null,
   "metadata": {},
   "outputs": [],
   "source": [
    "total_h = 8\n",
    "\n",
    "msfe_rw = np.zeros(total_h)\n",
    "\n",
    "for h in range(total_h):\n",
    "\n",
    "    msfe_rw[h] = np.mean((y_own[:,(train-1+h):] - y_own[:,(train-2):-(h+1)])**2,1)[0]\n",
    "    ratio = msfe_ar[h]/msfe_rw[h]\n",
    "    \n",
    "    print(f'Ratio VAR_IE_VI/RW ({h+1}-step ahead): {np.round(ratio,4)}')\n",
    "    "
   ]
  },
  {
   "cell_type": "code",
   "execution_count": null,
   "metadata": {},
   "outputs": [],
   "source": [
    "np.mean((np.vstack(mt1t_mean_set)[:,:] - A_1_vec[:,1:train])**2)"
   ]
  },
  {
   "cell_type": "code",
   "execution_count": null,
   "metadata": {},
   "outputs": [],
   "source": [
    "print(f'VAR_IE_VI: {full_mt1t.mean(1)}')\n",
    "print(f'TRUE: {A_1_vec[:,1:train].mean(1)}')"
   ]
  },
  {
   "cell_type": "code",
   "execution_count": null,
   "metadata": {},
   "outputs": [],
   "source": [
    "plt.plot(full_mt1t[1,:])"
   ]
  },
  {
   "cell_type": "code",
   "execution_count": null,
   "metadata": {},
   "outputs": [],
   "source": [
    "# tvp_ar = TVPVARModel(np.expand_dims(x_matlab,1),y_matlab, p, 300, False, homoskedastic=False)\n",
    "# tvp_ar.k = 10\n",
    "# tvp_ar.iterations = 1000\n",
    "# tvp_ar.initialize_priors(prior='svss',prior_parameters={'g0': 1, 'h0': 12, 'pi0': 0.5})\n",
    "# mt1t, st1t = tvp_ar.train(threshold=1e-200)"
   ]
  },
  {
   "cell_type": "code",
   "execution_count": null,
   "metadata": {},
   "outputs": [],
   "source": [
    "MSD = ((mt1t - A_1_vec[0:M,1:-1])**2).mean()\n",
    "insample_msfe_ar = tvp_ar.insample_msfe()\n",
    "\n",
    "print(f'MSD: {MSD} | insample MSFE: {insample_msfe_ar}')\n"
   ]
  },
  {
   "cell_type": "code",
   "execution_count": null,
   "metadata": {},
   "outputs": [],
   "source": [
    "tvp_ar.sigma_t\n"
   ]
  },
  {
   "cell_type": "code",
   "execution_count": null,
   "metadata": {},
   "outputs": [],
   "source": [
    "total_h = 8\n",
    "\n",
    "msfe_ar, aapl_ar = tvp_ar.calculate_metrics(total_h, constant=False)"
   ]
  },
  {
   "cell_type": "code",
   "execution_count": null,
   "metadata": {},
   "outputs": [],
   "source": [
    "ratio_msfe = np.zeros(total_h)\n",
    "for h in range(total_h):\n",
    "    ratio_msfe[h] = msfe_ar[h]/np.mean((y_own[:,(train-1+h):] - y_own[:,(train-2):-(h+1)])**2,1)[0]\n",
    "    print(f'Ratio AR_VI/RW ({h+1}-step ahead): {np.round(ratio_msfe[h],4)}')\n",
    "    "
   ]
  },
  {
   "cell_type": "code",
   "execution_count": 235,
   "metadata": {},
   "outputs": [
    {
     "data": {
      "text/plain": [
       "(400,)"
      ]
     },
     "execution_count": 235,
     "metadata": {},
     "output_type": "execute_result"
    }
   ],
   "source": [
    "full_mt1t.mean(1)"
   ]
  },
  {
   "cell_type": "code",
   "execution_count": null,
   "metadata": {},
   "outputs": [],
   "source": [
    "A_1_vec[:M,:].mean(1)"
   ]
  },
  {
   "cell_type": "markdown",
   "metadata": {},
   "source": [
    "### TVP-VAR"
   ]
  },
  {
   "cell_type": "markdown",
   "metadata": {},
   "source": [
    "Default implementation from statsmodels\n"
   ]
  },
  {
   "cell_type": "code",
   "execution_count": null,
   "metadata": {},
   "outputs": [],
   "source": [
    "import statsmodels.api as sm\n",
    "from statsmodels.tsa.api import VAR\n",
    "\n",
    "var_ols = VAR(y.T)\n",
    "results_var = var_ols.fit(1, trend='nc')\n",
    "results_var.summary()"
   ]
  },
  {
   "cell_type": "code",
   "execution_count": 243,
   "metadata": {},
   "outputs": [
    {
     "ename": "ValueError",
     "evalue": "operands could not be broadcast together with shapes (400,) (400,149) ",
     "output_type": "error",
     "traceback": [
      "\u001b[0;31m---------------------------------------------------------------------------\u001b[0m",
      "\u001b[0;31mValueError\u001b[0m                                Traceback (most recent call last)",
      "\u001b[0;32m<ipython-input-243-7cbfc4d1be1a>\u001b[0m in \u001b[0;36m<module>\u001b[0;34m\u001b[0m\n\u001b[0;32m----> 1\u001b[0;31m \u001b[0mnp\u001b[0m\u001b[0;34m.\u001b[0m\u001b[0msqueeze\u001b[0m\u001b[0;34m(\u001b[0m\u001b[0mresults_var\u001b[0m\u001b[0;34m.\u001b[0m\u001b[0mcoefs\u001b[0m\u001b[0;34m)\u001b[0m\u001b[0;34m.\u001b[0m\u001b[0mreshape\u001b[0m\u001b[0;34m(\u001b[0m\u001b[0mM\u001b[0m\u001b[0;34m*\u001b[0m\u001b[0mM\u001b[0m\u001b[0;34m)\u001b[0m \u001b[0;34m-\u001b[0m \u001b[0mA_1_vec\u001b[0m\u001b[0;34m[\u001b[0m\u001b[0;34m:\u001b[0m\u001b[0;34m,\u001b[0m\u001b[0;36m1\u001b[0m\u001b[0;34m:\u001b[0m\u001b[0mtrain\u001b[0m\u001b[0;34m]\u001b[0m\u001b[0;34m\u001b[0m\u001b[0;34m\u001b[0m\u001b[0m\n\u001b[0m",
      "\u001b[0;31mValueError\u001b[0m: operands could not be broadcast together with shapes (400,) (400,149) "
     ]
    }
   ],
   "source": [
    "np.squeeze(results_var.coefs).reshape(M*M)"
   ]
  },
  {
   "cell_type": "code",
   "execution_count": 262,
   "metadata": {},
   "outputs": [],
   "source": [
    "msd_const = np.mean((np.repeat(np.squeeze(results_var.coefs).reshape(M*M),149).reshape(M*M,149) - A_1_vec[:,1:train])**2)"
   ]
  },
  {
   "cell_type": "code",
   "execution_count": 263,
   "metadata": {},
   "outputs": [],
   "source": [
    "msd_tvp = np.mean((full_mt1t - A_1_vec[:,1:train])**2)"
   ]
  },
  {
   "cell_type": "code",
   "execution_count": 265,
   "metadata": {},
   "outputs": [
    {
     "data": {
      "text/plain": [
       "1.817871705297146"
      ]
     },
     "execution_count": 265,
     "metadata": {},
     "output_type": "execute_result"
    }
   ],
   "source": [
    "msd_tvp/msd_const"
   ]
  },
  {
   "cell_type": "markdown",
   "metadata": {},
   "source": [
    "Own implementation"
   ]
  },
  {
   "cell_type": "code",
   "execution_count": null,
   "metadata": {},
   "outputs": [],
   "source": [
    "tvp_var = TVPVARModel(X_own, y_own.T, p, train, False, homoskedastic=True)\n",
    "tvp_var.iterations = 50\n",
    "tvp_var.initialize_priors(prior='lasso')#, prior_parameters = {'a0':10, 'b0':10})\n",
    "mt1t, __ = tvp_var.train()"
   ]
  },
  {
   "cell_type": "code",
   "execution_count": null,
   "metadata": {},
   "outputs": [],
   "source": [
    "tvp_var.bt_h"
   ]
  },
  {
   "cell_type": "code",
   "execution_count": null,
   "metadata": {},
   "outputs": [],
   "source": [
    "MSD = ((mt1t - A_1_vec[:,1:train])**2).mean()\n",
    "insample_msfe_var = tvp_var.insample_msfe()\n",
    "\n",
    "print(f'MSD: {MSD} | insample MSFE: {insample_msfe_var}')"
   ]
  },
  {
   "cell_type": "markdown",
   "metadata": {},
   "source": [
    "Visualise the first coefficient *(estimated versus true)*"
   ]
  },
  {
   "cell_type": "code",
   "execution_count": null,
   "metadata": {},
   "outputs": [],
   "source": [
    "plt.plot(mt1t[0,:])"
   ]
  },
  {
   "cell_type": "code",
   "execution_count": null,
   "metadata": {},
   "outputs": [],
   "source": [
    "plt.plot(A_1_vec[0,1:])"
   ]
  },
  {
   "cell_type": "code",
   "execution_count": null,
   "metadata": {},
   "outputs": [],
   "source": [
    "plt.plot(tvp_var.sigma_t[:,0])"
   ]
  },
  {
   "cell_type": "code",
   "execution_count": null,
   "metadata": {},
   "outputs": [],
   "source": [
    "total_h = 8\n",
    "\n",
    "msfe_var, aapl_var = tvp_var.calculate_metrics(total_h, constant=False)\n"
   ]
  },
  {
   "cell_type": "code",
   "execution_count": null,
   "metadata": {},
   "outputs": [],
   "source": [
    "ratio_msfe = np.zeros((total_h,M))\n",
    "for h in range(total_h):\n",
    "    ratio_msfe[h,:] = msfe_var[h]/np.mean((y_own[:,(train-1+h):] - y_own[:,(train-2):-(h+1)])**2,1)[0]\n",
    "    print(f'Ratio VAR_VI/RW ({h+1}-step ahead): {np.round(ratio_msfe[h].mean(),4)}')\n",
    "    "
   ]
  },
  {
   "cell_type": "code",
   "execution_count": null,
   "metadata": {},
   "outputs": [],
   "source": [
    "msfe_var.mean(1)\n"
   ]
  },
  {
   "cell_type": "code",
   "execution_count": null,
   "metadata": {},
   "outputs": [],
   "source": [
    "plt.plot(tvp_var.y_pred[:,0,0])\n"
   ]
  },
  {
   "cell_type": "code",
   "execution_count": null,
   "metadata": {},
   "outputs": [],
   "source": [
    "plt.plot(y_own[0,train:])\n"
   ]
  }
 ],
 "metadata": {
  "kernelspec": {
   "display_name": "Python 3",
   "language": "python",
   "name": "python3"
  },
  "language_info": {
   "codemirror_mode": {
    "name": "ipython",
    "version": 3
   },
   "file_extension": ".py",
   "mimetype": "text/x-python",
   "name": "python",
   "nbconvert_exporter": "python",
   "pygments_lexer": "ipython3",
   "version": "3.7.6"
  }
 },
 "nbformat": 4,
 "nbformat_minor": 4
}
