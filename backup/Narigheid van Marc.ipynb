{
 "cells": [
  {
   "cell_type": "code",
   "execution_count": 3,
   "metadata": {},
   "outputs": [],
   "source": [
    "import string\n",
    "import math\n",
    "import itertools\n",
    "from nltk.corpus import conll2002\n",
    "# nltk.download('conll2002')"
   ]
  },
  {
   "cell_type": "code",
   "execution_count": 85,
   "metadata": {},
   "outputs": [
    {
     "name": "stdout",
     "output_type": "stream",
     "text": [
      "Hoorah! [2, 3, 7, 6, 18] : onder\n",
      "Hoorah! [2, 3, 7, 6, 18] : ouder\n",
      "Hoorah! [15, 6] : be\n",
      "Hoorah! [15, 6] : de\n",
      "Hoorah! [15, 6] : je\n",
      "Hoorah! [15, 6] : me\n",
      "Hoorah! [15, 6] : we\n",
      "Hoorah! [15, 6] : ze\n",
      "Hoorah! [22, 6, 7] : web\n",
      "Hoorah! [22, 6, 7] : bed\n",
      "Hoorah! [22, 6, 7] : mei\n",
      "Hoorah! [22, 6, 7] : zei\n",
      "Hoorah! [22, 6, 7] : bek\n",
      "Hoorah! [22, 6, 7] : nek\n",
      "Hoorah! [22, 6, 7] : ben\n",
      "Hoorah! [22, 6, 7] : den\n",
      "Hoorah! [22, 6, 7] : ken\n",
      "Hoorah! [22, 6, 7] : men\n",
      "Hoorah! [22, 6, 7] : pen\n",
      "Hoorah! [22, 6, 7] : beu\n",
      "Hoorah! [22, 6, 7] : few\n"
     ]
    }
   ],
   "source": [
    "known_alphabet = {17:'s',21:'c',20:'h',18:'r',12:'a',23:'l',6:'e',5:'t',2:'o',19:'g'}\n",
    "words_to_guess = [[2,3,7,6,18],[15,6],[22,6,7]]\n",
    "\n",
    "for word_to_guess in words_to_guess:\n",
    "    \n",
    "    alphabet_ascii = {ord(i) for i in list(string.ascii_lowercase)}\n",
    "    known_alphabet_ascii = {ord(i) for i in known_alphabet.values()}\n",
    "    unkown_alphabet_ascii = alphabet_ascii.difference(known_alphabet_ascii)\n",
    "    letters_to_guess = set(word_to_guess).difference(known_alphabet.keys())\n",
    "\n",
    "    all_permutations = itertools.permutations(unkown_alphabet_ascii,len(letters_to_guess))\n",
    "\n",
    "    # Download a corpus\n",
    "    dutch_corpus = ['ned.train','ned.testa','ned.testb']\n",
    "\n",
    "    complete_corpus = []\n",
    "\n",
    "    for corpus_string in dutch_corpus:\n",
    "        corpus = conll2002.sents(corpus_string)\n",
    "        complete_corpus += [text for sub_list in ned_corpus for text in sub_list]\n",
    "\n",
    "    possible_options = []\n",
    "\n",
    "    for i, permutation in enumerate(all_permutations):\n",
    "            created_alphabet = known_alphabet.copy()\n",
    "            for i, c in enumerate(permutation):\n",
    "                created_alphabet.update({list(letters_to_guess)[i]:chr(c)}) \n",
    "\n",
    "            word_guess = ''\n",
    "            for letter in word_to_guess:\n",
    "                word_guess = f'{word_guess}{created_alphabet.get(letter)}'\n",
    "\n",
    "            if word_guess in complete_corpus:\n",
    "                print(f\"Hoorah! {word_to_guess} : {word_guess}\")\n",
    "                possible_options.append(word_guess)"
   ]
  },
  {
   "cell_type": "code",
   "execution_count": 103,
   "metadata": {},
   "outputs": [
    {
     "name": "stdout",
     "output_type": "stream",
     "text": [
      "Hoorah! -> [2, 3, 7, 6, 18] : onder\n",
      "Hoorah! -> [2, 3, 7, 6, 18] : ouder\n",
      "Hoorah! -> [15, 6] : be\n",
      "Hoorah! -> [15, 6] : de\n",
      "Hoorah! -> [15, 6] : me\n",
      "Hoorah! -> [15, 6] : we\n",
      "Hoorah! -> [15, 6] : je\n",
      "Hoorah! -> [15, 6] : ze\n",
      "Hoorah! -> [22, 6, 7] : web\n",
      "Hoorah! -> [22, 6, 7] : bed\n",
      "Hoorah! -> [22, 6, 7] : ben\n",
      "Hoorah! -> [22, 6, 7] : den\n",
      "Hoorah! -> [22, 6, 7] : men\n",
      "Hoorah! -> [22, 6, 7] : ken\n",
      "Hoorah! -> [22, 6, 7] : pen\n",
      "Hoorah! -> [22, 6, 7] : few\n",
      "Hoorah! -> [22, 6, 7] : bek\n",
      "Hoorah! -> [22, 6, 7] : nek\n",
      "Hoorah! -> [22, 6, 7] : mei\n",
      "Hoorah! -> [22, 6, 7] : zei\n",
      "Hoorah! -> [22, 6, 7] : beu\n"
     ]
    }
   ],
   "source": [
    "import string\n",
    "import math\n",
    "import itertools\n",
    "from nltk.corpus import conll2002\n",
    "# nltk.download('conll2002')\n",
    "\n",
    "known_alphabet = {17:'s',21:'c',20:'h',18:'r',12:'a',23:'l',6:'e',5:'t',2:'o',19:'g'}\n",
    "words_to_guess = [[2,3,7,6,18],[15,6],[22,6,7]]\n",
    "\n",
    "for word_to_guess in words_to_guess:\n",
    "    \n",
    "    alphabet = set(list(string.ascii_lowercase))\n",
    "    unkown_alphabet = alphabet.difference(known_alphabet.values())\n",
    "    letters_to_guess = set(word_to_guess).difference(known_alphabet.keys())\n",
    "\n",
    "    all_permutations = itertools.permutations(unkown_alphabet,len(letters_to_guess))\n",
    "\n",
    "    # Use a corpus (CoNLL-2002) (can extend to ned.testa & ned.testb)\n",
    "    ned_corpus = conll2002.sents('ned.train')\n",
    "    unlisted_corpus = [text for sub_list in ned_corpus for text in sub_list]\n",
    "\n",
    "    for permutation in all_permutations:\n",
    "        \n",
    "            # Create a possible alphabet according to the permutations\n",
    "            created_alphabet = known_alphabet.copy()\n",
    "            for i, char in enumerate(permutation):\n",
    "                created_alphabet.update({list(letters_to_guess)[i]:char}) \n",
    "\n",
    "            # Guess the word\n",
    "            word_guess = ''\n",
    "            for letter in word_to_guess:\n",
    "                word_guess = f'{word_guess}{created_alphabet.get(letter)}'\n",
    "\n",
    "            # If the guess is in the corpus, print it\n",
    "            if word_guess in unlisted_corpus:\n",
    "                print(f\"Hoorah! -> {word_to_guess} : {word_guess}\")"
   ]
  }
 ],
 "metadata": {
  "kernelspec": {
   "display_name": "Python 3",
   "language": "python",
   "name": "python3"
  },
  "language_info": {
   "codemirror_mode": {
    "name": "ipython",
    "version": 3
   },
   "file_extension": ".py",
   "mimetype": "text/x-python",
   "name": "python",
   "nbconvert_exporter": "python",
   "pygments_lexer": "ipython3",
   "version": "3.7.6"
  }
 },
 "nbformat": 4,
 "nbformat_minor": 4
}
