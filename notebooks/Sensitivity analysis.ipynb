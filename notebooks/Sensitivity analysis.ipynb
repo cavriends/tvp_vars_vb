{
 "cells": [
  {
   "cell_type": "markdown",
   "metadata": {},
   "source": [
    "### Sensitivity analysis\n",
    "\n",
    "The sensitivity analysis is carried out in this notebook. An extra note of caution is that this notebook also runs completely parallel using pool.starmap(). This uses up all the resources available on the system. Hence, don't be afraid when your laptop flies to the moon or freezes. "
   ]
  },
  {
   "cell_type": "code",
   "execution_count": 1,
   "metadata": {},
   "outputs": [],
   "source": [
    "%matplotlib inline\n",
    "import time\n",
    "import sys\n",
    "import pandas as pd\n",
    "import numpy as np\n",
    "import matplotlib.pyplot as plt\n",
    "from scipy.stats import norm, multivariate_normal\n",
    "from scipy import io\n",
    "import pickle\n",
    "\n",
    "# Own code\n",
    "sys.path.append(\"../\")\n",
    "from utils.data_utils import generate_contemp_matrices, transformation, standardize\n",
    "from utils.tvp_models import TVPVARModel, tvp_ar_contemp_decomposition\n",
    "\n",
    "# Suppress scientific notation in numpy\n",
    "np.set_printoptions(suppress=False)"
   ]
  },
  {
   "cell_type": "code",
   "execution_count": 2,
   "metadata": {},
   "outputs": [],
   "source": [
    "# Set M and standardization\n",
    "\n",
    "M = 3\n",
    "standardization = False\n",
    "transform = True"
   ]
  },
  {
   "cell_type": "code",
   "execution_count": 3,
   "metadata": {},
   "outputs": [],
   "source": [
    "ds = pd.read_csv(\"../data/fred_qd.csv\")\n",
    "gdp = transformation(ds[\"GDPC1\"].iloc[2:].to_numpy(), 5, transform, scale=1)\n",
    "cpi = transformation(ds[\"CPIAUCSL\"].iloc[2:].to_numpy(), 6, transform, scale=1)\n",
    "fedfund = transformation(ds[\"FEDFUNDS\"].iloc[2:].to_numpy(), 2, transform, scale=1)\n",
    "compi = transformation(ds[\"PPIACO\"].iloc[2:].to_numpy(), 6, transform, scale=1)\n",
    "borrowings = transformation(ds[\"TOTRESNS\"].iloc[2:].to_numpy(), 6, transform, scale=1)\n",
    "sp500 = transformation(ds[\"S&P 500\"].iloc[2:].to_numpy(), 5, transform, scale=1)\n",
    "m2 = transformation(ds[\"M2REAL\"].iloc[2:].to_numpy(), 5, transform, scale=1)\n",
    "\n",
    "# Start due to transformation\n",
    "\n",
    "lag = 1\n",
    "\n",
    "if M == 3:\n",
    "\n",
    "    series = [gdp[lag:], cpi[lag:], fedfund[lag:]]\n",
    "    \n",
    "elif M == 7:\n",
    "    \n",
    "    series = [gdp[lag:], cpi[lag:], fedfund[lag:],compi[lag:],borrowings[lag:],sp500[lag:],m2[lag:]]\n",
    "    \n",
    "\n",
    "if standardization:\n",
    "    \n",
    "    series = standardize(series, train = 243-25)\n",
    "\n",
    "series_total = np.array(series)\n",
    "\n",
    "y_matrix_contemp, X_matrix_contemp = generate_contemp_matrices(244, M, 1, series_total)"
   ]
  },
  {
   "cell_type": "markdown",
   "metadata": {},
   "source": [
    "# Lasso "
   ]
  },
  {
   "cell_type": "code",
   "execution_count": null,
   "metadata": {},
   "outputs": [],
   "source": [
    "# Check if the model, given the specific data, converges at all\n",
    "\n",
    "T = 243\n",
    "p = 1\n",
    "prior = \"lasso_alternative\"\n",
    "train = T - 25\n",
    "\n",
    "model = tvp_ar_contemp_decomposition(T, M, p, train, X_matrix_contemp, y_matrix_contemp, prior, print_status=True, iterations=100)\n",
    "msfe, *_, msfe_complete, alpl_complete = model.result()"
   ]
  },
  {
   "cell_type": "markdown",
   "metadata": {},
   "source": [
    "### Parameter -> $a_{0}$"
   ]
  },
  {
   "cell_type": "code",
   "execution_count": 5,
   "metadata": {},
   "outputs": [],
   "source": [
    "def calculate_derivative_lasso_a0(iteration, parameter_value):\n",
    "    \n",
    "    prior = \"lasso_alternative\"\n",
    "    T = 243\n",
    "    p = 1\n",
    "    train = T-25\n",
    "    iterations = 100\n",
    "\n",
    "    error = np.sqrt(1.1e-16)\n",
    "    prior_parameters_plus = {\"a0_lasso\":parameter_value+error,\"b0_lasso\":1e-3}\n",
    "    prior_parameters_minus = {\"a0_lasso\":parameter_value-error,\"b0_lasso\":1e-3}\n",
    "    \n",
    "    model_plus = tvp_ar_contemp_decomposition(T, M, p, train, X_matrix_contemp, y_matrix_contemp, prior, print_status=False, iterations=iterations, prior_parameters=prior_parameters_plus)\n",
    "    msfe_plus, *_, msfe_complete_plus, alpl_complete_plus = model_plus.result()\n",
    "    \n",
    "    model_minus = tvp_ar_contemp_decomposition(T, M, p, train, X_matrix_contemp, y_matrix_contemp, prior, print_status=False, iterations=iterations, prior_parameters=prior_parameters_minus)\n",
    "    msfe_minus, *_, msfe_complete_minus, alpl_complete_minus = model_minus.result()\n",
    "       \n",
    "    msfe_complete_plus_reshaped = msfe_complete_plus.reshape(8,M,25).mean(2).mean(0)\n",
    "    msfe_complete_minus_reshaped = msfe_complete_minus.reshape(8,M,25).mean(2).mean(0)\n",
    "        \n",
    "    derivative_complete = (msfe_complete_plus_reshaped - msfe_complete_minus_reshaped)/(2*error)\n",
    "    derivative_msfe = (msfe_plus.mean() - msfe_minus.mean())/(2*error)\n",
    "    derivative_h_step = (msfe_plus - msfe_minus)/(2*error)\n",
    "    \n",
    "    print(f'Run: {iteration+1} -> Derivative: {derivative_complete}')\n",
    "    \n",
    "    return [parameter_value, derivative_complete, derivative_msfe, derivative_h_step]"
   ]
  },
  {
   "cell_type": "code",
   "execution_count": 6,
   "metadata": {},
   "outputs": [
    {
     "name": "stdout",
     "output_type": "stream",
     "text": [
      "Run: 6 -> Derivative: [-8.94810720e-08  4.96198181e-09  9.85780386e-08]\n",
      "Run: 11 -> Derivative: [-8.51806878e-08  5.62357939e-09  9.69240447e-08]\n",
      "Run: 7 -> Derivative: [-8.88194744e-08  5.29278060e-09  9.79164411e-08]\n",
      "Run: 4 -> Derivative: [-9.17966635e-08  4.96198181e-09  9.95704350e-08]\n",
      "Run: 5 -> Derivative: [-9.04734684e-08  4.96198181e-09  9.92396362e-08]\n",
      "Run: 2 -> Derivative: [-9.37814562e-08  4.79658242e-09  9.99012338e-08]\n",
      "Run: 15 -> Derivative: [-8.20380993e-08  6.28517696e-09  9.65932459e-08]\n",
      "Run: 3 -> Derivative: [-9.27890599e-08  4.96198181e-09  1.00232033e-07]\n",
      "Run: 9 -> Derivative: [-8.68346817e-08  5.29278060e-09  9.82472399e-08]\n",
      "Run: 14 -> Derivative: [-8.28650962e-08  5.78897878e-09  9.56008496e-08]\n",
      "Run: 12 -> Derivative: [-8.41882914e-08  5.95437817e-09  9.75856423e-08]\n",
      "Run: 8 -> Derivative: [-8.76616787e-08  5.29278060e-09  9.75856423e-08]\n",
      "Run: 13 -> Derivative: [-8.36920932e-08  6.28517696e-09  9.49392520e-08]\n",
      "Run: 1 -> Derivative: [-9.46084532e-08  5.12738120e-09  1.00562831e-07]\n",
      "Run: 10 -> Derivative: [-8.58422853e-08  5.45817999e-09  9.75856423e-08]\n",
      "Run: 16 -> Derivative: [-8.10457029e-08  5.78897878e-09  9.42776544e-08]\n",
      "Run: 17 -> Derivative: [-8.00533066e-08  5.62357939e-09  9.49392520e-08]\n",
      "Run: 19 -> Derivative: [-7.87301114e-08  5.95437817e-09  9.39468556e-08]\n",
      "Run: 20 -> Derivative: [-7.77377150e-08  6.45057635e-09  9.39468556e-08]\n",
      "Run: 18 -> Derivative: [-7.93917090e-08  5.78897878e-09  9.32852580e-08]\n",
      "Run: 21 -> Derivative: [-7.74069163e-08  6.45057635e-09  9.36160568e-08]\n",
      "Run: 24 -> Derivative: [-7.49259253e-08  6.28517696e-09  9.19620629e-08]\n",
      "Run: 26 -> Derivative: [-7.32719314e-08  6.78137514e-09  9.09696665e-08]\n",
      "Run: 25 -> Derivative: [-7.42643278e-08  6.45057635e-09  9.09696665e-08]\n",
      "Run: 22 -> Derivative: [-7.65799193e-08  6.45057635e-09  9.32852580e-08]\n",
      "Run: 27 -> Derivative: [-7.32719314e-08  6.28517696e-09  9.06388677e-08]\n",
      "Run: 23 -> Derivative: [-7.57529223e-08  6.61597575e-09  9.19620629e-08]\n",
      "Run: 29 -> Derivative: [-7.12871387e-08  6.11977757e-09  8.93156726e-08]\n",
      "Run: 31 -> Derivative: [-7.04601417e-08  6.61597575e-09  8.83232762e-08]\n",
      "Run: 32 -> Derivative: [-6.97985441e-08  6.94677454e-09  8.86540750e-08]\n",
      "Run: 28 -> Derivative: [-7.21141357e-08  6.28517696e-09  8.96464714e-08]\n",
      "Run: 30 -> Derivative: [-7.07909405e-08  6.78137514e-09  8.89848738e-08]\n",
      "Run: 33 -> Derivative: [-6.89715472e-08  6.78137514e-09  8.83232762e-08]\n",
      "Run: 34 -> Derivative: [-6.83099496e-08  6.45057635e-09  8.73308799e-08]\n",
      "Run: 35 -> Derivative: [-6.78137514e-08  6.78137514e-09  8.70000811e-08]\n",
      "Run: 36 -> Derivative: [-6.73175532e-08  7.11217393e-09  8.66692823e-08]\n",
      "Run: 37 -> Derivative: [-6.68213551e-08  6.45057635e-09  8.53460872e-08]\n",
      "Run: 40 -> Derivative: [-6.50019617e-08  6.61597575e-09  8.43536908e-08]\n",
      "Run: 45 -> Derivative: [-6.21901720e-08  7.11217393e-09  8.40228920e-08]\n",
      "Run: 38 -> Derivative: [-6.59943581e-08  6.78137514e-09  8.66692823e-08]\n",
      "Run: 39 -> Derivative: [-6.53327605e-08  6.78137514e-09  8.56768859e-08]\n",
      "Run: 44 -> Derivative: [-6.25209708e-08  6.94677454e-09  8.36920932e-08]\n",
      "Run: 43 -> Derivative: [-6.31825684e-08  7.27757332e-09  8.36920932e-08]\n",
      "Run: 42 -> Derivative: [-6.38441660e-08  6.94677454e-09  8.40228920e-08]\n",
      "Run: 41 -> Derivative: [-6.43403642e-08  6.94677454e-09  8.46844896e-08]\n",
      "Run: 47 -> Derivative: [-6.10323763e-08  7.11217393e-09  8.26996969e-08]\n",
      "Run: 46 -> Derivative: [-6.15285745e-08  6.94677454e-09  8.26996969e-08]\n",
      "Run: 48 -> Derivative: [-6.07015775e-08  6.94677454e-09  8.26996969e-08]\n",
      "Run: 49 -> Derivative: [-5.98745805e-08  7.11217393e-09  8.13765017e-08]\n",
      "Run: 51 -> Derivative: [-5.92129829e-08  6.61597575e-09  8.07149041e-08]\n",
      "Run: 52 -> Derivative: [-5.83859860e-08  7.11217393e-09  8.00533066e-08]\n",
      "Run: 50 -> Derivative: [-5.93783823e-08  6.78137514e-09  8.13765017e-08]\n",
      "Run: 53 -> Derivative: [-5.82205866e-08  7.11217393e-09  7.87301114e-08]\n",
      "Run: 54 -> Derivative: [-5.75589890e-08  6.78137514e-09  7.93917090e-08]\n",
      "Run: 55 -> Derivative: [-5.72281902e-08  6.61597575e-09  7.83993126e-08]\n",
      "Run: 56 -> Derivative: [-5.65665926e-08  6.78137514e-09  7.87301114e-08]\n",
      "Run: 59 -> Derivative: [-5.54087969e-08  6.94677454e-09  7.67453187e-08]\n",
      "Run: 57 -> Derivative: [-5.60703945e-08  6.94677454e-09  7.80685138e-08]\n",
      "Run: 58 -> Derivative: [-5.57395957e-08  6.78137514e-09  7.70761175e-08]\n",
      "Run: 60 -> Derivative: [-5.49125987e-08  6.78137514e-09  7.70761175e-08]\n",
      "Run: 61 -> Derivative: [-5.45817999e-08  6.61597575e-09  7.57529223e-08]\n",
      "Run: 62 -> Derivative: [-5.40856017e-08  6.94677454e-09  7.70761175e-08]\n",
      "Run: 63 -> Derivative: [-5.34240042e-08  7.60837211e-09  7.54221235e-08]\n",
      "Run: 64 -> Derivative: [-5.29278060e-08  6.78137514e-09  7.54221235e-08]\n",
      "CPU times: user 4.72 s, sys: 1.23 s, total: 5.95 s\n",
      "Wall time: 1h 24min 37s\n"
     ]
    }
   ],
   "source": [
    "%%time\n",
    "import time\n",
    "import os\n",
    "from multiprocessing import Pool, Array\n",
    "\n",
    "# They are going to be some disgusting warnings for the first iterations of the model (has to do with initialization)\n",
    "import warnings\n",
    "warnings.filterwarnings(\"ignore\")\n",
    "\n",
    "# Set seed\n",
    "np.random.seed(12345)\n",
    "\n",
    "start = 1e-3\n",
    "finish = 2\n",
    "interval = 64\n",
    "\n",
    "a0_set = [(i,value) for i, value in enumerate(np.linspace(start, finish, interval))]\n",
    "\n",
    "if __name__ == '__main__':\n",
    "    \n",
    "    pool = Pool()\n",
    "    derivatives = pool.starmap(calculate_derivative_lasso_a0, a0_set)"
   ]
  },
  {
   "cell_type": "code",
   "execution_count": 15,
   "metadata": {},
   "outputs": [
    {
     "data": {
      "image/png": "[encoded data removed]",
      "text/plain": [
       "<Figure size 432x288 with 1 Axes>"
      ]
     },
     "metadata": {
      "needs_background": "light"
     },
     "output_type": "display_data"
    }
   ],
   "source": [
    "from scipy.interpolate import make_interp_spline, BSpline\n",
    "\n",
    "result = np.block(derivatives)\n",
    "\n",
    "# 300 represents number of points to make between T.min and T.max\n",
    "xnew = np.linspace(result[:,0].min(), result[:,0].max(), interval*4) \n",
    "\n",
    "spl = make_interp_spline(result[:,0], result[:,1], k=3)  # type: BSpline\n",
    "power_smooth = spl(xnew)\n",
    "\n",
    "plt.plot(xnew, power_smooth)\n",
    "plt.show()"
   ]
  },
  {
   "cell_type": "code",
   "execution_count": 8,
   "metadata": {},
   "outputs": [],
   "source": [
    "prior = \"lasso_alternative\"\n",
    "parameter = \"a0_lasso\"\n",
    "\n",
    "dump_to_disk = [derivatives, [xnew, power_smooth]]\n",
    "\n",
    "with open(f'../sensitivity/results_{M}_{prior}_{parameter}_{start}_{finish}_{interval}_M_huber.pkl\"', 'wb') as f:\n",
    "        pickle.dump(dump_to_disk, f, pickle.HIGHEST_PROTOCOL)"
   ]
  },
  {
   "cell_type": "markdown",
   "metadata": {},
   "source": [
    "### Parameter -> $b_{0}$"
   ]
  },
  {
   "cell_type": "code",
   "execution_count": null,
   "metadata": {},
   "outputs": [],
   "source": [
    "def calculate_derivative_lasso_b0(iteration, parameter_value):\n",
    "    \n",
    "    prior = \"lasso_alternative\"\n",
    "    T = 243\n",
    "    p = 1\n",
    "    train = T-25\n",
    "    iterations = 75\n",
    "    \n",
    "    error = np.sqrt(1.1e-16)\n",
    "    prior_parameters_plus = {\"a0_lasso\":1e-3,\"b0_lasso\":parameter_value+error}\n",
    "    prior_parameters_minus = {\"a0_lasso\":1e-3,\"b0_lasso\":parameter_value-error}\n",
    "        \n",
    "    model_plus = tvp_ar_contemp_decomposition(T, M, p, train, X_matrix_contemp, y_matrix_contemp, prior, print_status=False, iterations=iterations, prior_parameters=prior_parameters_plus)\n",
    "    msfe_plus, *_, msfe_complete_plus, alpl_complete_plus = model_plus.result()\n",
    "    \n",
    "    model_minus = tvp_ar_contemp_decomposition(T, M, p, train, X_matrix_contemp, y_matrix_contemp, prior, print_status=False, iterations=iterations, prior_parameters=prior_parameters_minus)\n",
    "    msfe_minus, *_, msfe_complete_minus, alpl_complete_minus = model_minus.result()\n",
    "\n",
    "    derivative_complete = (msfe_complete_plus.mean(0) - msfe_complete_minus.mean(0))/(2*error)\n",
    "    derivative_msfe = (msfe_plus.mean() - msfe_minus.mean())/(2*error)\n",
    "    derivative_h_step = (msfe_plus - msfe_minus)/(2*error)\n",
    "    \n",
    "    print(f'Run: {iteration+1} -> Derivative: {derivative_complete}')\n",
    "    \n",
    "    return [parameter_value, derivative_complete, derivative_msfe, derivative_h_step]"
   ]
  },
  {
   "cell_type": "code",
   "execution_count": null,
   "metadata": {},
   "outputs": [],
   "source": [
    "%%time\n",
    "import time\n",
    "import os\n",
    "from multiprocessing import Pool, Array\n",
    "\n",
    "# They are going to be some disgusting warnings for the first iterations of the model (has to do with initialization)\n",
    "import warnings\n",
    "warnings.filterwarnings(\"ignore\")\n",
    "\n",
    "# Set seed\n",
    "np.random.seed(12345)\n",
    "\n",
    "start = 1e-3\n",
    "finish = 1\n",
    "interval = 256\n",
    "\n",
    "b0_set = [(i,value) for i, value in enumerate(np.linspace(start, finish, interval))]\n",
    "\n",
    "if __name__ == '__main__':\n",
    "    \n",
    "    pool = Pool()\n",
    "    derivatives = pool.starmap(calculate_derivative_lasso_b0, b0_set)"
   ]
  },
  {
   "cell_type": "code",
   "execution_count": null,
   "metadata": {},
   "outputs": [],
   "source": [
    "from scipy.interpolate import make_interp_spline, BSpline\n",
    "\n",
    "result = np.block(derivatives)\n",
    "\n",
    "# 300 represents number of points to make between T.min and T.max\n",
    "xnew = np.linspace(result[:,0].min(), result[:,0].max(), interval*4) \n",
    "\n",
    "spl = make_interp_spline(result[:,0], result[:,3], k=3)  # type: BSpline\n",
    "power_smooth = spl(xnew)\n",
    "\n",
    "plt.plot(xnew, power_smooth)\n",
    "plt.show()"
   ]
  },
  {
   "cell_type": "code",
   "execution_count": null,
   "metadata": {},
   "outputs": [],
   "source": [
    "prior = \"lasso_alternative\"\n",
    "parameter = \"b0_lasso\"\n",
    "\n",
    "dump_to_disk = [derivatives, [xnew, power_smooth]]\n",
    "\n",
    "with open(f'../sensitivity/results_{M}_{prior}_{parameter}_{start}_{finish}_{interval}_vb_based_huber.pkl\"', 'wb') as f:\n",
    "        pickle.dump(dump_to_disk, f, pickle.HIGHEST_PROTOCOL)"
   ]
  },
  {
   "cell_type": "markdown",
   "metadata": {},
   "source": [
    "# SVSS"
   ]
  },
  {
   "cell_type": "code",
   "execution_count": null,
   "metadata": {},
   "outputs": [],
   "source": [
    "# Check if the model, given the specific data, converges at all\n",
    "\n",
    "T = 243\n",
    "p = 1\n",
    "prior = \"svss\"\n",
    "\n",
    "train = T - 25\n",
    "\n",
    "prior_parameters = {\"g0\":1,\"h0\":12,\"pi0\":0.5}\n",
    "\n",
    "model = tvp_ar_contemp_decomposition(T, M, p, train, X_matrix_contemp, y_matrix_contemp, prior, print_status=True, iterations=100, prior_parameters=prior_parameters)\n",
    "msfe, *_  = model.result()\n",
    "\n",
    "# msfe, *_ = tvp_ar_contemp(T, M, p, train, X_matrix_contemp, y_matrix_contemp, prior, print_status=True, iterations=75, prior_parameters=prior_paramters)"
   ]
  },
  {
   "cell_type": "markdown",
   "metadata": {},
   "source": [
    "### Parameter -> $g_{0}$"
   ]
  },
  {
   "cell_type": "code",
   "execution_count": null,
   "metadata": {},
   "outputs": [],
   "source": [
    "def calculate_derivative_svss_g0(iteration, parameter_value):\n",
    "    \n",
    "    prior = \"svss\"\n",
    "    T = 243\n",
    "    p = 1\n",
    "    train = T-25\n",
    "    iterations = 75\n",
    "    \n",
    "    error = np.sqrt(1.1e-16)\n",
    "    prior_parameters_plus = {\"g0\":parameter_value+error,\"h0\":1e-2, \"pi0\":0.5}\n",
    "    prior_parameters_minus = {\"g0\":parameter_value-error,\"h0\":1e-2, \"pi0\":0.5}\n",
    "    \n",
    "    model_plus = tvp_ar_contemp_decomposition(T, M, p, train, X_matrix_contemp, y_matrix_contemp, prior, print_status=False, iterations=iterations, prior_parameters=prior_parameters_plus)\n",
    "    msfe_plus, *_, msfe_complete_plus, alpl_complete_plus = model_plus.result()\n",
    "    \n",
    "    model_minus = tvp_ar_contemp_decomposition(T, M, p, train, X_matrix_contemp, y_matrix_contemp, prior, print_status=False, iterations=iterations, prior_parameters=prior_parameters_minus)\n",
    "    msfe_minus, *_, msfe_complete_minus, alpl_complete_minus = model_minus.result()\n",
    "    \n",
    "    derivative_complete = (msfe_complete_plus.mean(0) - msfe_complete_minus.mean(0))/(2*error)\n",
    "    derivative_msfe = (msfe_plus.mean() - msfe_minus.mean())/(2*error)\n",
    "    derivative_h_step = (msfe_plus - msfe_minus)/(2*error)\n",
    "    \n",
    "    print(f'Run: {iteration+1} -> Derivative: {derivative_complete}')\n",
    "    \n",
    "    return [parameter_value, derivative_complete, derivative_msfe, derivative_h_step]"
   ]
  },
  {
   "cell_type": "code",
   "execution_count": null,
   "metadata": {},
   "outputs": [],
   "source": [
    "%%time\n",
    "import time\n",
    "import os\n",
    "from multiprocessing import Pool, Array\n",
    "\n",
    "# They are going to be some disgusting warnings for the first iterations of the model (has to do with initialization)\n",
    "import warnings\n",
    "warnings.filterwarnings(\"ignore\")\n",
    "\n",
    "# Set seed\n",
    "np.random.seed(12345)\n",
    "\n",
    "start = 1\n",
    "finish = 1.5\n",
    "interval = 64\n",
    "\n",
    "g0_set = [(i,value) for i, value in enumerate(np.linspace(start, finish, interval))]\n",
    "\n",
    "if __name__ == '__main__':\n",
    "    \n",
    "    pool = Pool()\n",
    "    derivatives = pool.starmap(calculate_derivative_svss_g0, g0_set)"
   ]
  },
  {
   "cell_type": "code",
   "execution_count": null,
   "metadata": {},
   "outputs": [],
   "source": [
    "from scipy.interpolate import make_interp_spline, BSpline\n",
    "\n",
    "# Visualise the result\n",
    "\n",
    "result = np.block(derivatives)\n",
    "\n",
    "# 300 represents number of points to make between T.min and T.max\n",
    "xnew = np.linspace(result[:,0].min(), result[:,0].max(), interval*4) \n",
    "\n",
    "spl = make_interp_spline(result[:,0], result[:,75], k=3)  # type: BSpline+\n",
    "power_smooth = spl(xnew)\n",
    "\n",
    "plt.plot(xnew, power_smooth)\n",
    "plt.show()"
   ]
  },
  {
   "cell_type": "code",
   "execution_count": null,
   "metadata": {},
   "outputs": [],
   "source": [
    "prior = \"svss\"\n",
    "parameter = \"g0\"\n",
    "\n",
    "dump_to_disk = [derivatives, [xnew, power_smooth]]\n",
    "\n",
    "with open(f'../sensitivity/results_{M}_{prior}_{parameter}_{start}_{finish}_{interval}_std_huber.pkl\"', 'wb') as f:\n",
    "        pickle.dump(dump_to_disk, f, pickle.HIGHEST_PROTOCOL)"
   ]
  },
  {
   "cell_type": "markdown",
   "metadata": {},
   "source": [
    "### Parameter -> $h_{0}$"
   ]
  },
  {
   "cell_type": "code",
   "execution_count": null,
   "metadata": {},
   "outputs": [],
   "source": [
    "def calculate_derivative_svss_h0(iteration, parameter_value):\n",
    "    \n",
    "    prior = \"svss\"\n",
    "    T = 243\n",
    "    p = 1\n",
    "    train = T-25\n",
    "    iterations = 75\n",
    "    \n",
    "    error = np.sqrt(1.1e-16)\n",
    "    prior_parameters_plus = {\"g0\":1,\"h0\":parameter_value+error, \"pi0\":0.5}\n",
    "    prior_parameters_minus = {\"g0\":1,\"h0\":parameter_value-error, \"pi0\":0.5}\n",
    "    \n",
    "    model_plus = tvp_ar_contemp_decomposition(T, M, p, train, X_matrix_contemp, y_matrix_contemp, prior, print_status=False, iterations=iterations, prior_parameters=prior_parameters_plus)\n",
    "    msfe_plus, *_, msfe_complete_plus, alpl_complete_plus = model_plus.result()\n",
    "    \n",
    "    model_minus = tvp_ar_contemp_decomposition(T, M, p, train, X_matrix_contemp, y_matrix_contemp, prior, print_status=False, iterations=iterations, prior_parameters=prior_parameters_minus)\n",
    "    msfe_minus, *_, msfe_complete_minus, alpl_complete_minus = model_minus.result()\n",
    "    \n",
    "    derivative_complete = (msfe_complete_plus.mean(0) - msfe_complete_minus.mean(0))/(2*error)\n",
    "    derivative_msfe = (msfe_plus.mean() - msfe_minus.mean())/(2*error)\n",
    "    derivative_h_step = (msfe_plus - msfe_minus)/(2*error)\n",
    "    \n",
    "    print(f'Run: {iteration+1} -> Derivative: {derivative_complete}')\n",
    "    \n",
    "    return [parameter_value, derivative_complete, derivative_msfe, derivative_h_step]"
   ]
  },
  {
   "cell_type": "code",
   "execution_count": null,
   "metadata": {},
   "outputs": [],
   "source": [
    "%%time\n",
    "import time\n",
    "import os\n",
    "from multiprocessing import Pool, Array\n",
    "\n",
    "# They are going to be some disgusting warnings for the first iterations of the model (has to do with initialization)\n",
    "import warnings\n",
    "warnings.filterwarnings(\"ignore\")\n",
    "\n",
    "# Set seed\n",
    "np.random.seed(12345)\n",
    "\n",
    "start = 12\n",
    "finish = 14\n",
    "interval = 128\n",
    "\n",
    "h0_set = [(i,value) for i, value in enumerate(np.linspace(start, finish, interval))]\n",
    "\n",
    "if __name__ == '__main__':\n",
    "    \n",
    "    pool = Pool()\n",
    "    derivatives = pool.starmap(calculate_derivative_svss_h0, h0_set)"
   ]
  },
  {
   "cell_type": "code",
   "execution_count": null,
   "metadata": {},
   "outputs": [],
   "source": [
    "from scipy.interpolate import make_interp_spline, BSpline\n",
    "\n",
    "# Visualise the result\n",
    "\n",
    "result = np.block(derivatives)\n",
    "\n",
    "# 300 represents number of points to make between T.min and T.max\n",
    "xnew = np.linspace(result[:,0].min(), result[:,0].max(), interval*4)\n",
    "\n",
    "spl = make_interp_spline(result[:,0], result[:,75], k=3)  # type: BSpline\n",
    "power_smooth = spl(xnew)\n",
    "\n",
    "plt.plot(xnew, power_smooth)\n",
    "plt.show()"
   ]
  },
  {
   "cell_type": "code",
   "execution_count": null,
   "metadata": {},
   "outputs": [],
   "source": [
    "prior = \"svss\"\n",
    "parameter = \"h0\"\n",
    "\n",
    "dump_to_disk = [derivatives, [xnew, power_smooth]]\n",
    "\n",
    "with open(f'../sensitivity/results_{M}_{prior}_{parameter}_{start}_{finish}_{interval}_huber.pkl\"', 'wb') as f:\n",
    "        pickle.dump(dump_to_disk, f, pickle.HIGHEST_PROTOCOL)"
   ]
  },
  {
   "cell_type": "markdown",
   "metadata": {},
   "source": [
    "# Horseshoe"
   ]
  },
  {
   "cell_type": "code",
   "execution_count": null,
   "metadata": {},
   "outputs": [],
   "source": [
    "# Check if the model, given the specific data, converges at all\n",
    "\n",
    "T = 243\n",
    "p = 1\n",
    "prior = \"horseshoe\"\n",
    "train = T - 25\n",
    "\n",
    "prior_parameters = {\"a0\":5, \"b0\":1}\n",
    "\n",
    "msfe, *_ = tvp_ar_contemp(T, M, p, train, X_matrix_contemp, y_matrix_contemp, prior, print_status=True, iterations=100, prior_parameters=prior_parameters)"
   ]
  },
  {
   "cell_type": "markdown",
   "metadata": {},
   "source": [
    "### Parameter -> $a_{0}$"
   ]
  },
  {
   "cell_type": "code",
   "execution_count": null,
   "metadata": {},
   "outputs": [],
   "source": [
    "def calculate_derivative_horseshoe_a0(iteration, parameter_value):\n",
    "    \n",
    "    prior = \"horseshoe\"\n",
    "    T = 243\n",
    "    p = 1\n",
    "    train = T-25\n",
    "    iterations = 150\n",
    "    \n",
    "    error = np.sqrt(1.1e-16)\n",
    "    prior_parameters_plus = {\"a0\":parameter_value+error,\"b0\":1}\n",
    "    prior_parameters_minus = {\"a0\":parameter_value-error,\"b0\":1}\n",
    "    \n",
    "    model_plus = tvp_ar_contemp_decomposition(T, M, p, train, X_matrix_contemp, y_matrix_contemp, prior, print_status=False, iterations=iterations, prior_parameters=prior_parameters_plus)\n",
    "    msfe_plus, *_, msfe_complete_plus, alpl_complete_plus = model_plus.result()\n",
    "    \n",
    "    model_minus = tvp_ar_contemp_decomposition(T, M, p, train, X_matrix_contemp, y_matrix_contemp, prior, print_status=False, iterations=iterations, prior_parameters=prior_parameters_minus)\n",
    "    msfe_minus, *_, msfe_complete_minus, alpl_complete_minus = model_minus.result()\n",
    "    \n",
    "    derivative_complete = (msfe_complete_plus.mean(0) - msfe_complete_minus.mean(0))/(2*error)\n",
    "    derivative_msfe = (msfe_plus.mean() - msfe_minus.mean())/(2*error)\n",
    "    derivative_h_step = (msfe_plus - msfe_minus)/(2*error)\n",
    "    \n",
    "    print(f'Run: {iteration+1} -> Derivative: {derivative_complete}')\n",
    "    \n",
    "    return [parameter_value, derivative_complete, derivative_msfe, derivative_h_step]"
   ]
  },
  {
   "cell_type": "code",
   "execution_count": null,
   "metadata": {},
   "outputs": [],
   "source": [
    "%%time\n",
    "import time\n",
    "import os\n",
    "from multiprocessing import Pool, Array\n",
    "\n",
    "# They are going to be some disgusting warnings for the first iterations of the model (has to do with initialization)\n",
    "import warnings\n",
    "warnings.filterwarnings(\"ignore\")\n",
    "\n",
    "# Set seed\n",
    "np.random.seed(12345)\n",
    "\n",
    "start = 4\n",
    "finish = 5\n",
    "interval = 256\n",
    "\n",
    "a0_set = [(i,value) for i, value in enumerate(np.linspace(start, finish, interval))]\n",
    "\n",
    "if __name__ == '__main__':\n",
    "    \n",
    "    pool = Pool()\n",
    "    derivatives = pool.starmap(calculate_derivative_horseshoe_a0, a0_set)"
   ]
  },
  {
   "cell_type": "code",
   "execution_count": null,
   "metadata": {},
   "outputs": [],
   "source": [
    "from scipy.interpolate import make_interp_spline, BSpline\n",
    "\n",
    "# Visualise the result\n",
    "\n",
    "result = np.block(derivatives)\n",
    "\n",
    "# 300 represents number of points to make between T.min and T.max\n",
    "xnew = np.linspace(result[:,0].min(), result[:,0].max(), interval*4) \n",
    "\n",
    "spl = make_interp_spline(result[:,0], result[:,1], k=3)  # type: BSpline\n",
    "power_smooth = spl(xnew)\n",
    "\n",
    "plt.plot(xnew, power_smooth)\n",
    "plt.show()"
   ]
  },
  {
   "cell_type": "code",
   "execution_count": null,
   "metadata": {},
   "outputs": [],
   "source": [
    "prior = \"horseshoe\"\n",
    "parameter = \"a0\"\n",
    "\n",
    "dump_to_disk = [derivatives, [xnew, power_smooth]]\n",
    "\n",
    "with open(f'../sensitivity/results_{M}_{prior}_{parameter}_{start}_{finish}_{interval}_vb_based_huber.pkl\"', 'wb') as f:\n",
    "        pickle.dump(dump_to_disk, f, pickle.HIGHEST_PROTOCOL)"
   ]
  },
  {
   "cell_type": "markdown",
   "metadata": {},
   "source": [
    "### Parameter -> $b_{0}$"
   ]
  },
  {
   "cell_type": "code",
   "execution_count": null,
   "metadata": {},
   "outputs": [],
   "source": [
    "def calculate_derivative_horseshoe_b0(iteration, parameter_value):\n",
    "    \n",
    "    prior = \"horseshoe\"\n",
    "    T = 243\n",
    "    p = 1\n",
    "    train = T-25\n",
    "    iterations = 100\n",
    "    \n",
    "    error = np.sqrt(1.1e-16)\n",
    "    prior_parameters_plus = {\"a0\":4,\"b0\":parameter_value+error}\n",
    "    prior_parameters_minus = {\"a0\":4,\"b0\":parameter_value-error}\n",
    "    \n",
    "    model_plus = tvp_ar_contemp_decomposition(T, M, p, train, X_matrix_contemp, y_matrix_contemp, prior, print_status=False, iterations=iterations, prior_parameters=prior_parameters_plus)\n",
    "    msfe_plus, *_, msfe_complete_plus, alpl_complete_plus = model_plus.result()\n",
    "    \n",
    "    model_minus = tvp_ar_contemp_decomposition(T, M, p, train, X_matrix_contemp, y_matrix_contemp, prior, print_status=False, iterations=iterations, prior_parameters=prior_parameters_minus)\n",
    "    msfe_minus, *_, msfe_complete_minus, alpl_complete_minus = model_minus.result()\n",
    "    \n",
    "    derivative_complete = (msfe_complete_plus.mean(0) - msfe_complete_minus.mean(0))/(2*error)\n",
    "    derivative_msfe = (msfe_plus.mean() - msfe_minus.mean())/(2*error)\n",
    "    derivative_h_step = (msfe_plus - msfe_minus)/(2*error)\n",
    "    \n",
    "    print(f'Run: {iteration+1} -> Derivative: {derivative_complete}')\n",
    "    \n",
    "    return [parameter_value, derivative_complete, derivative_msfe, derivative_h_step]"
   ]
  },
  {
   "cell_type": "code",
   "execution_count": null,
   "metadata": {},
   "outputs": [],
   "source": [
    "%%time\n",
    "import time\n",
    "import os\n",
    "from multiprocessing import Pool, Array\n",
    "\n",
    "# They are going to be some disgusting warnings for the first iterations of the model (has to do with initialization)\n",
    "import warnings\n",
    "warnings.filterwarnings(\"ignore\")\n",
    "\n",
    "# Set seed\n",
    "np.random.seed(12345)\n",
    "\n",
    "start = 1\n",
    "finish = 1.5\n",
    "interval = 256\n",
    "\n",
    "b0_set = [(i,value) for i, value in enumerate(np.linspace(start, finish, interval))]\n",
    "\n",
    "if __name__ == '__main__':\n",
    "    \n",
    "    pool = Pool()\n",
    "    derivatives = pool.starmap(calculate_derivative_horseshoe_b0, b0_set)"
   ]
  },
  {
   "cell_type": "code",
   "execution_count": null,
   "metadata": {},
   "outputs": [],
   "source": [
    "from scipy.interpolate import make_interp_spline, BSpline\n",
    "\n",
    "# Visualise the result\n",
    "\n",
    "result = np.block(derivatives)\n",
    "\n",
    "# 300 represents number of points to make between T.min and T.max\n",
    "xnew = np.linspace(result[:,0].min(), result[:,0].max(), interval*4) \n",
    "\n",
    "spl = make_interp_spline(result[:,0], result[:,7], k=3)  # type: BSpline\n",
    "power_smooth = spl(xnew)\n",
    "\n",
    "plt.plot(xnew, power_smooth)\n",
    "plt.show()"
   ]
  },
  {
   "cell_type": "code",
   "execution_count": null,
   "metadata": {},
   "outputs": [],
   "source": [
    "prior = \"horseshoe\"\n",
    "parameter = \"b0\"\n",
    "\n",
    "dump_to_disk = [derivatives, [xnew, power_smooth]]\n",
    "\n",
    "with open(f'../sensitivity/results_{M}_{prior}_{parameter}_{start}_{finish}_{interval}_vb_based_huber.pkl\"', 'wb') as f:\n",
    "        pickle.dump(dump_to_disk, f, pickle.HIGHEST_PROTOCOL)"
   ]
  }
 ],
 "metadata": {
  "kernelspec": {
   "display_name": "Python 3",
   "language": "python",
   "name": "python3"
  },
  "language_info": {
   "codemirror_mode": {
    "name": "ipython",
    "version": 3
   },
   "file_extension": ".py",
   "mimetype": "text/x-python",
   "name": "python",
   "nbconvert_exporter": "python",
   "pygments_lexer": "ipython3",
   "version": "3.7.6"
  }
 },
 "nbformat": 4,
 "nbformat_minor": 4
}
