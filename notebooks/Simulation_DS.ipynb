{
 "cells": [
  {
   "cell_type": "code",
   "execution_count": 1,
   "metadata": {},
   "outputs": [],
   "source": [
    "%matplotlib inline\n",
    "\n",
    "import sys\n",
    "import pandas as pd\n",
    "import numpy as np\n",
    "import matplotlib.pyplot as plt\n",
    "from scipy.stats import norm, multivariate_normal\n",
    "from scipy import io\n",
    "\n",
    "# Own code\n",
    "sys.path.append(\"../\")\n",
    "from utils.data_utils import create_data, create_dgp_data, transformation, standardize, generate_dgp_tvp_var, generate_dgp_tvp_var_heteroskedastic, generate_matrices, generate_contemp_matrices\n",
    "from utils.tvp_models import TVPVARModel, tvp_ar_contemp, tvp_ar_non_contemp\n",
    "\n",
    "# Suppress scientific notation in numpy\n",
    "np.set_printoptions(suppress=True)"
   ]
  },
  {
   "cell_type": "code",
   "execution_count": null,
   "metadata": {},
   "outputs": [
    {
     "name": "stderr",
     "output_type": "stream",
     "text": [
      "/usr/local/lib/python3.7/site-packages/scipy/stats/_multivariate.py:660: RuntimeWarning: covariance is not positive-semidefinite.\n",
      "  out = random_state.multivariate_normal(mean, cov, size)\n"
     ]
    },
    {
     "name": "stdout",
     "output_type": "stream",
     "text": [
      "M: 3, T: 100, p_0: 0.2 & explosive: 0.0 -> DONE!\n",
      "M: 3, T: 100, p_0: 0.4 & explosive: 0.0 -> DONE!\n",
      "y is an explosive process -> RUN: 78 | MAX: 30.16747501533249 & MIN: -8.059559494518433\n",
      "M: 3, T: 200, p_0: 0.2 & explosive: 0.2 -> DONE!\n",
      "y is an explosive process -> RUN: 78 | MAX: 656.7120613355344 & MIN: -5.628431571306082\n",
      "M: 3, T: 200, p_0: 0.4 & explosive: 0.2 -> DONE!\n",
      "M: 7, T: 100, p_0: 0.2 & explosive: 0.0 -> DONE!\n",
      "M: 7, T: 100, p_0: 0.4 & explosive: 0.0 -> DONE!\n",
      "y is an explosive process -> RUN: 57 | MAX: 7.853738619112846 & MIN: -35.349916130025974\n",
      "y is an explosive process -> RUN: 91 | MAX: 5.427218171458663 & MIN: -65045.157746618774\n",
      "y is an explosive process -> RUN: 240 | MAX: 86680.76177625204 & MIN: -6959.133683132549\n",
      "y is an explosive process -> RUN: 385 | MAX: 360.65047013721676 & MIN: -15.452263625294194\n",
      "y is an explosive process -> RUN: 487 | MAX: 9.870670914398843 & MIN: -34.3113404368437\n",
      "M: 7, T: 200, p_0: 0.2 & explosive: 1.0 -> DONE!\n",
      "y is an explosive process -> RUN: 20 | MAX: 142.76989678168263 & MIN: -10.498628552295987\n",
      "y is an explosive process -> RUN: 21 | MAX: 304.65718577244667 & MIN: -52.91444697794542\n",
      "y is an explosive process -> RUN: 50 | MAX: 2875.851932606058 & MIN: -7.50927651475505\n",
      "y is an explosive process -> RUN: 132 | MAX: 692.0830814431188 & MIN: -103.8342311783276\n",
      "y is an explosive process -> RUN: 155 | MAX: 19.897230055046716 & MIN: -767.4189091835805\n",
      "y is an explosive process -> RUN: 191 | MAX: 6739.191827314556 & MIN: -565.8397546292736\n",
      "y is an explosive process -> RUN: 252 | MAX: 5.090066374445192 & MIN: -20316.062031027705\n",
      "y is an explosive process -> RUN: 261 | MAX: 5.383834106852025 & MIN: -32.966322028866145\n",
      "y is an explosive process -> RUN: 385 | MAX: 20.27214077985157 & MIN: -545.4943579836753\n",
      "y is an explosive process -> RUN: 422 | MAX: 25.814640609478424 & MIN: -7.370875960898817\n"
     ]
    }
   ],
   "source": [
    "different_m = [3,7]\n",
    "different_T = [100,200]\n",
    "different_sparsity = [0.20,0.40]\n",
    "explosive_threshold = 25\n",
    "\n",
    "for M in different_m:\n",
    "    for T in different_T:\n",
    "        for p_0 in different_sparsity:\n",
    "\n",
    "            np.random.seed(12345)\n",
    "            n_iterations = 500\n",
    "\n",
    "            p = 1\n",
    "            \n",
    "            counter = 0\n",
    "\n",
    "            for run in range(n_iterations):\n",
    "                \n",
    "                #y, coefficients = generate_dgp_tvp_var(M, T, p, 1/2, 1/4, 4*1e-5, 1, 1/2, 1e-2)\n",
    "                y_heteroskedastic, coefficients_heteroskedastic, *_ = generate_dgp_tvp_var_heteroskedastic(M, T, p, 1/3, 1/9, 4*1e-5, 1/6, 1/2, p_0, 1e-2, 1e-9)\n",
    "\n",
    "                #x = y[:,:-1]\n",
    "                #np.savetxt(f'../simulations/datasets/y_{M}_{T}_{p}_{run+1}.csv',y[:,1:].T, delimiter=\",\")\n",
    "                #np.savetxt(f'../simulations/datasets/x_{M}_{T}_{p}_{run+1}.csv',x.T, delimiter=\",\")\n",
    "                #np.savetxt(f'../simulations/datasets/coefficients_{M}_{T}_{p}_{run+1}.csv', coefficients[:,1:], delimiter=\",\")\n",
    "\n",
    "                #np.savetxt(f'../simulations/datasets/y_{M}_{T}_{p}_{run+1}_py.csv',y, delimiter=\",\")\n",
    "                #np.savetxt(f'../simulations/datasets/coefficients_{M}_{T}_{p}_{run+1}_py.csv', coefficients, delimiter=\",\")\n",
    "\n",
    "                x_heteroskedastic = y_heteroskedastic[:,:-1]\n",
    "                np.savetxt(f'../simulations/datasets/y_{M}_{T}_{p}_{p_0}_{run+1}_het.csv',y_heteroskedastic[:,1:].T, delimiter=\",\")\n",
    "                np.savetxt(f'../simulations/datasets/x_{M}_{T}_{p}_{p_0}_{run+1}_het.csv',x_heteroskedastic.T, delimiter=\",\")\n",
    "                np.savetxt(f'../simulations/datasets/coefficients_{M}_{T}_{p}_{p_0}_{run+1}_het.csv', coefficients_heteroskedastic[:,1:], delimiter=\",\")\n",
    "\n",
    "                np.savetxt(f'../simulations/datasets/y_{M}_{T}_{p}_{p_0}_{run+1}_het_py.csv',y_heteroskedastic, delimiter=\",\")\n",
    "                np.savetxt(f'../simulations/datasets/coefficients_{M}_{T}_{p}_{p_0}_{run+1}_het_py.csv', coefficients_heteroskedastic, delimiter=\",\")\n",
    "                \n",
    "                y_max = y_heteroskedastic.max()\n",
    "                y_min = y_heteroskedastic.min()\n",
    "                if (y_max > explosive_threshold or y_min < -explosive_threshold):\n",
    "                    print(f\"y is an explosive process -> RUN: {run} | MAX: {y_max} & MIN: {y_min}\")\n",
    "                    counter += 1\n",
    "                \n",
    "            print(f\"M: {M}, T: {T}, p_0: {p_0} & explosive: {round((counter/n_iterations)*100,6)} -> DONE!\")"
   ]
  }
 ],
 "metadata": {
  "kernelspec": {
   "display_name": "Python 3",
   "language": "python",
   "name": "python3"
  },
  "language_info": {
   "codemirror_mode": {
    "name": "ipython",
    "version": 3
   },
   "file_extension": ".py",
   "mimetype": "text/x-python",
   "name": "python",
   "nbconvert_exporter": "python",
   "pygments_lexer": "ipython3",
   "version": "3.7.6"
  }
 },
 "nbformat": 4,
 "nbformat_minor": 4
}
