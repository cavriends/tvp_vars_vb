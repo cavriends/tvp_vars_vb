{
 "cells": [
  {
   "cell_type": "code",
   "execution_count": null,
   "metadata": {},
   "outputs": [],
   "source": [
    "%matplotlib inline\n",
    "\n",
    "import sys\n",
    "import pandas as pd\n",
    "import numpy as np\n",
    "import matplotlib.pyplot as plt\n",
    "from scipy.stats import norm, multivariate_normal\n",
    "from scipy import io\n",
    "\n",
    "# Own code\n",
    "sys.path.append(\"../\")\n",
    "from utils.data_utils import create_data, create_dgp_data, transformation, standardize, generate_dgp_tvp_var, generate_dgp_tvp_var_heteroskedastic, generate_matrices, generate_contemp_matrices\n",
    "from utils.tvp_models import TVPVARModel, tvp_ar_contemp, tvp_ar_non_contemp\n",
    "\n",
    "# Suppress scientific notation in numpy\n",
    "np.set_printoptions(suppress=True)"
   ]
  },
  {
   "cell_type": "code",
   "execution_count": 3,
   "metadata": {},
   "outputs": [
    {
     "name": "stderr",
     "output_type": "stream",
     "text": [
      "/usr/local/lib/python3.7/site-packages/scipy/stats/_multivariate.py:660: RuntimeWarning: covariance is not positive-semidefinite.\n",
      "  out = random_state.multivariate_normal(mean, cov, size)\n"
     ]
    }
   ],
   "source": [
    "different_m = [2,5,10]\n",
    "\n",
    "for M in different_m:\n",
    "\n",
    "    n_iterations = 200\n",
    "    np.random.seed(12345)\n",
    "\n",
    "    # M = 10\n",
    "    T = 200\n",
    "    p = 1\n",
    "    train = 150\n",
    "\n",
    "    contemperanous_statistics = []\n",
    "    non_contemperanous_statistics = []\n",
    "\n",
    "    for run in range(n_iterations):\n",
    "\n",
    "        y, coefficients = generate_dgp_tvp_var(M, T, p, 1/2, 1/4, 4*1e-5, 1, 1/2, 1e-2)\n",
    "        y_heteroskedastic, coefficients_heteroskedastic, *_ = generate_dgp_tvp_var_heteroskedastic(M, T, p, 1/2, 1/4, 4*1e-5, 1, 1/2, 1e-1, 1e-2, 1e-9)\n",
    "    \n",
    "        x = y[:,:-1]\n",
    "        np.savetxt(f'../simulations/datasets/y_{M}_{T}_{p}_{run+1}.csv',y[:,1:].T, delimiter=\",\")\n",
    "        np.savetxt(f'../simulations/datasets/x_{M}_{T}_{p}_{run+1}.csv',x.T, delimiter=\",\")\n",
    "        np.savetxt(f'../simulations/datasets/coefficients_{M}_{T}_{p}_{run+1}.csv', coefficients[:,1:], delimiter=\",\")\n",
    "        \n",
    "        np.savetxt(f'../simulations/datasets/y_{M}_{T}_{p}_{run+1}_py.csv',y, delimiter=\",\")\n",
    "        np.savetxt(f'../simulations/datasets/coefficients_{M}_{T}_{p}_{run+1}_py.csv', coefficients, delimiter=\",\")\n",
    "        \n",
    "        x_heteroskedastic = y_heteroskedastic[:,:-1]\n",
    "        np.savetxt(f'../simulations/datasets/y_{M}_{T}_{p}_{run+1}_het.csv',y_heteroskedastic[:,1:].T, delimiter=\",\")\n",
    "        np.savetxt(f'../simulations/datasets/x_{M}_{T}_{p}_{run+1}_het.csv',x_heteroskedastic.T, delimiter=\",\")\n",
    "        np.savetxt(f'../simulations/datasets/coefficients_{M}_{T}_{p}_{run+1}_het.csv', coefficients_heteroskedastic[:,1:], delimiter=\",\")\n",
    "        \n",
    "        np.savetxt(f'../simulations/datasets/y_{M}_{T}_{p}_{run+1}_het_py.csv',y_heteroskedastic, delimiter=\",\")\n",
    "        np.savetxt(f'../simulations/datasets/coefficients_{M}_{T}_{p}_{run+1}_het_py.csv', coefficients_heteroskedastic, delimiter=\",\")"
   ]
  },
  {
   "cell_type": "code",
   "execution_count": 19,
   "metadata": {},
   "outputs": [],
   "source": [
    "M = 5\n",
    "T = 200\n",
    "p = 1\n",
    "train = 150\n",
    "\n",
    "y_heteroskedastic, coefficients_heteroskedastic, *_ = generate_dgp_tvp_var_heteroskedastic(M, T, p, 1/2, 1/4, 4*1e-5, 1, 1/2, 1e-1*5, 1e-1, 1e-9)"
   ]
  }
 ],
 "metadata": {
  "kernelspec": {
   "display_name": "Python 3",
   "language": "python",
   "name": "python3"
  },
  "language_info": {
   "codemirror_mode": {
    "name": "ipython",
    "version": 3
   },
   "file_extension": ".py",
   "mimetype": "text/x-python",
   "name": "python",
   "nbconvert_exporter": "python",
   "pygments_lexer": "ipython3",
   "version": "3.7.6"
  }
 },
 "nbformat": 4,
 "nbformat_minor": 4
}
