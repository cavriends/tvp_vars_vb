{
 "cells": [
  {
   "cell_type": "code",
   "execution_count": 12,
   "metadata": {},
   "outputs": [],
   "source": [
    "%matplotlib inline\n",
    "import time\n",
    "import sys\n",
    "import pandas as pd\n",
    "import numpy as np\n",
    "import matplotlib.pyplot as plt\n",
    "from scipy.stats import norm, multivariate_normal\n",
    "from scipy import io\n",
    "import pickle\n",
    "\n",
    "# Own code\n",
    "sys.path.append(\"../\")\n",
    "from utils.data_utils import generate_contemp_matrices, transformation, standardize\n",
    "from utils.tvp_models import TVPVARModel, tvp_ar_contemp_decomposition\n",
    "\n",
    "# Suppress scientific notation in numpy\n",
    "np.set_printoptions(suppress=False)"
   ]
  },
  {
   "cell_type": "code",
   "execution_count": 13,
   "metadata": {},
   "outputs": [],
   "source": [
    "# Set M and standardization\n",
    "\n",
    "M = 3\n",
    "standardization = False\n",
    "transform = True"
   ]
  },
  {
   "cell_type": "code",
   "execution_count": 14,
   "metadata": {},
   "outputs": [],
   "source": [
    "ds = pd.read_csv(\"../data/fred_qd.csv\")\n",
    "gdp = transformation(ds[\"GDPC1\"].iloc[2:].to_numpy(), 5, transform, scale=1)\n",
    "cpi = transformation(ds[\"CPIAUCSL\"].iloc[2:].to_numpy(), 6, transform, scale=1)\n",
    "fedfund = transformation(ds[\"FEDFUNDS\"].iloc[2:].to_numpy(), 2, transform, scale=1)\n",
    "compi = transformation(ds[\"PPIACO\"].iloc[2:].to_numpy(), 6, transform, scale=1)\n",
    "borrowings = transformation(ds[\"TOTRESNS\"].iloc[2:].to_numpy(), 6, transform, scale=1)\n",
    "sp500 = transformation(ds[\"S&P 500\"].iloc[2:].to_numpy(), 5, transform, scale=1)\n",
    "m2 = transformation(ds[\"M2REAL\"].iloc[2:].to_numpy(), 5, transform, scale=1)\n",
    "\n",
    "# Start due to transformation\n",
    "\n",
    "lag = 1\n",
    "\n",
    "if M == 3:\n",
    "\n",
    "    series = [gdp[lag:], cpi[lag:], fedfund[lag:]]\n",
    "    \n",
    "elif M == 7:\n",
    "    \n",
    "    series = [gdp[lag:], cpi[lag:], fedfund[lag:],compi[lag:],borrowings[lag:],sp500[lag:],m2[lag:]]\n",
    "    \n",
    "\n",
    "if standardization:\n",
    "    \n",
    "    series = standardize(series, train = 243-25)\n",
    "\n",
    "series_total = np.array(series)\n",
    "\n",
    "y_matrix_contemp, X_matrix_contemp = generate_contemp_matrices(244, M, 1, series_total)"
   ]
  },
  {
   "cell_type": "markdown",
   "metadata": {},
   "source": [
    "# Lasso "
   ]
  },
  {
   "cell_type": "code",
   "execution_count": null,
   "metadata": {},
   "outputs": [],
   "source": [
    "# Check if the model, given the specific data, converges at all\n",
    "\n",
    "T = 243\n",
    "p = 1\n",
    "prior = \"lasso_alternative\"\n",
    "train = T - 25\n",
    "\n",
    "model = tvp_ar_contemp_decomposition(T, M, p, train, X_matrix_contemp, y_matrix_contemp, prior, print_status=False, iterations=100)\n",
    "msfe, *_ = model.result()"
   ]
  },
  {
   "cell_type": "markdown",
   "metadata": {},
   "source": [
    "### Parameter -> $a_{0}$"
   ]
  },
  {
   "cell_type": "code",
   "execution_count": null,
   "metadata": {},
   "outputs": [],
   "source": [
    "def calculate_derivative_lasso_a0(iteration, parameter_value):\n",
    "    \n",
    "    prior = \"lasso_alternative\"\n",
    "    T = 243\n",
    "    p = 1\n",
    "    train = T-25\n",
    "    iterations = 100\n",
    "\n",
    "    error = np.sqrt(1.1e-16)\n",
    "    prior_parameters_plus = {\"a0_lasso\":parameter_value+error,\"b0_lasso\":1e-3}\n",
    "    prior_parameters_minus = {\"a0_lasso\":parameter_value-error,\"b0_lasso\":1e-3}\n",
    "    \n",
    "    model_plus = tvp_ar_contemp_decomposition(T, M, p, train, X_matrix_contemp, y_matrix_contemp, prior, print_status=False, iterations=iterations, prior_parameters=prior_parameters_plus)\n",
    "    msfe_plus, *_, msfe_complete_plus, alpl_complete_plus = model_plus.result()\n",
    "    \n",
    "    model_minus = tvp_ar_contemp_decomposition(T, M, p, train, X_matrix_contemp, y_matrix_contemp, prior, print_status=False, iterations=iterations, prior_parameters=prior_parameters_minus)\n",
    "    msfe_minus, *_, msfe_complete_minus, alpl_complete_minus = model_minus.result()\n",
    "       \n",
    "    derivative_complete = (msfe_complete_plus.mean(0) - msfe_complete_minus.mean(0))/(2*error)\n",
    "    derivative_msfe = (msfe_plus.mean() - msfe_minus.mean())/(2*error)\n",
    "    derivative_h_step = (msfe_plus - msfe_minus)/(2*error)\n",
    "    \n",
    "    print(f'Run: {iteration+1} -> Derivative: {derivative_complete}')\n",
    "    \n",
    "    return [parameter_value, derivative_complete, derivative_msfe, derivative_h_step]"
   ]
  },
  {
   "cell_type": "code",
   "execution_count": null,
   "metadata": {},
   "outputs": [],
   "source": [
    "%%time\n",
    "import time\n",
    "import os\n",
    "from multiprocessing import Pool, Array\n",
    "\n",
    "# They are going to be some disgusting warnings for the first iterations of the model (has to do with initialization)\n",
    "import warnings\n",
    "warnings.filterwarnings(\"ignore\")\n",
    "\n",
    "# Set seed\n",
    "np.random.seed(12345)\n",
    "\n",
    "start = 1e-3\n",
    "finish = 2\n",
    "interval = 256\n",
    "\n",
    "a0_set = [(i,value) for i, value in enumerate(np.linspace(start, finish, interval))]\n",
    "\n",
    "if __name__ == '__main__':\n",
    "    \n",
    "    pool = Pool()\n",
    "    derivatives = pool.starmap(calculate_derivative_lasso_a0, a0_set)"
   ]
  },
  {
   "cell_type": "code",
   "execution_count": null,
   "metadata": {},
   "outputs": [],
   "source": [
    "from scipy.interpolate import make_interp_spline, BSpline\n",
    "\n",
    "result = np.block(derivatives)\n",
    "\n",
    "# 300 represents number of points to make between T.min and T.max\n",
    "xnew = np.linspace(result[:,0].min(), result[:,0].max(), interval*4) \n",
    "\n",
    "spl = make_interp_spline(result[:,0], result[:,3], k=3)  # type: BSpline\n",
    "power_smooth = spl(xnew)\n",
    "\n",
    "plt.plot(xnew, power_smooth)\n",
    "plt.show()"
   ]
  },
  {
   "cell_type": "code",
   "execution_count": null,
   "metadata": {},
   "outputs": [],
   "source": [
    "prior = \"lasso_alternative\"\n",
    "parameter = \"a0_lasso\"\n",
    "\n",
    "dump_to_disk = [derivatives, [xnew, power_smooth]]\n",
    "\n",
    "with open(f'../sensitivity/results_{M}_{prior}_{parameter}_{start}_{finish}_{interval}_vb_based_huber.pkl\"', 'wb') as f:\n",
    "        pickle.dump(dump_to_disk, f, pickle.HIGHEST_PROTOCOL)"
   ]
  },
  {
   "cell_type": "markdown",
   "metadata": {},
   "source": [
    "### Parameter -> $b_{0}$"
   ]
  },
  {
   "cell_type": "code",
   "execution_count": null,
   "metadata": {},
   "outputs": [],
   "source": [
    "def calculate_derivative_lasso_b0(iteration, parameter_value):\n",
    "    \n",
    "    prior = \"lasso_alternative\"\n",
    "    T = 243\n",
    "    p = 1\n",
    "    train = T-25\n",
    "    iterations = 75\n",
    "    \n",
    "    error = np.sqrt(1.1e-16)\n",
    "    prior_parameters_plus = {\"a0_lasso\":1e-3,\"b0_lasso\":parameter_value+error}\n",
    "    prior_parameters_minus = {\"a0_lasso\":1e-3,\"b0_lasso\":parameter_value-error}\n",
    "        \n",
    "    model_plus = tvp_ar_contemp_decomposition(T, M, p, train, X_matrix_contemp, y_matrix_contemp, prior, print_status=False, iterations=iterations, prior_parameters=prior_parameters_plus)\n",
    "    msfe_plus, *_, msfe_complete_plus, alpl_complete_plus = model_plus.result()\n",
    "    \n",
    "    model_minus = tvp_ar_contemp_decomposition(T, M, p, train, X_matrix_contemp, y_matrix_contemp, prior, print_status=False, iterations=iterations, prior_parameters=prior_parameters_minus)\n",
    "    msfe_minus, *_, msfe_complete_minus, alpl_complete_minus = model_minus.result()\n",
    "\n",
    "    derivative_complete = (msfe_complete_plus.mean(0) - msfe_complete_minus.mean(0))/(2*error)\n",
    "    derivative_msfe = (msfe_plus.mean() - msfe_minus.mean())/(2*error)\n",
    "    derivative_h_step = (msfe_plus - msfe_minus)/(2*error)\n",
    "    \n",
    "    print(f'Run: {iteration+1} -> Derivative: {derivative_complete}')\n",
    "    \n",
    "    return [parameter_value, derivative_complete, derivative_msfe, derivative_h_step]"
   ]
  },
  {
   "cell_type": "code",
   "execution_count": null,
   "metadata": {},
   "outputs": [],
   "source": [
    "%%time\n",
    "import time\n",
    "import os\n",
    "from multiprocessing import Pool, Array\n",
    "\n",
    "# They are going to be some disgusting warnings for the first iterations of the model (has to do with initialization)\n",
    "import warnings\n",
    "warnings.filterwarnings(\"ignore\")\n",
    "\n",
    "# Set seed\n",
    "np.random.seed(12345)\n",
    "\n",
    "start = 1e-3\n",
    "finish = 5\n",
    "interval = 256\n",
    "\n",
    "b0_set = [(i,value) for i, value in enumerate(np.linspace(start, finish, interval))]\n",
    "\n",
    "if __name__ == '__main__':\n",
    "    \n",
    "    pool = Pool()\n",
    "    derivatives = pool.starmap(calculate_derivative_lasso_b0, b0_set)"
   ]
  },
  {
   "cell_type": "code",
   "execution_count": null,
   "metadata": {},
   "outputs": [],
   "source": [
    "from scipy.interpolate import make_interp_spline, BSpline\n",
    "\n",
    "result = np.block(derivatives)\n",
    "\n",
    "# 300 represents number of points to make between T.min and T.max\n",
    "xnew = np.linspace(result[:,0].min(), result[:,0].max(), interval*4) \n",
    "\n",
    "spl = make_interp_spline(result[:,0], result[:,3], k=3)  # type: BSpline\n",
    "power_smooth = spl(xnew)\n",
    "\n",
    "plt.plot(xnew, power_smooth)\n",
    "plt.show()"
   ]
  },
  {
   "cell_type": "code",
   "execution_count": null,
   "metadata": {},
   "outputs": [],
   "source": [
    "prior = \"lasso_alternative\"\n",
    "parameter = \"b0_lasso\"\n",
    "\n",
    "dump_to_disk = [derivatives, [xnew, power_smooth]]\n",
    "\n",
    "with open(f'../sensitivity/results_{M}_{prior}_{parameter}_{start}_{finish}_{interval}_vb_based_huber.pkl\"', 'wb') as f:\n",
    "        pickle.dump(dump_to_disk, f, pickle.HIGHEST_PROTOCOL)"
   ]
  },
  {
   "cell_type": "markdown",
   "metadata": {},
   "source": [
    "# SVSS"
   ]
  },
  {
   "cell_type": "code",
   "execution_count": null,
   "metadata": {},
   "outputs": [],
   "source": [
    "# Check if the model, given the specific data, converges at all\n",
    "\n",
    "T = 243\n",
    "p = 1\n",
    "prior = \"svss\"\n",
    "\n",
    "train = T - 25\n",
    "\n",
    "prior_parameters = {\"g0\":1e-2,\"h0\":1e-2,\"pi0\":0.5}\n",
    "\n",
    "model = tvp_ar_contemp_decomposition(T, M, p, train, X_matrix_contemp, y_matrix_contemp, prior, print_status=True, iterations=100, prior_parameters=prior_parameters)\n",
    "msfe, *_  = model.result()\n",
    "\n",
    "# msfe, *_ = tvp_ar_contemp(T, M, p, train, X_matrix_contemp, y_matrix_contemp, prior, print_status=True, iterations=75, prior_parameters=prior_paramters)"
   ]
  },
  {
   "cell_type": "markdown",
   "metadata": {},
   "source": [
    "### Parameter -> $g_{0}$"
   ]
  },
  {
   "cell_type": "code",
   "execution_count": 15,
   "metadata": {},
   "outputs": [],
   "source": [
    "def calculate_derivative_svss_g0(iteration, parameter_value):\n",
    "    \n",
    "    prior = \"svss\"\n",
    "    T = 243\n",
    "    p = 1\n",
    "    train = T-25\n",
    "    iterations = 75\n",
    "    \n",
    "    error = np.sqrt(1.1e-16)\n",
    "    prior_parameters_plus = {\"g0\":parameter_value+error,\"h0\":1e-2, \"pi0\":0.5}\n",
    "    prior_parameters_minus = {\"g0\":parameter_value-error,\"h0\":1e-2, \"pi0\":0.5}\n",
    "    \n",
    "    model_plus = tvp_ar_contemp_decomposition(T, M, p, train, X_matrix_contemp, y_matrix_contemp, prior, print_status=False, iterations=iterations, prior_parameters=prior_parameters_plus)\n",
    "    msfe_plus, *_, msfe_complete_plus, alpl_complete_plus = model_plus.result()\n",
    "    \n",
    "    model_minus = tvp_ar_contemp_decomposition(T, M, p, train, X_matrix_contemp, y_matrix_contemp, prior, print_status=False, iterations=iterations, prior_parameters=prior_parameters_minus)\n",
    "    msfe_minus, *_, msfe_complete_minus, alpl_complete_minus = model_minus.result()\n",
    "    \n",
    "    derivative_complete = (msfe_complete_plus.mean(0) - msfe_complete_minus.mean(0))/(2*error)\n",
    "    derivative_msfe = (msfe_plus.mean() - msfe_minus.mean())/(2*error)\n",
    "    derivative_h_step = (msfe_plus - msfe_minus)/(2*error)\n",
    "    \n",
    "    print(f'Run: {iteration+1} -> Derivative: {derivative_complete}')\n",
    "    \n",
    "    return [parameter_value, derivative_complete, derivative_msfe, derivative_h_step]"
   ]
  },
  {
   "cell_type": "code",
   "execution_count": null,
   "metadata": {},
   "outputs": [],
   "source": [
    "%%time\n",
    "import time\n",
    "import os\n",
    "from multiprocessing import Pool, Array\n",
    "\n",
    "# They are going to be some disgusting warnings for the first iterations of the model (has to do with initialization)\n",
    "import warnings\n",
    "warnings.filterwarnings(\"ignore\")\n",
    "\n",
    "# Set seed\n",
    "np.random.seed(12345)\n",
    "\n",
    "start = 1e-2\n",
    "finish = 2*1e-2\n",
    "interval = 64\n",
    "\n",
    "g0_set = [(i,value) for i, value in enumerate(np.linspace(start, finish, interval))]\n",
    "\n",
    "if __name__ == '__main__':\n",
    "    \n",
    "    pool = Pool()\n",
    "    derivatives = pool.starmap(calculate_derivative_svss_g0, g0_set)"
   ]
  },
  {
   "cell_type": "code",
   "execution_count": 17,
   "metadata": {},
   "outputs": [
    {
     "data": {
      "image/png": "[encoded data removed]",
      "text/plain": [
       "<Figure size 432x288 with 1 Axes>"
      ]
     },
     "metadata": {
      "needs_background": "light"
     },
     "output_type": "display_data"
    }
   ],
   "source": [
    "from scipy.interpolate import make_interp_spline, BSpline\n",
    "\n",
    "# Visualise the result\n",
    "\n",
    "result = np.block(derivatives)\n",
    "\n",
    "# 300 represents number of points to make between T.min and T.max\n",
    "xnew = np.linspace(result[:,0].min(), result[:,0].max(), interval*4) \n",
    "\n",
    "spl = make_interp_spline(result[:,0], result[:,75], k=3)  # type: BSpline+\n",
    "power_smooth = spl(xnew)\n",
    "\n",
    "plt.plot(xnew, power_smooth)\n",
    "plt.show()"
   ]
  },
  {
   "cell_type": "code",
   "execution_count": 18,
   "metadata": {},
   "outputs": [],
   "source": [
    "prior = \"svss\"\n",
    "parameter = \"g0\"\n",
    "\n",
    "dump_to_disk = [derivatives, [xnew, power_smooth]]\n",
    "\n",
    "with open(f'../sensitivity/results_{M}_{prior}_{parameter}_{start}_{finish}_{interval}_std_huber.pkl\"', 'wb') as f:\n",
    "        pickle.dump(dump_to_disk, f, pickle.HIGHEST_PROTOCOL)"
   ]
  },
  {
   "cell_type": "markdown",
   "metadata": {},
   "source": [
    "### Parameter -> $h_{0}$"
   ]
  },
  {
   "cell_type": "code",
   "execution_count": 19,
   "metadata": {},
   "outputs": [],
   "source": [
    "def calculate_derivative_svss_h0(iteration, parameter_value):\n",
    "    \n",
    "    prior = \"svss\"\n",
    "    T = 243\n",
    "    p = 1\n",
    "    train = T-25\n",
    "    iterations = 75\n",
    "    \n",
    "    error = np.sqrt(1.1e-16)\n",
    "    prior_parameters_plus = {\"g0\":1e-2,\"h0\":parameter_value+error, \"pi0\":0.5}\n",
    "    prior_parameters_minus = {\"g0\":1e-2,\"h0\":parameter_value-error, \"pi0\":0.5}\n",
    "    \n",
    "    model_plus = tvp_ar_contemp_decomposition(T, M, p, train, X_matrix_contemp, y_matrix_contemp, prior, print_status=False, iterations=iterations, prior_parameters=prior_parameters_plus)\n",
    "    msfe_plus, *_, msfe_complete_plus, alpl_complete_plus = model_plus.result()\n",
    "    \n",
    "    model_minus = tvp_ar_contemp_decomposition(T, M, p, train, X_matrix_contemp, y_matrix_contemp, prior, print_status=False, iterations=iterations, prior_parameters=prior_parameters_minus)\n",
    "    msfe_minus, *_, msfe_complete_minus, alpl_complete_minus = model_minus.result()\n",
    "    \n",
    "    derivative_complete = (msfe_complete_plus.mean(0) - msfe_complete_minus.mean(0))/(2*error)\n",
    "    derivative_msfe = (msfe_plus.mean() - msfe_minus.mean())/(2*error)\n",
    "    derivative_h_step = (msfe_plus - msfe_minus)/(2*error)\n",
    "    \n",
    "    print(f'Run: {iteration+1} -> Derivative: {derivative_complete}')\n",
    "    \n",
    "    return [parameter_value, derivative_complete, derivative_msfe, derivative_h_step]"
   ]
  },
  {
   "cell_type": "code",
   "execution_count": null,
   "metadata": {},
   "outputs": [],
   "source": [
    "%%time\n",
    "import time\n",
    "import os\n",
    "from multiprocessing import Pool, Array\n",
    "\n",
    "# They are going to be some disgusting warnings for the first iterations of the model (has to do with initialization)\n",
    "import warnings\n",
    "warnings.filterwarnings(\"ignore\")\n",
    "\n",
    "# Set seed\n",
    "np.random.seed(12345)\n",
    "\n",
    "start = 1e-2\n",
    "finish = 2*1e-2\n",
    "interval = 64\n",
    "\n",
    "h0_set = [(i,value) for i, value in enumerate(np.linspace(start, finish, interval))]\n",
    "\n",
    "if __name__ == '__main__':\n",
    "    \n",
    "    pool = Pool()\n",
    "    derivatives = pool.starmap(calculate_derivative_svss_h0, h0_set)"
   ]
  },
  {
   "cell_type": "code",
   "execution_count": 21,
   "metadata": {},
   "outputs": [
    {
     "data": {
      "image/png": "[encoded data removed]",
      "text/plain": [
       "<Figure size 432x288 with 1 Axes>"
      ]
     },
     "metadata": {
      "needs_background": "light"
     },
     "output_type": "display_data"
    }
   ],
   "source": [
    "from scipy.interpolate import make_interp_spline, BSpline\n",
    "\n",
    "# Visualise the result\n",
    "\n",
    "result = np.block(derivatives)\n",
    "\n",
    "# 300 represents number of points to make between T.min and T.max\n",
    "xnew = np.linspace(result[:,0].min(), result[:,0].max(), interval*4)\n",
    "\n",
    "spl = make_interp_spline(result[:,0], result[:,75], k=3)  # type: BSpline\n",
    "power_smooth = spl(xnew)\n",
    "\n",
    "plt.plot(xnew, power_smooth)\n",
    "plt.show()"
   ]
  },
  {
   "cell_type": "code",
   "execution_count": 22,
   "metadata": {},
   "outputs": [],
   "source": [
    "prior = \"svss\"\n",
    "parameter = \"h0\"\n",
    "\n",
    "dump_to_disk = [derivatives, [xnew, power_smooth]]\n",
    "\n",
    "with open(f'../sensitivity/results_{M}_{prior}_{parameter}_{start}_{finish}_{interval}_huber.pkl\"', 'wb') as f:\n",
    "        pickle.dump(dump_to_disk, f, pickle.HIGHEST_PROTOCOL)"
   ]
  },
  {
   "cell_type": "markdown",
   "metadata": {},
   "source": [
    "# Horseshoe"
   ]
  },
  {
   "cell_type": "code",
   "execution_count": null,
   "metadata": {},
   "outputs": [],
   "source": [
    "# Check if the model, given the specific data, converges at all\n",
    "\n",
    "T = 243\n",
    "p = 1\n",
    "prior = \"horseshoe\"\n",
    "train = T - 25\n",
    "\n",
    "prior_parameters = {\"a0\":5, \"b0\":1}\n",
    "\n",
    "msfe, *_ = tvp_ar_contemp(T, M, p, train, X_matrix_contemp, y_matrix_contemp, prior, print_status=True, iterations=100, prior_parameters=prior_parameters)"
   ]
  },
  {
   "cell_type": "markdown",
   "metadata": {},
   "source": [
    "### Parameter -> $a_{0}$"
   ]
  },
  {
   "cell_type": "code",
   "execution_count": null,
   "metadata": {},
   "outputs": [],
   "source": [
    "def calculate_derivative_horseshoe_a0(iteration, parameter_value):\n",
    "    \n",
    "    prior = \"horseshoe\"\n",
    "    T = 243\n",
    "    p = 1\n",
    "    train = T-25\n",
    "    iterations = 150\n",
    "    \n",
    "    error = np.sqrt(1.1e-16)\n",
    "    prior_parameters_plus = {\"a0\":parameter_value+error,\"b0\":1}\n",
    "    prior_parameters_minus = {\"a0\":parameter_value-error,\"b0\":1}\n",
    "    \n",
    "    model_plus = tvp_ar_contemp_decomposition(T, M, p, train, X_matrix_contemp, y_matrix_contemp, prior, print_status=False, iterations=iterations, prior_parameters=prior_parameters_plus)\n",
    "    msfe_plus, *_, msfe_complete_plus, alpl_complete_plus = model_plus.result()\n",
    "    \n",
    "    model_minus = tvp_ar_contemp_decomposition(T, M, p, train, X_matrix_contemp, y_matrix_contemp, prior, print_status=False, iterations=iterations, prior_parameters=prior_parameters_minus)\n",
    "    msfe_minus, *_, msfe_complete_minus, alpl_complete_minus = model_minus.result()\n",
    "    \n",
    "    derivative_complete = (msfe_complete_plus.mean(0) - msfe_complete_minus.mean(0))/(2*error)\n",
    "    derivative_msfe = (msfe_plus.mean() - msfe_minus.mean())/(2*error)\n",
    "    derivative_h_step = (msfe_plus - msfe_minus)/(2*error)\n",
    "    \n",
    "    print(f'Run: {iteration+1} -> Derivative: {derivative_complete}')\n",
    "    \n",
    "    return [parameter_value, derivative_complete, derivative_msfe, derivative_h_step]"
   ]
  },
  {
   "cell_type": "code",
   "execution_count": null,
   "metadata": {},
   "outputs": [],
   "source": [
    "%%time\n",
    "import time\n",
    "import os\n",
    "from multiprocessing import Pool, Array\n",
    "\n",
    "# They are going to be some disgusting warnings for the first iterations of the model (has to do with initialization)\n",
    "import warnings\n",
    "warnings.filterwarnings(\"ignore\")\n",
    "\n",
    "# Set seed\n",
    "np.random.seed(12345)\n",
    "\n",
    "start = 4\n",
    "finish = 5\n",
    "interval = 256\n",
    "\n",
    "a0_set = [(i,value) for i, value in enumerate(np.linspace(start, finish, interval))]\n",
    "\n",
    "if __name__ == '__main__':\n",
    "    \n",
    "    pool = Pool()\n",
    "    derivatives = pool.starmap(calculate_derivative_horseshoe_a0, a0_set)"
   ]
  },
  {
   "cell_type": "code",
   "execution_count": null,
   "metadata": {},
   "outputs": [],
   "source": [
    "from scipy.interpolate import make_interp_spline, BSpline\n",
    "\n",
    "# Visualise the result\n",
    "\n",
    "result = np.block(derivatives)\n",
    "\n",
    "# 300 represents number of points to make between T.min and T.max\n",
    "xnew = np.linspace(result[:,0].min(), result[:,0].max(), interval*4) \n",
    "\n",
    "spl = make_interp_spline(result[:,0], result[:,1], k=3)  # type: BSpline\n",
    "power_smooth = spl(xnew)\n",
    "\n",
    "plt.plot(xnew, power_smooth)\n",
    "plt.show()"
   ]
  },
  {
   "cell_type": "code",
   "execution_count": null,
   "metadata": {},
   "outputs": [],
   "source": [
    "prior = \"horseshoe\"\n",
    "parameter = \"a0\"\n",
    "\n",
    "dump_to_disk = [derivatives, [xnew, power_smooth]]\n",
    "\n",
    "with open(f'../sensitivity/results_{M}_{prior}_{parameter}_{start}_{finish}_{interval}_vb_based_huber.pkl\"', 'wb') as f:\n",
    "        pickle.dump(dump_to_disk, f, pickle.HIGHEST_PROTOCOL)"
   ]
  },
  {
   "cell_type": "markdown",
   "metadata": {},
   "source": [
    "### Parameter -> $b_{0}$"
   ]
  },
  {
   "cell_type": "code",
   "execution_count": null,
   "metadata": {},
   "outputs": [],
   "source": [
    "def calculate_derivative_horseshoe_b0(iteration, parameter_value):\n",
    "    \n",
    "    prior = \"horseshoe\"\n",
    "    T = 243\n",
    "    p = 1\n",
    "    train = T-25\n",
    "    iterations = 100\n",
    "    \n",
    "    error = np.sqrt(1.1e-16)\n",
    "    prior_parameters_plus = {\"a0\":4,\"b0\":parameter_value+error}\n",
    "    prior_parameters_minus = {\"a0\":4,\"b0\":parameter_value-error}\n",
    "    \n",
    "    model_plus = tvp_ar_contemp_decomposition(T, M, p, train, X_matrix_contemp, y_matrix_contemp, prior, print_status=False, iterations=iterations, prior_parameters=prior_parameters_plus)\n",
    "    msfe_plus, *_, msfe_complete_plus, alpl_complete_plus = model_plus.result()\n",
    "    \n",
    "    model_minus = tvp_ar_contemp_decomposition(T, M, p, train, X_matrix_contemp, y_matrix_contemp, prior, print_status=False, iterations=iterations, prior_parameters=prior_parameters_minus)\n",
    "    msfe_minus, *_, msfe_complete_minus, alpl_complete_minus = model_minus.result()\n",
    "    \n",
    "    derivative_complete = (msfe_complete_plus.mean(0) - msfe_complete_minus.mean(0))/(2*error)\n",
    "    derivative_msfe = (msfe_plus.mean() - msfe_minus.mean())/(2*error)\n",
    "    derivative_h_step = (msfe_plus - msfe_minus)/(2*error)\n",
    "    \n",
    "    print(f'Run: {iteration+1} -> Derivative: {derivative_complete}')\n",
    "    \n",
    "    return [parameter_value, derivative_complete, derivative_msfe, derivative_h_step]"
   ]
  },
  {
   "cell_type": "code",
   "execution_count": null,
   "metadata": {},
   "outputs": [],
   "source": [
    "%%time\n",
    "import time\n",
    "import os\n",
    "from multiprocessing import Pool, Array\n",
    "\n",
    "# They are going to be some disgusting warnings for the first iterations of the model (has to do with initialization)\n",
    "import warnings\n",
    "warnings.filterwarnings(\"ignore\")\n",
    "\n",
    "# Set seed\n",
    "np.random.seed(12345)\n",
    "\n",
    "start = 1\n",
    "finish = 1.5\n",
    "interval = 256\n",
    "\n",
    "b0_set = [(i,value) for i, value in enumerate(np.linspace(start, finish, interval))]\n",
    "\n",
    "if __name__ == '__main__':\n",
    "    \n",
    "    pool = Pool()\n",
    "    derivatives = pool.starmap(calculate_derivative_horseshoe_b0, b0_set)"
   ]
  },
  {
   "cell_type": "code",
   "execution_count": null,
   "metadata": {},
   "outputs": [],
   "source": [
    "from scipy.interpolate import make_interp_spline, BSpline\n",
    "\n",
    "# Visualise the result\n",
    "\n",
    "result = np.block(derivatives)\n",
    "\n",
    "# 300 represents number of points to make between T.min and T.max\n",
    "xnew = np.linspace(result[:,0].min(), result[:,0].max(), interval*4) \n",
    "\n",
    "spl = make_interp_spline(result[:,0], result[:,7], k=3)  # type: BSpline\n",
    "power_smooth = spl(xnew)\n",
    "\n",
    "plt.plot(xnew, power_smooth)\n",
    "plt.show()"
   ]
  },
  {
   "cell_type": "code",
   "execution_count": null,
   "metadata": {},
   "outputs": [],
   "source": [
    "prior = \"horseshoe\"\n",
    "parameter = \"b0\"\n",
    "\n",
    "dump_to_disk = [derivatives, [xnew, power_smooth]]\n",
    "\n",
    "with open(f'../sensitivity/results_{M}_{prior}_{parameter}_{start}_{finish}_{interval}_vb_based_huber.pkl\"', 'wb') as f:\n",
    "        pickle.dump(dump_to_disk, f, pickle.HIGHEST_PROTOCOL)"
   ]
  }
 ],
 "metadata": {
  "kernelspec": {
   "display_name": "Python 3",
   "language": "python",
   "name": "python3"
  },
  "language_info": {
   "codemirror_mode": {
    "name": "ipython",
    "version": 3
   },
   "file_extension": ".py",
   "mimetype": "text/x-python",
   "name": "python",
   "nbconvert_exporter": "python",
   "pygments_lexer": "ipython3",
   "version": "3.7.6"
  }
 },
 "nbformat": 4,
 "nbformat_minor": 4
}
