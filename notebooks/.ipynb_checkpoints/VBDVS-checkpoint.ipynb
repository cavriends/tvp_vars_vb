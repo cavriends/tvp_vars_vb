{
 "cells": [
  {
   "cell_type": "code",
   "execution_count": 1,
   "metadata": {},
   "outputs": [],
   "source": [
    "#General libraries\n",
    "import numpy as np\n",
    "import pandas as pd\n",
    "import matplotlib.pyplot as plt\n",
    "from scipy.stats import norm, multivariate_normal\n",
    "from IPython.display import clear_output\n",
    "import time\n",
    "\n",
    "#Own code\n",
    "from utils.data_utils import create_data, create_dgp_data, transformation, standardize\n",
    "from utils.tvp_models import TVPVARModel\n",
    "\n",
    "# Suppress scientific notation in numpy\n",
    "np.set_printoptions(suppress=True)"
   ]
  },
  {
   "cell_type": "code",
   "execution_count": 2,
   "metadata": {},
   "outputs": [
    {
     "name": "stdout",
     "output_type": "stream",
     "text": [
      "k: 39\n"
     ]
    }
   ],
   "source": [
    "train = 200\n",
    "\n",
    "M = 3\n",
    "p = 4\n",
    "T = train - p\n",
    "k = M*(M*p+1)\n",
    "\n",
    "print(\"k: \" + str(k))\n",
    "\n",
    "np.random.seed(12345)"
   ]
  },
  {
   "cell_type": "code",
   "execution_count": 3,
   "metadata": {},
   "outputs": [],
   "source": [
    "ds = pd.read_csv(\"data/fred_qd.csv\")"
   ]
  },
  {
   "cell_type": "code",
   "execution_count": 4,
   "metadata": {},
   "outputs": [],
   "source": [
    "transform=True\n",
    "\n",
    "gdp = transformation(ds[\"GDPC1\"].iloc[2:].to_numpy(), 5, transform)\n",
    "cpi = transformation(ds[\"CPIAUCSL\"].iloc[2:].to_numpy(), 6, transform)\n",
    "fedfund = transformation(ds[\"FEDFUNDS\"].iloc[2:].to_numpy(), 2, transform)\n",
    "compi = transformation(ds[\"PPIACO\"].iloc[2:].to_numpy(), 6, transform)\n",
    "borrowings = transformation(ds[\"TOTRESNS\"].iloc[2:].to_numpy(), 6, transform)\n",
    "sp500 = transformation(ds[\"S&P 500\"].iloc[2:].to_numpy(), 5, transform)\n",
    "m2 = transformation(ds[\"M2REAL\"].iloc[2:].to_numpy(), 5, transform)\n",
    "\n",
    "series_total = [gdp, cpi, fedfund]\n",
    "#series_total = [gdp, cpi, fedfund, compi, borrowings , sp500, m2]"
   ]
  },
  {
   "cell_type": "code",
   "execution_count": 5,
   "metadata": {},
   "outputs": [],
   "source": [
    "standardized_series = standardize(series_total, train)"
   ]
  },
  {
   "cell_type": "code",
   "execution_count": 6,
   "metadata": {},
   "outputs": [],
   "source": [
    "# Create matrices from FED-QD\n",
    "X, y = create_data(standardized_series, train, T, M, p, k)"
   ]
  },
  {
   "cell_type": "code",
   "execution_count": 7,
   "metadata": {},
   "outputs": [],
   "source": [
    "# # SVSS\n",
    "# tvp_svss = TVPVARModel(X, y, p, train)\n",
    "# mt1t_svss, St1t_svss = tvp_svss.train(print_status=False)\n",
    "\n",
    "# # Horseshoe\n",
    "# tvp_horseshoe = TVPVARModel(X, y, p, train)\n",
    "# tvp_horseshoe.initialize_priors(prior='horseshoe')\n",
    "# mt1t_horseshoe, St1t_horseshoe = tvp_horseshoe.train(print_status=False)\n",
    "\n",
    "# # Lasso\n",
    "# tvp_lasso = TVPVARModel(X, y, p, train)\n",
    "# tvp_lasso = tvp_lasso.initialize_priors(prior='lasso')\n",
    "# mt1t_lasso, St1t_lasso = tvp_horseshoe.train(print_status=False)"
   ]
  },
  {
   "cell_type": "code",
   "execution_count": 8,
   "metadata": {},
   "outputs": [],
   "source": [
    "complete_T = cpi.shape[0]\n",
    "X_complete, y_complete = create_data(standardized_series, complete_T, complete_T-p, M, p, k)"
   ]
  },
  {
   "cell_type": "code",
   "execution_count": 9,
   "metadata": {},
   "outputs": [
    {
     "name": "stderr",
     "output_type": "stream",
     "text": [
      "/Users/cavriends/Dropbox/ESE/MSc Econometrics/Thesis/Bayesian VARs/Code/Jupyter/utils/tvp_models.py:201: RuntimeWarning: divide by zero encountered in true_divide\n",
      "  gamma         = 1/(np.multiply(1+(np.divide((1-self.pi0),self.pi0)),np.exp(l_0-l_1)))\n",
      "/Users/cavriends/Dropbox/ESE/MSc Econometrics/Thesis/Bayesian VARs/Code/Jupyter/utils/tvp_models.py:201: RuntimeWarning: invalid value encountered in true_divide\n",
      "  gamma         = 1/(np.multiply(1+(np.divide((1-self.pi0),self.pi0)),np.exp(l_0-l_1)))\n"
     ]
    }
   ],
   "source": [
    "tvp_svss = TVPVARModel(X_complete, y_complete, p, train)\n",
    "mt1t_svss, St1t_svss = tvp_svss.train(print_status=False)"
   ]
  },
  {
   "cell_type": "code",
   "execution_count": 10,
   "metadata": {},
   "outputs": [
    {
     "data": {
      "text/plain": [
       "'svss'"
      ]
     },
     "execution_count": 10,
     "metadata": {},
     "output_type": "execute_result"
    }
   ],
   "source": [
    "tvp_svss.prior"
   ]
  },
  {
   "cell_type": "code",
   "execution_count": 11,
   "metadata": {},
   "outputs": [
    {
     "data": {
      "text/plain": [
       "(241, 3, 39)"
      ]
     },
     "execution_count": 11,
     "metadata": {},
     "output_type": "execute_result"
    }
   ],
   "source": [
    "X_complete.shape"
   ]
  },
  {
   "cell_type": "code",
   "execution_count": 103,
   "metadata": {},
   "outputs": [],
   "source": [
    "tvp_lasso = TVPVARModel(X_complete, y_complete, p, train)\n",
    "tvp_lasso.initialize_priors(prior='svss')\n",
    "mt1t_lasso, St1t_lasso = tvp_lasso.train(print_status=False)"
   ]
  },
  {
   "cell_type": "code",
   "execution_count": 91,
   "metadata": {},
   "outputs": [
    {
     "data": {
      "text/plain": [
       "array([-2.97549152, -1.50042485, -1.06928701])"
      ]
     },
     "execution_count": 91,
     "metadata": {},
     "output_type": "execute_result"
    }
   ],
   "source": [
    "tvp_lasso.X[196]@mt1t_lasso[:,-1] "
   ]
  },
  {
   "cell_type": "code",
   "execution_count": 158,
   "metadata": {},
   "outputs": [],
   "source": [
    "mvn = multivariate_normal(mean=mt1t_lasso[:,-1], cov=St1t_lasso[:,:,-1], allow_singular=True)"
   ]
  },
  {
   "cell_type": "code",
   "execution_count": 172,
   "metadata": {},
   "outputs": [],
   "source": [
    "test = mvn.rvs(size=500000)"
   ]
  },
  {
   "cell_type": "code",
   "execution_count": 169,
   "metadata": {},
   "outputs": [],
   "source": [
    "forecasting_density = (tvp_lasso.X[196]@test.T)"
   ]
  },
  {
   "cell_type": "code",
   "execution_count": 176,
   "metadata": {},
   "outputs": [
    {
     "data": {
      "text/plain": [
       "(array([   1.,    0.,    1.,    0.,    2.,    0.,    0.,    0.,    1.,\n",
       "           0.,    1.,    0.,    1.,    1.,    2.,    0.,    3.,    3.,\n",
       "           3.,    6.,    1.,    6.,    5.,    4.,    5.,    6.,   13.,\n",
       "          11.,    9.,   15.,   18.,   11.,   18.,   25.,   11.,   19.,\n",
       "          13.,   26.,   30.,   42.,   46.,   54.,   85.,   78.,   76.,\n",
       "          74.,   77.,   78.,  100.,  118.,  127.,  161.,  155.,  145.,\n",
       "         184.,  229.,  226.,  234.,  269.,  284.,  298.,  358.,  332.,\n",
       "         409.,  369.,  431.,  487.,  527.,  504.,  588.,  573.,  696.,\n",
       "         669.,  667.,  755.,  779.,  846.,  872.,  918.,  985., 1041.,\n",
       "        1064., 1089., 1164., 1225., 1269., 1323., 1293., 1373., 1378.,\n",
       "        1396., 1464., 1449., 1487., 1511., 1504., 1523., 1605., 1572.,\n",
       "        1664., 1663., 1709., 1690., 1640., 1672., 1641., 1623., 1723.,\n",
       "        1667., 1687., 1628., 1575., 1609., 1554., 1413., 1473., 1474.,\n",
       "        1421., 1387., 1363., 1305., 1309., 1334., 1245., 1138., 1161.,\n",
       "        1111.,  987., 1047.,  941.,  978.,  878.,  899.,  807.,  738.,\n",
       "         669.,  679.,  610.,  657.,  592.,  535.,  516.,  481.,  416.,\n",
       "         429.,  344.,  341.,  342.,  316.,  256.,  236.,  243.,  199.,\n",
       "         212.,  169.,  169.,  147.,  151.,  106.,  131.,  109.,  109.,\n",
       "          81.,   86.,   63.,   75.,   50.,   48.,   53.,   38.,   40.,\n",
       "          27.,   23.,   29.,   17.,   20.,   10.,   22.,    5.,   11.,\n",
       "          10.,   13.,    9.,    1.,    4.,    8.,    4.,    8.,    2.,\n",
       "           4.,    4.,    2.,    1.,    1.,    1.,    0.,    1.,    2.,\n",
       "           0.,    3.]),\n",
       " array([-4.77568826, -4.75843255, -4.74117684, -4.72392114, -4.70666543,\n",
       "        -4.68940972, -4.67215401, -4.6548983 , -4.63764259, -4.62038689,\n",
       "        -4.60313118, -4.58587547, -4.56861976, -4.55136405, -4.53410835,\n",
       "        -4.51685264, -4.49959693, -4.48234122, -4.46508551, -4.4478298 ,\n",
       "        -4.4305741 , -4.41331839, -4.39606268, -4.37880697, -4.36155126,\n",
       "        -4.34429555, -4.32703985, -4.30978414, -4.29252843, -4.27527272,\n",
       "        -4.25801701, -4.24076131, -4.2235056 , -4.20624989, -4.18899418,\n",
       "        -4.17173847, -4.15448276, -4.13722706, -4.11997135, -4.10271564,\n",
       "        -4.08545993, -4.06820422, -4.05094851, -4.03369281, -4.0164371 ,\n",
       "        -3.99918139, -3.98192568, -3.96466997, -3.94741427, -3.93015856,\n",
       "        -3.91290285, -3.89564714, -3.87839143, -3.86113572, -3.84388002,\n",
       "        -3.82662431, -3.8093686 , -3.79211289, -3.77485718, -3.75760147,\n",
       "        -3.74034577, -3.72309006, -3.70583435, -3.68857864, -3.67132293,\n",
       "        -3.65406723, -3.63681152, -3.61955581, -3.6023001 , -3.58504439,\n",
       "        -3.56778868, -3.55053298, -3.53327727, -3.51602156, -3.49876585,\n",
       "        -3.48151014, -3.46425443, -3.44699873, -3.42974302, -3.41248731,\n",
       "        -3.3952316 , -3.37797589, -3.36072019, -3.34346448, -3.32620877,\n",
       "        -3.30895306, -3.29169735, -3.27444164, -3.25718594, -3.23993023,\n",
       "        -3.22267452, -3.20541881, -3.1881631 , -3.17090739, -3.15365169,\n",
       "        -3.13639598, -3.11914027, -3.10188456, -3.08462885, -3.06737314,\n",
       "        -3.05011744, -3.03286173, -3.01560602, -2.99835031, -2.9810946 ,\n",
       "        -2.9638389 , -2.94658319, -2.92932748, -2.91207177, -2.89481606,\n",
       "        -2.87756035, -2.86030465, -2.84304894, -2.82579323, -2.80853752,\n",
       "        -2.79128181, -2.7740261 , -2.7567704 , -2.73951469, -2.72225898,\n",
       "        -2.70500327, -2.68774756, -2.67049186, -2.65323615, -2.63598044,\n",
       "        -2.61872473, -2.60146902, -2.58421331, -2.56695761, -2.5497019 ,\n",
       "        -2.53244619, -2.51519048, -2.49793477, -2.48067906, -2.46342336,\n",
       "        -2.44616765, -2.42891194, -2.41165623, -2.39440052, -2.37714482,\n",
       "        -2.35988911, -2.3426334 , -2.32537769, -2.30812198, -2.29086627,\n",
       "        -2.27361057, -2.25635486, -2.23909915, -2.22184344, -2.20458773,\n",
       "        -2.18733202, -2.17007632, -2.15282061, -2.1355649 , -2.11830919,\n",
       "        -2.10105348, -2.08379778, -2.06654207, -2.04928636, -2.03203065,\n",
       "        -2.01477494, -1.99751923, -1.98026353, -1.96300782, -1.94575211,\n",
       "        -1.9284964 , -1.91124069, -1.89398498, -1.87672928, -1.85947357,\n",
       "        -1.84221786, -1.82496215, -1.80770644, -1.79045074, -1.77319503,\n",
       "        -1.75593932, -1.73868361, -1.7214279 , -1.70417219, -1.68691649,\n",
       "        -1.66966078, -1.65240507, -1.63514936, -1.61789365, -1.60063794,\n",
       "        -1.58338224, -1.56612653, -1.54887082, -1.53161511, -1.5143594 ,\n",
       "        -1.4971037 , -1.47984799, -1.46259228, -1.44533657, -1.42808086,\n",
       "        -1.41082515, -1.39356945, -1.37631374, -1.35905803, -1.34180232,\n",
       "        -1.32454661]),\n",
       " <a list of 200 Patch objects>)"
      ]
     },
     "execution_count": 176,
     "metadata": {},
     "output_type": "execute_result"
    },
    {
     "data": {
      "image/png": "[encoded data removed]",
      "text/plain": [
       "<Figure size 432x288 with 1 Axes>"
      ]
     },
     "metadata": {
      "needs_background": "light"
     },
     "output_type": "display_data"
    }
   ],
   "source": [
    "plt.hist(forecasting_density[0], bins=200)"
   ]
  },
  {
   "cell_type": "code",
   "execution_count": 178,
   "metadata": {},
   "outputs": [
    {
     "data": {
      "text/plain": [
       "array([-2.97549152, -1.50042485, -1.06928701])"
      ]
     },
     "execution_count": 178,
     "metadata": {},
     "output_type": "execute_result"
    }
   ],
   "source": [
    "tvp_lasso.X[196]@mt1t_lasso[:,-1]"
   ]
  },
  {
   "cell_type": "code",
   "execution_count": 179,
   "metadata": {},
   "outputs": [
    {
     "data": {
      "text/plain": [
       "-2.973407358491596"
      ]
     },
     "execution_count": 179,
     "metadata": {},
     "output_type": "execute_result"
    }
   ],
   "source": [
    "np.median(forecasting_density[0])"
   ]
  },
  {
   "cell_type": "code",
   "execution_count": 86,
   "metadata": {},
   "outputs": [
    {
     "data": {
      "text/plain": [
       "array([0.26436064, 0.35199176, 0.51628555, 0.6467324 , 0.59659313,\n",
       "       0.82699062, 1.06838994, 1.4000044 ])"
      ]
     },
     "execution_count": 86,
     "metadata": {},
     "output_type": "execute_result"
    }
   ],
   "source": [
    "tvp_lasso.calculate_msfe(8)"
   ]
  },
  {
   "cell_type": "code",
   "execution_count": 17,
   "metadata": {},
   "outputs": [
    {
     "data": {
      "text/plain": [
       "0.4228061423660028"
      ]
     },
     "execution_count": 17,
     "metadata": {},
     "output_type": "execute_result"
    }
   ],
   "source": [
    "np.mean((predictions[:,0,0]-y_complete[196:,0])**2)"
   ]
  },
  {
   "cell_type": "code",
   "execution_count": 13,
   "metadata": {},
   "outputs": [],
   "source": [
    "predictions = tvp_lasso.calculate_predictions(8)"
   ]
  },
  {
   "cell_type": "code",
   "execution_count": 21,
   "metadata": {},
   "outputs": [
    {
     "data": {
      "text/plain": [
       "array([-3.52435959, -1.64545947, -2.14470146, -0.31350577,  1.34285698,\n",
       "       -1.00848119, -0.73670551, -0.65372407, -0.26752467, -0.32557831,\n",
       "       -0.32302324, -1.20977412, -1.18051668, -0.67281291, -0.58585857,\n",
       "       -0.67803964, -0.195125  , -0.82168384, -1.54264872, -0.89144008,\n",
       "       -0.92601679, -0.69445856, -0.82483504, -1.10004419, -1.12325758,\n",
       "       -1.65520288, -0.81630854, -0.7489487 , -1.45703781, -1.25554782,\n",
       "       -0.75344903, -0.95676573, -0.81609622, -0.57931139, -1.29462399,\n",
       "       -0.71128229, -0.09698092, -0.75401537, -0.74382719, -0.55577814,\n",
       "       -0.61054747, -0.71157039, -0.37066023, -0.53933345, -0.37232188])"
      ]
     },
     "execution_count": 21,
     "metadata": {},
     "output_type": "execute_result"
    }
   ],
   "source": [
    "predictions[:,1,0]"
   ]
  },
  {
   "cell_type": "code",
   "execution_count": 51,
   "metadata": {},
   "outputs": [
    {
     "data": {
      "text/plain": [
       "[<matplotlib.lines.Line2D at 0x13d4c46d0>]"
      ]
     },
     "execution_count": 51,
     "metadata": {},
     "output_type": "execute_result"
    },
    {
     "data": {
      "image/png": "[encoded data removed]",
      "text/plain": [
       "<Figure size 432x288 with 1 Axes>"
      ]
     },
     "metadata": {
      "needs_background": "light"
     },
     "output_type": "display_data"
    }
   ],
   "source": [
    "plt.plot(predictions[:,0,0])\n",
    "plt.plot(y_complete[196:,0])"
   ]
  },
  {
   "cell_type": "code",
   "execution_count": 56,
   "metadata": {},
   "outputs": [],
   "source": [
    "tvp_test = TVPVARModel(X_complete, y_complete, p, 200)\n",
    "mt1t, St1t = tvp_test.train(print_status=False)"
   ]
  },
  {
   "cell_type": "code",
   "execution_count": 72,
   "metadata": {},
   "outputs": [
    {
     "data": {
      "text/plain": [
       "array([-2.97549152, -1.50042485, -1.06928701])"
      ]
     },
     "execution_count": 72,
     "metadata": {},
     "output_type": "execute_result"
    }
   ],
   "source": [
    "tvp_test.X[196]@mt1t[:,-1]"
   ]
  },
  {
   "cell_type": "code",
   "execution_count": 75,
   "metadata": {},
   "outputs": [
    {
     "data": {
      "text/plain": [
       "array([-2.97549152, -1.50042485, -1.06928701])"
      ]
     },
     "execution_count": 75,
     "metadata": {},
     "output_type": "execute_result"
    }
   ],
   "source": [
    "tvp_test.X[196]@mt1t[:,-1]"
   ]
  },
  {
   "cell_type": "code",
   "execution_count": 84,
   "metadata": {},
   "outputs": [
    {
     "data": {
      "text/plain": [
       "0.2643606407850807"
      ]
     },
     "execution_count": 84,
     "metadata": {},
     "output_type": "execute_result"
    }
   ],
   "source": [
    "np.mean((y_complete[196:] - predictions[:,:,0])**2)"
   ]
  },
  {
   "cell_type": "code",
   "execution_count": 33,
   "metadata": {},
   "outputs": [
    {
     "data": {
      "text/plain": [
       "0.5151178622047449"
      ]
     },
     "execution_count": 33,
     "metadata": {},
     "output_type": "execute_result"
    }
   ],
   "source": [
    "np.mean((predictions[:,0,0] - y_complete[196:,0])**2)"
   ]
  },
  {
   "cell_type": "code",
   "execution_count": null,
   "metadata": {},
   "outputs": [],
   "source": [
    "y_pred = np.empty((T,M))\n",
    "\n",
    "for m in range(M):\n",
    "\n",
    "    for t in range(T):\n",
    "\n",
    "        y_pred[t,m] = X[t,m,:]@mt1t_svss[:,t]"
   ]
  },
  {
   "cell_type": "code",
   "execution_count": null,
   "metadata": {},
   "outputs": [],
   "source": [
    "def calculate_predictions(total_h, current_X, mt1t):\n",
    "\n",
    "    prev_X = current_X\n",
    "\n",
    "    prev_pred = np.zeros((M,total_h))\n",
    "\n",
    "    for h in range(total_h):\n",
    "\n",
    "        prev_pred[:,h] = prev_X@mt1t[:,-1]\n",
    "        vec_X = prev_X[0,:(M*p+1)]\n",
    "\n",
    "        empty_X = np.zeros((M*p+1))\n",
    "        empty_X[0] = 1\n",
    "\n",
    "        for m in range(M):\n",
    "            empty_X[(m*p+2):((m+1)*p+1)] = vec_X[(m*p+1):((m+1)*p)]\n",
    "\n",
    "        vec_X = empty_X\n",
    "        vec_X[1::p] = prev_pred[:,h]\n",
    "\n",
    "        prev_X = np.zeros((M,k))\n",
    "        for m in range(M):\n",
    "            total_lags = M*p+1\n",
    "            prev_X[m,m*(total_lags):(m+1)*total_lags] = vec_X\n",
    "\n",
    "    return prev_pred"
   ]
  },
  {
   "cell_type": "code",
   "execution_count": null,
   "metadata": {},
   "outputs": [],
   "source": [
    "def calculate_msfe(X_complete, y_complete, p, train_begin=200, complete_T=243, total_h=8, prior='svss', prior_parameters={'tau_0':0.1, 'tau_1':10, 'pi0':0.5} ,homoskedastic=True):\n",
    "\n",
    "    y_pred = np.zeros((complete_T-train_begin,M,total_h))\n",
    "    counter = 0\n",
    "    MSFE_TVP = np.zeros(total_h)\n",
    "    for idx, t in enumerate(range(train_begin, complete_T)):\n",
    "\n",
    "        train_T = t-p\n",
    "        X_train = X_complete[:train_T]\n",
    "        y_train = y_complete[:train_T]\n",
    "        counter += 1\n",
    "        mt1t, St1t = tvp_var_vb(X_train, y_train, train_T, M, p, k, prior=prior, homoskedastic=homoskedastic, prior_parameters=prior_parameters, prior_default=False, print_status=False)\n",
    "\n",
    "        y_pred[idx] = calculate_predictions(total_h, X_complete[train_T], mt1t)\n",
    "    \n",
    "    for h in range(total_h):\n",
    "        if h == 0:\n",
    "            MSFE_TVP[h] = np.mean((y_complete[train_begin-p:]-y_pred[:,:,0])**2)\n",
    "        else:\n",
    "            MSFE_TVP[h] = np.mean((y_complete[train_begin-p+h:]-y_pred[:-h,:,h])**2)\n",
    "            \n",
    "    return MSFE_TVP"
   ]
  },
  {
   "cell_type": "code",
   "execution_count": null,
   "metadata": {},
   "outputs": [],
   "source": [
    "# for h in range(total_h):\n",
    "#     if h == 0:\n",
    "#         MSFE_TVP = np.mean((y_complete[train_begin-p:]-y_pred[:,:,0])**2)\n",
    "#         MSFE_RW = np.mean((y_complete[train_begin-p:]-y_complete[train_begin-p-1:-1])**2)\n",
    "#     else:\n",
    "#         MSFE_TVP = np.mean((y_complete[train_begin-p+h:]-y_pred[:-h,:,h])**2)\n",
    "#         MSFE_RW = np.mean((y_complete[train_begin-p:]-y_complete[train_begin-p-(h+1):-(h+1)])**2)\n",
    "              \n",
    "#     print(str(h+1) + \"-step ahead\" + \"\\n\" + \"MSFE TVP-VAR: \" + \"\\t\" + str(round(MSFE_TVP,4)) + \"\\n\" + \"MSFE RW: \" + \"\\t\" + str(round(MSFE_RW,4)) + \"\\n\" + \"Ratio: \" + str(round(MSFE_TVP/MSFE_RW,4)))"
   ]
  },
  {
   "cell_type": "code",
   "execution_count": null,
   "metadata": {},
   "outputs": [],
   "source": [
    "# %%time\n",
    "\n",
    "# lambda_values = np.arange(50,51,0.5)\n",
    "# derivative_values = np.zeros(lambda_values.shape[0])\n",
    "# error = np.sqrt(1.1e-16)\n",
    "\n",
    "# for idx, lambda_value in enumerate(lambda_values):\n",
    "                                   \n",
    "#     derivative_values[idx] = (calculate_msfe(X_complete, y_complete, p, prior='lasso', prior_parameters={'lambda_param':lambda_value+error})[0] - calculate_msfe(X_complete, y_complete, p, prior='lasso', prior_parameters={'lambda_param':lambda_value-error})[0])/(2*error)\n",
    "#     print(idx)"
   ]
  },
  {
   "cell_type": "code",
   "execution_count": null,
   "metadata": {},
   "outputs": [],
   "source": [
    "def insample_msfe(X_complete, y_complete, p, train_begin=200, complete_T=243, total_h=8, prior='svss', prior_parameters={'tau_0':0.1, 'tau_1':10, 'pi0':0.5} ,homoskedastic=True):\n",
    "    \n",
    "    M = X_complete.shape[1]\n",
    "    k = X_complete.shape[2]\n",
    "    \n",
    "    train_T = train_begin-p\n",
    "    X_train = X_complete[:train_T]\n",
    "    y_train = y_complete[:train_T]\n",
    "    \n",
    "    tvp_var = TVPVARModel(X_train, y_train)\n",
    "    tvp_var.initialize_priors(prior, prior_parameters, False)\n",
    "    mt1t, St1t = tvp_var.train(print_status=False)\n",
    "    \n",
    "    y_pred = np.empty((train_T,M))\n",
    "\n",
    "    for m in range(M):\n",
    "\n",
    "        for t in range(train_T):\n",
    "\n",
    "            y_pred[t,m] = X_train[t,m,:]@mt1t[:,t]\n",
    "            \n",
    "    msfe = np.mean((y_pred - y_complete[:train_T])**2)\n",
    "    \n",
    "    return msfe"
   ]
  },
  {
   "cell_type": "code",
   "execution_count": null,
   "metadata": {},
   "outputs": [],
   "source": []
  },
  {
   "cell_type": "code",
   "execution_count": null,
   "metadata": {},
   "outputs": [],
   "source": [
    "def point_prediction(X_complete, y_complete, p, train_begin=242, complete_T=243, prior='svss', prior_parameters={'tau_0':0.1, 'tau_1':10, 'pi0':0.5} ,homoskedastic=True):\n",
    "    \n",
    "    M = X_complete.shape[1]\n",
    "    k = X_complete.shape[2]\n",
    "    \n",
    "    train_T = train_begin-p\n",
    "    X_train = X_complete[:train_T]\n",
    "    y_train = y_complete[:train_T]\n",
    "    \n",
    "    tvp_var = TVPVARModel(X_train, y_train)\n",
    "    tvp_var.initialize_priors(prior, prior_parameters, False)\n",
    "    mt1t, St1t = tvp_var.train(print_status=False)\n",
    "    \n",
    "    y_pred = np.empty((train_T,M))\n",
    "\n",
    "    for m in range(M):\n",
    "\n",
    "        for t in range(train_T):\n",
    "\n",
    "            y_pred[t,m] = X_train[t,m,:]@mt1t[:,t]\n",
    "    \n",
    "    return y_pred"
   ]
  },
  {
   "cell_type": "code",
   "execution_count": null,
   "metadata": {},
   "outputs": [],
   "source": [
    "train_T = 242\n",
    "\n",
    "X_train = X_complete[:train_T]\n",
    "y_train = y_complete[:train_T]\n",
    "\n",
    "tvp_var = TVPVARModel(X_train, y_train)\n",
    "mt1t, St1t = tvp_var.train(print_status=False)\n",
    "\n"
   ]
  },
  {
   "cell_type": "code",
   "execution_count": null,
   "metadata": {},
   "outputs": [],
   "source": [
    "def point_prediction_full(X_complete, y_complete, p, prior='svss', prior_parameters={'tau_0':0.1, 'tau_1':10, 'pi0':0.5} ,homoskedastic=True):\n",
    "    \n",
    "    M = X_complete.shape[1]\n",
    "    k = X_complete.shape[2] \n",
    "    \n",
    "    X = X_complete[:-1]\n",
    "    y = y_complete[:-1]\n",
    "    \n",
    "    tvp_var = TVPVARModel(X, y)\n",
    "    tvp_var.initialize_priors(prior, prior_parameters, False)\n",
    "    mt1t, St1t = tvp_var.train(print_status=False)\n",
    "    \n",
    "    pred = np.zeros(M)\n",
    "    \n",
    "    for m in range(M):\n",
    "        pred[m] = X[-1,m,:]@mt1t[:,-1]\n",
    "        \n",
    "    return pred"
   ]
  },
  {
   "cell_type": "code",
   "execution_count": null,
   "metadata": {},
   "outputs": [],
   "source": [
    "import os\n",
    "\n",
    "def calculate_derivative (parameter_value):\n",
    "    error = np.sqrt(1.1e-16)\n",
    "    derivative = (calculate_msfe(X_complete, y_complete, p, prior='lasso', prior_parameters={'lambda_param':parameter_value+error})[0] - calculate_msfe(X_complete, y_complete, p, prior='lasso', prior_parameters={'lambda_param':parameter_value-error})[0])/(2*error)\n",
    "    print('lambda: ' + str(parameter_value) + \" is done!\" + \"\\n\" + \"process ID: \" + str(os.getpid()))\n",
    "    return derivative"
   ]
  },
  {
   "cell_type": "code",
   "execution_count": null,
   "metadata": {},
   "outputs": [],
   "source": [
    "%%time\n",
    "import os\n",
    "from multiprocessing import Pool, Array\n",
    "\n",
    "lambda_values = np.arange(50,51,0.20)\n",
    "\n",
    "if __name__ == '__main__':\n",
    "    \n",
    "    pool = Pool()\n",
    "    derivatives = pool.map(calculate_derivative, lambda_values)"
   ]
  },
  {
   "cell_type": "code",
   "execution_count": null,
   "metadata": {},
   "outputs": [],
   "source": [
    "import pickle\n",
    "\n",
    "with open('derivatives.pkl', 'wb') as f:\n",
    "    pickle.dump(derivatives, f, pickle.HIGHEST_PROTOCOL)"
   ]
  },
  {
   "cell_type": "code",
   "execution_count": null,
   "metadata": {},
   "outputs": [],
   "source": [
    "def calculate_derivative_insample (parameter_value):\n",
    "    error = np.sqrt(1.1e-16)\n",
    "    derivative = (insample_msfe(X_complete, y_complete, p, prior='lasso', prior_parameters={'lambda_param':parameter_value+error}) - insample_msfe(X_complete, y_complete, p, prior='lasso', prior_parameters={'lambda_param':parameter_value-error}))/(2*error)\n",
    "    return derivative"
   ]
  },
  {
   "cell_type": "code",
   "execution_count": null,
   "metadata": {},
   "outputs": [],
   "source": [
    "%%time\n",
    "import os\n",
    "from multiprocessing import Pool, Array\n",
    "from functools import partial\n",
    "\n",
    "lambda_values = np.arange(50,51,0.025)\n",
    "print(lambda_values.shape[0])\n",
    "\n",
    "if __name__ == '__main__':\n",
    "    \n",
    "    pool = Pool()\n",
    "    derivatives = pool.map(calculate_derivative_insample, lambda_values)"
   ]
  },
  {
   "cell_type": "code",
   "execution_count": null,
   "metadata": {},
   "outputs": [],
   "source": [
    "plt.plot(lambda_values, derivatives)"
   ]
  },
  {
   "cell_type": "code",
   "execution_count": null,
   "metadata": {},
   "outputs": [],
   "source": [
    "def calculate_derivative_point_gdp(parameter_value):\n",
    "    error = np.sqrt(1.1e-16)\n",
    "    derivative = (point_prediction_full(X_complete, y_complete, p, 'lasso', {'lambda_param':parameter_value+error})[0] - point_prediction_full(X_complete, y_complete, p, 'lasso', {'lambda_param':parameter_value-error})[0])/(2*error)\n",
    "    return derivative"
   ]
  },
  {
   "cell_type": "code",
   "execution_count": null,
   "metadata": {},
   "outputs": [],
   "source": []
  },
  {
   "cell_type": "code",
   "execution_count": null,
   "metadata": {},
   "outputs": [],
   "source": [
    "calculate_derivative_point_gdp(50)"
   ]
  },
  {
   "cell_type": "code",
   "execution_count": null,
   "metadata": {},
   "outputs": [],
   "source": [
    "%%time\n",
    "import os\n",
    "from multiprocessing import Pool, Array\n",
    "from functools import partial\n",
    "\n",
    "lambda_values = np.arange(30,400,0.50)\n",
    "print(lambda_values.shape[0])\n",
    "\n",
    "if __name__ == '__main__':\n",
    "    \n",
    "    pool = Pool()\n",
    "    derivatives = pool.map(calculate_derivative_point_gdp, lambda_values)"
   ]
  },
  {
   "cell_type": "code",
   "execution_count": null,
   "metadata": {},
   "outputs": [],
   "source": [
    "plt.plot(lambda_values, derivatives)"
   ]
  },
  {
   "cell_type": "code",
   "execution_count": null,
   "metadata": {},
   "outputs": [],
   "source": [
    "import pickle\n",
    "\n",
    "with open('derivatives.pkl', 'wb') as f:\n",
    "    pickle.dump(derivatives, f, pickle.HIGHEST_PROTOCOL)"
   ]
  },
  {
   "cell_type": "code",
   "execution_count": null,
   "metadata": {},
   "outputs": [],
   "source": []
  }
 ],
 "metadata": {
  "kernelspec": {
   "display_name": "Python 3",
   "language": "python",
   "name": "python3"
  },
  "language_info": {
   "codemirror_mode": {
    "name": "ipython",
    "version": 3
   },
   "file_extension": ".py",
   "mimetype": "text/x-python",
   "name": "python",
   "nbconvert_exporter": "python",
   "pygments_lexer": "ipython3",
   "version": "3.7.6"
  }
 },
 "nbformat": 4,
 "nbformat_minor": 4
}
