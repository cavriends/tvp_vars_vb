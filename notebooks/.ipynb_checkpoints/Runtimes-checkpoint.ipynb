{
 "cells": [
  {
   "cell_type": "code",
   "execution_count": null,
   "metadata": {},
   "outputs": [],
   "source": [
    "%matplotlib inline\n",
    "import time\n",
    "import sys\n",
    "import pandas as pd\n",
    "import numpy as np\n",
    "import matplotlib.pyplot as plt\n",
    "from scipy.stats import norm, multivariate_normal\n",
    "from scipy import io\n",
    "import pickle\n",
    "\n",
    "# Own code\n",
    "sys.path.append(\"../\")\n",
    "from utils.data_utils import generate_dgp_tvp_var, generate_matrices, generate_contemp_matrices\n",
    "from utils.tvp_models import TVPVARModel, tvp_ar_contemp, tvp_ar_non_contemp\n",
    "\n",
    "# Suppress scientific notation in numpy\n",
    "np.set_printoptions(suppress=True)"
   ]
  },
  {
   "cell_type": "code",
   "execution_count": null,
   "metadata": {},
   "outputs": [],
   "source": [
    "def multiprocessing_run(prior, M):\n",
    "    \n",
    "    import time\n",
    "    import os\n",
    "    from multiprocessing import Pool, Array\n",
    "\n",
    "    # They are going to be some disgusting warnings for the first iterations of the model (has to do with initialization)\n",
    "    import warnings\n",
    "    warnings.filterwarnings(\"ignore\")\n",
    "\n",
    "    np.random.seed(12345)\n",
    "    n_iterations = 16\n",
    "\n",
    "    iterations_set = np.arange(1,n_iterations+1,1)\n",
    "    M = (M,)\n",
    "    prior_list = [prior]#, \"lasso_alternative\", \"horseshoe\"]\n",
    "    args_tuples = [x for sub_list in [x for sub_list in [[[(n, m, prior) for n in iterations_set] for m in M] for prior in prior_list] for x in sub_list] for x in sub_list]\n",
    "\n",
    "    if __name__ == '__main__':\n",
    "\n",
    "        pool = Pool()\n",
    "        simulation_results = pool.starmap(simulation_run, args_tuples)"
   ]
  },
  {
   "cell_type": "markdown",
   "metadata": {},
   "source": [
    "#### M = 3, $p_{0} = 0.40$ and $T = 200$"
   ]
  },
  {
   "cell_type": "code",
   "execution_count": null,
   "metadata": {},
   "outputs": [],
   "source": [
    "M = 3"
   ]
  },
  {
   "cell_type": "code",
   "execution_count": null,
   "metadata": {},
   "outputs": [],
   "source": [
    "def simulation_run(run, M, prior):\n",
    "    \n",
    "    start_time = time.time()\n",
    "    \n",
    "    # Fixed for simulation\n",
    "    T = 200\n",
    "    p = 1\n",
    "    train = 175\n",
    "    sparsity = 0.40\n",
    "    \n",
    "    y = np.loadtxt(f'../simulations/datasets/y_{M}_{T}_{p}_{sparsity}_{run}_het_py.csv', delimiter=\",\")\n",
    "    coefficients = np.loadtxt(f'../simulations/datasets/coefficients_{M}_{T}_{p}_{sparsity}_{run}_het_py.csv', delimiter=\",\")\n",
    "    \n",
    "    y_matrix_contemp, X_matrix_contemp = generate_contemp_matrices(T, M, p, y)\n",
    "    \n",
    "    # Contemperanous values added \n",
    "    msfe_contemp, alpl_contemp, mt1t_full_contemp, mt1t_coeff_contemp, sigma_contemp, ar_model = tvp_ar_contemp(T, M, p, train, X_matrix_contemp, y_matrix_contemp, prior, print_status=False, iterations=100)\n",
    "    msd_contemp = np.mean((mt1t_coeff_contemp - coefficients[:,1:train])**2)\n",
    "    \n",
    "    elapsed_time = time.time() - start_time\n",
    "    \n",
    "    print(f'Run: {run}, M: {M} & prior: {prior} -> MSD: {msd_contemp} | MSFE: {msfe_contemp.mean()} | ALPL: {alpl_contemp.mean()} | elapsed time: {round(elapsed_time,6)}')\n",
    "    \n",
    "    return [msfe_contemp, alpl_contemp, msd_contemp, M, prior]"
   ]
  },
  {
   "cell_type": "code",
   "execution_count": null,
   "metadata": {},
   "outputs": [],
   "source": [
    "%%time\n",
    "multiprocessing_run(\"svss\",M)"
   ]
  },
  {
   "cell_type": "code",
   "execution_count": null,
   "metadata": {},
   "outputs": [],
   "source": [
    "%%time\n",
    "multiprocessing_run(\"lasso_alternative\",M)"
   ]
  },
  {
   "cell_type": "code",
   "execution_count": null,
   "metadata": {},
   "outputs": [],
   "source": [
    "%%time\n",
    "multiprocessing_run(\"horseshoe\",M)"
   ]
  },
  {
   "cell_type": "markdown",
   "metadata": {},
   "source": [
    "#### M = 3, $p_{0} = 0.20$ and $T = 200$"
   ]
  },
  {
   "cell_type": "code",
   "execution_count": null,
   "metadata": {},
   "outputs": [],
   "source": [
    "def simulation_run(run, M, prior):\n",
    "    \n",
    "    start_time = time.time()\n",
    "    \n",
    "    # Fixed for simulation\n",
    "    T = 200\n",
    "    p = 1\n",
    "    train = 175\n",
    "    sparsity = 0.20\n",
    "    \n",
    "    y = np.loadtxt(f'../simulations/datasets/y_{M}_{T}_{p}_{sparsity}_{run}_het_py.csv', delimiter=\",\")\n",
    "    coefficients = np.loadtxt(f'../simulations/datasets/coefficients_{M}_{T}_{p}_{sparsity}_{run}_het_py.csv', delimiter=\",\")\n",
    "    \n",
    "    y_matrix_contemp, X_matrix_contemp = generate_contemp_matrices(T, M, p, y)\n",
    "    \n",
    "    # Contemperanous values added \n",
    "    msfe_contemp, alpl_contemp, mt1t_full_contemp, mt1t_coeff_contemp, sigma_contemp, ar_model = tvp_ar_contemp(T, M, p, train, X_matrix_contemp, y_matrix_contemp, prior, print_status=False, iterations=100)\n",
    "    msd_contemp = np.mean((mt1t_coeff_contemp - coefficients[:,1:train])**2)\n",
    "    \n",
    "    elapsed_time = time.time() - start_time\n",
    "    \n",
    "    print(f'Run: {run}, M: {M} & prior: {prior} -> MSD: {msd_contemp} | MSFE: {msfe_contemp.mean()} | ALPL: {alpl_contemp.mean()} | elapsed time: {round(elapsed_time,6)}')\n",
    "    \n",
    "    return [msfe_contemp, alpl_contemp, msd_contemp, M, prior]"
   ]
  },
  {
   "cell_type": "code",
   "execution_count": null,
   "metadata": {},
   "outputs": [],
   "source": [
    "multiprocessing_run(\"svss\",M)"
   ]
  },
  {
   "cell_type": "code",
   "execution_count": null,
   "metadata": {},
   "outputs": [],
   "source": [
    "multiprocessing_run(\"lasso_alternative\",M)"
   ]
  },
  {
   "cell_type": "code",
   "execution_count": null,
   "metadata": {},
   "outputs": [],
   "source": [
    "multiprocessing_run(\"horseshoe\",M)"
   ]
  },
  {
   "cell_type": "markdown",
   "metadata": {},
   "source": [
    "#### M = 3, $p_{0} = 0.40$ and $T = 100$"
   ]
  },
  {
   "cell_type": "code",
   "execution_count": null,
   "metadata": {},
   "outputs": [],
   "source": [
    "def simulation_run(run, M, prior):\n",
    "    \n",
    "    start_time = time.time()\n",
    "    \n",
    "    # Fixed for simulation\n",
    "    T = 100\n",
    "    p = 1\n",
    "    train = 75\n",
    "    sparsity = 0.40\n",
    "    \n",
    "    y = np.loadtxt(f'../simulations/datasets/y_{M}_{T}_{p}_{sparsity}_{run}_het_py.csv', delimiter=\",\")\n",
    "    coefficients = np.loadtxt(f'../simulations/datasets/coefficients_{M}_{T}_{p}_{sparsity}_{run}_het_py.csv', delimiter=\",\")\n",
    "    \n",
    "    y_matrix_contemp, X_matrix_contemp = generate_contemp_matrices(T, M, p, y)\n",
    "    \n",
    "    # Contemperanous values added \n",
    "    msfe_contemp, alpl_contemp, mt1t_full_contemp, mt1t_coeff_contemp, sigma_contemp, ar_model = tvp_ar_contemp(T, M, p, train, X_matrix_contemp, y_matrix_contemp, prior, print_status=False, iterations=100)\n",
    "    msd_contemp = np.mean((mt1t_coeff_contemp - coefficients[:,1:train])**2)\n",
    "    \n",
    "    elapsed_time = time.time() - start_time\n",
    "    \n",
    "    print(f'Run: {run}, M: {M} & prior: {prior} -> MSD: {msd_contemp} | MSFE: {msfe_contemp.mean()} | ALPL: {alpl_contemp.mean()} | elapsed time: {round(elapsed_time,6)}')\n",
    "    \n",
    "    return [msfe_contemp, alpl_contemp, msd_contemp, M, prior]"
   ]
  },
  {
   "cell_type": "code",
   "execution_count": null,
   "metadata": {},
   "outputs": [],
   "source": [
    "multiprocessing_run(\"svss\",M)"
   ]
  },
  {
   "cell_type": "code",
   "execution_count": null,
   "metadata": {},
   "outputs": [],
   "source": [
    "multiprocessing_run(\"lasso_alternative\",M)"
   ]
  },
  {
   "cell_type": "code",
   "execution_count": null,
   "metadata": {},
   "outputs": [],
   "source": [
    "multiprocessing_run(\"horseshoe\",M)"
   ]
  },
  {
   "cell_type": "markdown",
   "metadata": {},
   "source": [
    "#### M = 3, $p_{0} = 0.20$ and $T = 100$"
   ]
  },
  {
   "cell_type": "code",
   "execution_count": null,
   "metadata": {},
   "outputs": [],
   "source": [
    "def simulation_run(run, M, prior):\n",
    "    \n",
    "    start_time = time.time()\n",
    "    \n",
    "    # Fixed for simulation\n",
    "    T = 100\n",
    "    p = 1\n",
    "    train = 75\n",
    "    sparsity = 0.20\n",
    "    \n",
    "    y = np.loadtxt(f'../simulations/datasets/y_{M}_{T}_{p}_{sparsity}_{run}_het_py.csv', delimiter=\",\")\n",
    "    coefficients = np.loadtxt(f'../simulations/datasets/coefficients_{M}_{T}_{p}_{sparsity}_{run}_het_py.csv', delimiter=\",\")\n",
    "    \n",
    "    y_matrix_contemp, X_matrix_contemp = generate_contemp_matrices(T, M, p, y)\n",
    "    \n",
    "    # Contemperanous values added \n",
    "    msfe_contemp, alpl_contemp, mt1t_full_contemp, mt1t_coeff_contemp, sigma_contemp, ar_model = tvp_ar_contemp(T, M, p, train, X_matrix_contemp, y_matrix_contemp, prior, print_status=False, iterations=100)\n",
    "    msd_contemp = np.mean((mt1t_coeff_contemp - coefficients[:,1:train])**2)\n",
    "    \n",
    "    elapsed_time = time.time() - start_time\n",
    "    \n",
    "    print(f'Run: {run}, M: {M} & prior: {prior} -> MSD: {msd_contemp} | MSFE: {msfe_contemp.mean()} | ALPL: {alpl_contemp.mean()} | elapsed time: {round(elapsed_time,6)}')\n",
    "    \n",
    "    return [msfe_contemp, alpl_contemp, msd_contemp, M, prior]"
   ]
  },
  {
   "cell_type": "code",
   "execution_count": null,
   "metadata": {},
   "outputs": [],
   "source": [
    "multiprocessing_run(\"svss\",M)"
   ]
  },
  {
   "cell_type": "code",
   "execution_count": null,
   "metadata": {},
   "outputs": [],
   "source": [
    "multiprocessing_run(\"lasso_alternative\",M)"
   ]
  },
  {
   "cell_type": "code",
   "execution_count": null,
   "metadata": {},
   "outputs": [],
   "source": [
    "multiprocessing_run(\"horseshoe\",M)"
   ]
  },
  {
   "cell_type": "markdown",
   "metadata": {},
   "source": [
    "#### M = 7, $p_{0} = 0.40$ and $T = 200$"
   ]
  },
  {
   "cell_type": "code",
   "execution_count": null,
   "metadata": {},
   "outputs": [],
   "source": [
    "M = 7"
   ]
  },
  {
   "cell_type": "code",
   "execution_count": null,
   "metadata": {},
   "outputs": [],
   "source": [
    "def simulation_run(run, M, prior):\n",
    "    \n",
    "    start_time = time.time()\n",
    "    \n",
    "    # Fixed for simulation\n",
    "    T = 200\n",
    "    p = 1\n",
    "    train = 175\n",
    "    sparsity = 0.40\n",
    "    \n",
    "    y = np.loadtxt(f'../simulations/datasets/y_{M}_{T}_{p}_{sparsity}_{run}_het_py.csv', delimiter=\",\")\n",
    "    coefficients = np.loadtxt(f'../simulations/datasets/coefficients_{M}_{T}_{p}_{sparsity}_{run}_het_py.csv', delimiter=\",\")\n",
    "    \n",
    "    y_matrix_contemp, X_matrix_contemp = generate_contemp_matrices(T, M, p, y)\n",
    "    \n",
    "    # Contemperanous values added \n",
    "    msfe_contemp, alpl_contemp, mt1t_full_contemp, mt1t_coeff_contemp, sigma_contemp, ar_model = tvp_ar_contemp(T, M, p, train, X_matrix_contemp, y_matrix_contemp, prior, print_status=False, iterations=100)\n",
    "    msd_contemp = np.mean((mt1t_coeff_contemp - coefficients[:,1:train])**2)\n",
    "    \n",
    "    elapsed_time = time.time() - start_time\n",
    "    \n",
    "    print(f'Run: {run}, M: {M} & prior: {prior} -> MSD: {msd_contemp} | MSFE: {msfe_contemp.mean()} | ALPL: {alpl_contemp.mean()} | elapsed time: {round(elapsed_time,6)}')\n",
    "    \n",
    "    return [msfe_contemp, alpl_contemp, msd_contemp, M, prior]"
   ]
  },
  {
   "cell_type": "code",
   "execution_count": null,
   "metadata": {},
   "outputs": [],
   "source": [
    "multiprocessing_run(\"svss\",M)"
   ]
  },
  {
   "cell_type": "code",
   "execution_count": null,
   "metadata": {},
   "outputs": [],
   "source": [
    "multiprocessing_run(\"lasso_alternative\",M)"
   ]
  },
  {
   "cell_type": "code",
   "execution_count": null,
   "metadata": {},
   "outputs": [],
   "source": [
    "multiprocessing_run(\"horseshoe\",M)"
   ]
  },
  {
   "cell_type": "markdown",
   "metadata": {},
   "source": [
    "#### M = 7, $p_{0} = 0.20$ and $T = 200$"
   ]
  },
  {
   "cell_type": "code",
   "execution_count": null,
   "metadata": {},
   "outputs": [],
   "source": [
    "def simulation_run(run, M, prior):\n",
    "    \n",
    "    start_time = time.time()\n",
    "    \n",
    "    # Fixed for simulation\n",
    "    T = 200\n",
    "    p = 1\n",
    "    train = 175\n",
    "    sparsity = 0.20\n",
    "    \n",
    "    y = np.loadtxt(f'../simulations/datasets/y_{M}_{T}_{p}_{sparsity}_{run}_het_py.csv', delimiter=\",\")\n",
    "    coefficients = np.loadtxt(f'../simulations/datasets/coefficients_{M}_{T}_{p}_{sparsity}_{run}_het_py.csv', delimiter=\",\")\n",
    "    \n",
    "    y_matrix_contemp, X_matrix_contemp = generate_contemp_matrices(T, M, p, y)\n",
    "    \n",
    "    # Contemperanous values added \n",
    "    msfe_contemp, alpl_contemp, mt1t_full_contemp, mt1t_coeff_contemp, sigma_contemp, ar_model = tvp_ar_contemp(T, M, p, train, X_matrix_contemp, y_matrix_contemp, prior, print_status=False, iterations=100)\n",
    "    msd_contemp = np.mean((mt1t_coeff_contemp - coefficients[:,1:train])**2)\n",
    "    \n",
    "    elapsed_time = time.time() - start_time\n",
    "    \n",
    "    print(f'Run: {run}, M: {M} & prior: {prior} -> MSD: {msd_contemp} | MSFE: {msfe_contemp.mean()} | ALPL: {alpl_contemp.mean()} | elapsed time: {round(elapsed_time,6)}')\n",
    "    \n",
    "    return [msfe_contemp, alpl_contemp, msd_contemp, M, prior]"
   ]
  },
  {
   "cell_type": "code",
   "execution_count": null,
   "metadata": {},
   "outputs": [],
   "source": [
    "multiprocessing_run(\"svss\",M)"
   ]
  },
  {
   "cell_type": "code",
   "execution_count": null,
   "metadata": {},
   "outputs": [],
   "source": [
    "multiprocessing_run(\"lasso_alternative\",M)"
   ]
  },
  {
   "cell_type": "code",
   "execution_count": null,
   "metadata": {},
   "outputs": [],
   "source": [
    "multiprocessing_run(\"horseshoe\",M)"
   ]
  },
  {
   "cell_type": "markdown",
   "metadata": {},
   "source": [
    "#### M = 7, $p_{0} = 0.40$ and $T = 100$"
   ]
  },
  {
   "cell_type": "code",
   "execution_count": null,
   "metadata": {},
   "outputs": [],
   "source": [
    "def simulation_run(run, M, prior):\n",
    "    \n",
    "    start_time = time.time()\n",
    "    \n",
    "    # Fixed for simulation\n",
    "    T = 100\n",
    "    p = 1\n",
    "    train = 75\n",
    "    sparsity = 0.40\n",
    "    \n",
    "    y = np.loadtxt(f'../simulations/datasets/y_{M}_{T}_{p}_{sparsity}_{run}_het_py.csv', delimiter=\",\")\n",
    "    coefficients = np.loadtxt(f'../simulations/datasets/coefficients_{M}_{T}_{p}_{sparsity}_{run}_het_py.csv', delimiter=\",\")\n",
    "    \n",
    "    y_matrix_contemp, X_matrix_contemp = generate_contemp_matrices(T, M, p, y)\n",
    "    \n",
    "    # Contemperanous values added \n",
    "    msfe_contemp, alpl_contemp, mt1t_full_contemp, mt1t_coeff_contemp, sigma_contemp, ar_model = tvp_ar_contemp(T, M, p, train, X_matrix_contemp, y_matrix_contemp, prior, print_status=False, iterations=100)\n",
    "    msd_contemp = np.mean((mt1t_coeff_contemp - coefficients[:,1:train])**2)\n",
    "    \n",
    "    elapsed_time = time.time() - start_time\n",
    "    \n",
    "    print(f'Run: {run}, M: {M} & prior: {prior} -> MSD: {msd_contemp} | MSFE: {msfe_contemp.mean()} | ALPL: {alpl_contemp.mean()} | elapsed time: {round(elapsed_time,6)}')\n",
    "    \n",
    "    return [msfe_contemp, alpl_contemp, msd_contemp, M, prior]"
   ]
  },
  {
   "cell_type": "code",
   "execution_count": null,
   "metadata": {},
   "outputs": [],
   "source": [
    "multiprocessing_run(\"svss\",M)"
   ]
  },
  {
   "cell_type": "code",
   "execution_count": null,
   "metadata": {},
   "outputs": [],
   "source": [
    "multiprocessing_run(\"lasso_alternative\",M)"
   ]
  },
  {
   "cell_type": "code",
   "execution_count": null,
   "metadata": {},
   "outputs": [],
   "source": [
    "multiprocessing_run(\"horseshoe\",M)"
   ]
  },
  {
   "cell_type": "markdown",
   "metadata": {},
   "source": [
    "#### M = 7, $p_{0} = 0.20$ and $T = 100$"
   ]
  },
  {
   "cell_type": "code",
   "execution_count": null,
   "metadata": {},
   "outputs": [],
   "source": [
    "def simulation_run(run, M, prior):\n",
    "    \n",
    "    start_time = time.time()\n",
    "    \n",
    "    # Fixed for simulation\n",
    "    T = 100\n",
    "    p = 1\n",
    "    train = 75\n",
    "    sparsity = 0.20\n",
    "    \n",
    "    y = np.loadtxt(f'../simulations/datasets/y_{M}_{T}_{p}_{sparsity}_{run}_het_py.csv', delimiter=\",\")\n",
    "    coefficients = np.loadtxt(f'../simulations/datasets/coefficients_{M}_{T}_{p}_{sparsity}_{run}_het_py.csv', delimiter=\",\")\n",
    "    \n",
    "    y_matrix_contemp, X_matrix_contemp = generate_contemp_matrices(T, M, p, y)\n",
    "    \n",
    "    # Contemperanous values added \n",
    "    msfe_contemp, alpl_contemp, mt1t_full_contemp, mt1t_coeff_contemp, sigma_contemp, ar_model = tvp_ar_contemp(T, M, p, train, X_matrix_contemp, y_matrix_contemp, prior, print_status=False, iterations=100)\n",
    "    msd_contemp = np.mean((mt1t_coeff_contemp - coefficients[:,1:train])**2)\n",
    "    \n",
    "    elapsed_time = time.time() - start_time\n",
    "    \n",
    "    print(f'Run: {run}, M: {M} & prior: {prior} -> MSD: {msd_contemp} | MSFE: {msfe_contemp.mean()} | ALPL: {alpl_contemp.mean()} | elapsed time: {round(elapsed_time,6)}')\n",
    "    \n",
    "    return [msfe_contemp, alpl_contemp, msd_contemp, M, prior]"
   ]
  },
  {
   "cell_type": "code",
   "execution_count": null,
   "metadata": {},
   "outputs": [],
   "source": [
    "multiprocessing_run(\"svss\",M)"
   ]
  },
  {
   "cell_type": "code",
   "execution_count": null,
   "metadata": {},
   "outputs": [],
   "source": [
    "multiprocessing_run(\"lasso_alternative\",M)"
   ]
  },
  {
   "cell_type": "code",
   "execution_count": null,
   "metadata": {},
   "outputs": [],
   "source": [
    "multiprocessing_run(\"horseshoe\",M)"
   ]
  }
 ],
 "metadata": {
  "kernelspec": {
   "display_name": "Python 3",
   "language": "python",
   "name": "python3"
  },
  "language_info": {
   "codemirror_mode": {
    "name": "ipython",
    "version": 3
   },
   "file_extension": ".py",
   "mimetype": "text/x-python",
   "name": "python",
   "nbconvert_exporter": "python",
   "pygments_lexer": "ipython3",
   "version": "3.7.6"
  }
 },
 "nbformat": 4,
 "nbformat_minor": 4
}
