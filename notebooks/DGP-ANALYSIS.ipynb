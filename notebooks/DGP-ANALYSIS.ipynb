{
 "cells": [
  {
   "cell_type": "code",
   "execution_count": 30,
   "metadata": {},
   "outputs": [],
   "source": [
    "import pickle5 as pickle\n",
    "import numpy as np\n",
    "\n",
    "T = 100\n",
    "p = 1\n",
    "n_iterations = 200\n",
    "prior = \"horseshoe\"\n",
    "sparsity = 0.05"
   ]
  },
  {
   "cell_type": "code",
   "execution_count": 31,
   "metadata": {},
   "outputs": [],
   "source": [
    "\n",
    "with open(f'../simulations/results/statistics_{T}_{p}_{n_iterations}_{prior}_{sparsity}.pkl', 'rb') as f:\n",
    "        simulation_result = pickle.load(f)"
   ]
  },
  {
   "cell_type": "code",
   "execution_count": 32,
   "metadata": {},
   "outputs": [],
   "source": [
    "simulation_result_block = np.block(simulation_result[0])"
   ]
  },
  {
   "cell_type": "code",
   "execution_count": 36,
   "metadata": {},
   "outputs": [
    {
     "data": {
      "text/plain": [
       "array(['1.8690400868629182', '1.779887412562322', '1.7666805110543031',\n",
       "       '1.7460818277928318', '1.802544935983971', '1.8263567783753494',\n",
       "       '1.6561775358809474', '1.4755549501179828', '-29.859000335062387',\n",
       "       '-29.868230725741903', '-36.84136148790472', '-36.841361487904734',\n",
       "       '-36.84136148790473', '-36.84136148790473', '-31.34349638809284',\n",
       "       '-36.84136148790472', '0.06538744595440507', '5', 'svss'],\n",
       "      dtype='<U32')"
      ]
     },
     "execution_count": 36,
     "metadata": {},
     "output_type": "execute_result"
    }
   ],
   "source": []
  },
  {
   "cell_type": "code",
   "execution_count": null,
   "metadata": {},
   "outputs": [],
   "source": []
  }
 ],
 "metadata": {
  "kernelspec": {
   "display_name": "Python 3",
   "language": "python",
   "name": "python3"
  },
  "language_info": {
   "codemirror_mode": {
    "name": "ipython",
    "version": 3
   },
   "file_extension": ".py",
   "mimetype": "text/x-python",
   "name": "python",
   "nbconvert_exporter": "python",
   "pygments_lexer": "ipython3",
   "version": "3.7.6"
  }
 },
 "nbformat": 4,
 "nbformat_minor": 4
}
