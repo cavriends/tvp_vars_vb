{
 "cells": [
  {
   "cell_type": "code",
   "execution_count": 22,
   "metadata": {},
   "outputs": [],
   "source": [
    "%matplotlib inline\n",
    "import time\n",
    "import sys\n",
    "import pandas as pd\n",
    "import numpy as np\n",
    "import matplotlib.pyplot as plt\n",
    "from scipy.stats import norm, multivariate_normal\n",
    "from scipy import io\n",
    "import pickle\n",
    "\n",
    "# Own code\n",
    "sys.path.append(\"../\")\n",
    "from utils.data_utils import generate_contemp_matrices, transformation, standardize\n",
    "from utils.tvp_models import TVPVARModel, tvp_ar_contemp, tvp_ar_non_contemp\n",
    "\n",
    "# Suppress scientific notation in numpy\n",
    "np.set_printoptions(suppress=True)"
   ]
  },
  {
   "cell_type": "code",
   "execution_count": 23,
   "metadata": {},
   "outputs": [],
   "source": [
    "# Set M and standardization\n",
    "\n",
    "M = 3\n",
    "standardization = False\n",
    "transform = True"
   ]
  },
  {
   "cell_type": "code",
   "execution_count": 24,
   "metadata": {},
   "outputs": [],
   "source": [
    "ds = pd.read_csv(\"../data/fred_qd.csv\")\n",
    "gdp = transformation(ds[\"GDPC1\"].iloc[2:].to_numpy(), 5, transform, scale=1)\n",
    "cpi = transformation(ds[\"CPIAUCSL\"].iloc[2:].to_numpy(), 6, transform, scale=1)\n",
    "fedfund = transformation(ds[\"FEDFUNDS\"].iloc[2:].to_numpy(), 2, transform, scale=1)\n",
    "compi = transformation(ds[\"PPIACO\"].iloc[2:].to_numpy(), 6, transform, scale=1)\n",
    "borrowings = transformation(ds[\"TOTRESNS\"].iloc[2:].to_numpy(), 6, transform, scale=1)\n",
    "sp500 = transformation(ds[\"S&P 500\"].iloc[2:].to_numpy(), 5, transform, scale=1)\n",
    "m2 = transformation(ds[\"M2REAL\"].iloc[2:].to_numpy(), 5, transform, scale=1)\n",
    "\n",
    "# Start due to transformation\n",
    "\n",
    "lag = 1\n",
    "\n",
    "if M == 3:\n",
    "\n",
    "    series = [gdp[lag:], cpi[lag:], fedfund[lag:]]\n",
    "    \n",
    "elif M == 7:\n",
    "    \n",
    "    series = [gdp[lag:], cpi[lag:], fedfund[lag:],compi[lag:],borrowings[lag:],sp500[lag:],m2[lag:]]\n",
    "    \n",
    "\n",
    "if standardization:\n",
    "    \n",
    "    series = standardize(series, train = 243-25)\n",
    "\n",
    "series_total = np.array(series)\n",
    "\n",
    "y_matrix_contemp, X_matrix_contemp = generate_contemp_matrices(244, M, 1, series_total)"
   ]
  },
  {
   "cell_type": "code",
   "execution_count": 36,
   "metadata": {},
   "outputs": [],
   "source": [
    "prior_parameters= {\"a0\":4,\"b0\":1}"
   ]
  },
  {
   "cell_type": "code",
   "execution_count": 37,
   "metadata": {},
   "outputs": [
    {
     "name": "stdout",
     "output_type": "stream",
     "text": [
      "Iteration: 90 \n",
      " Elapsed time: 1.5238 seconds\n",
      "Seconds for one iteration: 0.1643\n",
      " Difference: 15.8646\n",
      "Seconds for one iteration: 0.1659\n",
      " Difference: 15.8643\n",
      "Seconds for one iteration: 0.1618\n",
      " Difference: 15.864\n",
      "Seconds for one iteration: 0.1653\n",
      " Difference: 15.8638\n",
      "Seconds for one iteration: 0.1513\n",
      " Difference: 15.8635\n",
      "Seconds for one iteration: 0.1612\n",
      " Difference: 15.8633\n",
      "Seconds for one iteration: 0.1767\n",
      " Difference: 15.863\n",
      "Seconds for one iteration: 0.1703\n",
      " Difference: 15.8629\n",
      "Seconds for one iteration: 0.1667\n",
      " Difference: 15.8626\n",
      "Seconds for one iteration: 0.1569\n",
      " Difference: 15.8625\n",
      "Progress: 1/26 | Elapsed time: 15.698473930358887 seconds | Coefficients converged: False\n",
      "ETA: 2020-11-26 09:09:10.272134\n",
      "Progress: 2/26 | Elapsed time: 16.338075876235962 seconds | Coefficients converged: False\n",
      "ETA: 2020-11-26 09:09:26.262560\n",
      "Progress: 3/26 | Elapsed time: 16.259851932525635 seconds | Coefficients converged: False\n",
      "ETA: 2020-11-26 09:09:24.385660\n",
      "Progress: 4/26 | Elapsed time: 16.31623101234436 seconds | Coefficients converged: False\n",
      "ETA: 2020-11-26 09:09:25.682824\n",
      "Progress: 5/26 | Elapsed time: 16.192116260528564 seconds | Coefficients converged: False\n",
      "ETA: 2020-11-26 09:09:22.952732\n",
      "Progress: 6/26 | Elapsed time: 15.836129903793335 seconds | Coefficients converged: False\n",
      "ETA: 2020-11-26 09:09:15.477436\n",
      "Progress: 7/26 | Elapsed time: 15.610180139541626 seconds | Coefficients converged: False\n",
      "ETA: 2020-11-26 09:09:10.958798\n",
      "Progress: 8/26 | Elapsed time: 15.798612833023071 seconds | Coefficients converged: False\n",
      "ETA: 2020-11-26 09:09:14.539453\n",
      "Progress: 9/26 | Elapsed time: 16.414944171905518 seconds | Coefficients converged: False\n",
      "ETA: 2020-11-26 09:09:25.633795\n",
      "Progress: 10/26 | Elapsed time: 15.99846601486206 seconds | Coefficients converged: False\n",
      "ETA: 2020-11-26 09:09:18.554114\n",
      "Progress: 11/26 | Elapsed time: 15.290582180023193 seconds | Coefficients converged: False\n",
      "ETA: 2020-11-26 09:09:07.228386\n",
      "Progress: 12/26 | Elapsed time: 15.679815769195557 seconds | Coefficients converged: False\n",
      "ETA: 2020-11-26 09:09:13.067266\n",
      "Progress: 13/26 | Elapsed time: 16.59485912322998 seconds | Coefficients converged: False\n",
      "ETA: 2020-11-26 09:09:25.878268\n",
      "Progress: 14/26 | Elapsed time: 16.418330669403076 seconds | Coefficients converged: False\n",
      "ETA: 2020-11-26 09:09:23.583826\n",
      "Progress: 15/26 | Elapsed time: 15.98136305809021 seconds | Coefficients converged: False\n",
      "ETA: 2020-11-26 09:09:18.341212\n",
      "Progress: 16/26 | Elapsed time: 16.547235012054443 seconds | Coefficients converged: False\n",
      "ETA: 2020-11-26 09:09:24.566251\n",
      "Progress: 17/26 | Elapsed time: 16.045120000839233 seconds | Coefficients converged: False\n",
      "ETA: 2020-11-26 09:09:19.545803\n",
      "Progress: 18/26 | Elapsed time: 16.842276096343994 seconds | Coefficients converged: False\n",
      "ETA: 2020-11-26 09:09:26.720641\n",
      "Progress: 19/26 | Elapsed time: 17.16198492050171 seconds | Coefficients converged: False\n",
      "ETA: 2020-11-26 09:09:29.278664\n",
      "Progress: 20/26 | Elapsed time: 16.821823358535767 seconds | Coefficients converged: False\n",
      "ETA: 2020-11-26 09:09:26.897956\n",
      "Progress: 21/26 | Elapsed time: 17.85690712928772 seconds | Coefficients converged: False\n",
      "ETA: 2020-11-26 09:09:33.108993\n",
      "Progress: 22/26 | Elapsed time: 17.94465398788452 seconds | Coefficients converged: False\n",
      "ETA: 2020-11-26 09:09:33.548412\n",
      "Progress: 23/26 | Elapsed time: 17.203296899795532 seconds | Coefficients converged: False\n",
      "ETA: 2020-11-26 09:09:30.583581\n",
      "Progress: 24/26 | Elapsed time: 16.89443802833557 seconds | Coefficients converged: False\n",
      "ETA: 2020-11-26 09:09:29.657802\n",
      "Progress: 25/26 | Elapsed time: 17.483542680740356 seconds | Coefficients converged: False\n",
      "ETA: 2020-11-26 09:09:30.836352\n",
      "Progress: 26/26 | Elapsed time: 17.457438945770264 seconds | Coefficients converged: False\n",
      "ETA: 2020-11-26 09:09:30.810662\n"
     ]
    }
   ],
   "source": [
    "# Check if the model, given the specific data, converges at all\n",
    "\n",
    "T = 243\n",
    "p = 1\n",
    "prior = \"lasso_alternative\"\n",
    "train = T - 25\n",
    "\n",
    "msfe, *_ = tvp_ar_contemp(T, M, p, train, X_matrix_contemp, y_matrix_contemp, prior, print_status=True, iterations=100)"
   ]
  },
  {
   "cell_type": "code",
   "execution_count": 38,
   "metadata": {},
   "outputs": [
    {
     "data": {
      "text/plain": [
       "0.0161317612309166"
      ]
     },
     "execution_count": 38,
     "metadata": {},
     "output_type": "execute_result"
    }
   ],
   "source": [
    "msfe.mean()"
   ]
  },
  {
   "cell_type": "code",
   "execution_count": null,
   "metadata": {},
   "outputs": [],
   "source": [
    "%matplotlib inline\n",
    "import time\n",
    "import sys\n",
    "import pandas as pd\n",
    "import numpy as np\n",
    "import matplotlib.pyplot as plt\n",
    "from scipy.stats import norm, multivariate_normal\n",
    "from scipy import io\n",
    "import pickle\n",
    "\n",
    "# Own code\n",
    "sys.path.append(\"../\")\n",
    "from utils.data_utils import generate_dgp_tvp_var, generate_matrices, generate_contemp_matrices\n",
    "from utils.tvp_models import TVPVARModel, tvp_ar_contemp, tvp_ar_non_contemp\n",
    "\n",
    "# Suppress scientific notation in numpy\n",
    "np.set_printoptions(suppress=True)"
   ]
  },
  {
   "cell_type": "code",
   "execution_count": 20,
   "metadata": {},
   "outputs": [],
   "source": [
    "def simulation_run(run, M, prior):\n",
    "    \n",
    "    start_time = time.time()\n",
    "    \n",
    "    # Fixed for simulation\n",
    "    T = 200\n",
    "    p = 1\n",
    "    train = 175\n",
    "    sparsity = 0.40\n",
    "    \n",
    "    y = np.loadtxt(f'../simulations/datasets/y_{M}_{T}_{p}_{sparsity}_{run}_het_py.csv', delimiter=\",\")\n",
    "    coefficients = np.loadtxt(f'../simulations/datasets/coefficients_{M}_{T}_{p}_{sparsity}_{run}_het_py.csv', delimiter=\",\")\n",
    "    \n",
    "    y_matrix_contemp, X_matrix_contemp = generate_contemp_matrices(T, M, p, y)\n",
    "    \n",
    "    # Contemperanous values added \n",
    "    msfe_contemp, alpl_contemp, mt1t_full_contemp, mt1t_coeff_contemp, sigma_contemp, ar_model = tvp_ar_contemp(T, M, p, train, X_matrix_contemp, y_matrix_contemp, prior, print_status=True, iterations=100, prior_parameters=prior_parameters)\n",
    "    msd_contemp = np.mean((mt1t_coeff_contemp - coefficients[:,1:train])**2)\n",
    "    \n",
    "    elapsed_time = time.time() - start_time\n",
    "    \n",
    "    print(f'Run: {run}, M: {M} & prior: {prior} -> MSD: {msd_contemp} | MSFE: {msfe_contemp.mean()} | ALPL: {alpl_contemp.mean()}')\n",
    "    \n",
    "    return [msfe_contemp, alpl_contemp, msd_contemp, M, prior]"
   ]
  },
  {
   "cell_type": "code",
   "execution_count": 21,
   "metadata": {},
   "outputs": [
    {
     "name": "stdout",
     "output_type": "stream",
     "text": [
      "Iteration: 10 \n",
      " Elapsed time: 4.5246 seconds\n",
      "lambda: 0.07983741324089205,phi: 3.1938730536986024, v: 0.6315611180509229, delta: 7.005081318625064 mt1t: 0.21777342673623507\n",
      "Seconds for one iteration: 0.413\n",
      " Difference: 0.0013\n",
      "lambda: 0.07981793351232738,phi: 3.1938795825028965, v: 0.6315589950736226, delta: 7.005991084062367 mt1t: 0.21777396864062934\n",
      "Seconds for one iteration: 0.4198\n",
      " Difference: 0.0006\n",
      "lambda: 0.07981014774586277,phi: 3.193883327937246, v: 0.6315580186594768, delta: 7.006301636863676 mt1t: 0.21777420822280916\n",
      "Seconds for one iteration: 0.422\n",
      " Difference: 0.0003\n",
      "lambda: 0.07980702552818858,phi: 3.1938852361058716, v: 0.631557586814332, delta: 7.006405364938962 mt1t: 0.21777431366405645\n",
      "Seconds for one iteration: 0.4475\n",
      " Difference: 0.0001\n",
      "Progress: 1/25 | Elapsed time: 5.542405128479004 seconds | Coefficients converged: True\n",
      "ETA: 2020-11-25 18:17:18.640126\n",
      "Progress: 2/25 | Elapsed time: 5.871854066848755 seconds | Coefficients converged: True\n",
      "ETA: 2020-11-25 18:17:26.548221\n",
      "Progress: 3/25 | Elapsed time: 5.775670766830444 seconds | Coefficients converged: True\n",
      "ETA: 2020-11-25 18:17:24.337048\n",
      "Progress: 4/25 | Elapsed time: 5.654216051101685 seconds | Coefficients converged: True\n",
      "ETA: 2020-11-25 18:17:21.667428\n",
      "Progress: 5/25 | Elapsed time: 5.3056371212005615 seconds | Coefficients converged: True\n",
      "ETA: 2020-11-25 18:17:14.356250\n",
      "Progress: 6/25 | Elapsed time: 5.385178804397583 seconds | Coefficients converged: True\n",
      "ETA: 2020-11-25 18:17:15.959611\n",
      "Progress: 7/25 | Elapsed time: 5.266345024108887 seconds | Coefficients converged: True\n",
      "ETA: 2020-11-25 18:17:13.712121\n",
      "Progress: 8/25 | Elapsed time: 5.309913158416748 seconds | Coefficients converged: True\n",
      "ETA: 2020-11-25 18:17:14.502720\n",
      "Progress: 9/25 | Elapsed time: 5.899461984634399 seconds | Coefficients converged: True\n",
      "ETA: 2020-11-25 18:17:24.535465\n",
      "Progress: 10/25 | Elapsed time: 5.529258966445923 seconds | Coefficients converged: True\n",
      "ETA: 2020-11-25 18:17:18.626927\n",
      "Progress: 11/25 | Elapsed time: 5.4098381996154785 seconds | Coefficients converged: True\n",
      "ETA: 2020-11-25 18:17:16.843142\n",
      "Progress: 12/25 | Elapsed time: 5.878014087677002 seconds | Coefficients converged: True\n",
      "ETA: 2020-11-25 18:17:23.400323\n",
      "Progress: 13/25 | Elapsed time: 5.814416170120239 seconds | Coefficients converged: True\n",
      "ETA: 2020-11-25 18:17:22.574700\n",
      "Progress: 14/25 | Elapsed time: 5.620570182800293 seconds | Coefficients converged: True\n",
      "ETA: 2020-11-25 18:17:20.249474\n",
      "Progress: 15/25 | Elapsed time: 5.892647981643677 seconds | Coefficients converged: True\n",
      "ETA: 2020-11-25 18:17:23.243568\n",
      "Progress: 16/25 | Elapsed time: 5.766049861907959 seconds | Coefficients converged: True\n",
      "ETA: 2020-11-25 18:17:21.978902\n",
      "Progress: 17/25 | Elapsed time: 5.736646890640259 seconds | Coefficients converged: True\n",
      "ETA: 2020-11-25 18:17:21.728723\n",
      "Progress: 18/25 | Elapsed time: 7.125900030136108 seconds | Coefficients converged: True\n",
      "ETA: 2020-11-25 18:17:32.854096\n",
      "Progress: 19/25 | Elapsed time: 6.463641881942749 seconds | Coefficients converged: True\n",
      "ETA: 2020-11-25 18:17:28.230570\n",
      "Progress: 20/25 | Elapsed time: 6.268856048583984 seconds | Coefficients converged: True\n",
      "ETA: 2020-11-25 18:17:27.064284\n",
      "Progress: 21/25 | Elapsed time: 6.083595037460327 seconds | Coefficients converged: True\n",
      "ETA: 2020-11-25 18:17:26.147881\n",
      "Progress: 22/25 | Elapsed time: 6.083266973495483 seconds | Coefficients converged: True\n",
      "ETA: 2020-11-25 18:17:26.160732\n",
      "Progress: 23/25 | Elapsed time: 5.917831182479858 seconds | Coefficients converged: True\n",
      "ETA: 2020-11-25 18:17:25.678809\n",
      "Progress: 24/25 | Elapsed time: 5.987246036529541 seconds | Coefficients converged: True\n",
      "ETA: 2020-11-25 18:17:25.829585\n",
      "Progress: 25/25 | Elapsed time: 6.01075005531311 seconds | Coefficients converged: True\n",
      "ETA: 2020-11-25 18:17:25.859951\n",
      "Run: 1, M: 3 & prior: horseshoe -> MSD: 0.01813187601112523 | MSFE: 1.9484047591347606 | ALPL: -28.033579458542498\n"
     ]
    },
    {
     "data": {
      "text/plain": [
       "[array([1.70472609, 1.98461325, 2.04759078, 1.87832718, 1.88262929,\n",
       "        1.96404813, 2.02673511, 2.09856824]),\n",
       " array([-11.46809142, -31.94019158, -25.02712076, -30.48352617,\n",
       "        -36.84136149, -19.28005581, -33.34170897, -35.88657947]),\n",
       " 0.01813187601112523,\n",
       " 3,\n",
       " 'horseshoe']"
      ]
     },
     "execution_count": 21,
     "metadata": {},
     "output_type": "execute_result"
    }
   ],
   "source": [
    "simulation_run(1,3,\"horseshoe\")"
   ]
  },
  {
   "cell_type": "code",
   "execution_count": null,
   "metadata": {},
   "outputs": [],
   "source": []
  }
 ],
 "metadata": {
  "kernelspec": {
   "display_name": "Python 3",
   "language": "python",
   "name": "python3"
  },
  "language_info": {
   "codemirror_mode": {
    "name": "ipython",
    "version": 3
   },
   "file_extension": ".py",
   "mimetype": "text/x-python",
   "name": "python",
   "nbconvert_exporter": "python",
   "pygments_lexer": "ipython3",
   "version": "3.7.6"
  }
 },
 "nbformat": 4,
 "nbformat_minor": 4
}
