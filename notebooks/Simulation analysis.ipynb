{
 "cells": [
  {
   "cell_type": "markdown",
   "metadata": {},
   "source": [
    "### Simulation analysis\n",
    "\n",
    "This notebook is used to compare the results of the VI-based TVP-BVAR to the MCMC-based TVP-BVAR. Note that the results of the MCMC-based TVP-BVAR are hardcoded into the code. This is due to the fact that these results are calculated in the results.R script. Make sure to select the correct simulation file for the VI-based TVP-BVAR and the correct results for the MCMC-based TVP-BVAR if you are going to compare the results."
   ]
  },
  {
   "cell_type": "code",
   "execution_count": null,
   "metadata": {},
   "outputs": [],
   "source": [
    "import pickle\n",
    "import numpy as np\n",
    "\n",
    "# Parameters for the simulation study for different scenarios\n",
    "\n",
    "T = 200\n",
    "p = 1\n",
    "prior = \"svss\"\n",
    "sparsity = 0.4\n",
    "n_iterations = 200"
   ]
  },
  {
   "cell_type": "code",
   "execution_count": null,
   "metadata": {},
   "outputs": [],
   "source": [
    "with open(f'../simulations/results/statistics_{T}_{p}_{n_iterations}_{prior}_{sparsity}_huber.pkl', 'rb') as f:\n",
    "        simulation_result = pickle.load(f)"
   ]
  },
  {
   "cell_type": "code",
   "execution_count": null,
   "metadata": {},
   "outputs": [],
   "source": [
    "# Select one of the results from the TVP for a comparison, these are hardcoded results from the analysis in R\n",
    "\n",
    "# tvp_bar_result = np.array([1.525215, 1.568972, 1.569777, 1.576379, 1.572117, 1.573545, 1.563883, 1.560764]) # 100 0.20 M = 3\n",
    "# tvp_bar_result = np.array([1.537108, 1.586357, 1.586235, 1.594027, 1.589423, 1.593814, 1.580771, 1.581765]) # 100 0.40 M = 3\n",
    "# tvp_bar_result = np.array([2.103911, 2.127565, 2.154175, 2.144278, 2.142613, 2.138913, 2.155391, 2.164471]) # 200 0.20 M = 3\n",
    "# tvp_bar_result = np.array([2.145268, 2.178971, 2.208494, 2.203912, 2.205018, 2.211773, 2.235132, 2.255868]) # 200 0.40 M = 3\n",
    "\n",
    "# tvp_bar_result = np.array([2.431721, 2.530802, 2.554573, 2.570033, 2.582666, 2.570129, 2.583781, 2.603649]) # 100 0.20 M = 7\n",
    "# tvp_bar_result = np.array([2.568019, 2.710974, 2.763319, 2.788549, 2.803765, 2.795588, 2.801986, 2.817411]) # 100 0.40 M = 7\n",
    "# tvp_bar_result = np.array([3.930162, 4.023899, 4.096134, 4.123376, 4.122091, 4.132326, 4.121637, 4.145625]) # 200 0.20 M = 7\n",
    "# tvp_bar_result = np.array([4.422962, 4.617997, 4.761793, 4.849296, 4.910502, 4.986810, 5.032367, 5.103598]) # 200 0.40 M = 7"
   ]
  },
  {
   "cell_type": "code",
   "execution_count": null,
   "metadata": {},
   "outputs": [],
   "source": [
    "simulation_result_block = np.block(simulation_result[0])\n",
    "\n",
    "M_3 = simulation_result_block[:n_iterations]\n",
    "M_7 = simulation_result_block[n_iterations:]"
   ]
  },
  {
   "cell_type": "code",
   "execution_count": null,
   "metadata": {},
   "outputs": [],
   "source": [
    "result_block = M_7\n",
    "\n",
    "threshold_percentage = 10e-2\n",
    "\n",
    "threshold_high = int(round(n_iterations - threshold_percentage*n_iterations,0))\n",
    "\n",
    "msfe_list = result_block[:,:8].astype(np.float64).mean(1)\n",
    "alpl_list = result_block[:,8:16].astype(np.float64).mean(1)\n",
    "\n",
    "cleaned_indices = msfe_list.argsort()[:threshold_high]\n",
    "msfe_list_cleaned = msfe_list[cleaned_indices]\n",
    "alpl_list_cleaned = alpl_list[cleaned_indices]\n",
    "\n",
    "msfe_h_step = result_block[cleaned_indices,:8].astype(np.float64).mean(0)\n",
    "\n",
    "msd = result_block[cleaned_indices,16].astype(np.float64).mean()\n",
    "alpl = alpl_list.mean()"
   ]
  },
  {
   "cell_type": "code",
   "execution_count": null,
   "metadata": {},
   "outputs": [],
   "source": [
    "msd = round(msd,6)\n",
    "msfe = round(np.mean(msfe_list_cleaned),3)\n",
    "alpl = round(alpl,2)\n",
    "\n",
    "print(f\"MSFE = {msfe}, MSD = {msd} & ALPL = {alpl}\")"
   ]
  },
  {
   "cell_type": "code",
   "execution_count": null,
   "metadata": {},
   "outputs": [],
   "source": [
    "msfe_ratio = np.round(msfe_h_step/tvp_bar_result,3)\n",
    "\n",
    "print(f\"VI/TVP = {msfe_ratio}\")"
   ]
  },
  {
   "cell_type": "code",
   "execution_count": null,
   "metadata": {},
   "outputs": [],
   "source": [
    "msfe_h_step.mean()/tvp_bar_result.mean()"
   ]
  },
  {
   "cell_type": "markdown",
   "metadata": {},
   "source": [
    "### Random walk (RW)"
   ]
  },
  {
   "cell_type": "code",
   "execution_count": null,
   "metadata": {},
   "outputs": [],
   "source": [
    "def calculate_rw_msfe(y, T, train, total_h=8):\n",
    "    \n",
    "    train_index = train\n",
    "    number_of_predictions = T - train_index\n",
    "    msfe_tvp = np.zeros(total_h)\n",
    "    total_h = np.arange(1,total_h+1)\n",
    "\n",
    "    for h in total_h:\n",
    "            y_true_h = y[:,train_index:]\n",
    "            y_pred_h = y[:,(train_index - h):-h]\n",
    "\n",
    "            msfe_tvp[h-1] = np.mean((y_pred_h - y_true_h) ** 2)\n",
    "            \n",
    "    return msfe_tvp"
   ]
  },
  {
   "cell_type": "code",
   "execution_count": null,
   "metadata": {},
   "outputs": [],
   "source": [
    "\n",
    "train = T - 25\n",
    "total_h = 8\n",
    "n_iterations = 200\n",
    "iterations_set = np.arange(1,n_iterations+1,1)\n",
    "msfe_rw = np.zeros((n_iterations, total_h))\n",
    "\n",
    "for run in iterations_set:\n",
    "\n",
    "    y = np.loadtxt(f'../simulations/datasets/y_{M}_{T}_{p}_{sparsity}_{run}_het_py.csv', delimiter=\",\")\n",
    "    \n",
    "    msfe_rw[run-1] = calculate_rw_msfe(y, T, train, total_h)"
   ]
  },
  {
   "cell_type": "code",
   "execution_count": null,
   "metadata": {},
   "outputs": [],
   "source": [
    "\n",
    "threshold_percentage = 2.5e-2\n",
    "\n",
    "threshold_high = int(round(n_iterations - threshold_percentage*n_iterations,0))\n",
    "\n",
    "cleaned_indices = msfe_rw.mean(1).argsort()[:threshold_high]\n",
    "msfe_rw_cleaned = msfe_rw[cleaned_indices]\n",
    "\n",
    "h_step_rw = msfe_rw_cleaned.mean(0)"
   ]
  },
  {
   "cell_type": "code",
   "execution_count": null,
   "metadata": {},
   "outputs": [],
   "source": [
    "msfe_ratio = np.round(h_step_rw/tvp_bar_result,3)\n",
    "\n",
    "print(f\"RW/TVP = {msfe_ratio} \\nMSFE: {round(h_step_rw.mean(),4)}\")"
   ]
  },
  {
   "cell_type": "code",
   "execution_count": null,
   "metadata": {},
   "outputs": [],
   "source": [
    "msfe_ratio = np.round(h_step_rw/msfe_h_step,3)\n",
    "\n",
    "print(f\"RW/VI = {msfe_ratio} \\nMSFE: {round(h_step_rw.mean(),4)}\")"
   ]
  }
 ],
 "metadata": {
  "kernelspec": {
   "display_name": "Python 3",
   "language": "python",
   "name": "python3"
  },
  "language_info": {
   "codemirror_mode": {
    "name": "ipython",
    "version": 3
   },
   "file_extension": ".py",
   "mimetype": "text/x-python",
   "name": "python",
   "nbconvert_exporter": "python",
   "pygments_lexer": "ipython3",
   "version": "3.8.5"
  }
 },
 "nbformat": 4,
 "nbformat_minor": 4
}
