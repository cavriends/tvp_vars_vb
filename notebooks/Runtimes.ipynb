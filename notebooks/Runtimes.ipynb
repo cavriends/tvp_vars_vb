{
 "cells": [
  {
   "cell_type": "code",
   "execution_count": 37,
   "metadata": {},
   "outputs": [],
   "source": [
    "%matplotlib inline\n",
    "import time\n",
    "import sys\n",
    "import pandas as pd\n",
    "import numpy as np\n",
    "import matplotlib.pyplot as plt\n",
    "from scipy.stats import norm, multivariate_normal\n",
    "from scipy import io\n",
    "import pickle\n",
    "\n",
    "# Own code\n",
    "sys.path.append(\"../\")\n",
    "from utils.data_utils import generate_dgp_tvp_var, generate_matrices, generate_contemp_matrices\n",
    "from utils.tvp_models import TVPVARModel, tvp_ar_contemp, tvp_ar_non_contemp\n",
    "\n",
    "# Suppress scientific notation in numpy\n",
    "np.set_printoptions(suppress=True)"
   ]
  },
  {
   "cell_type": "code",
   "execution_count": 38,
   "metadata": {},
   "outputs": [],
   "source": [
    "def multiprocessing_run(prior, M):\n",
    "    \n",
    "    import time\n",
    "    import os\n",
    "    from multiprocessing import Pool, Array\n",
    "\n",
    "    # They are going to be some disgusting warnings for the first iterations of the model (has to do with initialization)\n",
    "    import warnings\n",
    "    warnings.filterwarnings(\"ignore\")\n",
    "\n",
    "    np.random.seed(12345)\n",
    "    n_iterations = 16\n",
    "\n",
    "    iterations_set = np.arange(1,n_iterations+1,1)\n",
    "    M = (M,)\n",
    "    prior_list = [prior]#, \"lasso_alternative\", \"horseshoe\"]\n",
    "    args_tuples = [x for sub_list in [x for sub_list in [[[(n, m, prior) for n in iterations_set] for m in M] for prior in prior_list] for x in sub_list] for x in sub_list]\n",
    "\n",
    "    if __name__ == '__main__':\n",
    "\n",
    "        pool = Pool()\n",
    "        simulation_results = pool.starmap(simulation_run, args_tuples)"
   ]
  },
  {
   "cell_type": "markdown",
   "metadata": {},
   "source": [
    "#### M = 3, $p_{0} = 0.40$ and $T = 200$"
   ]
  },
  {
   "cell_type": "code",
   "execution_count": 3,
   "metadata": {},
   "outputs": [],
   "source": [
    "M = 3"
   ]
  },
  {
   "cell_type": "code",
   "execution_count": 4,
   "metadata": {},
   "outputs": [],
   "source": [
    "def simulation_run(run, M, prior):\n",
    "    \n",
    "    start_time = time.time()\n",
    "    \n",
    "    # Fixed for simulation\n",
    "    T = 200\n",
    "    p = 1\n",
    "    train = 175\n",
    "    sparsity = 0.40\n",
    "    \n",
    "    y = np.loadtxt(f'../simulations/datasets/y_{M}_{T}_{p}_{sparsity}_{run}_het_py.csv', delimiter=\",\")\n",
    "    coefficients = np.loadtxt(f'../simulations/datasets/coefficients_{M}_{T}_{p}_{sparsity}_{run}_het_py.csv', delimiter=\",\")\n",
    "    \n",
    "    y_matrix_contemp, X_matrix_contemp = generate_contemp_matrices(T, M, p, y)\n",
    "    \n",
    "    # Contemperanous values added \n",
    "    msfe_contemp, alpl_contemp, mt1t_full_contemp, mt1t_coeff_contemp, sigma_contemp, ar_model = tvp_ar_contemp(T, M, p, train, X_matrix_contemp, y_matrix_contemp, prior, print_status=False, iterations=100)\n",
    "    msd_contemp = np.mean((mt1t_coeff_contemp - coefficients[:,1:train])**2)\n",
    "    \n",
    "    elapsed_time = time.time() - start_time\n",
    "    \n",
    "    print(f'Run: {run}, M: {M} & prior: {prior} -> MSD: {msd_contemp} | MSFE: {msfe_contemp.mean()} | ALPL: {alpl_contemp.mean()} | elapsed time: {round(elapsed_time,6)}')\n",
    "    \n",
    "    return [msfe_contemp, alpl_contemp, msd_contemp, M, prior]"
   ]
  },
  {
   "cell_type": "code",
   "execution_count": 5,
   "metadata": {},
   "outputs": [
    {
     "name": "stdout",
     "output_type": "stream",
     "text": [
      "Run: 9, M: 3 & prior: svss -> MSD: 0.03352099252120182 | MSFE: 3.7437281100614888 | ALPL: -36.13508504511776 | elapsed time: 301.36288\n",
      "Run: 2, M: 3 & prior: svss -> MSD: 0.029495293907834404 | MSFE: 1.41356664660755 | ALPL: -34.56565377213802 | elapsed time: 342.387834\n",
      "Run: 4, M: 3 & prior: svss -> MSD: 0.05597547196652418 | MSFE: 2.3277093668888673 | ALPL: -35.307029592121836 | elapsed time: 355.276626\n",
      "Run: 13, M: 3 & prior: svss -> MSD: 0.03358257793545593 | MSFE: 1.7268947336139409 | ALPL: -36.43877883578196 | elapsed time: 357.924236\n",
      "Run: 16, M: 3 & prior: svss -> MSD: 0.041516006371082464 | MSFE: 2.383456488152457 | ALPL: -33.45613949485876 | elapsed time: 420.449813\n",
      "Run: 11, M: 3 & prior: svss -> MSD: 0.05536645606591423 | MSFE: 1.2691867936921764 | ALPL: -35.09680877903058 | elapsed time: 513.99691\n",
      "Run: 3, M: 3 & prior: svss -> MSD: 0.08969874374371223 | MSFE: 2.55126047156182 | ALPL: -36.40781163350265 | elapsed time: 515.214553\n",
      "Run: 8, M: 3 & prior: svss -> MSD: 0.05238732241303492 | MSFE: 1.345476720814004 | ALPL: -36.100700769142925 | elapsed time: 538.444485\n",
      "Run: 7, M: 3 & prior: svss -> MSD: 0.06355205148504281 | MSFE: 2.0860497856512503 | ALPL: -33.16328269689679 | elapsed time: 539.293908\n",
      "Run: 1, M: 3 & prior: svss -> MSD: 0.05726125330171335 | MSFE: 1.9646772088109294 | ALPL: -35.1138897352197 | elapsed time: 549.681118\n",
      "Run: 15, M: 3 & prior: svss -> MSD: 0.04461405045328126 | MSFE: 2.0266221077991107 | ALPL: -35.646844520954964 | elapsed time: 554.232339\n",
      "Run: 12, M: 3 & prior: svss -> MSD: 0.0478075450250001 | MSFE: 0.8091008942075104 | ALPL: -36.555185276934864 | elapsed time: 619.738184\n",
      "Run: 10, M: 3 & prior: svss -> MSD: 0.04234397132423 | MSFE: 1.9942953896221067 | ALPL: -35.62071118592476 | elapsed time: 636.686087\n",
      "Run: 6, M: 3 & prior: svss -> MSD: 0.03897608032799985 | MSFE: 1.9538127741337858 | ALPL: -35.40457087813221 | elapsed time: 642.817251\n",
      "Run: 5, M: 3 & prior: svss -> MSD: 0.061927241762081656 | MSFE: 1.8625017156923107 | ALPL: -36.012161786889585 | elapsed time: 670.130789\n",
      "Run: 14, M: 3 & prior: svss -> MSD: 0.028063053172481037 | MSFE: 1.5997597336798957 | ALPL: -35.75328833692709 | elapsed time: 678.192991\n",
      "CPU times: user 488 ms, sys: 158 ms, total: 647 ms\n",
      "Wall time: 11min 18s\n"
     ]
    }
   ],
   "source": [
    "%%time\n",
    "multiprocessing_run(\"svss\",M)"
   ]
  },
  {
   "cell_type": "code",
   "execution_count": 6,
   "metadata": {},
   "outputs": [
    {
     "name": "stdout",
     "output_type": "stream",
     "text": [
      "Run: 1, M: 3 & prior: lasso_alternative -> MSD: 0.027986271717716203 | MSFE: 1.9880027118174028 | ALPL: -23.340640953148764 | elapsed time: 65.733701\n",
      "Run: 9, M: 3 & prior: lasso_alternative -> MSD: 0.02820214745258613 | MSFE: 3.71490417767514 | ALPL: -28.53623354022198 | elapsed time: 69.442243\n",
      "Run: 4, M: 3 & prior: lasso_alternative -> MSD: 0.0530779891215395 | MSFE: 2.3143464931649707 | ALPL: -27.536175175636544 | elapsed time: 70.030683\n",
      "Run: 13, M: 3 & prior: lasso_alternative -> MSD: 0.046518734272515634 | MSFE: 1.7760972667450983 | ALPL: -30.11064257639115 | elapsed time: 71.46176\n",
      "Run: 2, M: 3 & prior: lasso_alternative -> MSD: 0.03088248494795688 | MSFE: 1.4045091395489626 | ALPL: -26.527053129654597 | elapsed time: 73.458084\n",
      "Run: 15, M: 3 & prior: lasso_alternative -> MSD: 0.04856946585251897 | MSFE: 2.0160612251457763 | ALPL: -23.07549745325975 | elapsed time: 74.710826\n",
      "Run: 7, M: 3 & prior: lasso_alternative -> MSD: 0.04051883657190872 | MSFE: 1.8414694134827967 | ALPL: -16.737024885751026 | elapsed time: 75.088985\n",
      "Run: 16, M: 3 & prior: lasso_alternative -> MSD: 0.038881679677575255 | MSFE: 2.220914469785766 | ALPL: -26.598062339625546 | elapsed time: 76.256518\n",
      "Run: 3, M: 3 & prior: lasso_alternative -> MSD: 0.02789685743319241 | MSFE: 2.5334420614960553 | ALPL: -22.589873665380097 | elapsed time: 79.088362\n",
      "Run: 8, M: 3 & prior: lasso_alternative -> MSD: 0.04114334465636101 | MSFE: 1.354080332887162 | ALPL: -28.91088009999296 | elapsed time: 81.769104\n",
      "Run: 10, M: 3 & prior: lasso_alternative -> MSD: 0.057102528724323434 | MSFE: 1.9762201518215083 | ALPL: -27.492170638703556 | elapsed time: 85.701634\n",
      "Run: 11, M: 3 & prior: lasso_alternative -> MSD: 0.03769626974334447 | MSFE: 1.2667219131896748 | ALPL: -22.625284973090103 | elapsed time: 85.968625\n",
      "Run: 5, M: 3 & prior: lasso_alternative -> MSD: 0.04068531652040682 | MSFE: 1.7917760001128467 | ALPL: -30.86312768388649 | elapsed time: 88.521979\n",
      "Run: 14, M: 3 & prior: lasso_alternative -> MSD: 0.032790733090712815 | MSFE: 1.5934022868587214 | ALPL: -26.194720251450253 | elapsed time: 90.483056\n",
      "Run: 12, M: 3 & prior: lasso_alternative -> MSD: 0.03453801920267681 | MSFE: 0.8104874230579906 | ALPL: -30.872025492209175 | elapsed time: 170.620585\n",
      "Run: 6, M: 3 & prior: lasso_alternative -> MSD: 0.05819237926984638 | MSFE: 3.7866383998980715 | ALPL: -21.04758434605474 | elapsed time: 172.812674\n",
      "CPU times: user 216 ms, sys: 101 ms, total: 317 ms\n",
      "Wall time: 2min 52s\n"
     ]
    }
   ],
   "source": [
    "%%time\n",
    "multiprocessing_run(\"lasso_alternative\",M)"
   ]
  },
  {
   "cell_type": "code",
   "execution_count": 7,
   "metadata": {},
   "outputs": [
    {
     "name": "stdout",
     "output_type": "stream",
     "text": [
      "Run: 2, M: 3 & prior: horseshoe -> MSD: 0.033201053761108476 | MSFE: 1.3863125095973348 | ALPL: -27.74216677195501 | elapsed time: 828.858483\n",
      "Run: 1, M: 3 & prior: horseshoe -> MSD: 0.03175627859111631 | MSFE: 1.9556107325317016 | ALPL: -26.998382681226055 | elapsed time: 829.953958\n",
      "Run: 3, M: 3 & prior: horseshoe -> MSD: 0.03578424842552312 | MSFE: 2.5231187694951034 | ALPL: -27.76023746304406 | elapsed time: 830.388327\n",
      "Run: 4, M: 3 & prior: horseshoe -> MSD: 0.05393796238180104 | MSFE: 2.2848708150683787 | ALPL: -29.334867097583512 | elapsed time: 833.421688\n",
      "Run: 5, M: 3 & prior: horseshoe -> MSD: 0.04533960260468031 | MSFE: 1.8044584241664907 | ALPL: -31.51372830761033 | elapsed time: 833.699402\n",
      "Run: 13, M: 3 & prior: horseshoe -> MSD: 0.046505574908750374 | MSFE: 1.7653079333846935 | ALPL: -30.389196165895353 | elapsed time: 834.251563\n",
      "Run: 15, M: 3 & prior: horseshoe -> MSD: 0.04389736311390241 | MSFE: 1.9797008802138623 | ALPL: -26.95664327252537 | elapsed time: 835.186646\n",
      "Run: 10, M: 3 & prior: horseshoe -> MSD: 0.051047256030556265 | MSFE: 1.9833372617389338 | ALPL: -28.24181587368845 | elapsed time: 835.267024\n",
      "Run: 6, M: 3 & prior: horseshoe -> MSD: 0.054590072963382814 | MSFE: 2.456760058055936 | ALPL: -21.491278330012456 | elapsed time: 835.495331\n",
      "Run: 12, M: 3 & prior: horseshoe -> MSD: 0.035378620683780684 | MSFE: 0.8154458069775989 | ALPL: -31.415690356325435 | elapsed time: 835.539841\n",
      "Run: 7, M: 3 & prior: horseshoe -> MSD: 0.043691983895392895 | MSFE: 1.9342916116587152 | ALPL: -20.096212960170284 | elapsed time: 836.726499\n",
      "Run: 16, M: 3 & prior: horseshoe -> MSD: 0.04204338732472826 | MSFE: 2.2838334488709613 | ALPL: -28.532718749627286 | elapsed time: 836.96981\n",
      "Run: 9, M: 3 & prior: horseshoe -> MSD: 0.025996863093803353 | MSFE: 3.694830120933263 | ALPL: -29.642099401466147 | elapsed time: 838.803745\n",
      "Run: 11, M: 3 & prior: horseshoe -> MSD: 0.04338600616286318 | MSFE: 1.2668120247273613 | ALPL: -24.57322830990436 | elapsed time: 839.056604\n",
      "Run: 14, M: 3 & prior: horseshoe -> MSD: 0.027610887107275096 | MSFE: 1.5985325644106199 | ALPL: -28.804635297946252 | elapsed time: 839.08303\n",
      "Run: 8, M: 3 & prior: horseshoe -> MSD: 0.040492410032912145 | MSFE: 1.3441226086701636 | ALPL: -29.758435301058437 | elapsed time: 839.886154\n",
      "CPU times: user 1.73 s, sys: 659 ms, total: 2.39 s\n",
      "Wall time: 13min 59s\n"
     ]
    }
   ],
   "source": [
    "%%time\n",
    "multiprocessing_run(\"horseshoe\",M)"
   ]
  },
  {
   "cell_type": "markdown",
   "metadata": {},
   "source": [
    "#### M = 3, $p_{0} = 0.20$ and $T = 200$"
   ]
  },
  {
   "cell_type": "code",
   "execution_count": 8,
   "metadata": {},
   "outputs": [],
   "source": [
    "def simulation_run(run, M, prior):\n",
    "    \n",
    "    start_time = time.time()\n",
    "    \n",
    "    # Fixed for simulation\n",
    "    T = 200\n",
    "    p = 1\n",
    "    train = 175\n",
    "    sparsity = 0.20\n",
    "    \n",
    "    y = np.loadtxt(f'../simulations/datasets/y_{M}_{T}_{p}_{sparsity}_{run}_het_py.csv', delimiter=\",\")\n",
    "    coefficients = np.loadtxt(f'../simulations/datasets/coefficients_{M}_{T}_{p}_{sparsity}_{run}_het_py.csv', delimiter=\",\")\n",
    "    \n",
    "    y_matrix_contemp, X_matrix_contemp = generate_contemp_matrices(T, M, p, y)\n",
    "    \n",
    "    # Contemperanous values added \n",
    "    msfe_contemp, alpl_contemp, mt1t_full_contemp, mt1t_coeff_contemp, sigma_contemp, ar_model = tvp_ar_contemp(T, M, p, train, X_matrix_contemp, y_matrix_contemp, prior, print_status=False, iterations=100)\n",
    "    msd_contemp = np.mean((mt1t_coeff_contemp - coefficients[:,1:train])**2)\n",
    "    \n",
    "    elapsed_time = time.time() - start_time\n",
    "    \n",
    "    print(f'Run: {run}, M: {M} & prior: {prior} -> MSD: {msd_contemp} | MSFE: {msfe_contemp.mean()} | ALPL: {alpl_contemp.mean()} | elapsed time: {round(elapsed_time,6)}')\n",
    "    \n",
    "    return [msfe_contemp, alpl_contemp, msd_contemp, M, prior]"
   ]
  },
  {
   "cell_type": "code",
   "execution_count": 9,
   "metadata": {},
   "outputs": [
    {
     "name": "stdout",
     "output_type": "stream",
     "text": [
      "Run: 9, M: 3 & prior: svss -> MSD: 0.036933573948727406 | MSFE: 3.8021424476127104 | ALPL: -36.18633008950053 | elapsed time: 290.648822\n",
      "Run: 2, M: 3 & prior: svss -> MSD: 0.029495293907834404 | MSFE: 1.41356664660755 | ALPL: -34.56565377213802 | elapsed time: 342.510498\n",
      "Run: 13, M: 3 & prior: svss -> MSD: 0.03358257793545593 | MSFE: 1.7268947336139409 | ALPL: -36.43877883578196 | elapsed time: 359.294462\n",
      "Run: 4, M: 3 & prior: svss -> MSD: 0.061530803407856695 | MSFE: 2.8510873882395655 | ALPL: -34.412524611522564 | elapsed time: 394.242802\n",
      "Run: 3, M: 3 & prior: svss -> MSD: 0.07806857803930205 | MSFE: 3.4411857470018203 | ALPL: -35.31775787422632 | elapsed time: 405.59164\n",
      "Run: 8, M: 3 & prior: svss -> MSD: 0.03671308830395939 | MSFE: 1.181050347705105 | ALPL: -36.066231399568416 | elapsed time: 413.070297\n",
      "Run: 16, M: 3 & prior: svss -> MSD: 0.041516006371082464 | MSFE: 2.383456488152457 | ALPL: -33.45613949485876 | elapsed time: 419.318406\n",
      "Run: 1, M: 3 & prior: svss -> MSD: 0.06284723968234861 | MSFE: 2.073093821872143 | ALPL: -35.08280911140103 | elapsed time: 486.158874\n",
      "Run: 5, M: 3 & prior: svss -> MSD: 0.06963522075274593 | MSFE: 1.5374859931268854 | ALPL: -34.26244180474881 | elapsed time: 489.667837\n",
      "Run: 12, M: 3 & prior: svss -> MSD: 0.03450713301342407 | MSFE: 0.7626660255919893 | ALPL: -36.57688359808728 | elapsed time: 542.258013\n",
      "Run: 15, M: 3 & prior: svss -> MSD: 0.04461405045328126 | MSFE: 2.0266221077991107 | ALPL: -35.646844520954964 | elapsed time: 545.431434\n",
      "Run: 10, M: 3 & prior: svss -> MSD: 0.04234397132423 | MSFE: 1.9942953896221067 | ALPL: -35.62071118592476 | elapsed time: 627.720384\n",
      "Run: 6, M: 3 & prior: svss -> MSD: 0.03897608032799985 | MSFE: 1.9538127741337858 | ALPL: -35.40457087813221 | elapsed time: 638.795741\n",
      "Run: 14, M: 3 & prior: svss -> MSD: 0.019037284416833083 | MSFE: 1.5154477905816781 | ALPL: -35.77822500766855 | elapsed time: 686.921503\n",
      "Run: 7, M: 3 & prior: svss -> MSD: 0.05687566735316691 | MSFE: 1.8497397171406456 | ALPL: -30.116219269789234 | elapsed time: 743.888721\n",
      "Run: 11, M: 3 & prior: svss -> MSD: 0.06418388245162844 | MSFE: 1.3312695768315304 | ALPL: -35.11958447917662 | elapsed time: 835.439137\n"
     ]
    }
   ],
   "source": [
    "multiprocessing_run(\"svss\",M)"
   ]
  },
  {
   "cell_type": "code",
   "execution_count": 10,
   "metadata": {},
   "outputs": [
    {
     "name": "stdout",
     "output_type": "stream",
     "text": [
      "Run: 9, M: 3 & prior: lasso_alternative -> MSD: 0.027996929148910554 | MSFE: 3.7476419718316594 | ALPL: -28.897062561866292 | elapsed time: 67.291793\n",
      "Run: 1, M: 3 & prior: lasso_alternative -> MSD: 0.026696801215703562 | MSFE: 2.0789016084853236 | ALPL: -24.24113209941011 | elapsed time: 69.297642\n",
      "Run: 13, M: 3 & prior: lasso_alternative -> MSD: 0.046518734272515634 | MSFE: 1.7760972667450983 | ALPL: -30.11064257639115 | elapsed time: 71.68597\n",
      "Run: 4, M: 3 & prior: lasso_alternative -> MSD: 0.05096729847487726 | MSFE: 2.751012959238011 | ALPL: -26.751162223881877 | elapsed time: 72.664982\n",
      "Run: 2, M: 3 & prior: lasso_alternative -> MSD: 0.03088248494795688 | MSFE: 1.4045091395489626 | ALPL: -26.527053129654597 | elapsed time: 73.989742\n",
      "Run: 15, M: 3 & prior: lasso_alternative -> MSD: 0.04856946585251897 | MSFE: 2.0160612251457763 | ALPL: -23.07549745325975 | elapsed time: 75.567361\n",
      "Run: 16, M: 3 & prior: lasso_alternative -> MSD: 0.038881679677575255 | MSFE: 2.220914469785766 | ALPL: -26.598062339625546 | elapsed time: 76.956758\n",
      "Run: 3, M: 3 & prior: lasso_alternative -> MSD: 0.028369202152073603 | MSFE: 3.3395370457641995 | ALPL: -26.441728221099368 | elapsed time: 78.901673\n",
      "Run: 7, M: 3 & prior: lasso_alternative -> MSD: 0.041533087741993394 | MSFE: 1.7242625319163831 | ALPL: -16.218992498708495 | elapsed time: 81.257028\n",
      "Run: 8, M: 3 & prior: lasso_alternative -> MSD: 0.042819777876544375 | MSFE: 1.2201499259531512 | ALPL: -28.74607321283917 | elapsed time: 81.982462\n",
      "Run: 10, M: 3 & prior: lasso_alternative -> MSD: 0.057102528724323434 | MSFE: 1.9762201518215083 | ALPL: -27.492170638703556 | elapsed time: 86.318448\n",
      "Run: 5, M: 3 & prior: lasso_alternative -> MSD: 0.03979054230975344 | MSFE: 1.492965693481598 | ALPL: -28.06698669743229 | elapsed time: 87.199749\n",
      "Run: 11, M: 3 & prior: lasso_alternative -> MSD: 0.052220143237316705 | MSFE: 1.3209169431650882 | ALPL: -24.56224377607211 | elapsed time: 117.150349\n",
      "Run: 12, M: 3 & prior: lasso_alternative -> MSD: 0.09559214189731094 | MSFE: 0.7772024383978187 | ALPL: -30.226623510461035 | elapsed time: 209.699578\n",
      "Run: 14, M: 3 & prior: lasso_alternative -> MSD: 0.03392956036303327 | MSFE: 1.515098260684745 | ALPL: -30.625861915403313 | elapsed time: 210.878031\n",
      "Run: 6, M: 3 & prior: lasso_alternative -> MSD: 0.05819237926984638 | MSFE: 3.7866383998980715 | ALPL: -21.04758434605474 | elapsed time: 212.148471\n"
     ]
    }
   ],
   "source": [
    "multiprocessing_run(\"lasso_alternative\",M)"
   ]
  },
  {
   "cell_type": "code",
   "execution_count": 11,
   "metadata": {},
   "outputs": [
    {
     "name": "stdout",
     "output_type": "stream",
     "text": [
      "Run: 4, M: 3 & prior: horseshoe -> MSD: 0.04719875406043033 | MSFE: 2.7230648076434374 | ALPL: -28.8252577061845 | elapsed time: 837.883113\n",
      "Run: 10, M: 3 & prior: horseshoe -> MSD: 0.051047256030556265 | MSFE: 1.9833372617389338 | ALPL: -28.24181587368845 | elapsed time: 838.840291\n",
      "Run: 6, M: 3 & prior: horseshoe -> MSD: 0.054590072963382814 | MSFE: 2.456760058055936 | ALPL: -21.491278330012456 | elapsed time: 839.110152\n",
      "Run: 3, M: 3 & prior: horseshoe -> MSD: 0.03402956103922543 | MSFE: 3.3638201437179376 | ALPL: -28.326079429063384 | elapsed time: 839.144788\n",
      "Run: 7, M: 3 & prior: horseshoe -> MSD: 0.056345473550832796 | MSFE: 1.7107319907868546 | ALPL: -20.14890092846447 | elapsed time: 839.418515\n",
      "Run: 8, M: 3 & prior: horseshoe -> MSD: 0.04614824330003289 | MSFE: 1.2040509732821532 | ALPL: -29.22113372930519 | elapsed time: 839.895527\n",
      "Run: 12, M: 3 & prior: horseshoe -> MSD: 0.03371322037820577 | MSFE: 0.7685414825182932 | ALPL: -31.461605399584315 | elapsed time: 840.082224\n",
      "Run: 11, M: 3 & prior: horseshoe -> MSD: 0.0512699444021556 | MSFE: 1.3286554817605425 | ALPL: -24.22754527716655 | elapsed time: 840.681672\n",
      "Run: 9, M: 3 & prior: horseshoe -> MSD: 0.02554002018660298 | MSFE: 3.751661092780991 | ALPL: -29.586508971716484 | elapsed time: 840.911023\n",
      "Run: 5, M: 3 & prior: horseshoe -> MSD: 0.04462281645094133 | MSFE: 1.487277540861925 | ALPL: -28.894066490018236 | elapsed time: 841.077177\n",
      "Run: 15, M: 3 & prior: horseshoe -> MSD: 0.04389736311390241 | MSFE: 1.9797008802138623 | ALPL: -26.95664327252537 | elapsed time: 841.73151\n",
      "Run: 14, M: 3 & prior: horseshoe -> MSD: 0.03296831159046949 | MSFE: 1.5148014666282825 | ALPL: -31.273279225517427 | elapsed time: 841.828502\n",
      "Run: 13, M: 3 & prior: horseshoe -> MSD: 0.046505574908750374 | MSFE: 1.7653079333846935 | ALPL: -30.389196165895353 | elapsed time: 842.074616\n",
      "Run: 16, M: 3 & prior: horseshoe -> MSD: 0.04204338732472826 | MSFE: 2.2838334488709613 | ALPL: -28.532718749627286 | elapsed time: 842.4186\n",
      "Run: 1, M: 3 & prior: horseshoe -> MSD: 0.0356932846484717 | MSFE: 2.0572014717172618 | ALPL: -28.530587271674904 | elapsed time: 842.826744\n",
      "Run: 2, M: 3 & prior: horseshoe -> MSD: 0.033201053761108476 | MSFE: 1.3863125095973348 | ALPL: -27.74216677195501 | elapsed time: 843.348093\n"
     ]
    }
   ],
   "source": [
    "multiprocessing_run(\"horseshoe\",M)"
   ]
  },
  {
   "cell_type": "markdown",
   "metadata": {},
   "source": [
    "#### M = 3, $p_{0} = 0.40$ and $T = 100$"
   ]
  },
  {
   "cell_type": "code",
   "execution_count": 12,
   "metadata": {},
   "outputs": [],
   "source": [
    "def simulation_run(run, M, prior):\n",
    "    \n",
    "    start_time = time.time()\n",
    "    \n",
    "    # Fixed for simulation\n",
    "    T = 100\n",
    "    p = 1\n",
    "    train = 75\n",
    "    sparsity = 0.40\n",
    "    \n",
    "    y = np.loadtxt(f'../simulations/datasets/y_{M}_{T}_{p}_{sparsity}_{run}_het_py.csv', delimiter=\",\")\n",
    "    coefficients = np.loadtxt(f'../simulations/datasets/coefficients_{M}_{T}_{p}_{sparsity}_{run}_het_py.csv', delimiter=\",\")\n",
    "    \n",
    "    y_matrix_contemp, X_matrix_contemp = generate_contemp_matrices(T, M, p, y)\n",
    "    \n",
    "    # Contemperanous values added \n",
    "    msfe_contemp, alpl_contemp, mt1t_full_contemp, mt1t_coeff_contemp, sigma_contemp, ar_model = tvp_ar_contemp(T, M, p, train, X_matrix_contemp, y_matrix_contemp, prior, print_status=False, iterations=100)\n",
    "    msd_contemp = np.mean((mt1t_coeff_contemp - coefficients[:,1:train])**2)\n",
    "    \n",
    "    elapsed_time = time.time() - start_time\n",
    "    \n",
    "    print(f'Run: {run}, M: {M} & prior: {prior} -> MSD: {msd_contemp} | MSFE: {msfe_contemp.mean()} | ALPL: {alpl_contemp.mean()} | elapsed time: {round(elapsed_time,6)}')\n",
    "    \n",
    "    return [msfe_contemp, alpl_contemp, msd_contemp, M, prior]"
   ]
  },
  {
   "cell_type": "code",
   "execution_count": 13,
   "metadata": {},
   "outputs": [
    {
     "name": "stdout",
     "output_type": "stream",
     "text": [
      "Run: 5, M: 3 & prior: svss -> MSD: 0.052717697786817355 | MSFE: 2.656869478774109 | ALPL: -34.823538211402266 | elapsed time: 124.002173\n",
      "Run: 4, M: 3 & prior: svss -> MSD: 0.03945326401986126 | MSFE: 0.7472732823881812 | ALPL: -35.56857958874501 | elapsed time: 145.07048\n",
      "Run: 3, M: 3 & prior: svss -> MSD: 0.042213670457323035 | MSFE: 1.8135400408528584 | ALPL: -35.531687085729644 | elapsed time: 150.747431\n",
      "Run: 12, M: 3 & prior: svss -> MSD: 0.036266041990926784 | MSFE: 1.423609765728122 | ALPL: -35.63634390236838 | elapsed time: 155.196322\n",
      "Run: 9, M: 3 & prior: svss -> MSD: 0.039115897571197086 | MSFE: 1.2653566673561203 | ALPL: -35.64400447133617 | elapsed time: 163.917435\n",
      "Run: 7, M: 3 & prior: svss -> MSD: 0.047984211337493934 | MSFE: 1.3782809073434896 | ALPL: -34.76971409300489 | elapsed time: 177.823391\n",
      "Run: 14, M: 3 & prior: svss -> MSD: 0.04855269229019527 | MSFE: 1.2998028422759509 | ALPL: -34.69807853585111 | elapsed time: 178.867116\n",
      "Run: 8, M: 3 & prior: svss -> MSD: 0.0355693866288384 | MSFE: 3.2567132200284536 | ALPL: -34.930964044814885 | elapsed time: 191.510453\n",
      "Run: 2, M: 3 & prior: svss -> MSD: 0.061933982076667664 | MSFE: 2.4807118271188937 | ALPL: -34.31246910882183 | elapsed time: 198.486406\n",
      "Run: 11, M: 3 & prior: svss -> MSD: 0.033010906505971216 | MSFE: 1.773946189625585 | ALPL: -35.34281738129596 | elapsed time: 202.981942\n",
      "Run: 13, M: 3 & prior: svss -> MSD: 0.04645498964875881 | MSFE: 1.6094162413906643 | ALPL: -35.899170135786605 | elapsed time: 204.486691\n",
      "Run: 10, M: 3 & prior: svss -> MSD: 0.043127367612035894 | MSFE: 1.1456694776365661 | ALPL: -34.648391370591284 | elapsed time: 229.567007\n",
      "Run: 1, M: 3 & prior: svss -> MSD: 0.05467868809822067 | MSFE: 1.4866193647925972 | ALPL: -35.84512102184054 | elapsed time: 244.493293\n",
      "Run: 6, M: 3 & prior: svss -> MSD: 0.04357925478678128 | MSFE: 1.0061808657119755 | ALPL: -35.30556452873182 | elapsed time: 250.689384\n",
      "Run: 15, M: 3 & prior: svss -> MSD: 0.03555624566429378 | MSFE: 1.8770477240636014 | ALPL: -35.78159691939632 | elapsed time: 263.048767\n",
      "Run: 16, M: 3 & prior: svss -> MSD: 0.054626394439151287 | MSFE: 0.9728275195070765 | ALPL: -35.8625396936442 | elapsed time: 297.589025\n"
     ]
    }
   ],
   "source": [
    "multiprocessing_run(\"svss\",M)"
   ]
  },
  {
   "cell_type": "code",
   "execution_count": 14,
   "metadata": {},
   "outputs": [
    {
     "name": "stdout",
     "output_type": "stream",
     "text": [
      "Run: 4, M: 3 & prior: lasso_alternative -> MSD: 0.03373209926996448 | MSFE: 0.7556040658806228 | ALPL: -27.48468049287802 | elapsed time: 31.509284\n",
      "Run: 2, M: 3 & prior: lasso_alternative -> MSD: 0.05034403187770087 | MSFE: 2.0384332919866495 | ALPL: -19.502053667194474 | elapsed time: 31.793823\n",
      "Run: 3, M: 3 & prior: lasso_alternative -> MSD: 0.04235384309642415 | MSFE: 1.7572164875771947 | ALPL: -29.41930999831404 | elapsed time: 31.842527\n",
      "Run: 1, M: 3 & prior: lasso_alternative -> MSD: 0.03043428679556112 | MSFE: 1.4341348809351508 | ALPL: -30.155914102454737 | elapsed time: 32.0917\n",
      "Run: 11, M: 3 & prior: lasso_alternative -> MSD: 0.029585216333440516 | MSFE: 1.8304520067829921 | ALPL: -27.037458021180868 | elapsed time: 32.662606\n",
      "Run: 8, M: 3 & prior: lasso_alternative -> MSD: 0.040653464407163706 | MSFE: 3.2251080775428758 | ALPL: -26.777420982584722 | elapsed time: 32.800198\n",
      "Run: 5, M: 3 & prior: lasso_alternative -> MSD: 0.03376925031790566 | MSFE: 2.780475038405445 | ALPL: -23.755949502341522 | elapsed time: 34.135356\n",
      "Run: 6, M: 3 & prior: lasso_alternative -> MSD: 0.03648424015368654 | MSFE: 1.0152751553477546 | ALPL: -26.492800789951467 | elapsed time: 34.276366\n",
      "Run: 10, M: 3 & prior: lasso_alternative -> MSD: 0.055076060884427645 | MSFE: 1.1348339437953812 | ALPL: -18.134501961590903 | elapsed time: 35.070323\n",
      "Run: 7, M: 3 & prior: lasso_alternative -> MSD: 0.04349964942373488 | MSFE: 1.3916529494949526 | ALPL: -28.391935569102053 | elapsed time: 35.173471\n",
      "Run: 14, M: 3 & prior: lasso_alternative -> MSD: 0.03605037173234265 | MSFE: 1.3350534833431926 | ALPL: -24.45206352367472 | elapsed time: 36.739419\n",
      "Run: 9, M: 3 & prior: lasso_alternative -> MSD: 0.04619116555574867 | MSFE: 1.2692196732227665 | ALPL: -29.951763573897953 | elapsed time: 37.064492\n",
      "Run: 12, M: 3 & prior: lasso_alternative -> MSD: 0.03960530081391773 | MSFE: 1.3887110137873122 | ALPL: -23.536926134225517 | elapsed time: 37.238919\n",
      "Run: 13, M: 3 & prior: lasso_alternative -> MSD: 0.038127946235294516 | MSFE: 1.5925562460828002 | ALPL: -23.701874592980445 | elapsed time: 38.365632\n",
      "Run: 15, M: 3 & prior: lasso_alternative -> MSD: 0.03719613691796057 | MSFE: 1.9005849583273324 | ALPL: -30.12836775671989 | elapsed time: 38.937768\n",
      "Run: 16, M: 3 & prior: lasso_alternative -> MSD: 0.032026546657754916 | MSFE: 0.9811315614187206 | ALPL: -23.735887240761958 | elapsed time: 40.405716\n"
     ]
    }
   ],
   "source": [
    "multiprocessing_run(\"lasso_alternative\",M)"
   ]
  },
  {
   "cell_type": "code",
   "execution_count": 15,
   "metadata": {},
   "outputs": [
    {
     "name": "stdout",
     "output_type": "stream",
     "text": [
      "Run: 14, M: 3 & prior: horseshoe -> MSD: 0.04352989950743131 | MSFE: 1.2845069393355946 | ALPL: -28.79474065830169 | elapsed time: 387.610666\n",
      "Run: 15, M: 3 & prior: horseshoe -> MSD: 0.03689005432869582 | MSFE: 1.885855575774963 | ALPL: -31.13777186862921 | elapsed time: 387.897618\n",
      "Run: 9, M: 3 & prior: horseshoe -> MSD: 0.0348653900194121 | MSFE: 1.2624022032147066 | ALPL: -28.19326408226867 | elapsed time: 388.427358\n",
      "Run: 7, M: 3 & prior: horseshoe -> MSD: 0.04536826995724151 | MSFE: 1.3807551794574473 | ALPL: -30.666279150595443 | elapsed time: 388.530833\n",
      "Run: 13, M: 3 & prior: horseshoe -> MSD: 0.03870684988536485 | MSFE: 1.5731882658998044 | ALPL: -25.376840828484777 | elapsed time: 388.83286\n",
      "Run: 11, M: 3 & prior: horseshoe -> MSD: 0.03503329205316674 | MSFE: 1.8001887621943307 | ALPL: -29.911577689650418 | elapsed time: 389.144468\n",
      "Run: 2, M: 3 & prior: horseshoe -> MSD: 0.05432409543838904 | MSFE: 1.913485099555029 | ALPL: -20.777971811305335 | elapsed time: 389.196067\n",
      "Run: 3, M: 3 & prior: horseshoe -> MSD: 0.03431761783807246 | MSFE: 1.7484209272408728 | ALPL: -29.06506596375179 | elapsed time: 389.551882\n",
      "Run: 12, M: 3 & prior: horseshoe -> MSD: 0.036208957654876306 | MSFE: 1.4016755840698745 | ALPL: -26.402530080367548 | elapsed time: 389.587662\n",
      "Run: 16, M: 3 & prior: horseshoe -> MSD: 0.02854135391812512 | MSFE: 0.9781108762809062 | ALPL: -25.161188221419525 | elapsed time: 390.023149\n",
      "Run: 6, M: 3 & prior: horseshoe -> MSD: 0.03231390099966125 | MSFE: 0.9919607933484317 | ALPL: -30.20859983662948 | elapsed time: 390.156311\n",
      "Run: 8, M: 3 & prior: horseshoe -> MSD: 0.030590051401656253 | MSFE: 3.169348230860134 | ALPL: -28.223778258938385 | elapsed time: 390.21718\n",
      "Run: 1, M: 3 & prior: horseshoe -> MSD: 0.03107241786885328 | MSFE: 1.441687708856255 | ALPL: -30.41365369754179 | elapsed time: 390.551194\n",
      "Run: 10, M: 3 & prior: horseshoe -> MSD: 0.05107584444971846 | MSFE: 1.1297367834307575 | ALPL: -23.14246775850775 | elapsed time: 390.880688\n",
      "Run: 5, M: 3 & prior: horseshoe -> MSD: 0.04542747967179939 | MSFE: 2.597889074061521 | ALPL: -27.490059640590644 | elapsed time: 391.017669\n",
      "Run: 4, M: 3 & prior: horseshoe -> MSD: 0.0366039972309585 | MSFE: 0.7513236093070281 | ALPL: -29.45903400790952 | elapsed time: 391.594217\n"
     ]
    }
   ],
   "source": [
    "multiprocessing_run(\"horseshoe\",M)"
   ]
  },
  {
   "cell_type": "markdown",
   "metadata": {},
   "source": [
    "#### M = 3, $p_{0} = 0.20$ and $T = 100$"
   ]
  },
  {
   "cell_type": "code",
   "execution_count": 16,
   "metadata": {},
   "outputs": [],
   "source": [
    "def simulation_run(run, M, prior):\n",
    "    \n",
    "    start_time = time.time()\n",
    "    \n",
    "    # Fixed for simulation\n",
    "    T = 100\n",
    "    p = 1\n",
    "    train = 75\n",
    "    sparsity = 0.20\n",
    "    \n",
    "    y = np.loadtxt(f'../simulations/datasets/y_{M}_{T}_{p}_{sparsity}_{run}_het_py.csv', delimiter=\",\")\n",
    "    coefficients = np.loadtxt(f'../simulations/datasets/coefficients_{M}_{T}_{p}_{sparsity}_{run}_het_py.csv', delimiter=\",\")\n",
    "    \n",
    "    y_matrix_contemp, X_matrix_contemp = generate_contemp_matrices(T, M, p, y)\n",
    "    \n",
    "    # Contemperanous values added \n",
    "    msfe_contemp, alpl_contemp, mt1t_full_contemp, mt1t_coeff_contemp, sigma_contemp, ar_model = tvp_ar_contemp(T, M, p, train, X_matrix_contemp, y_matrix_contemp, prior, print_status=False, iterations=100)\n",
    "    msd_contemp = np.mean((mt1t_coeff_contemp - coefficients[:,1:train])**2)\n",
    "    \n",
    "    elapsed_time = time.time() - start_time\n",
    "    \n",
    "    print(f'Run: {run}, M: {M} & prior: {prior} -> MSD: {msd_contemp} | MSFE: {msfe_contemp.mean()} | ALPL: {alpl_contemp.mean()} | elapsed time: {round(elapsed_time,6)}')\n",
    "    \n",
    "    return [msfe_contemp, alpl_contemp, msd_contemp, M, prior]"
   ]
  },
  {
   "cell_type": "code",
   "execution_count": 17,
   "metadata": {},
   "outputs": [
    {
     "name": "stdout",
     "output_type": "stream",
     "text": [
      "Run: 5, M: 3 & prior: svss -> MSD: 0.04254368548612449 | MSFE: 2.6809679790117302 | ALPL: -34.713436866686315 | elapsed time: 139.976903\n",
      "Run: 4, M: 3 & prior: svss -> MSD: 0.030624552965121832 | MSFE: 0.7080076153575416 | ALPL: -35.36680886061198 | elapsed time: 141.136016\n",
      "Run: 3, M: 3 & prior: svss -> MSD: 0.03842461730289905 | MSFE: 1.9472200316868042 | ALPL: -35.440143256959736 | elapsed time: 143.877862\n",
      "Run: 8, M: 3 & prior: svss -> MSD: 0.03489914210870156 | MSFE: 2.955145426688217 | ALPL: -35.09230897964278 | elapsed time: 156.927394\n",
      "Run: 9, M: 3 & prior: svss -> MSD: 0.037342492609068786 | MSFE: 1.265775854438162 | ALPL: -35.69613198119028 | elapsed time: 163.326898\n",
      "Run: 14, M: 3 & prior: svss -> MSD: 0.04855269229019527 | MSFE: 1.2998028422759509 | ALPL: -34.69807853585111 | elapsed time: 179.252224\n",
      "Run: 2, M: 3 & prior: svss -> MSD: 0.060891638182188505 | MSFE: 2.5531182055610886 | ALPL: -34.33004347640682 | elapsed time: 191.658468\n",
      "Run: 12, M: 3 & prior: svss -> MSD: 0.03841078148344426 | MSFE: 1.683445319454713 | ALPL: -35.30686064370566 | elapsed time: 192.617491\n",
      "Run: 11, M: 3 & prior: svss -> MSD: 0.033010906505971216 | MSFE: 1.773946189625585 | ALPL: -35.34281738129596 | elapsed time: 204.312259\n",
      "Run: 7, M: 3 & prior: svss -> MSD: 0.047402917309161643 | MSFE: 1.3478034716466316 | ALPL: -34.82826657809573 | elapsed time: 205.219913\n",
      "Run: 13, M: 3 & prior: svss -> MSD: 0.04645498964875881 | MSFE: 1.6094162413906643 | ALPL: -35.899170135786605 | elapsed time: 205.536531\n",
      "Run: 10, M: 3 & prior: svss -> MSD: 0.037788971024298124 | MSFE: 1.1443164069697613 | ALPL: -34.174137899179904 | elapsed time: 208.879732\n",
      "Run: 1, M: 3 & prior: svss -> MSD: 0.0560852217397491 | MSFE: 1.4888540885456238 | ALPL: -35.59864944251973 | elapsed time: 220.176932\n",
      "Run: 15, M: 3 & prior: svss -> MSD: 0.0355472140993882 | MSFE: 1.8571883439131738 | ALPL: -35.756672441406224 | elapsed time: 221.152267\n",
      "Run: 6, M: 3 & prior: svss -> MSD: 0.04357925478678128 | MSFE: 1.0061808657119755 | ALPL: -35.30556452873182 | elapsed time: 235.988156\n",
      "Run: 16, M: 3 & prior: svss -> MSD: 0.051835400073124566 | MSFE: 1.0145635475605252 | ALPL: -35.88444423622085 | elapsed time: 259.57664\n"
     ]
    }
   ],
   "source": [
    "multiprocessing_run(\"svss\",M)"
   ]
  },
  {
   "cell_type": "code",
   "execution_count": 18,
   "metadata": {},
   "outputs": [
    {
     "name": "stdout",
     "output_type": "stream",
     "text": [
      "Run: 3, M: 3 & prior: lasso_alternative -> MSD: 0.04033958649072311 | MSFE: 1.886289691034292 | ALPL: -27.221572522916887 | elapsed time: 30.284174\n",
      "Run: 2, M: 3 & prior: lasso_alternative -> MSD: 0.04899047520189829 | MSFE: 2.1046633201353107 | ALPL: -18.930677190637823 | elapsed time: 32.348476\n",
      "Run: 11, M: 3 & prior: lasso_alternative -> MSD: 0.029585216333440516 | MSFE: 1.8304520067829921 | ALPL: -27.037458021180868 | elapsed time: 32.562178\n",
      "Run: 8, M: 3 & prior: lasso_alternative -> MSD: 0.04297870287415935 | MSFE: 2.9874365047949722 | ALPL: -28.369054580090406 | elapsed time: 32.610494\n",
      "Run: 1, M: 3 & prior: lasso_alternative -> MSD: 0.029908707118085735 | MSFE: 1.4421220230035683 | ALPL: -28.78021968283184 | elapsed time: 32.988277\n",
      "Run: 4, M: 3 & prior: lasso_alternative -> MSD: 0.039707359800143574 | MSFE: 0.716494024686221 | ALPL: -28.83952547898071 | elapsed time: 33.411833\n",
      "Run: 5, M: 3 & prior: lasso_alternative -> MSD: 0.029354513232838858 | MSFE: 2.699351452164888 | ALPL: -22.58374048240291 | elapsed time: 34.035157\n",
      "Run: 6, M: 3 & prior: lasso_alternative -> MSD: 0.03648424015368654 | MSFE: 1.0152751553477546 | ALPL: -26.492800789951467 | elapsed time: 34.089258\n",
      "Run: 10, M: 3 & prior: lasso_alternative -> MSD: 0.06205793216123812 | MSFE: 1.126825260236156 | ALPL: -20.599965333459124 | elapsed time: 34.702896\n",
      "Run: 7, M: 3 & prior: lasso_alternative -> MSD: 0.04351111849877428 | MSFE: 1.375170184567449 | ALPL: -27.945392147706713 | elapsed time: 35.774194\n",
      "Run: 9, M: 3 & prior: lasso_alternative -> MSD: 0.04523968728015432 | MSFE: 1.2678059154523234 | ALPL: -29.976439321373228 | elapsed time: 35.999426\n",
      "Run: 12, M: 3 & prior: lasso_alternative -> MSD: 0.043445089423640684 | MSFE: 1.576627375190442 | ALPL: -22.255923688820285 | elapsed time: 36.66397\n",
      "Run: 14, M: 3 & prior: lasso_alternative -> MSD: 0.03605037173234265 | MSFE: 1.3350534833431926 | ALPL: -24.45206352367472 | elapsed time: 36.687518\n",
      "Run: 15, M: 3 & prior: lasso_alternative -> MSD: 0.03704832165659399 | MSFE: 1.8823154096054053 | ALPL: -28.523327197170836 | elapsed time: 37.903442\n",
      "Run: 13, M: 3 & prior: lasso_alternative -> MSD: 0.038127946235294516 | MSFE: 1.5925562460828002 | ALPL: -23.701874592980445 | elapsed time: 38.139499\n",
      "Run: 16, M: 3 & prior: lasso_alternative -> MSD: 0.03021034981156546 | MSFE: 1.030418988906646 | ALPL: -21.899641093748826 | elapsed time: 40.215712\n"
     ]
    }
   ],
   "source": [
    "multiprocessing_run(\"lasso_alternative\",M)"
   ]
  },
  {
   "cell_type": "code",
   "execution_count": 19,
   "metadata": {},
   "outputs": [
    {
     "name": "stdout",
     "output_type": "stream",
     "text": [
      "Run: 13, M: 3 & prior: horseshoe -> MSD: 0.03870684988536485 | MSFE: 1.5731882658998044 | ALPL: -25.376840828484777 | elapsed time: 388.173373\n",
      "Run: 9, M: 3 & prior: horseshoe -> MSD: 0.044164938144558526 | MSFE: 1.2513649390656028 | ALPL: -30.63564209910334 | elapsed time: 388.216418\n",
      "Run: 14, M: 3 & prior: horseshoe -> MSD: 0.04352989950743131 | MSFE: 1.2845069393355946 | ALPL: -28.79474065830169 | elapsed time: 388.651009\n",
      "Run: 4, M: 3 & prior: horseshoe -> MSD: 0.04106819019514813 | MSFE: 0.7107971111497506 | ALPL: -29.897230569184096 | elapsed time: 388.938354\n",
      "Run: 5, M: 3 & prior: horseshoe -> MSD: 0.026060635935937368 | MSFE: 2.6872036002145183 | ALPL: -23.455665257487254 | elapsed time: 388.980118\n",
      "Run: 12, M: 3 & prior: horseshoe -> MSD: 0.04240937858624262 | MSFE: 1.6021950493502368 | ALPL: -25.209703939282672 | elapsed time: 389.076218\n",
      "Run: 3, M: 3 & prior: horseshoe -> MSD: 0.03395601301531003 | MSFE: 1.8729640781460317 | ALPL: -28.544904221964767 | elapsed time: 389.132032\n",
      "Run: 16, M: 3 & prior: horseshoe -> MSD: 0.03134338921893948 | MSFE: 1.0133064206678732 | ALPL: -24.955074574113784 | elapsed time: 389.369246\n",
      "Run: 6, M: 3 & prior: horseshoe -> MSD: 0.03231390099966125 | MSFE: 0.9919607933484317 | ALPL: -30.20859983662948 | elapsed time: 389.439383\n",
      "Run: 1, M: 3 & prior: horseshoe -> MSD: 0.03362192303359696 | MSFE: 1.436975825090598 | ALPL: -30.273535148305257 | elapsed time: 389.604124\n",
      "Run: 7, M: 3 & prior: horseshoe -> MSD: 0.04126190937167431 | MSFE: 1.3525026804020812 | ALPL: -30.00443831861435 | elapsed time: 389.841193\n",
      "Run: 2, M: 3 & prior: horseshoe -> MSD: 0.0459767144104573 | MSFE: 2.124104750716441 | ALPL: -22.010943763275026 | elapsed time: 390.073185\n",
      "Run: 10, M: 3 & prior: horseshoe -> MSD: 0.05103237017797193 | MSFE: 1.1252560677628356 | ALPL: -25.458439344869713 | elapsed time: 390.319468\n",
      "Run: 8, M: 3 & prior: horseshoe -> MSD: 0.05320607303185316 | MSFE: 2.9491806628615533 | ALPL: -29.175084544043706 | elapsed time: 390.479222\n",
      "Run: 11, M: 3 & prior: horseshoe -> MSD: 0.03503329205316674 | MSFE: 1.8001887621943307 | ALPL: -29.911577689650418 | elapsed time: 390.589633\n",
      "Run: 15, M: 3 & prior: horseshoe -> MSD: 0.03902503051843088 | MSFE: 1.8748012268946885 | ALPL: -29.846502773566712 | elapsed time: 390.61952\n"
     ]
    }
   ],
   "source": [
    "multiprocessing_run(\"horseshoe\",M)"
   ]
  },
  {
   "cell_type": "markdown",
   "metadata": {},
   "source": [
    "#### M = 7, $p_{0} = 0.40$ and $T = 200$"
   ]
  },
  {
   "cell_type": "code",
   "execution_count": 20,
   "metadata": {},
   "outputs": [],
   "source": [
    "M = 7"
   ]
  },
  {
   "cell_type": "code",
   "execution_count": 21,
   "metadata": {},
   "outputs": [],
   "source": [
    "def simulation_run(run, M, prior):\n",
    "    \n",
    "    start_time = time.time()\n",
    "    \n",
    "    # Fixed for simulation\n",
    "    T = 200\n",
    "    p = 1\n",
    "    train = 175\n",
    "    sparsity = 0.40\n",
    "    \n",
    "    y = np.loadtxt(f'../simulations/datasets/y_{M}_{T}_{p}_{sparsity}_{run}_het_py.csv', delimiter=\",\")\n",
    "    coefficients = np.loadtxt(f'../simulations/datasets/coefficients_{M}_{T}_{p}_{sparsity}_{run}_het_py.csv', delimiter=\",\")\n",
    "    \n",
    "    y_matrix_contemp, X_matrix_contemp = generate_contemp_matrices(T, M, p, y)\n",
    "    \n",
    "    # Contemperanous values added \n",
    "    msfe_contemp, alpl_contemp, mt1t_full_contemp, mt1t_coeff_contemp, sigma_contemp, ar_model = tvp_ar_contemp(T, M, p, train, X_matrix_contemp, y_matrix_contemp, prior, print_status=False, iterations=100)\n",
    "    msd_contemp = np.mean((mt1t_coeff_contemp - coefficients[:,1:train])**2)\n",
    "    \n",
    "    elapsed_time = time.time() - start_time\n",
    "    \n",
    "    print(f'Run: {run}, M: {M} & prior: {prior} -> MSD: {msd_contemp} | MSFE: {msfe_contemp.mean()} | ALPL: {alpl_contemp.mean()} | elapsed time: {round(elapsed_time,6)}')\n",
    "    \n",
    "    return [msfe_contemp, alpl_contemp, msd_contemp, M, prior]"
   ]
  },
  {
   "cell_type": "code",
   "execution_count": 22,
   "metadata": {},
   "outputs": [
    {
     "name": "stdout",
     "output_type": "stream",
     "text": [
      "Run: 15, M: 7 & prior: svss -> MSD: 0.02002713930431129 | MSFE: 7.994512075651677 | ALPL: -34.826425947932506 | elapsed time: 850.434291\n",
      "Run: 12, M: 7 & prior: svss -> MSD: 0.0267255081616881 | MSFE: 5.9432912982088055 | ALPL: -34.369145229553716 | elapsed time: 963.94325\n",
      "Run: 1, M: 7 & prior: svss -> MSD: 0.025129951171168594 | MSFE: 3.912547880802943 | ALPL: -35.79921285668078 | elapsed time: 1006.754546\n",
      "Run: 9, M: 7 & prior: svss -> MSD: 0.025997990684097597 | MSFE: 5.953060993015902 | ALPL: -32.63236579049891 | elapsed time: 1053.020211\n",
      "Run: 6, M: 7 & prior: svss -> MSD: 0.026044271099785656 | MSFE: 4.698970878955717 | ALPL: -35.007485336994414 | elapsed time: 1078.326012\n",
      "Run: 14, M: 7 & prior: svss -> MSD: 0.019583147019622008 | MSFE: 3.5777552090809293 | ALPL: -35.85890459589311 | elapsed time: 1103.949646\n",
      "Run: 8, M: 7 & prior: svss -> MSD: 0.022056491310436355 | MSFE: 7.046744755844544 | ALPL: -34.72252082420003 | elapsed time: 1114.271285\n",
      "Run: 4, M: 7 & prior: svss -> MSD: 0.025747360948630674 | MSFE: 9.590780701705084 | ALPL: -34.815023498941365 | elapsed time: 1140.872716\n",
      "Run: 5, M: 7 & prior: svss -> MSD: 0.03491199908542674 | MSFE: 5.192438098105716 | ALPL: -34.30030616078976 | elapsed time: 1153.264985\n",
      "Run: 2, M: 7 & prior: svss -> MSD: 0.020793399201849017 | MSFE: 4.029186513424246 | ALPL: -34.7895757925975 | elapsed time: 1232.080575\n",
      "Run: 16, M: 7 & prior: svss -> MSD: 0.02066219288565703 | MSFE: 3.44540800300725 | ALPL: -35.13821977584007 | elapsed time: 1271.280722\n",
      "Run: 11, M: 7 & prior: svss -> MSD: 0.026919459325112294 | MSFE: 5.61165376517255 | ALPL: -34.30849101200907 | elapsed time: 1301.249021\n",
      "Run: 3, M: 7 & prior: svss -> MSD: 0.030045101398099877 | MSFE: 5.229558666624316 | ALPL: -35.215132326796976 | elapsed time: 1305.288961\n",
      "Run: 10, M: 7 & prior: svss -> MSD: 0.023738303918476422 | MSFE: 3.3066245854720195 | ALPL: -36.05632189383872 | elapsed time: 1342.080112\n",
      "Run: 13, M: 7 & prior: svss -> MSD: 0.030964942834472358 | MSFE: 5.432730622005102 | ALPL: -35.17520928323171 | elapsed time: 1384.327978\n",
      "Run: 7, M: 7 & prior: svss -> MSD: 0.02512404960737876 | MSFE: 2.0113389503369743 | ALPL: -36.01460517609944 | elapsed time: 1476.964185\n"
     ]
    }
   ],
   "source": [
    "multiprocessing_run(\"svss\",M)"
   ]
  },
  {
   "cell_type": "code",
   "execution_count": 23,
   "metadata": {},
   "outputs": [
    {
     "name": "stdout",
     "output_type": "stream",
     "text": [
      "Run: 1, M: 7 & prior: lasso_alternative -> MSD: 0.01694145357993569 | MSFE: 3.8316852415505473 | ALPL: -28.741280880971146 | elapsed time: 208.672167\n",
      "Run: 6, M: 7 & prior: lasso_alternative -> MSD: 0.021496993958305618 | MSFE: 4.594177050218526 | ALPL: -29.718645897999536 | elapsed time: 211.776249\n",
      "Run: 15, M: 7 & prior: lasso_alternative -> MSD: 0.018823191742188234 | MSFE: 7.597561576351594 | ALPL: -30.77852436059718 | elapsed time: 213.586655\n",
      "Run: 4, M: 7 & prior: lasso_alternative -> MSD: 0.019185821227369344 | MSFE: 9.03532348387738 | ALPL: -31.339918599772332 | elapsed time: 213.844154\n",
      "Run: 5, M: 7 & prior: lasso_alternative -> MSD: 0.019934856423996967 | MSFE: 4.88903455138221 | ALPL: -28.888908684727134 | elapsed time: 214.748614\n",
      "Run: 2, M: 7 & prior: lasso_alternative -> MSD: 0.020998952722245095 | MSFE: 3.980469568936716 | ALPL: -29.515586765837377 | elapsed time: 216.761811\n",
      "Run: 14, M: 7 & prior: lasso_alternative -> MSD: 0.02027752345158827 | MSFE: 3.5622432704224725 | ALPL: -29.696657003841405 | elapsed time: 217.699212\n",
      "Run: 16, M: 7 & prior: lasso_alternative -> MSD: 0.019887515775914924 | MSFE: 3.3026341466690203 | ALPL: -27.20923627110634 | elapsed time: 219.003056\n",
      "Run: 3, M: 7 & prior: lasso_alternative -> MSD: 0.01619096810595111 | MSFE: 5.156869960265276 | ALPL: -28.916526973600135 | elapsed time: 219.533924\n",
      "Run: 9, M: 7 & prior: lasso_alternative -> MSD: 0.02473154873281132 | MSFE: 4.983659578863897 | ALPL: -26.117311413491006 | elapsed time: 219.932141\n",
      "Run: 13, M: 7 & prior: lasso_alternative -> MSD: 0.025638339455110574 | MSFE: 4.816702255015802 | ALPL: -24.267262049598074 | elapsed time: 220.668471\n",
      "Run: 10, M: 7 & prior: lasso_alternative -> MSD: 0.022078756802133535 | MSFE: 3.2364543081150092 | ALPL: -29.598521894710238 | elapsed time: 222.466681\n",
      "Run: 12, M: 7 & prior: lasso_alternative -> MSD: 0.024572427217331213 | MSFE: 5.486339783683729 | ALPL: -24.210143615339014 | elapsed time: 225.30323\n",
      "Run: 8, M: 7 & prior: lasso_alternative -> MSD: 0.01970392184750726 | MSFE: 6.719605122252342 | ALPL: -29.774308854969526 | elapsed time: 227.378871\n",
      "Run: 11, M: 7 & prior: lasso_alternative -> MSD: 0.02012267501877239 | MSFE: 5.431931690947182 | ALPL: -28.738570773023596 | elapsed time: 231.060878\n",
      "Run: 7, M: 7 & prior: lasso_alternative -> MSD: 0.018918180498233326 | MSFE: 2.06676090857964 | ALPL: -28.29136493867252 | elapsed time: 232.140084\n"
     ]
    }
   ],
   "source": [
    "multiprocessing_run(\"lasso_alternative\",M)"
   ]
  },
  {
   "cell_type": "code",
   "execution_count": 24,
   "metadata": {},
   "outputs": [
    {
     "name": "stdout",
     "output_type": "stream",
     "text": [
      "Run: 6, M: 7 & prior: horseshoe -> MSD: 0.021023979029744972 | MSFE: 4.575967408817256 | ALPL: -30.450968415141343 | elapsed time: 2005.86909\n",
      "Run: 9, M: 7 & prior: horseshoe -> MSD: 0.02246642041568409 | MSFE: 5.370447397372686 | ALPL: -28.596505760034603 | elapsed time: 2025.670383\n",
      "Run: 5, M: 7 & prior: horseshoe -> MSD: 0.019370340291183792 | MSFE: 4.865286633728935 | ALPL: -29.63817929512538 | elapsed time: 2038.079623\n",
      "Run: 15, M: 7 & prior: horseshoe -> MSD: 0.0193967548748689 | MSFE: 7.63754023014423 | ALPL: -31.104570441284817 | elapsed time: 2052.000031\n",
      "Run: 11, M: 7 & prior: horseshoe -> MSD: 0.019222843139646277 | MSFE: 5.398352488348012 | ALPL: -29.97101719989707 | elapsed time: 2055.188229\n",
      "Run: 8, M: 7 & prior: horseshoe -> MSD: 0.01802474273682977 | MSFE: 6.719080925084286 | ALPL: -30.62626998037044 | elapsed time: 2068.99699\n",
      "Run: 12, M: 7 & prior: horseshoe -> MSD: 0.022568965933062506 | MSFE: 5.15569740422524 | ALPL: -25.75582934529416 | elapsed time: 2075.194024\n",
      "Run: 16, M: 7 & prior: horseshoe -> MSD: 0.0174561431725381 | MSFE: 3.3171674666608 | ALPL: -29.577501926867903 | elapsed time: 2087.871779\n",
      "Run: 7, M: 7 & prior: horseshoe -> MSD: 0.01787556559048783 | MSFE: 2.0350711047057732 | ALPL: -29.852023052789328 | elapsed time: 2088.666699\n",
      "Run: 10, M: 7 & prior: horseshoe -> MSD: 0.019590850002399875 | MSFE: 3.207452789833429 | ALPL: -31.13253423811858 | elapsed time: 2106.701149\n",
      "Run: 14, M: 7 & prior: horseshoe -> MSD: 0.01907365471142915 | MSFE: 3.5473188535470825 | ALPL: -31.272063342676752 | elapsed time: 2111.358459\n",
      "Run: 3, M: 7 & prior: horseshoe -> MSD: 0.016279139019427593 | MSFE: 5.153680672694394 | ALPL: -30.010860464999833 | elapsed time: 2141.274852\n",
      "Run: 2, M: 7 & prior: horseshoe -> MSD: 0.019489783544012533 | MSFE: 3.9292919907150603 | ALPL: -31.305737875833984 | elapsed time: 2155.994774\n",
      "Run: 1, M: 7 & prior: horseshoe -> MSD: 0.01613533978517991 | MSFE: 3.7985583663398 | ALPL: -30.39541560422356 | elapsed time: 2213.98542\n",
      "Run: 13, M: 7 & prior: horseshoe -> MSD: 0.018894955532253826 | MSFE: 5.088815166780343 | ALPL: -30.318072595931064 | elapsed time: 2242.548304\n",
      "Run: 4, M: 7 & prior: horseshoe -> MSD: 0.01826974653684631 | MSFE: 8.979484744108923 | ALPL: -31.83163091589525 | elapsed time: 2259.520013\n"
     ]
    }
   ],
   "source": [
    "multiprocessing_run(\"horseshoe\",M)"
   ]
  },
  {
   "cell_type": "markdown",
   "metadata": {},
   "source": [
    "#### M = 7, $p_{0} = 0.20$ and $T = 200$"
   ]
  },
  {
   "cell_type": "code",
   "execution_count": 25,
   "metadata": {},
   "outputs": [],
   "source": [
    "def simulation_run(run, M, prior):\n",
    "    \n",
    "    start_time = time.time()\n",
    "    \n",
    "    # Fixed for simulation\n",
    "    T = 200\n",
    "    p = 1\n",
    "    train = 175\n",
    "    sparsity = 0.20\n",
    "    \n",
    "    y = np.loadtxt(f'../simulations/datasets/y_{M}_{T}_{p}_{sparsity}_{run}_het_py.csv', delimiter=\",\")\n",
    "    coefficients = np.loadtxt(f'../simulations/datasets/coefficients_{M}_{T}_{p}_{sparsity}_{run}_het_py.csv', delimiter=\",\")\n",
    "    \n",
    "    y_matrix_contemp, X_matrix_contemp = generate_contemp_matrices(T, M, p, y)\n",
    "    \n",
    "    # Contemperanous values added \n",
    "    msfe_contemp, alpl_contemp, mt1t_full_contemp, mt1t_coeff_contemp, sigma_contemp, ar_model = tvp_ar_contemp(T, M, p, train, X_matrix_contemp, y_matrix_contemp, prior, print_status=False, iterations=100)\n",
    "    msd_contemp = np.mean((mt1t_coeff_contemp - coefficients[:,1:train])**2)\n",
    "    \n",
    "    elapsed_time = time.time() - start_time\n",
    "    \n",
    "    print(f'Run: {run}, M: {M} & prior: {prior} -> MSD: {msd_contemp} | MSFE: {msfe_contemp.mean()} | ALPL: {alpl_contemp.mean()} | elapsed time: {round(elapsed_time,6)}')\n",
    "    \n",
    "    return [msfe_contemp, alpl_contemp, msd_contemp, M, prior]"
   ]
  },
  {
   "cell_type": "code",
   "execution_count": 26,
   "metadata": {},
   "outputs": [
    {
     "name": "stdout",
     "output_type": "stream",
     "text": [
      "Run: 15, M: 7 & prior: svss -> MSD: 0.022343771979766173 | MSFE: 8.028705939101151 | ALPL: -34.221531805558236 | elapsed time: 925.756895\n",
      "Run: 2, M: 7 & prior: svss -> MSD: 0.015691247721776935 | MSFE: 3.4941242150936547 | ALPL: -35.53611190073549 | elapsed time: 960.779688\n",
      "Run: 14, M: 7 & prior: svss -> MSD: 0.018537725359463592 | MSFE: 3.1514980357378626 | ALPL: -36.093099209458366 | elapsed time: 1028.415904\n",
      "Run: 1, M: 7 & prior: svss -> MSD: 0.022273328801429185 | MSFE: 3.5778504125822965 | ALPL: -35.51543327266525 | elapsed time: 1091.359931\n",
      "Run: 10, M: 7 & prior: svss -> MSD: 0.01955645176321795 | MSFE: 3.333361814269903 | ALPL: -35.42683503454204 | elapsed time: 1100.384156\n",
      "Run: 8, M: 7 & prior: svss -> MSD: 0.020249281567526204 | MSFE: 4.848169320232046 | ALPL: -34.85979477638423 | elapsed time: 1160.994368\n",
      "Run: 4, M: 7 & prior: svss -> MSD: 0.01806832867780393 | MSFE: 3.73641115906459 | ALPL: -35.775967704772 | elapsed time: 1266.61614\n",
      "Run: 16, M: 7 & prior: svss -> MSD: 0.022609801518302705 | MSFE: 6.4969186213051735 | ALPL: -34.46091215234053 | elapsed time: 1279.803847\n",
      "Run: 9, M: 7 & prior: svss -> MSD: 0.022392509154525796 | MSFE: 4.575067841634363 | ALPL: -33.96488455364685 | elapsed time: 1296.746186\n",
      "Run: 13, M: 7 & prior: svss -> MSD: 0.021734934731457708 | MSFE: 3.1296020037052914 | ALPL: -35.88142480828249 | elapsed time: 1310.497724\n",
      "Run: 12, M: 7 & prior: svss -> MSD: 0.016037232608662053 | MSFE: 2.702027834372903 | ALPL: -35.21135869511292 | elapsed time: 1368.230438\n",
      "Run: 11, M: 7 & prior: svss -> MSD: 0.022430031367055726 | MSFE: 7.430263289925543 | ALPL: -34.45974449708304 | elapsed time: 1375.717782\n",
      "Run: 7, M: 7 & prior: svss -> MSD: 0.019376066253014006 | MSFE: 2.2634893894164074 | ALPL: -35.826493372230075 | elapsed time: 1463.191708\n",
      "Run: 5, M: 7 & prior: svss -> MSD: 0.025134979413822808 | MSFE: 3.0879095985201612 | ALPL: -35.79590938916573 | elapsed time: 1502.025357\n",
      "Run: 3, M: 7 & prior: svss -> MSD: 0.0242224068424202 | MSFE: 5.283158971371408 | ALPL: -34.761609456449946 | elapsed time: 1554.099381\n",
      "Run: 6, M: 7 & prior: svss -> MSD: 0.02599213049382576 | MSFE: 5.525934713825599 | ALPL: -34.63365911960554 | elapsed time: 1805.387368\n"
     ]
    }
   ],
   "source": [
    "multiprocessing_run(\"svss\",M)"
   ]
  },
  {
   "cell_type": "code",
   "execution_count": 27,
   "metadata": {},
   "outputs": [
    {
     "name": "stdout",
     "output_type": "stream",
     "text": [
      "Run: 1, M: 7 & prior: lasso_alternative -> MSD: 0.02024921733170962 | MSFE: 3.489198951527288 | ALPL: -29.625992926619478 | elapsed time: 193.470944\n",
      "Run: 10, M: 7 & prior: lasso_alternative -> MSD: 0.021381404019094743 | MSFE: 3.261743641615487 | ALPL: -30.19785647945618 | elapsed time: 210.093485\n",
      "Run: 16, M: 7 & prior: lasso_alternative -> MSD: 0.020006411568636993 | MSFE: 5.930993554397412 | ALPL: -28.71064934666196 | elapsed time: 212.057098\n",
      "Run: 15, M: 7 & prior: lasso_alternative -> MSD: 0.022345293706172557 | MSFE: 7.653667866396234 | ALPL: -31.14255775369739 | elapsed time: 212.289396\n",
      "Run: 5, M: 7 & prior: lasso_alternative -> MSD: 0.02215250061750841 | MSFE: 3.0547183723576232 | ALPL: -27.897896054625626 | elapsed time: 212.995723\n",
      "Run: 2, M: 7 & prior: lasso_alternative -> MSD: 0.019247879633056936 | MSFE: 3.4717136298208713 | ALPL: -28.414378776108776 | elapsed time: 218.093648\n",
      "Run: 6, M: 7 & prior: lasso_alternative -> MSD: 0.02358630852194969 | MSFE: 5.354435503045689 | ALPL: -30.48104135533154 | elapsed time: 223.24746\n",
      "Run: 11, M: 7 & prior: lasso_alternative -> MSD: 0.017826502588340034 | MSFE: 7.055530518963648 | ALPL: -29.2010468717218 | elapsed time: 223.396844\n",
      "Run: 12, M: 7 & prior: lasso_alternative -> MSD: 0.028069975023880266 | MSFE: 2.7547322032999393 | ALPL: -29.24452363231982 | elapsed time: 223.795775\n",
      "Run: 14, M: 7 & prior: lasso_alternative -> MSD: 0.02417882543911661 | MSFE: 3.1706612603726043 | ALPL: -28.874048645216526 | elapsed time: 224.080411\n",
      "Run: 4, M: 7 & prior: lasso_alternative -> MSD: 0.019101134352542543 | MSFE: 3.841523755719009 | ALPL: -29.395625048938925 | elapsed time: 224.527844\n",
      "Run: 13, M: 7 & prior: lasso_alternative -> MSD: 0.030101299159961084 | MSFE: 3.081293181163285 | ALPL: -27.256711918039855 | elapsed time: 228.840254\n",
      "Run: 7, M: 7 & prior: lasso_alternative -> MSD: 0.022097929683610365 | MSFE: 2.3218414149151116 | ALPL: -28.069001722313633 | elapsed time: 234.20056\n",
      "Run: 3, M: 7 & prior: lasso_alternative -> MSD: 0.017351967250365554 | MSFE: 5.161457606340391 | ALPL: -28.864928199783748 | elapsed time: 234.977604\n",
      "Run: 8, M: 7 & prior: lasso_alternative -> MSD: 0.020363480731969592 | MSFE: 4.838130545939475 | ALPL: -28.746825615407744 | elapsed time: 235.166553\n",
      "Run: 9, M: 7 & prior: lasso_alternative -> MSD: 0.023339951431757718 | MSFE: 4.301552319075881 | ALPL: -27.92864257826845 | elapsed time: 320.533489\n"
     ]
    }
   ],
   "source": [
    "multiprocessing_run(\"lasso_alternative\",M)"
   ]
  },
  {
   "cell_type": "code",
   "execution_count": 28,
   "metadata": {},
   "outputs": [
    {
     "name": "stdout",
     "output_type": "stream",
     "text": [
      "Run: 5, M: 7 & prior: horseshoe -> MSD: 0.021532192944053265 | MSFE: 3.0439937374157133 | ALPL: -29.40453764968515 | elapsed time: 1923.390969\n",
      "Run: 9, M: 7 & prior: horseshoe -> MSD: 0.02223759020451668 | MSFE: 4.34390782884852 | ALPL: -29.185686348221353 | elapsed time: 2010.562743\n",
      "Run: 6, M: 7 & prior: horseshoe -> MSD: 0.021226480364342843 | MSFE: 5.340325974081729 | ALPL: -30.760626533998668 | elapsed time: 2034.652185\n",
      "Run: 15, M: 7 & prior: horseshoe -> MSD: 0.02025606991146275 | MSFE: 7.690900420978581 | ALPL: -31.390175361170193 | elapsed time: 2036.688914\n",
      "Run: 8, M: 7 & prior: horseshoe -> MSD: 0.018224520789354805 | MSFE: 4.803630892753702 | ALPL: -30.282176928207782 | elapsed time: 2054.29817\n",
      "Run: 7, M: 7 & prior: horseshoe -> MSD: 0.02015937268922945 | MSFE: 2.275043335096208 | ALPL: -29.33629761168679 | elapsed time: 2056.656274\n",
      "Run: 16, M: 7 & prior: horseshoe -> MSD: 0.01764780637952519 | MSFE: 6.016364174304981 | ALPL: -29.36374916057967 | elapsed time: 2084.878047\n",
      "Run: 12, M: 7 & prior: horseshoe -> MSD: 0.02351823382515086 | MSFE: 2.716969031935667 | ALPL: -30.218513217409843 | elapsed time: 2085.703731\n",
      "Run: 10, M: 7 & prior: horseshoe -> MSD: 0.021112165650045128 | MSFE: 3.2315619091614822 | ALPL: -31.163710652543962 | elapsed time: 2099.289963\n",
      "Run: 2, M: 7 & prior: horseshoe -> MSD: 0.01772516131701767 | MSFE: 3.447652043089497 | ALPL: -30.59465579177596 | elapsed time: 2101.570302\n",
      "Run: 13, M: 7 & prior: horseshoe -> MSD: 0.02422141652284364 | MSFE: 3.044423243864375 | ALPL: -30.1051514630849 | elapsed time: 2109.057707\n",
      "Run: 14, M: 7 & prior: horseshoe -> MSD: 0.021335502199816975 | MSFE: 3.1545820108225353 | ALPL: -30.422560109894455 | elapsed time: 2157.826009\n",
      "Run: 3, M: 7 & prior: horseshoe -> MSD: 0.01711187302018317 | MSFE: 5.176961263683985 | ALPL: -29.786200126779846 | elapsed time: 2158.972637\n",
      "Run: 4, M: 7 & prior: horseshoe -> MSD: 0.019558332967027015 | MSFE: 3.7669652930422415 | ALPL: -30.832857105902505 | elapsed time: 2172.680463\n",
      "Run: 1, M: 7 & prior: horseshoe -> MSD: 0.018144608056004808 | MSFE: 3.479810049320231 | ALPL: -30.704197724265878 | elapsed time: 2189.908748\n",
      "Run: 11, M: 7 & prior: horseshoe -> MSD: 0.015679724842905314 | MSFE: 7.021376097015844 | ALPL: -31.408719513626185 | elapsed time: 2196.019467\n"
     ]
    }
   ],
   "source": [
    "multiprocessing_run(\"horseshoe\",M)"
   ]
  },
  {
   "cell_type": "markdown",
   "metadata": {},
   "source": [
    "#### M = 7, $p_{0} = 0.40$ and $T = 100$"
   ]
  },
  {
   "cell_type": "code",
   "execution_count": 29,
   "metadata": {},
   "outputs": [],
   "source": [
    "def simulation_run(run, M, prior):\n",
    "    \n",
    "    start_time = time.time()\n",
    "    \n",
    "    # Fixed for simulation\n",
    "    T = 100\n",
    "    p = 1\n",
    "    train = 75\n",
    "    sparsity = 0.40\n",
    "    \n",
    "    y = np.loadtxt(f'../simulations/datasets/y_{M}_{T}_{p}_{sparsity}_{run}_het_py.csv', delimiter=\",\")\n",
    "    coefficients = np.loadtxt(f'../simulations/datasets/coefficients_{M}_{T}_{p}_{sparsity}_{run}_het_py.csv', delimiter=\",\")\n",
    "    \n",
    "    y_matrix_contemp, X_matrix_contemp = generate_contemp_matrices(T, M, p, y)\n",
    "    \n",
    "    # Contemperanous values added \n",
    "    msfe_contemp, alpl_contemp, mt1t_full_contemp, mt1t_coeff_contemp, sigma_contemp, ar_model = tvp_ar_contemp(T, M, p, train, X_matrix_contemp, y_matrix_contemp, prior, print_status=False, iterations=100)\n",
    "    msd_contemp = np.mean((mt1t_coeff_contemp - coefficients[:,1:train])**2)\n",
    "    \n",
    "    elapsed_time = time.time() - start_time\n",
    "    \n",
    "    print(f'Run: {run}, M: {M} & prior: {prior} -> MSD: {msd_contemp} | MSFE: {msfe_contemp.mean()} | ALPL: {alpl_contemp.mean()} | elapsed time: {round(elapsed_time,6)}')\n",
    "    \n",
    "    return [msfe_contemp, alpl_contemp, msd_contemp, M, prior]"
   ]
  },
  {
   "cell_type": "code",
   "execution_count": 30,
   "metadata": {},
   "outputs": [
    {
     "name": "stdout",
     "output_type": "stream",
     "text": [
      "Run: 2, M: 7 & prior: svss -> MSD: 0.022350508994279716 | MSFE: 3.2408972081896987 | ALPL: -35.201602759505136 | elapsed time: 290.42136\n",
      "Run: 13, M: 7 & prior: svss -> MSD: 0.025649042351692936 | MSFE: 5.014621699190508 | ALPL: -34.70633202034337 | elapsed time: 369.665714\n",
      "Run: 16, M: 7 & prior: svss -> MSD: 0.022201299554203413 | MSFE: 2.874170676296302 | ALPL: -35.46669984259657 | elapsed time: 384.684494\n",
      "Run: 7, M: 7 & prior: svss -> MSD: 0.018591898944709636 | MSFE: 2.0582352626229024 | ALPL: -35.495847878462214 | elapsed time: 393.171702\n",
      "Run: 10, M: 7 & prior: svss -> MSD: 0.027535044208850293 | MSFE: 3.4380783604011578 | ALPL: -35.47452621664077 | elapsed time: 397.44232\n",
      "Run: 1, M: 7 & prior: svss -> MSD: 0.021924516081104267 | MSFE: 3.1448883418107325 | ALPL: -35.529071600411484 | elapsed time: 461.431662\n",
      "Run: 8, M: 7 & prior: svss -> MSD: 0.02254597337086895 | MSFE: 2.7753144738365676 | ALPL: -35.04880289319778 | elapsed time: 475.246614\n",
      "Run: 14, M: 7 & prior: svss -> MSD: 0.01955529543487707 | MSFE: 2.0360112570485636 | ALPL: -35.14492255132529 | elapsed time: 481.531336\n",
      "Run: 9, M: 7 & prior: svss -> MSD: 0.01849978300777049 | MSFE: 2.677339110324856 | ALPL: -35.3642858758614 | elapsed time: 484.88109\n",
      "Run: 11, M: 7 & prior: svss -> MSD: 0.0198872043711339 | MSFE: 1.9950974775019457 | ALPL: -35.867763687417686 | elapsed time: 517.252572\n",
      "Run: 5, M: 7 & prior: svss -> MSD: 0.019500230911107724 | MSFE: 1.7403037140846573 | ALPL: -34.80678369507994 | elapsed time: 519.664352\n",
      "Run: 3, M: 7 & prior: svss -> MSD: 0.020296021610534173 | MSFE: 2.6506193760381467 | ALPL: -35.66326026589948 | elapsed time: 530.122879\n",
      "Run: 15, M: 7 & prior: svss -> MSD: 0.01974541138551174 | MSFE: 1.6493560295672267 | ALPL: -35.600159742264296 | elapsed time: 533.399015\n",
      "Run: 6, M: 7 & prior: svss -> MSD: 0.021138928355754438 | MSFE: 1.8474769431964926 | ALPL: -34.81382445166766 | elapsed time: 550.506656\n",
      "Run: 4, M: 7 & prior: svss -> MSD: 0.02071586463600879 | MSFE: 2.090884361446607 | ALPL: -35.91435737932924 | elapsed time: 611.149907\n",
      "Run: 12, M: 7 & prior: svss -> MSD: 0.022697615790659632 | MSFE: 2.1167381085657504 | ALPL: -35.81493301626875 | elapsed time: 621.565366\n"
     ]
    }
   ],
   "source": [
    "multiprocessing_run(\"svss\",M)"
   ]
  },
  {
   "cell_type": "code",
   "execution_count": 31,
   "metadata": {},
   "outputs": [
    {
     "name": "stdout",
     "output_type": "stream",
     "text": [
      "Run: 16, M: 7 & prior: lasso_alternative -> MSD: 0.017920694059802844 | MSFE: 2.839697352510348 | ALPL: -29.004153359996792 | elapsed time: 89.090494\n",
      "Run: 8, M: 7 & prior: lasso_alternative -> MSD: 0.02579058358081693 | MSFE: 2.8711960605689 | ALPL: -25.99098552895299 | elapsed time: 89.716142\n",
      "Run: 10, M: 7 & prior: lasso_alternative -> MSD: 0.020195856072779655 | MSFE: 3.2422404606549646 | ALPL: -28.465429785551095 | elapsed time: 92.26752\n",
      "Run: 1, M: 7 & prior: lasso_alternative -> MSD: 0.016183950483627797 | MSFE: 3.008545125800411 | ALPL: -30.165371893342844 | elapsed time: 93.665996\n",
      "Run: 13, M: 7 & prior: lasso_alternative -> MSD: 0.02463584824040201 | MSFE: 4.722543057218742 | ALPL: -28.200130478274836 | elapsed time: 94.407005\n",
      "Run: 5, M: 7 & prior: lasso_alternative -> MSD: 0.021969401039014583 | MSFE: 1.731960730336052 | ALPL: -28.58817128978268 | elapsed time: 94.922385\n",
      "Run: 15, M: 7 & prior: lasso_alternative -> MSD: 0.02127035949036428 | MSFE: 1.6757223434195863 | ALPL: -29.313865008618905 | elapsed time: 95.841518\n",
      "Run: 2, M: 7 & prior: lasso_alternative -> MSD: 0.018018948799995257 | MSFE: 2.935167199674094 | ALPL: -28.271644755731373 | elapsed time: 95.858412\n",
      "Run: 7, M: 7 & prior: lasso_alternative -> MSD: 0.02701991559875404 | MSFE: 2.0841628306834337 | ALPL: -27.754119714834328 | elapsed time: 95.984443\n",
      "Run: 11, M: 7 & prior: lasso_alternative -> MSD: 0.03008123443887889 | MSFE: 1.9644969092882905 | ALPL: -29.143098914002692 | elapsed time: 97.088\n",
      "Run: 3, M: 7 & prior: lasso_alternative -> MSD: 0.028239363524501328 | MSFE: 2.6197649483470187 | ALPL: -29.287270016964026 | elapsed time: 98.25502\n",
      "Run: 9, M: 7 & prior: lasso_alternative -> MSD: 0.034119191703936395 | MSFE: 2.707224457516732 | ALPL: -27.17624816981204 | elapsed time: 100.351308\n",
      "Run: 14, M: 7 & prior: lasso_alternative -> MSD: 0.0247032518345692 | MSFE: 2.078423088123972 | ALPL: -29.57667616717977 | elapsed time: 100.668116\n",
      "Run: 4, M: 7 & prior: lasso_alternative -> MSD: 0.026266487688160513 | MSFE: 2.0572905130835446 | ALPL: -28.989529383848186 | elapsed time: 102.087017\n",
      "Run: 12, M: 7 & prior: lasso_alternative -> MSD: 0.022593526256512217 | MSFE: 2.1787890378570944 | ALPL: -29.350791779912495 | elapsed time: 104.365401\n",
      "Run: 6, M: 7 & prior: lasso_alternative -> MSD: 0.025044515951071857 | MSFE: 1.8549166975155806 | ALPL: -26.50513733273491 | elapsed time: 104.913825\n"
     ]
    }
   ],
   "source": [
    "multiprocessing_run(\"lasso_alternative\",M)"
   ]
  },
  {
   "cell_type": "code",
   "execution_count": 32,
   "metadata": {},
   "outputs": [
    {
     "name": "stdout",
     "output_type": "stream",
     "text": [
      "Run: 5, M: 7 & prior: horseshoe -> MSD: 0.02248597352874678 | MSFE: 1.7176292876291972 | ALPL: -29.514767236172126 | elapsed time: 866.846961\n",
      "Run: 15, M: 7 & prior: horseshoe -> MSD: 0.020988701387081365 | MSFE: 1.6518568251860248 | ALPL: -29.915132498910594 | elapsed time: 878.530255\n",
      "Run: 14, M: 7 & prior: horseshoe -> MSD: 0.02775469800900334 | MSFE: 2.0619803082475676 | ALPL: -30.32127563533375 | elapsed time: 883.791573\n",
      "Run: 4, M: 7 & prior: horseshoe -> MSD: 0.024272610195469214 | MSFE: 2.0525162457222352 | ALPL: -30.51044942045144 | elapsed time: 901.79404\n",
      "Run: 7, M: 7 & prior: horseshoe -> MSD: 0.026036098503380435 | MSFE: 2.055959841207637 | ALPL: -29.120930307605718 | elapsed time: 904.051978\n",
      "Run: 2, M: 7 & prior: horseshoe -> MSD: 0.017716605962186882 | MSFE: 3.0107329940224923 | ALPL: -29.313084408580295 | elapsed time: 907.085439\n",
      "Run: 6, M: 7 & prior: horseshoe -> MSD: 0.025106775518443543 | MSFE: 1.8365644129170955 | ALPL: -27.468540940933217 | elapsed time: 911.818735\n",
      "Run: 16, M: 7 & prior: horseshoe -> MSD: 0.019753517859483895 | MSFE: 2.836886296273843 | ALPL: -30.28715592017879 | elapsed time: 912.891999\n",
      "Run: 3, M: 7 & prior: horseshoe -> MSD: 0.025792173528656325 | MSFE: 2.612574326057721 | ALPL: -30.20772228278618 | elapsed time: 915.331504\n",
      "Run: 13, M: 7 & prior: horseshoe -> MSD: 0.021516015478294244 | MSFE: 4.739725396077059 | ALPL: -28.92224986519446 | elapsed time: 926.052519\n",
      "Run: 12, M: 7 & prior: horseshoe -> MSD: 0.020132427035836967 | MSFE: 2.139614294753513 | ALPL: -30.086895835159634 | elapsed time: 932.102377\n",
      "Run: 10, M: 7 & prior: horseshoe -> MSD: 0.017364854864144685 | MSFE: 3.267889469454304 | ALPL: -29.975050325734177 | elapsed time: 937.526932\n",
      "Run: 8, M: 7 & prior: horseshoe -> MSD: 0.022478292330784792 | MSFE: 3.29185125163996 | ALPL: -26.415767525425267 | elapsed time: 943.305923\n",
      "Run: 1, M: 7 & prior: horseshoe -> MSD: 0.013457925722740882 | MSFE: 3.015163575500825 | ALPL: -30.836360960108525 | elapsed time: 967.707314\n",
      "Run: 11, M: 7 & prior: horseshoe -> MSD: 0.024544572367879405 | MSFE: 1.9478491514160543 | ALPL: -30.909842859341428 | elapsed time: 968.103377\n",
      "Run: 9, M: 7 & prior: horseshoe -> MSD: 0.02912340594294152 | MSFE: 2.6502085584171304 | ALPL: -29.92228256380436 | elapsed time: 987.521255\n"
     ]
    }
   ],
   "source": [
    "multiprocessing_run(\"horseshoe\",M)"
   ]
  },
  {
   "cell_type": "markdown",
   "metadata": {},
   "source": [
    "#### M = 7, $p_{0} = 0.20$ and $T = 100$"
   ]
  },
  {
   "cell_type": "code",
   "execution_count": 33,
   "metadata": {},
   "outputs": [],
   "source": [
    "def simulation_run(run, M, prior):\n",
    "    \n",
    "    start_time = time.time()\n",
    "    \n",
    "    # Fixed for simulation\n",
    "    T = 100\n",
    "    p = 1\n",
    "    train = 75\n",
    "    sparsity = 0.20\n",
    "    \n",
    "    y = np.loadtxt(f'../simulations/datasets/y_{M}_{T}_{p}_{sparsity}_{run}_het_py.csv', delimiter=\",\")\n",
    "    coefficients = np.loadtxt(f'../simulations/datasets/coefficients_{M}_{T}_{p}_{sparsity}_{run}_het_py.csv', delimiter=\",\")\n",
    "    \n",
    "    y_matrix_contemp, X_matrix_contemp = generate_contemp_matrices(T, M, p, y)\n",
    "    \n",
    "    # Contemperanous values added \n",
    "    msfe_contemp, alpl_contemp, mt1t_full_contemp, mt1t_coeff_contemp, sigma_contemp, ar_model = tvp_ar_contemp(T, M, p, train, X_matrix_contemp, y_matrix_contemp, prior, print_status=False, iterations=100)\n",
    "    msd_contemp = np.mean((mt1t_coeff_contemp - coefficients[:,1:train])**2)\n",
    "    \n",
    "    elapsed_time = time.time() - start_time\n",
    "    \n",
    "    print(f'Run: {run}, M: {M} & prior: {prior} -> MSD: {msd_contemp} | MSFE: {msfe_contemp.mean()} | ALPL: {alpl_contemp.mean()} | elapsed time: {round(elapsed_time,6)}')\n",
    "    \n",
    "    return [msfe_contemp, alpl_contemp, msd_contemp, M, prior]"
   ]
  },
  {
   "cell_type": "code",
   "execution_count": 34,
   "metadata": {},
   "outputs": [
    {
     "name": "stdout",
     "output_type": "stream",
     "text": [
      "Run: 14, M: 7 & prior: svss -> MSD: 0.01755126130829826 | MSFE: 2.1643185102104407 | ALPL: -35.04384766576243 | elapsed time: 392.790134\n",
      "Run: 13, M: 7 & prior: svss -> MSD: 0.02092389799592144 | MSFE: 3.8618002683721384 | ALPL: -34.543491072144626 | elapsed time: 411.91551\n",
      "Run: 2, M: 7 & prior: svss -> MSD: 0.0184197406788605 | MSFE: 1.7465973764507874 | ALPL: -35.77745549235395 | elapsed time: 412.525416\n",
      "Run: 16, M: 7 & prior: svss -> MSD: 0.017580492870323816 | MSFE: 2.9177089278727375 | ALPL: -35.60193048287197 | elapsed time: 421.773916\n",
      "Run: 7, M: 7 & prior: svss -> MSD: 0.015232635852046466 | MSFE: 1.8346683903743428 | ALPL: -35.66810545320183 | elapsed time: 426.19371\n",
      "Run: 11, M: 7 & prior: svss -> MSD: 0.015590652134504161 | MSFE: 1.5896328388610268 | ALPL: -35.507057585800965 | elapsed time: 457.094856\n",
      "Run: 5, M: 7 & prior: svss -> MSD: 0.019472922533700247 | MSFE: 1.5318737046540098 | ALPL: -35.42589225188735 | elapsed time: 460.545196\n",
      "Run: 1, M: 7 & prior: svss -> MSD: 0.016638166138071092 | MSFE: 3.1028948684282867 | ALPL: -35.10139283533661 | elapsed time: 476.684912\n",
      "Run: 8, M: 7 & prior: svss -> MSD: 0.02001545436781044 | MSFE: 2.378634092100148 | ALPL: -35.26675021043966 | elapsed time: 500.840242\n",
      "Run: 10, M: 7 & prior: svss -> MSD: 0.021742131441902394 | MSFE: 2.2919511796612095 | ALPL: -35.30230735330677 | elapsed time: 529.259811\n",
      "Run: 9, M: 7 & prior: svss -> MSD: 0.017104524731187728 | MSFE: 2.674136688437609 | ALPL: -34.880156478838984 | elapsed time: 549.204861\n",
      "Run: 15, M: 7 & prior: svss -> MSD: 0.018885568090059483 | MSFE: 1.5841251907833702 | ALPL: -35.50583479111335 | elapsed time: 590.25631\n",
      "Run: 4, M: 7 & prior: svss -> MSD: 0.018867503718394095 | MSFE: 2.259456807101306 | ALPL: -35.84116027145349 | elapsed time: 597.070772\n",
      "Run: 3, M: 7 & prior: svss -> MSD: 0.019154867041001705 | MSFE: 2.548168591544056 | ALPL: -35.4530969459202 | elapsed time: 657.525453\n",
      "Run: 12, M: 7 & prior: svss -> MSD: 0.019506432781506815 | MSFE: 2.1077359783249197 | ALPL: -35.783411936894396 | elapsed time: 661.783923\n",
      "Run: 6, M: 7 & prior: svss -> MSD: 0.019779410701845395 | MSFE: 1.8276437210091996 | ALPL: -34.5397028794593 | elapsed time: 703.109516\n"
     ]
    }
   ],
   "source": [
    "multiprocessing_run(\"svss\",M)"
   ]
  },
  {
   "cell_type": "code",
   "execution_count": 35,
   "metadata": {},
   "outputs": [
    {
     "name": "stdout",
     "output_type": "stream",
     "text": [
      "Run: 16, M: 7 & prior: lasso_alternative -> MSD: 0.020005187915600436 | MSFE: 2.8854075131548713 | ALPL: -30.06892317786388 | elapsed time: 91.505157\n",
      "Run: 1, M: 7 & prior: lasso_alternative -> MSD: 0.017465157374474707 | MSFE: 2.980094331965497 | ALPL: -29.830417038379945 | elapsed time: 92.431634\n",
      "Run: 8, M: 7 & prior: lasso_alternative -> MSD: 0.026852574690805056 | MSFE: 2.4963865056362566 | ALPL: -25.921835607321235 | elapsed time: 93.116453\n",
      "Run: 2, M: 7 & prior: lasso_alternative -> MSD: 0.02031299167887625 | MSFE: 1.7377689732986514 | ALPL: -29.447093291723768 | elapsed time: 97.320148\n",
      "Run: 13, M: 7 & prior: lasso_alternative -> MSD: 0.025514756289814255 | MSFE: 3.7965341874608196 | ALPL: -30.29904295679038 | elapsed time: 97.635478\n",
      "Run: 9, M: 7 & prior: lasso_alternative -> MSD: 0.032127572128351045 | MSFE: 2.685313638907791 | ALPL: -27.023646805965022 | elapsed time: 98.591964\n",
      "Run: 10, M: 7 & prior: lasso_alternative -> MSD: 0.020435636204342168 | MSFE: 2.358349458631009 | ALPL: -28.987035804110135 | elapsed time: 99.562935\n",
      "Run: 11, M: 7 & prior: lasso_alternative -> MSD: 0.031097291414154068 | MSFE: 1.6104644014231004 | ALPL: -29.07513569513532 | elapsed time: 99.737944\n",
      "Run: 7, M: 7 & prior: lasso_alternative -> MSD: 0.026718586631561025 | MSFE: 1.8770445135562766 | ALPL: -28.02254752551648 | elapsed time: 99.956459\n",
      "Run: 3, M: 7 & prior: lasso_alternative -> MSD: 0.03099017691783961 | MSFE: 2.5390131039616675 | ALPL: -28.694874064709268 | elapsed time: 100.249\n",
      "Run: 5, M: 7 & prior: lasso_alternative -> MSD: 0.023293415056805274 | MSFE: 1.5607639228905081 | ALPL: -28.40852897738914 | elapsed time: 101.689539\n",
      "Run: 14, M: 7 & prior: lasso_alternative -> MSD: 0.024392706365206306 | MSFE: 2.202227676536234 | ALPL: -29.939337739282387 | elapsed time: 102.382135\n",
      "Run: 15, M: 7 & prior: lasso_alternative -> MSD: 0.0206765429492181 | MSFE: 1.618142497528339 | ALPL: -28.767132860508653 | elapsed time: 102.489546\n",
      "Run: 4, M: 7 & prior: lasso_alternative -> MSD: 0.026440671278511203 | MSFE: 2.228957128141426 | ALPL: -30.032440639594498 | elapsed time: 104.76979\n",
      "Run: 12, M: 7 & prior: lasso_alternative -> MSD: 0.0238615163570205 | MSFE: 2.185887413123224 | ALPL: -29.85600301094984 | elapsed time: 106.319836\n",
      "Run: 6, M: 7 & prior: lasso_alternative -> MSD: 0.028590589664849064 | MSFE: 1.8466998726096662 | ALPL: -26.42183220434991 | elapsed time: 108.901995\n"
     ]
    }
   ],
   "source": [
    "multiprocessing_run(\"lasso_alternative\",M)"
   ]
  },
  {
   "cell_type": "code",
   "execution_count": 36,
   "metadata": {},
   "outputs": [
    {
     "name": "stdout",
     "output_type": "stream",
     "text": [
      "Run: 10, M: 7 & prior: horseshoe -> MSD: 0.019684430337518877 | MSFE: 2.324217886188737 | ALPL: -30.312621086348525 | elapsed time: 864.137202\n",
      "Run: 5, M: 7 & prior: horseshoe -> MSD: 0.022329107212481773 | MSFE: 1.5417752742540891 | ALPL: -29.64096717168305 | elapsed time: 865.324622\n",
      "Run: 15, M: 7 & prior: horseshoe -> MSD: 0.02131358638569903 | MSFE: 1.5928068523434917 | ALPL: -30.36677709219478 | elapsed time: 873.564863\n",
      "Run: 14, M: 7 & prior: horseshoe -> MSD: 0.024278569737909914 | MSFE: 2.1865004629295797 | ALPL: -30.08655284506104 | elapsed time: 874.282136\n",
      "Run: 4, M: 7 & prior: horseshoe -> MSD: 0.023968532050088732 | MSFE: 2.2267660411418406 | ALPL: -30.10969014916339 | elapsed time: 890.024217\n",
      "Run: 2, M: 7 & prior: horseshoe -> MSD: 0.020706508542573755 | MSFE: 1.7218200176541059 | ALPL: -30.398659018083006 | elapsed time: 890.357961\n",
      "Run: 16, M: 7 & prior: horseshoe -> MSD: 0.01916542636874967 | MSFE: 2.886162413880664 | ALPL: -30.295993866458097 | elapsed time: 893.227338\n",
      "Run: 3, M: 7 & prior: horseshoe -> MSD: 0.025527666465032215 | MSFE: 2.5280364005807305 | ALPL: -29.568221406389295 | elapsed time: 900.173829\n",
      "Run: 7, M: 7 & prior: horseshoe -> MSD: 0.0252618546651453 | MSFE: 1.8461274480037808 | ALPL: -29.38402417120308 | elapsed time: 901.385638\n",
      "Run: 13, M: 7 & prior: horseshoe -> MSD: 0.023606344089386274 | MSFE: 3.7800306204978438 | ALPL: -30.753596842402786 | elapsed time: 907.869456\n",
      "Run: 12, M: 7 & prior: horseshoe -> MSD: 0.025148399693604998 | MSFE: 2.158529125868263 | ALPL: -30.526032882063273 | elapsed time: 913.303244\n",
      "Run: 8, M: 7 & prior: horseshoe -> MSD: 0.022660325320877653 | MSFE: 2.389638599813936 | ALPL: -28.81174170353898 | elapsed time: 922.058991\n",
      "Run: 6, M: 7 & prior: horseshoe -> MSD: 0.027784220421798286 | MSFE: 1.8335787600582456 | ALPL: -27.172296564374285 | elapsed time: 929.562375\n",
      "Run: 11, M: 7 & prior: horseshoe -> MSD: 0.025883155419603416 | MSFE: 1.5907174839344007 | ALPL: -30.37155303040839 | elapsed time: 945.02574\n",
      "Run: 1, M: 7 & prior: horseshoe -> MSD: 0.015433224624934941 | MSFE: 2.980224337392837 | ALPL: -30.00041049312403 | elapsed time: 957.164655\n",
      "Run: 9, M: 7 & prior: horseshoe -> MSD: 0.02423555047966074 | MSFE: 2.6436862899774547 | ALPL: -29.432888949308555 | elapsed time: 973.192018\n"
     ]
    }
   ],
   "source": [
    "multiprocessing_run(\"horseshoe\",M)"
   ]
  }
 ],
 "metadata": {
  "kernelspec": {
   "display_name": "Python 3",
   "language": "python",
   "name": "python3"
  },
  "language_info": {
   "codemirror_mode": {
    "name": "ipython",
    "version": 3
   },
   "file_extension": ".py",
   "mimetype": "text/x-python",
   "name": "python",
   "nbconvert_exporter": "python",
   "pygments_lexer": "ipython3",
   "version": "3.7.6"
  }
 },
 "nbformat": 4,
 "nbformat_minor": 4
}
