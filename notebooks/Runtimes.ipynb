{
 "cells": [
  {
   "cell_type": "code",
   "execution_count": 1,
   "metadata": {},
   "outputs": [],
   "source": [
    "%matplotlib inline\n",
    "import time\n",
    "import sys\n",
    "import pandas as pd\n",
    "import numpy as np\n",
    "import matplotlib.pyplot as plt\n",
    "from scipy.stats import norm, multivariate_normal\n",
    "from scipy import io\n",
    "import pickle\n",
    "\n",
    "# Own code\n",
    "sys.path.append(\"../\")\n",
    "from utils.data_utils import generate_dgp_tvp_var, generate_matrices, generate_contemp_matrices\n",
    "from utils.tvp_models import TVPVARModel, tvp_ar_contemp, tvp_ar_non_contemp\n",
    "\n",
    "# Suppress scientific notation in numpy\n",
    "np.set_printoptions(suppress=True)"
   ]
  },
  {
   "cell_type": "code",
   "execution_count": 2,
   "metadata": {},
   "outputs": [],
   "source": [
    "def multiprocessing_run(prior, M):\n",
    "    \n",
    "    import time\n",
    "    import os\n",
    "    from multiprocessing import Pool, Array\n",
    "\n",
    "    # They are going to be some disgusting warnings for the first iterations of the model (has to do with initialization)\n",
    "    import warnings\n",
    "    warnings.filterwarnings(\"ignore\")\n",
    "\n",
    "    np.random.seed(12345)\n",
    "    n_iterations = 16\n",
    "\n",
    "    iterations_set = np.arange(1,n_iterations+1,1)\n",
    "    M = (M,)\n",
    "    prior_list = [prior]#, \"lasso_alternative\", \"horseshoe\"]\n",
    "    args_tuples = [x for sub_list in [x for sub_list in [[[(n, m, prior) for n in iterations_set] for m in M] for prior in prior_list] for x in sub_list] for x in sub_list]\n",
    "\n",
    "    if __name__ == '__main__':\n",
    "\n",
    "        pool = Pool()\n",
    "        simulation_results = pool.starmap(simulation_run, args_tuples)"
   ]
  },
  {
   "cell_type": "markdown",
   "metadata": {},
   "source": [
    "#### M = 3, $p_{0} = 0.40$ and $T = 200$"
   ]
  },
  {
   "cell_type": "code",
   "execution_count": 3,
   "metadata": {},
   "outputs": [],
   "source": [
    "M = 3"
   ]
  },
  {
   "cell_type": "code",
   "execution_count": null,
   "metadata": {},
   "outputs": [],
   "source": [
    "def simulation_run(run, M, prior):\n",
    "    \n",
    "    start_time = time.time()\n",
    "    \n",
    "    # Fixed for simulation\n",
    "    T = 200\n",
    "    p = 1\n",
    "    train = 175\n",
    "    sparsity = 0.40\n",
    "    \n",
    "    y = np.loadtxt(f'../simulations/datasets/y_{M}_{T}_{p}_{sparsity}_{run}_het_py.csv', delimiter=\",\")\n",
    "    coefficients = np.loadtxt(f'../simulations/datasets/coefficients_{M}_{T}_{p}_{sparsity}_{run}_het_py.csv', delimiter=\",\")\n",
    "    \n",
    "    y_matrix_contemp, X_matrix_contemp = generate_contemp_matrices(T, M, p, y)\n",
    "    \n",
    "    # Contemperanous values added \n",
    "    msfe_contemp, alpl_contemp, mt1t_full_contemp, mt1t_coeff_contemp, sigma_contemp, ar_model = tvp_ar_contemp(T, M, p, train, X_matrix_contemp, y_matrix_contemp, prior, print_status=False, iterations=100)\n",
    "    msd_contemp = np.mean((mt1t_coeff_contemp - coefficients[:,1:train])**2)\n",
    "    \n",
    "    elapsed_time = time.time() - start_time\n",
    "    \n",
    "    print(f'Run: {run}, M: {M} & prior: {prior} -> MSD: {msd_contemp} | MSFE: {msfe_contemp.mean()} | ALPL: {alpl_contemp.mean()} | elapsed time: {round(elapsed_time,6)}')\n",
    "    \n",
    "    return [msfe_contemp, alpl_contemp, msd_contemp, M, prior]"
   ]
  },
  {
   "cell_type": "code",
   "execution_count": null,
   "metadata": {},
   "outputs": [],
   "source": [
    "simulation_run(1,3,\"svss\")"
   ]
  },
  {
   "cell_type": "code",
   "execution_count": null,
   "metadata": {},
   "outputs": [],
   "source": [
    "%%time\n",
    "multiprocessing_run(\"svss\",M)"
   ]
  },
  {
   "cell_type": "code",
   "execution_count": null,
   "metadata": {},
   "outputs": [],
   "source": [
    "%%time\n",
    "multiprocessing_run(\"lasso_alternative\",M)"
   ]
  },
  {
   "cell_type": "code",
   "execution_count": null,
   "metadata": {},
   "outputs": [],
   "source": [
    "%%time\n",
    "multiprocessing_run(\"horseshoe\",M)"
   ]
  },
  {
   "cell_type": "markdown",
   "metadata": {},
   "source": [
    "#### M = 3, $p_{0} = 0.20$ and $T = 200$"
   ]
  },
  {
   "cell_type": "code",
   "execution_count": null,
   "metadata": {},
   "outputs": [],
   "source": [
    "def simulation_run(run, M, prior):\n",
    "    \n",
    "    start_time = time.time()\n",
    "    \n",
    "    # Fixed for simulation\n",
    "    T = 200\n",
    "    p = 1\n",
    "    train = 175\n",
    "    sparsity = 0.20\n",
    "    \n",
    "    y = np.loadtxt(f'../simulations/datasets/y_{M}_{T}_{p}_{sparsity}_{run}_het_py.csv', delimiter=\",\")\n",
    "    coefficients = np.loadtxt(f'../simulations/datasets/coefficients_{M}_{T}_{p}_{sparsity}_{run}_het_py.csv', delimiter=\",\")\n",
    "    \n",
    "    y_matrix_contemp, X_matrix_contemp = generate_contemp_matrices(T, M, p, y)\n",
    "    \n",
    "    # Contemperanous values added \n",
    "    msfe_contemp, alpl_contemp, mt1t_full_contemp, mt1t_coeff_contemp, sigma_contemp, ar_model = tvp_ar_contemp(T, M, p, train, X_matrix_contemp, y_matrix_contemp, prior, print_status=False, iterations=100)\n",
    "    msd_contemp = np.mean((mt1t_coeff_contemp - coefficients[:,1:train])**2)\n",
    "    \n",
    "    elapsed_time = time.time() - start_time\n",
    "    \n",
    "    print(f'Run: {run}, M: {M} & prior: {prior} -> MSD: {msd_contemp} | MSFE: {msfe_contemp.mean()} | ALPL: {alpl_contemp.mean()} | elapsed time: {round(elapsed_time,6)}')\n",
    "    \n",
    "    return [msfe_contemp, alpl_contemp, msd_contemp, M, prior]"
   ]
  },
  {
   "cell_type": "code",
   "execution_count": null,
   "metadata": {},
   "outputs": [],
   "source": [
    "multiprocessing_run(\"svss\",M)"
   ]
  },
  {
   "cell_type": "code",
   "execution_count": null,
   "metadata": {},
   "outputs": [],
   "source": [
    "multiprocessing_run(\"lasso_alternative\",M)"
   ]
  },
  {
   "cell_type": "code",
   "execution_count": null,
   "metadata": {},
   "outputs": [],
   "source": [
    "multiprocessing_run(\"horseshoe\",M)"
   ]
  },
  {
   "cell_type": "markdown",
   "metadata": {},
   "source": [
    "#### M = 3, $p_{0} = 0.40$ and $T = 100$"
   ]
  },
  {
   "cell_type": "code",
   "execution_count": 4,
   "metadata": {},
   "outputs": [],
   "source": [
    "def simulation_run(run, M, prior):\n",
    "    \n",
    "    start_time = time.time()\n",
    "    \n",
    "    # Fixed for simulation\n",
    "    T = 100\n",
    "    p = 1\n",
    "    train = 75\n",
    "    sparsity = 0.40\n",
    "    \n",
    "    y = np.loadtxt(f'../simulations/datasets/y_{M}_{T}_{p}_{sparsity}_{run}_het_py.csv', delimiter=\",\")\n",
    "    coefficients = np.loadtxt(f'../simulations/datasets/coefficients_{M}_{T}_{p}_{sparsity}_{run}_het_py.csv', delimiter=\",\")\n",
    "    \n",
    "    y_matrix_contemp, X_matrix_contemp = generate_contemp_matrices(T, M, p, y)\n",
    "    \n",
    "    # Contemperanous values added \n",
    "    msfe_contemp, alpl_contemp, mt1t_full_contemp, mt1t_coeff_contemp, sigma_contemp, ar_model = tvp_ar_contemp(T, M, p, train, X_matrix_contemp, y_matrix_contemp, prior, print_status=False, iterations=100)\n",
    "    msd_contemp = np.mean((mt1t_coeff_contemp - coefficients[:,1:train])**2)\n",
    "    \n",
    "    elapsed_time = time.time() - start_time\n",
    "    \n",
    "    print(f'Run: {run}, M: {M} & prior: {prior} -> MSD: {msd_contemp} | MSFE: {msfe_contemp.mean()} | ALPL: {alpl_contemp.mean()} | elapsed time: {round(elapsed_time,6)}')\n",
    "    \n",
    "    return [msfe_contemp, alpl_contemp, msd_contemp, M, prior]"
   ]
  },
  {
   "cell_type": "code",
   "execution_count": null,
   "metadata": {},
   "outputs": [],
   "source": [
    "multiprocessing_run(\"svss\",M)"
   ]
  },
  {
   "cell_type": "code",
   "execution_count": null,
   "metadata": {},
   "outputs": [],
   "source": [
    "multiprocessing_run(\"lasso_alternative\",M)"
   ]
  },
  {
   "cell_type": "code",
   "execution_count": 5,
   "metadata": {},
   "outputs": [
    {
     "name": "stdout",
     "output_type": "stream",
     "text": [
      "Run: 4, M: 3 & prior: horseshoe -> MSD: 0.019439673226330164 | MSFE: 0.7469295631348887 | ALPL: -30.439087540648764 | elapsed time: 43.559984\n",
      "Run: 1, M: 3 & prior: horseshoe -> MSD: 0.020774176336782045 | MSFE: 1.425240038764073 | ALPL: -31.470528771558122 | elapsed time: 44.611151\n",
      "Run: 8, M: 3 & prior: horseshoe -> MSD: 0.025890535674318097 | MSFE: 3.1928023045485636 | ALPL: -29.30323282008829 | elapsed time: 45.156607\n",
      "Run: 3, M: 3 & prior: horseshoe -> MSD: 0.03168751966098695 | MSFE: 1.748056904244041 | ALPL: -30.42702204570964 | elapsed time: 45.871619\n",
      "Run: 7, M: 3 & prior: horseshoe -> MSD: 0.025884965678871434 | MSFE: 1.3650155935566282 | ALPL: -30.630914671944375 | elapsed time: 46.112856\n",
      "Run: 16, M: 3 & prior: horseshoe -> MSD: 0.012997740555507972 | MSFE: 0.9596426873486433 | ALPL: -28.114881280795615 | elapsed time: 46.490316\n",
      "Run: 15, M: 3 & prior: horseshoe -> MSD: 0.03439334062174744 | MSFE: 1.8681821958367313 | ALPL: -31.059439767560587 | elapsed time: 46.665417\n",
      "Run: 13, M: 3 & prior: horseshoe -> MSD: 0.022078697764642902 | MSFE: 1.5674800342783184 | ALPL: -27.920006501913477 | elapsed time: 46.870895\n",
      "Run: 2, M: 3 & prior: horseshoe -> MSD: 0.0398294346144932 | MSFE: 1.964554302749885 | ALPL: -22.423734924052372 | elapsed time: 47.215915\n",
      "Run: 10, M: 3 & prior: horseshoe -> MSD: 0.04212939541320399 | MSFE: 1.1122357444205855 | ALPL: -23.48737041129633 | elapsed time: 47.724873\n",
      "Run: 5, M: 3 & prior: horseshoe -> MSD: 0.026321435376039298 | MSFE: 2.6323612739511004 | ALPL: -29.366450331869814 | elapsed time: 48.498435\n",
      "Run: 11, M: 3 & prior: horseshoe -> MSD: 0.016937772196243272 | MSFE: 1.7903176712643363 | ALPL: -30.24936067466832 | elapsed time: 49.092132\n",
      "Run: 12, M: 3 & prior: horseshoe -> MSD: 0.02936145772562088 | MSFE: 1.3785578957660745 | ALPL: -28.523481672184055 | elapsed time: 50.821483\n",
      "Run: 14, M: 3 & prior: horseshoe -> MSD: 0.02209590978250818 | MSFE: 1.284570681867201 | ALPL: -29.103454108513418 | elapsed time: 50.844178\n",
      "Run: 6, M: 3 & prior: horseshoe -> MSD: 0.02365041888303028 | MSFE: 0.9819403245160083 | ALPL: -29.42249491867414 | elapsed time: 50.884964\n",
      "Run: 9, M: 3 & prior: horseshoe -> MSD: 0.03418418898076797 | MSFE: 1.2541750709390271 | ALPL: -31.580474550262224 | elapsed time: 51.56904\n"
     ]
    }
   ],
   "source": [
    "multiprocessing_run(\"horseshoe\",M)"
   ]
  },
  {
   "cell_type": "markdown",
   "metadata": {},
   "source": [
    "#### M = 3, $p_{0} = 0.20$ and $T = 100$"
   ]
  },
  {
   "cell_type": "code",
   "execution_count": 6,
   "metadata": {},
   "outputs": [],
   "source": [
    "def simulation_run(run, M, prior):\n",
    "    \n",
    "    start_time = time.time()\n",
    "    \n",
    "    # Fixed for simulation\n",
    "    T = 100\n",
    "    p = 1\n",
    "    train = 75\n",
    "    sparsity = 0.20\n",
    "    \n",
    "    y = np.loadtxt(f'../simulations/datasets/y_{M}_{T}_{p}_{sparsity}_{run}_het_py.csv', delimiter=\",\")\n",
    "    coefficients = np.loadtxt(f'../simulations/datasets/coefficients_{M}_{T}_{p}_{sparsity}_{run}_het_py.csv', delimiter=\",\")\n",
    "    \n",
    "    y_matrix_contemp, X_matrix_contemp = generate_contemp_matrices(T, M, p, y)\n",
    "    \n",
    "    # Contemperanous values added \n",
    "    msfe_contemp, alpl_contemp, mt1t_full_contemp, mt1t_coeff_contemp, sigma_contemp, ar_model = tvp_ar_contemp(T, M, p, train, X_matrix_contemp, y_matrix_contemp, prior, print_status=False, iterations=100)\n",
    "    msd_contemp = np.mean((mt1t_coeff_contemp - coefficients[:,1:train])**2)\n",
    "    \n",
    "    elapsed_time = time.time() - start_time\n",
    "    \n",
    "    print(f'Run: {run}, M: {M} & prior: {prior} -> MSD: {msd_contemp} | MSFE: {msfe_contemp.mean()} | ALPL: {alpl_contemp.mean()} | elapsed time: {round(elapsed_time,6)}')\n",
    "    \n",
    "    return [msfe_contemp, alpl_contemp, msd_contemp, M, prior]"
   ]
  },
  {
   "cell_type": "code",
   "execution_count": null,
   "metadata": {},
   "outputs": [],
   "source": [
    "multiprocessing_run(\"svss\",M)"
   ]
  },
  {
   "cell_type": "code",
   "execution_count": null,
   "metadata": {},
   "outputs": [],
   "source": [
    "multiprocessing_run(\"lasso_alternative\",M)"
   ]
  },
  {
   "cell_type": "code",
   "execution_count": 7,
   "metadata": {},
   "outputs": [
    {
     "name": "stdout",
     "output_type": "stream",
     "text": [
      "Run: 1, M: 3 & prior: horseshoe -> MSD: 0.02218632769982002 | MSFE: 1.4325097658067159 | ALPL: -30.19845264487374 | elapsed time: 49.224456\n",
      "Run: 16, M: 3 & prior: horseshoe -> MSD: 0.012305963949586022 | MSFE: 0.9983418845135883 | ALPL: -26.101298601276834 | elapsed time: 50.443254\n",
      "Run: 7, M: 3 & prior: horseshoe -> MSD: 0.02572410057159032 | MSFE: 1.3443669920546282 | ALPL: -30.653016344881845 | elapsed time: 50.601245\n",
      "Run: 8, M: 3 & prior: horseshoe -> MSD: 0.024680439212961525 | MSFE: 2.944083862765046 | ALPL: -30.558325724821668 | elapsed time: 50.995869\n",
      "Run: 3, M: 3 & prior: horseshoe -> MSD: 0.03238797628539474 | MSFE: 1.8723611544937087 | ALPL: -29.174864931929612 | elapsed time: 51.100446\n",
      "Run: 13, M: 3 & prior: horseshoe -> MSD: 0.022078697764642902 | MSFE: 1.5674800342783184 | ALPL: -27.920006501913477 | elapsed time: 51.753154\n",
      "Run: 10, M: 3 & prior: horseshoe -> MSD: 0.046893737734210024 | MSFE: 1.1181871991815624 | ALPL: -24.78554945644995 | elapsed time: 52.159349\n",
      "Run: 15, M: 3 & prior: horseshoe -> MSD: 0.03427898225007889 | MSFE: 1.849305430604013 | ALPL: -29.725221612763356 | elapsed time: 52.222533\n",
      "Run: 5, M: 3 & prior: horseshoe -> MSD: 0.024071757250080567 | MSFE: 2.632029976872493 | ALPL: -28.439701243646173 | elapsed time: 52.718217\n",
      "Run: 2, M: 3 & prior: horseshoe -> MSD: 0.03759795251105952 | MSFE: 1.98830298984005 | ALPL: -21.90646660402967 | elapsed time: 53.123317\n",
      "Run: 4, M: 3 & prior: horseshoe -> MSD: 0.02159899052556745 | MSFE: 0.7101417202415818 | ALPL: -30.692942611019667 | elapsed time: 53.232937\n",
      "Run: 9, M: 3 & prior: horseshoe -> MSD: 0.033472065330375084 | MSFE: 1.2527481071913333 | ALPL: -31.668318493438754 | elapsed time: 53.267473\n",
      "Run: 11, M: 3 & prior: horseshoe -> MSD: 0.016937772196243272 | MSFE: 1.7903176712643363 | ALPL: -30.24936067466832 | elapsed time: 54.26772\n",
      "Run: 12, M: 3 & prior: horseshoe -> MSD: 0.03179027301778442 | MSFE: 1.5716358369624919 | ALPL: -26.977274389371253 | elapsed time: 55.172335\n",
      "Run: 14, M: 3 & prior: horseshoe -> MSD: 0.02209590978250818 | MSFE: 1.284570681867201 | ALPL: -29.103454108513418 | elapsed time: 55.728077\n",
      "Run: 6, M: 3 & prior: horseshoe -> MSD: 0.02365041888303028 | MSFE: 0.9819403245160083 | ALPL: -29.42249491867414 | elapsed time: 55.842871\n"
     ]
    }
   ],
   "source": [
    "multiprocessing_run(\"horseshoe\",M)"
   ]
  },
  {
   "cell_type": "markdown",
   "metadata": {},
   "source": [
    "#### M = 7, $p_{0} = 0.40$ and $T = 200$"
   ]
  },
  {
   "cell_type": "code",
   "execution_count": 8,
   "metadata": {},
   "outputs": [],
   "source": [
    "M = 7"
   ]
  },
  {
   "cell_type": "code",
   "execution_count": 9,
   "metadata": {},
   "outputs": [],
   "source": [
    "def simulation_run(run, M, prior):\n",
    "    \n",
    "    start_time = time.time()\n",
    "    \n",
    "    # Fixed for simulation\n",
    "    T = 200\n",
    "    p = 1\n",
    "    train = 175\n",
    "    sparsity = 0.40\n",
    "    \n",
    "    y = np.loadtxt(f'../simulations/datasets/y_{M}_{T}_{p}_{sparsity}_{run}_het_py.csv', delimiter=\",\")\n",
    "    coefficients = np.loadtxt(f'../simulations/datasets/coefficients_{M}_{T}_{p}_{sparsity}_{run}_het_py.csv', delimiter=\",\")\n",
    "    \n",
    "    y_matrix_contemp, X_matrix_contemp = generate_contemp_matrices(T, M, p, y)\n",
    "    \n",
    "    # Contemperanous values added \n",
    "    msfe_contemp, alpl_contemp, mt1t_full_contemp, mt1t_coeff_contemp, sigma_contemp, ar_model = tvp_ar_contemp(T, M, p, train, X_matrix_contemp, y_matrix_contemp, prior, print_status=False, iterations=100)\n",
    "    msd_contemp = np.mean((mt1t_coeff_contemp - coefficients[:,1:train])**2)\n",
    "    \n",
    "    elapsed_time = time.time() - start_time\n",
    "    \n",
    "    print(f'Run: {run}, M: {M} & prior: {prior} -> MSD: {msd_contemp} | MSFE: {msfe_contemp.mean()} | ALPL: {alpl_contemp.mean()} | elapsed time: {round(elapsed_time,6)}')\n",
    "    \n",
    "    return [msfe_contemp, alpl_contemp, msd_contemp, M, prior]"
   ]
  },
  {
   "cell_type": "code",
   "execution_count": null,
   "metadata": {},
   "outputs": [],
   "source": [
    "multiprocessing_run(\"svss\",M)"
   ]
  },
  {
   "cell_type": "code",
   "execution_count": null,
   "metadata": {},
   "outputs": [],
   "source": [
    "multiprocessing_run(\"lasso_alternative\",M)"
   ]
  },
  {
   "cell_type": "code",
   "execution_count": 10,
   "metadata": {},
   "outputs": [
    {
     "name": "stdout",
     "output_type": "stream",
     "text": [
      "Run: 9, M: 7 & prior: horseshoe -> MSD: 0.016928410992058496 | MSFE: 5.225861650546065 | ALPL: -28.70809323625562 | elapsed time: 399.042783\n",
      "Run: 3, M: 7 & prior: horseshoe -> MSD: 0.01182977638932928 | MSFE: 5.099454789383466 | ALPL: -29.57658811887578 | elapsed time: 401.890295\n",
      "Run: 5, M: 7 & prior: horseshoe -> MSD: 0.014956496147772561 | MSFE: 4.829312918703357 | ALPL: -29.96162086227478 | elapsed time: 411.085203\n",
      "Run: 12, M: 7 & prior: horseshoe -> MSD: 0.017997511792161223 | MSFE: 4.981670390884561 | ALPL: -26.267697604382523 | elapsed time: 412.029916\n",
      "Run: 6, M: 7 & prior: horseshoe -> MSD: 0.015966505298220492 | MSFE: 4.567937785484504 | ALPL: -30.690444478155563 | elapsed time: 419.843017\n",
      "Run: 15, M: 7 & prior: horseshoe -> MSD: 0.013516900335510963 | MSFE: 7.589761242218486 | ALPL: -31.42825615806749 | elapsed time: 422.927362\n",
      "Run: 4, M: 7 & prior: horseshoe -> MSD: 0.014391339045195213 | MSFE: 8.998548618860866 | ALPL: -31.789138079969344 | elapsed time: 424.279833\n",
      "Run: 11, M: 7 & prior: horseshoe -> MSD: 0.014616875378461297 | MSFE: 5.372449626734873 | ALPL: -29.666023123090127 | elapsed time: 427.430256\n",
      "Run: 2, M: 7 & prior: horseshoe -> MSD: 0.012973558124989614 | MSFE: 3.939469926187668 | ALPL: -31.36938598445748 | elapsed time: 427.551338\n",
      "Run: 16, M: 7 & prior: horseshoe -> MSD: 0.014118304349680906 | MSFE: 3.280212625761674 | ALPL: -29.62307420181465 | elapsed time: 427.969157\n",
      "Run: 1, M: 7 & prior: horseshoe -> MSD: 0.012285091825088683 | MSFE: 3.7930246670663434 | ALPL: -30.373160704670422 | elapsed time: 429.355918\n",
      "Run: 7, M: 7 & prior: horseshoe -> MSD: 0.01301560691153691 | MSFE: 2.026323895471678 | ALPL: -30.0953122463978 | elapsed time: 429.752207\n",
      "Run: 10, M: 7 & prior: horseshoe -> MSD: 0.015419361970767036 | MSFE: 3.2204499850188464 | ALPL: -30.98901166587706 | elapsed time: 433.844057\n",
      "Run: 14, M: 7 & prior: horseshoe -> MSD: 0.014183237724408148 | MSFE: 3.524584629094659 | ALPL: -30.890129739570355 | elapsed time: 438.761709\n",
      "Run: 8, M: 7 & prior: horseshoe -> MSD: 0.01264812701272894 | MSFE: 6.709429622989322 | ALPL: -30.75350983790171 | elapsed time: 439.525945\n",
      "Run: 13, M: 7 & prior: horseshoe -> MSD: 0.01949612593153683 | MSFE: 4.8922022022586145 | ALPL: -27.874071574431873 | elapsed time: 441.911562\n"
     ]
    }
   ],
   "source": [
    "multiprocessing_run(\"horseshoe\",M)"
   ]
  },
  {
   "cell_type": "markdown",
   "metadata": {},
   "source": [
    "#### M = 7, $p_{0} = 0.20$ and $T = 200$"
   ]
  },
  {
   "cell_type": "code",
   "execution_count": 11,
   "metadata": {},
   "outputs": [],
   "source": [
    "def simulation_run(run, M, prior):\n",
    "    \n",
    "    start_time = time.time()\n",
    "    \n",
    "    # Fixed for simulation\n",
    "    T = 200\n",
    "    p = 1\n",
    "    train = 175\n",
    "    sparsity = 0.20\n",
    "    \n",
    "    y = np.loadtxt(f'../simulations/datasets/y_{M}_{T}_{p}_{sparsity}_{run}_het_py.csv', delimiter=\",\")\n",
    "    coefficients = np.loadtxt(f'../simulations/datasets/coefficients_{M}_{T}_{p}_{sparsity}_{run}_het_py.csv', delimiter=\",\")\n",
    "    \n",
    "    y_matrix_contemp, X_matrix_contemp = generate_contemp_matrices(T, M, p, y)\n",
    "    \n",
    "    # Contemperanous values added \n",
    "    msfe_contemp, alpl_contemp, mt1t_full_contemp, mt1t_coeff_contemp, sigma_contemp, ar_model = tvp_ar_contemp(T, M, p, train, X_matrix_contemp, y_matrix_contemp, prior, print_status=False, iterations=100)\n",
    "    msd_contemp = np.mean((mt1t_coeff_contemp - coefficients[:,1:train])**2)\n",
    "    \n",
    "    elapsed_time = time.time() - start_time\n",
    "    \n",
    "    print(f'Run: {run}, M: {M} & prior: {prior} -> MSD: {msd_contemp} | MSFE: {msfe_contemp.mean()} | ALPL: {alpl_contemp.mean()} | elapsed time: {round(elapsed_time,6)}')\n",
    "    \n",
    "    return [msfe_contemp, alpl_contemp, msd_contemp, M, prior]"
   ]
  },
  {
   "cell_type": "code",
   "execution_count": null,
   "metadata": {},
   "outputs": [],
   "source": [
    "multiprocessing_run(\"svss\",M)"
   ]
  },
  {
   "cell_type": "code",
   "execution_count": null,
   "metadata": {},
   "outputs": [],
   "source": [
    "multiprocessing_run(\"lasso_alternative\",M)"
   ]
  },
  {
   "cell_type": "code",
   "execution_count": 12,
   "metadata": {},
   "outputs": [
    {
     "name": "stdout",
     "output_type": "stream",
     "text": [
      "Run: 6, M: 7 & prior: horseshoe -> MSD: 0.01612992878328063 | MSFE: 5.330934337967733 | ALPL: -31.148307546059826 | elapsed time: 417.463613\n",
      "Run: 9, M: 7 & prior: horseshoe -> MSD: 0.015940774648277825 | MSFE: 4.3359153779298385 | ALPL: -29.542868878297426 | elapsed time: 431.710003\n",
      "Run: 3, M: 7 & prior: horseshoe -> MSD: 0.012181885291474936 | MSFE: 5.1085860659115205 | ALPL: -30.020010166421873 | elapsed time: 433.591378\n",
      "Run: 12, M: 7 & prior: horseshoe -> MSD: 0.019852174083289143 | MSFE: 2.703373689912941 | ALPL: -30.527444724928973 | elapsed time: 434.962302\n",
      "Run: 15, M: 7 & prior: horseshoe -> MSD: 0.016477011479126835 | MSFE: 7.646747992730611 | ALPL: -31.80101197596168 | elapsed time: 439.630941\n",
      "Run: 7, M: 7 & prior: horseshoe -> MSD: 0.01449422923193236 | MSFE: 2.265541616635108 | ALPL: -29.761699252515285 | elapsed time: 440.036047\n",
      "Run: 1, M: 7 & prior: horseshoe -> MSD: 0.014031258854691349 | MSFE: 3.468412708854636 | ALPL: -31.14347422793547 | elapsed time: 441.828479\n",
      "Run: 4, M: 7 & prior: horseshoe -> MSD: 0.012955993451240452 | MSFE: 3.783374303713286 | ALPL: -30.68335981180829 | elapsed time: 442.450528\n",
      "Run: 5, M: 7 & prior: horseshoe -> MSD: 0.014998387385006725 | MSFE: 3.0163305989235045 | ALPL: -29.648010185321432 | elapsed time: 443.397683\n",
      "Run: 10, M: 7 & prior: horseshoe -> MSD: 0.014577635423066405 | MSFE: 3.245962224241864 | ALPL: -31.280183121946965 | elapsed time: 444.872289\n",
      "Run: 2, M: 7 & prior: horseshoe -> MSD: 0.012050359907881456 | MSFE: 3.4198680330503644 | ALPL: -30.716454474117562 | elapsed time: 447.820545\n",
      "Run: 11, M: 7 & prior: horseshoe -> MSD: 0.012007571595387014 | MSFE: 6.98371687169948 | ALPL: -30.485358762801745 | elapsed time: 448.467605\n",
      "Run: 16, M: 7 & prior: horseshoe -> MSD: 0.01411067853597735 | MSFE: 5.935283435848387 | ALPL: -30.16207513938768 | elapsed time: 449.3684\n",
      "Run: 8, M: 7 & prior: horseshoe -> MSD: 0.012651546743354215 | MSFE: 4.766376284325253 | ALPL: -30.311232387291113 | elapsed time: 450.403521\n",
      "Run: 13, M: 7 & prior: horseshoe -> MSD: 0.021566166236507364 | MSFE: 3.0571315249399973 | ALPL: -29.07442206754935 | elapsed time: 459.019445\n",
      "Run: 14, M: 7 & prior: horseshoe -> MSD: 0.016853991772166108 | MSFE: 3.1235482092577267 | ALPL: -30.27458040477208 | elapsed time: 459.140004\n"
     ]
    }
   ],
   "source": [
    "multiprocessing_run(\"horseshoe\",M)"
   ]
  },
  {
   "cell_type": "markdown",
   "metadata": {},
   "source": [
    "#### M = 7, $p_{0} = 0.40$ and $T = 100$"
   ]
  },
  {
   "cell_type": "code",
   "execution_count": 13,
   "metadata": {},
   "outputs": [],
   "source": [
    "def simulation_run(run, M, prior):\n",
    "    \n",
    "    start_time = time.time()\n",
    "    \n",
    "    # Fixed for simulation\n",
    "    T = 100\n",
    "    p = 1\n",
    "    train = 75\n",
    "    sparsity = 0.40\n",
    "    \n",
    "    y = np.loadtxt(f'../simulations/datasets/y_{M}_{T}_{p}_{sparsity}_{run}_het_py.csv', delimiter=\",\")\n",
    "    coefficients = np.loadtxt(f'../simulations/datasets/coefficients_{M}_{T}_{p}_{sparsity}_{run}_het_py.csv', delimiter=\",\")\n",
    "    \n",
    "    y_matrix_contemp, X_matrix_contemp = generate_contemp_matrices(T, M, p, y)\n",
    "    \n",
    "    # Contemperanous values added \n",
    "    msfe_contemp, alpl_contemp, mt1t_full_contemp, mt1t_coeff_contemp, sigma_contemp, ar_model = tvp_ar_contemp(T, M, p, train, X_matrix_contemp, y_matrix_contemp, prior, print_status=False, iterations=100)\n",
    "    msd_contemp = np.mean((mt1t_coeff_contemp - coefficients[:,1:train])**2)\n",
    "    \n",
    "    elapsed_time = time.time() - start_time\n",
    "    \n",
    "    print(f'Run: {run}, M: {M} & prior: {prior} -> MSD: {msd_contemp} | MSFE: {msfe_contemp.mean()} | ALPL: {alpl_contemp.mean()} | elapsed time: {round(elapsed_time,6)}')\n",
    "    \n",
    "    return [msfe_contemp, alpl_contemp, msd_contemp, M, prior]"
   ]
  },
  {
   "cell_type": "code",
   "execution_count": null,
   "metadata": {},
   "outputs": [],
   "source": [
    "multiprocessing_run(\"svss\",M)"
   ]
  },
  {
   "cell_type": "code",
   "execution_count": null,
   "metadata": {},
   "outputs": [],
   "source": [
    "multiprocessing_run(\"lasso_alternative\",M)"
   ]
  },
  {
   "cell_type": "code",
   "execution_count": 14,
   "metadata": {},
   "outputs": [
    {
     "name": "stdout",
     "output_type": "stream",
     "text": [
      "Run: 16, M: 7 & prior: horseshoe -> MSD: 0.013215358772422988 | MSFE: 2.810707171517505 | ALPL: -30.53863186690779 | elapsed time: 163.860071\n",
      "Run: 11, M: 7 & prior: horseshoe -> MSD: 0.024040227632483882 | MSFE: 1.945646174570384 | ALPL: -30.55978470432386 | elapsed time: 170.885175\n",
      "Run: 9, M: 7 & prior: horseshoe -> MSD: 0.03014011810587774 | MSFE: 2.6701107515310474 | ALPL: -29.294834771013647 | elapsed time: 172.520821\n",
      "Run: 14, M: 7 & prior: horseshoe -> MSD: 0.02043264998496976 | MSFE: 2.046214635241695 | ALPL: -30.917344632496334 | elapsed time: 172.577168\n",
      "Run: 7, M: 7 & prior: horseshoe -> MSD: 0.020692940861308715 | MSFE: 2.052773014684959 | ALPL: -29.319726765264733 | elapsed time: 173.836554\n",
      "Run: 8, M: 7 & prior: horseshoe -> MSD: 0.021590348611518814 | MSFE: 2.746269645691959 | ALPL: -29.332905862466458 | elapsed time: 175.052384\n",
      "Run: 5, M: 7 & prior: horseshoe -> MSD: 0.01709638020788528 | MSFE: 1.709835406275511 | ALPL: -29.556340303028456 | elapsed time: 175.667401\n",
      "Run: 2, M: 7 & prior: horseshoe -> MSD: 0.014771689217337078 | MSFE: 2.9536313091295305 | ALPL: -29.234067149105403 | elapsed time: 175.844771\n",
      "Run: 10, M: 7 & prior: horseshoe -> MSD: 0.01740799570348904 | MSFE: 3.2175839927181427 | ALPL: -29.754984909951872 | elapsed time: 176.653678\n",
      "Run: 15, M: 7 & prior: horseshoe -> MSD: 0.01490409298927617 | MSFE: 1.6429898420086526 | ALPL: -30.976551951698326 | elapsed time: 177.47835\n",
      "Run: 12, M: 7 & prior: horseshoe -> MSD: 0.016107956747057048 | MSFE: 2.135846264324238 | ALPL: -30.531851097907897 | elapsed time: 177.546571\n",
      "Run: 3, M: 7 & prior: horseshoe -> MSD: 0.024540954959952527 | MSFE: 2.6056918186713824 | ALPL: -30.806141273441668 | elapsed time: 179.093505\n",
      "Run: 4, M: 7 & prior: horseshoe -> MSD: 0.019154571211063936 | MSFE: 2.035313211316105 | ALPL: -30.52977656065366 | elapsed time: 179.316066\n",
      "Run: 6, M: 7 & prior: horseshoe -> MSD: 0.014094517748850463 | MSFE: 1.8326341687084438 | ALPL: -28.851269013502556 | elapsed time: 179.90767\n",
      "Run: 1, M: 7 & prior: horseshoe -> MSD: 0.012091716806376166 | MSFE: 3.009990017135628 | ALPL: -30.918056422473914 | elapsed time: 180.209347\n",
      "Run: 13, M: 7 & prior: horseshoe -> MSD: 0.020288082704910296 | MSFE: 4.72194123980386 | ALPL: -29.811842247913262 | elapsed time: 181.887622\n"
     ]
    }
   ],
   "source": [
    "multiprocessing_run(\"horseshoe\",M)"
   ]
  },
  {
   "cell_type": "markdown",
   "metadata": {},
   "source": [
    "#### M = 7, $p_{0} = 0.20$ and $T = 100$"
   ]
  },
  {
   "cell_type": "code",
   "execution_count": 15,
   "metadata": {},
   "outputs": [],
   "source": [
    "def simulation_run(run, M, prior):\n",
    "    \n",
    "    start_time = time.time()\n",
    "    \n",
    "    # Fixed for simulation\n",
    "    T = 100\n",
    "    p = 1\n",
    "    train = 75\n",
    "    sparsity = 0.20\n",
    "    \n",
    "    y = np.loadtxt(f'../simulations/datasets/y_{M}_{T}_{p}_{sparsity}_{run}_het_py.csv', delimiter=\",\")\n",
    "    coefficients = np.loadtxt(f'../simulations/datasets/coefficients_{M}_{T}_{p}_{sparsity}_{run}_het_py.csv', delimiter=\",\")\n",
    "    \n",
    "    y_matrix_contemp, X_matrix_contemp = generate_contemp_matrices(T, M, p, y)\n",
    "    \n",
    "    # Contemperanous values added \n",
    "    msfe_contemp, alpl_contemp, mt1t_full_contemp, mt1t_coeff_contemp, sigma_contemp, ar_model = tvp_ar_contemp(T, M, p, train, X_matrix_contemp, y_matrix_contemp, prior, print_status=False, iterations=100)\n",
    "    msd_contemp = np.mean((mt1t_coeff_contemp - coefficients[:,1:train])**2)\n",
    "    \n",
    "    elapsed_time = time.time() - start_time\n",
    "    \n",
    "    print(f'Run: {run}, M: {M} & prior: {prior} -> MSD: {msd_contemp} | MSFE: {msfe_contemp.mean()} | ALPL: {alpl_contemp.mean()} | elapsed time: {round(elapsed_time,6)}')\n",
    "    \n",
    "    return [msfe_contemp, alpl_contemp, msd_contemp, M, prior]"
   ]
  },
  {
   "cell_type": "code",
   "execution_count": null,
   "metadata": {},
   "outputs": [],
   "source": [
    "multiprocessing_run(\"svss\",M)"
   ]
  },
  {
   "cell_type": "code",
   "execution_count": null,
   "metadata": {},
   "outputs": [],
   "source": [
    "multiprocessing_run(\"lasso_alternative\",M)"
   ]
  },
  {
   "cell_type": "code",
   "execution_count": 16,
   "metadata": {},
   "outputs": [
    {
     "name": "stdout",
     "output_type": "stream",
     "text": [
      "Run: 16, M: 7 & prior: horseshoe -> MSD: 0.014940289504365522 | MSFE: 2.857558442570216 | ALPL: -31.312002717861684 | elapsed time: 171.068122\n",
      "Run: 14, M: 7 & prior: horseshoe -> MSD: 0.01912192360081559 | MSFE: 2.1677704373467805 | ALPL: -31.40706201370316 | elapsed time: 171.548735\n",
      "Run: 4, M: 7 & prior: horseshoe -> MSD: 0.01857582602302756 | MSFE: 2.2016560070237325 | ALPL: -30.938936514908658 | elapsed time: 172.039924\n",
      "Run: 5, M: 7 & prior: horseshoe -> MSD: 0.019315060020416684 | MSFE: 1.536930630424011 | ALPL: -29.768064030632758 | elapsed time: 173.624417\n",
      "Run: 8, M: 7 & prior: horseshoe -> MSD: 0.022912516286149515 | MSFE: 2.394564303461246 | ALPL: -29.2181806976473 | elapsed time: 173.909481\n",
      "Run: 11, M: 7 & prior: horseshoe -> MSD: 0.025032487717507868 | MSFE: 1.5880921379086974 | ALPL: -30.558949745456758 | elapsed time: 175.586936\n",
      "Run: 9, M: 7 & prior: horseshoe -> MSD: 0.027826357449088786 | MSFE: 2.6596930179341296 | ALPL: -29.31921628253898 | elapsed time: 175.799907\n",
      "Run: 12, M: 7 & prior: horseshoe -> MSD: 0.016194632679310966 | MSFE: 2.139956515053585 | ALPL: -30.820113127184953 | elapsed time: 176.255644\n",
      "Run: 13, M: 7 & prior: horseshoe -> MSD: 0.021386454393399413 | MSFE: 3.7671700772683967 | ALPL: -31.089515300514798 | elapsed time: 177.675971\n",
      "Run: 10, M: 7 & prior: horseshoe -> MSD: 0.015708500227900532 | MSFE: 2.303628394456339 | ALPL: -30.462479162508266 | elapsed time: 177.694085\n",
      "Run: 6, M: 7 & prior: horseshoe -> MSD: 0.016549203424212813 | MSFE: 1.8200771991999591 | ALPL: -28.78415210811847 | elapsed time: 179.387274\n",
      "Run: 15, M: 7 & prior: horseshoe -> MSD: 0.013970436062634728 | MSFE: 1.5842775003367835 | ALPL: -30.521991439457786 | elapsed time: 179.662671\n",
      "Run: 2, M: 7 & prior: horseshoe -> MSD: 0.016785579623619415 | MSFE: 1.7201250095497473 | ALPL: -30.590095200374687 | elapsed time: 180.032917\n",
      "Run: 1, M: 7 & prior: horseshoe -> MSD: 0.01232930817871584 | MSFE: 2.973569652511796 | ALPL: -30.684013353109506 | elapsed time: 180.246425\n",
      "Run: 3, M: 7 & prior: horseshoe -> MSD: 0.02572497096645412 | MSFE: 2.524797916355797 | ALPL: -30.610158036207086 | elapsed time: 180.779229\n",
      "Run: 7, M: 7 & prior: horseshoe -> MSD: 0.019150224294800882 | MSFE: 1.8473969711566784 | ALPL: -29.794812952201205 | elapsed time: 181.797189\n"
     ]
    }
   ],
   "source": [
    "multiprocessing_run(\"horseshoe\",M)"
   ]
  }
 ],
 "metadata": {
  "kernelspec": {
   "display_name": "Python 3",
   "language": "python",
   "name": "python3"
  },
  "language_info": {
   "codemirror_mode": {
    "name": "ipython",
    "version": 3
   },
   "file_extension": ".py",
   "mimetype": "text/x-python",
   "name": "python",
   "nbconvert_exporter": "python",
   "pygments_lexer": "ipython3",
   "version": "3.7.6"
  }
 },
 "nbformat": 4,
 "nbformat_minor": 4
}
