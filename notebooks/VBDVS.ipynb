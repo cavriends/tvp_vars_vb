{
 "cells": [
  {
   "cell_type": "code",
   "execution_count": 1,
   "metadata": {},
   "outputs": [],
   "source": [
    "# General libraries\n",
    "# import jax\n",
    "import sys\n",
    "\n",
    "\n",
    "import os\n",
    "import time\n",
    "import numpy as np\n",
    "import pandas as pd\n",
    "import matplotlib.pyplot as plt\n",
    "from scipy.stats import norm, multivariate_normal\n",
    "from IPython.display import clear_output\n",
    "\n",
    "# Own code\n",
    "sys.path.append(\"../\")\n",
    "from utils.data_utils import create_data, create_dgp_data, transformation, standardize\n",
    "from utils.tvp_models import TVPVARModel\n",
    "\n",
    "# Suppress scientific notation in numpy\n",
    "np.set_printoptions(suppress=True)\n",
    "\n",
    "# Set RNG\n",
    "np.random.seed(12345)"
   ]
  },
  {
   "cell_type": "code",
   "execution_count": 25,
   "metadata": {},
   "outputs": [
    {
     "name": "stdout",
     "output_type": "stream",
     "text": [
      "k: 203\n"
     ]
    }
   ],
   "source": [
    "train = 178 # 2005Q1\n",
    "\n",
    "M = 7\n",
    "p = 4\n",
    "T = train - p\n",
    "k = M*(M*p+1)\n",
    "\n",
    "print(f'k: {k}')"
   ]
  },
  {
   "cell_type": "code",
   "execution_count": 26,
   "metadata": {},
   "outputs": [],
   "source": [
    "ds = pd.read_csv(\"../data/fred_qd.csv\")"
   ]
  },
  {
   "cell_type": "code",
   "execution_count": 27,
   "metadata": {},
   "outputs": [],
   "source": [
    "transform = True\n",
    "\n",
    "gdp = transformation(ds[\"GDPC1\"].iloc[2:].to_numpy(), 5, transform, scale=100)\n",
    "cpi = transformation(ds[\"CPIAUCSL\"].iloc[2:].to_numpy(), 6, transform, scale=100)\n",
    "fedfund = transformation(ds[\"FEDFUNDS\"].iloc[2:].to_numpy(), 2, transform, scale=100)\n",
    "compi = transformation(ds[\"PPIACO\"].iloc[2:].to_numpy(), 6, transform, scale=100)\n",
    "borrowings = transformation(ds[\"TOTRESNS\"].iloc[2:].to_numpy(), 6, transform, scale=100)\n",
    "sp500 = transformation(ds[\"S&P 500\"].iloc[2:].to_numpy(), 5, transform, scale=100)\n",
    "m2 = transformation(ds[\"M2REAL\"].iloc[2:].to_numpy(), 5, transform, scale=100)\n",
    "\n",
    "# Start due to transformation\n",
    "\n",
    "lag = 2\n",
    "\n",
    "# series_total = [gdp[lag:], cpi[lag:], fedfund[lag:]]\n",
    "series_total = [gdp[lag:], cpi[lag:], fedfund[lag:], compi[lag:], borrowings[lag:], sp500[lag:], m2[lag:]]"
   ]
  },
  {
   "cell_type": "code",
   "execution_count": 28,
   "metadata": {},
   "outputs": [],
   "source": [
    "standardized_series = standardize(series_total, train)"
   ]
  },
  {
   "cell_type": "markdown",
   "metadata": {},
   "source": [
    "### TVP-VAR with Variational Bayes (VB) - M = 7"
   ]
  },
  {
   "cell_type": "code",
   "execution_count": 29,
   "metadata": {},
   "outputs": [],
   "source": [
    "complete_T = len(gdp[lag:])\n",
    "X_complete, y_complete = create_data(standardized_series,\n",
    "                                     complete_T,\n",
    "                                     complete_T-p,\n",
    "                                     M,\n",
    "                                     p,\n",
    "                                     k)"
   ]
  },
  {
   "cell_type": "code",
   "execution_count": 7,
   "metadata": {},
   "outputs": [
    {
     "name": "stdout",
     "output_type": "stream",
     "text": [
      "MSFE: 0.00012972280170162645 | tau_0: 1.5 & tau_1: 70\n",
      "MSFE: 0.00012972280170162645 | tau_0: 1.5 & tau_1: 10\n",
      "MSFE: 0.00012972280170162645 | tau_0: 1.5 & tau_1: 25\n",
      "MSFE: 0.00012972280170162645 | tau_0: 1.5 & tau_1: 40\n",
      "MSFE: 0.00012972280170162645 | tau_0: 1.5 & tau_1: 55\n",
      "MSFE: 0.00012972280170162645 | tau_0: 1.5 & tau_1: 85\n",
      "MSFE: 0.00013491142271366885 | tau_0: 2.5 & tau_1: 85\n",
      "MSFE: 0.00013491142271366885 | tau_0: 2.5 & tau_1: 70\n",
      "MSFE: 0.00013491142271366885 | tau_0: 2.5 & tau_1: 55\n",
      "MSFE: 0.00013491142271366885 | tau_0: 2.5 & tau_1: 25\n",
      "MSFE: 0.00013491142271366885 | tau_0: 2.5 & tau_1: 10\n",
      "MSFE: 0.00013491142271366885 | tau_0: 2.5 & tau_1: 40\n",
      "MSFE: 0.00013662341271847755 | tau_0: 3.5 & tau_1: 85\n",
      "MSFE: 0.00013662341271847755 | tau_0: 3.5 & tau_1: 70\n",
      "MSFE: 0.00013662341271847755 | tau_0: 3.5 & tau_1: 10\n",
      "MSFE: 0.00013662341271847755 | tau_0: 3.5 & tau_1: 25\n",
      "MSFE: 0.00013662341271847755 | tau_0: 3.5 & tau_1: 40\n",
      "MSFE: 0.00013662341271847755 | tau_0: 3.5 & tau_1: 55\n",
      "MSFE: 0.00013734265922245092 | tau_0: 4.5 & tau_1: 10\n",
      "MSFE: 0.00013734265922245092 | tau_0: 4.5 & tau_1: 25\n",
      "MSFE: 0.00013734265922245092 | tau_0: 4.5 & tau_1: 40\n",
      "MSFE: 0.00013734265922245092 | tau_0: 4.5 & tau_1: 55\n",
      "MSFE: 0.00013734265922245092 | tau_0: 4.5 & tau_1: 85\n",
      "MSFE: 0.00013734265922245092 | tau_0: 4.5 & tau_1: 70\n",
      "MSFE: 0.0002259497905093211 | tau_0: 0.5 & tau_1: 85\n",
      "MSFE: 0.0002259497905093211 | tau_0: 0.5 & tau_1: 70\n",
      "MSFE: 0.0002259497905093211 | tau_0: 0.5 & tau_1: 55\n",
      "MSFE: 0.0002259497905093211 | tau_0: 0.5 & tau_1: 40\n",
      "MSFE: 0.0002259497905093211 | tau_0: 0.5 & tau_1: 25\n",
      "MSFE: 0.0002259497905093211 | tau_0: 0.5 & tau_1: 10\n"
     ]
    }
   ],
   "source": [
    "# SVSS\n",
    "# Optimizing the shrinkage for M = 7 (default values are optimal for M = 3)\n",
    "\n",
    "# tau_0 = np.arange(0.5, 5, 1)\n",
    "# tau_1 = np.arange(100, 300, 50)\n",
    "\n",
    "tau_0 = np.arange(0.5, 5, 1)\n",
    "tau_1 = np.arange(10, 100, 15)\n",
    "\n",
    "train_gridsearch = 98 #1985Q4\n",
    "\n",
    "parameter_set = []\n",
    "\n",
    "for t_0 in tau_0:\n",
    "    for t_1 in tau_1:\n",
    "        parameter_set.append((t_0, t_1))\n",
    "\n",
    "msfe_list = []\n",
    "number_of_possibilities = len(parameter_set)\n",
    "print(f'Number of possibilities: {number_of_possibilities}')\n",
    "\n",
    "for idx, p_set in enumerate(parameter_set):\n",
    "    \n",
    "    tau_0, tau_1 = p_set\n",
    "    \n",
    "    tvp_svss = TVPVARModel(X_complete, y_complete, p, train)\n",
    "    tvp_svss.initialize_priors(prior='svss',\n",
    "                               prior_parameters={'tau_0': tau_0,\n",
    "                                                 'tau_1': tau_1,\n",
    "                                                 'pi0': 0.5},\n",
    "                               )\n",
    "    \n",
    "    mt1t, St1t = tvp_svss.train(print_status=False)\n",
    "    msfe_list.append(tvp_svss.insample_msfe())\n",
    "    \n",
    "    print(f'Progress: {(idx+1)}/{number_of_possibilities}')\n",
    "    \n",
    "# Clear printing output\n",
    "clear_output()\n",
    "    \n",
    "sorted_indices = np.argsort(msfe_list)\n",
    "\n",
    "for i in range(number_of_possibilities):\n",
    "    \n",
    "    sorted_index = sorted_indices[i]\n",
    "    \n",
    "    print(f'MSFE: {msfe_list[sorted_index]} | '\n",
    "          f'tau_0: {parameter_set[sorted_index][0]} & '\n",
    "          f'tau_1: {parameter_set[sorted_index][1]}')\n",
    "    \n",
    "    \n",
    "optimal_svss = parameter_set[sorted_indices[0]]"
   ]
  },
  {
   "cell_type": "code",
   "execution_count": 7,
   "metadata": {},
   "outputs": [
    {
     "name": "stdout",
     "output_type": "stream",
     "text": [
      "MSFE: 0.0002989820296135748 | a0: 25 & b0: 10\n",
      "MSFE: 0.0003005769103183492 | a0: 20 & b0: 10\n",
      "MSFE: 0.00030065778330119405 | a0: 25 & b0: 15\n",
      "MSFE: 0.00030169274512990054 | a0: 25 & b0: 20\n",
      "MSFE: 0.0003017710585454447 | a0: 20 & b0: 15\n",
      "MSFE: 0.0003019112611420423 | a0: 15 & b0: 10\n",
      "MSFE: 0.0003023689973662344 | a0: 25 & b0: 25\n",
      "MSFE: 0.00030252360808765745 | a0: 20 & b0: 20\n",
      "MSFE: 0.0003027388581570997 | a0: 15 & b0: 15\n",
      "MSFE: 0.0003030336237965445 | a0: 20 & b0: 25\n",
      "MSFE: 0.0003030568300059647 | a0: 10 & b0: 10\n",
      "MSFE: 0.00030329397623418274 | a0: 15 & b0: 20\n",
      "MSFE: 0.0003036931263164263 | a0: 10 & b0: 15\n",
      "MSFE: 0.00030370589928861084 | a0: 15 & b0: 25\n",
      "MSFE: 0.00030420082763656136 | a0: 10 & b0: 20\n",
      "MSFE: 0.00030463796351949684 | a0: 10 & b0: 25\n"
     ]
    }
   ],
   "source": [
    "# Horseshoe\n",
    "# Optimizing the shrinkage for M = 7 (default values are optimal for M = 3)\n",
    "\n",
    "a0_horseshoe = np.arange(10, 30, 5)\n",
    "b0_horseshoe = np.arange(10, 30, 5)\n",
    "\n",
    "train_gridsearch = 98 # 1985Q1\n",
    "\n",
    "parameter_set = []\n",
    "\n",
    "for a0 in a0_horseshoe:\n",
    "    for b0 in b0_horseshoe:\n",
    "        parameter_set.append((a0, b0))\n",
    "\n",
    "msfe_list = []\n",
    "number_of_possibilities = len(parameter_set)\n",
    "print(f'Number of possibilities: {number_of_possibilities}')\n",
    "\n",
    "for idx, p_set in enumerate(parameter_set):\n",
    "    \n",
    "    a0, b0 = p_set\n",
    "    \n",
    "    tvp_horseshoe = TVPVARModel(X_complete, y_complete, p, train_gridsearch)\n",
    "    tvp_horseshoe.initialize_priors(prior='horseshoe',\n",
    "                               prior_parameters={'a0': a0,\n",
    "                                                 'b0': b0})\n",
    "    \n",
    "    mt1t, St1t = tvp_horseshoe.train(print_status=False)\n",
    "    msfe_list.append(tvp_horseshoe.insample_msfe())\n",
    "    \n",
    "    print(f'Progress: {(idx+1)}/{number_of_possibilities}')\n",
    "    \n",
    "# Clear printing output\n",
    "clear_output()\n",
    "    \n",
    "sorted_indices = np.argsort(msfe_list)\n",
    "\n",
    "for i in range(number_of_possibilities):\n",
    "    \n",
    "    sorted_index = sorted_indices[i]\n",
    "    \n",
    "    print(f'MSFE: {msfe_list[sorted_index]} | '\n",
    "          f'a0: {parameter_set[sorted_index][0]} & '\n",
    "          f'b0: {parameter_set[sorted_index][1]}')\n",
    "    \n",
    "optimal_horseshoe = parameter_set[sorted_indices[0]]"
   ]
  },
  {
   "cell_type": "code",
   "execution_count": 11,
   "metadata": {},
   "outputs": [
    {
     "name": "stdout",
     "output_type": "stream",
     "text": [
      "MSFE: 0.0003106824120382188 | lambda: 10\n",
      "MSFE: 0.0003113822089094955 | lambda: 35\n",
      "MSFE: 0.00031151153394016665 | lambda: 60\n",
      "MSFE: 0.00031156576641507016 | lambda: 85\n",
      "MSFE: 0.000311595476504788 | lambda: 110\n",
      "MSFE: 0.00031161427128689767 | lambda: 135\n",
      "MSFE: 0.00031162723584265804 | lambda: 160\n",
      "MSFE: 0.0003116367186356007 | lambda: 185\n"
     ]
    }
   ],
   "source": [
    "# Lasso\n",
    "# Optimizing the shrinkage for M = 7 (default values are optimal for M = 3)\n",
    "\n",
    "lambda_parameters = np.arange(10, 200, 25)\n",
    "\n",
    "train_gridsearch = 98 #1985Q4\n",
    "\n",
    "parameter_set = []\n",
    "\n",
    "for lambda_param in lambda_parameters:\n",
    "    parameter_set.append((lambda_param))\n",
    "\n",
    "msfe_list = []\n",
    "number_of_possibilities = len(parameter_set)\n",
    "print(f'Number of possibilities: {number_of_possibilities}')\n",
    "\n",
    "for idx, p_set in enumerate(parameter_set):\n",
    "    \n",
    "    lambda_param = p_set\n",
    "    \n",
    "    tvp_lasso = TVPVARModel(X_complete, y_complete, p, train_gridsearch)\n",
    "    tvp_lasso.initialize_priors(prior='lasso',\n",
    "                               prior_parameters={'lambda_param': lambda_param})\n",
    "    \n",
    "    mt1t, St1t = tvp_lasso.train(print_status=False)\n",
    "    msfe_list.append(tvp_lasso.insample_msfe())\n",
    "    \n",
    "    print(f'Progress: {(idx+1)}/{number_of_possibilities}')\n",
    "    \n",
    "# Clear printing output\n",
    "clear_output()\n",
    "    \n",
    "sorted_indices = np.argsort(msfe_list)\n",
    "\n",
    "for i in range(number_of_possibilities):\n",
    "    \n",
    "    sorted_index = sorted_indices[i]\n",
    "    \n",
    "    print(f'MSFE: {msfe_list[sorted_index]} | '\n",
    "          f'lambda: {parameter_set[sorted_index]}')\n",
    "    \n",
    "optimal_lambda = parameter_set[sorted_indices[0]]"
   ]
  },
  {
   "cell_type": "code",
   "execution_count": 8,
   "metadata": {},
   "outputs": [
    {
     "name": "stdout",
     "output_type": "stream",
     "text": [
      "MSFE for SVSS:\n",
      "[  3.80619501   4.89747366   5.4702318   11.2607501   15.74260275\n",
      "  17.89618376  43.67138471 117.52526827]\n"
     ]
    }
   ],
   "source": [
    "# SVSS\n",
    "# Calculate h-step forecasts (h = 1 .. 8) for M = 7\n",
    "\n",
    "# optimal_svss = (4.5, 250) #M = 7\n",
    "# optimal_svss = (1.5, 70)\n",
    "\n",
    "tvp_svss = TVPVARModel(X_complete, y_complete, p, train)\n",
    "tvp_svss.initialize_priors(prior='svss',\n",
    "                           prior_parameters={'tau_0': optimal_svss[0],\n",
    "                                             'tau_1': optimal_svss[1],\n",
    "                                             'pi0':0.5})\n",
    "\n",
    "h_forecast = 8\n",
    "\n",
    "msfe_svss, alpl_svss = tvp_svss.calculate_metrics(h_forecast)\n",
    "\n",
    "clear_output()\n",
    "print(f'MSFE for SVSS:')\n",
    "print(np.mean(msfe_svss,1))"
   ]
  },
  {
   "cell_type": "code",
   "execution_count": null,
   "metadata": {},
   "outputs": [],
   "source": [
    "# Horseshoe\n",
    "# Calculate h-step forecasts (h = 1 .. 8) for M = 7\n",
    "\n",
    "optimal_horseshoe = (30,30)\n",
    "\n",
    "tvp_horseshoe = TVPVARModel(X_complete, y_complete, p, train)\n",
    "tvp_horseshoe.initialize_priors(prior='horseshoe',\n",
    "                            prior_parameters={'a0': optimal_horseshoe[0],\n",
    "                                              'b0': optimal_horseshoe[1]})\n",
    "\n",
    "tvp_horseshoe.print_status = False\n",
    "\n",
    "h_forecast = 8\n",
    "\n",
    "msfe_horseshoe, alpl_horseshoe = tvp_horseshoe.calculate_metrics(h_forecast)\n",
    "\n",
    "clear_output()\n",
    "print(f'MSFE for Horseshoe:')\n",
    "print(np.mean(msfe_horseshoe,1))"
   ]
  },
  {
   "cell_type": "code",
   "execution_count": 9,
   "metadata": {},
   "outputs": [],
   "source": [
    "for i in range(8):\n",
    "    \n",
    "    np.savetxt(f'../rcode/horseshoe_{i+1}.csv', tvp_svss.y_pred[:,:,i], delimiter=\",\")"
   ]
  },
  {
   "cell_type": "code",
   "execution_count": 12,
   "metadata": {},
   "outputs": [
    {
     "data": {
      "text/plain": [
       "0.009993645192407002"
      ]
     },
     "execution_count": 12,
     "metadata": {},
     "output_type": "execute_result"
    }
   ],
   "source": [
    "tvp_svss = TVPVARModel(X_complete, y_complete, p, train, 200)\n",
    "tvp_svss.train(print_status=False)\n",
    "\n",
    "tvp_svss.insample_msfe()"
   ]
  },
  {
   "cell_type": "code",
   "execution_count": null,
   "metadata": {},
   "outputs": [],
   "source": [
    "# Lasso\n",
    "# Calculate h-step forecasts (h = 1 .. 8) for M = 7\n",
    "\n",
    "tvp_lasso = TVPVARModel(X_complete, y_complete, p, train)\n",
    "tvp_lasso.initialize_priors(prior='lasso',\n",
    "                            prior_parameters={'lambda_param': optimal_lambda})\n",
    "\n",
    "h_forecast = 8\n",
    "\n",
    "msfe_lasso, alpl_lasso = tvp_lasso.calculate_metrics(h_forecast)\n",
    "\n",
    "clear_output()\n",
    "np.mean(msfe_lasso, 1)"
   ]
  },
  {
   "cell_type": "code",
   "execution_count": 32,
   "metadata": {},
   "outputs": [],
   "source": [
    "tvp = TVPVARModel(X_complete, y_complete, p, train)"
   ]
  },
  {
   "cell_type": "code",
   "execution_count": 33,
   "metadata": {},
   "outputs": [
    {
     "name": "stdout",
     "output_type": "stream",
     "text": [
      "Iteration: 20\n",
      "Elapsed time: 178.2850239276886 seconds\n",
      "lambda: 0.13539244265909037,phi: 1.991685284646354, v: 1.043190251101326, delta: 1.2961856259053217 mt1t: -0.008465813538465232\n",
      "Seconds for one iteration: 17.867598056793213\n",
      "Difference: 1.0122176104804291e-07\n",
      "lambda: 0.13539244268474962,phi: 1.9916852846696806, v: 1.0431902511011286, delta: 1.2961856258622775 mt1t: -0.008465813544679752\n",
      "Seconds for one iteration: 18.073746919631958\n",
      "Difference: 4.552992011233519e-08\n",
      "lambda: 0.13539244267996065,phi: 1.991685284667848, v: 1.0431902511011515, delta: 1.2961856258750395 mt1t: -0.008465813543428553\n",
      "Seconds for one iteration: 18.660526752471924\n",
      "Difference: 1.5181563872691808e-08\n"
     ]
    },
    {
     "data": {
      "text/plain": [
       "(array([[-0.37507866, -0.37564453, -0.36462166, ..., -0.08688877,\n",
       "         -0.08175568, -0.07957406],\n",
       "        [-0.12535171, -0.11868922, -0.1172138 , ..., -0.09501075,\n",
       "         -0.09259786, -0.09026482],\n",
       "        [ 0.27715705,  0.26930679,  0.24299719, ...,  0.23529139,\n",
       "          0.23093353,  0.22755203],\n",
       "        ...,\n",
       "        [ 0.07542196,  0.07522619,  0.0740648 , ...,  0.03817438,\n",
       "          0.03462372,  0.03110008],\n",
       "        [ 0.2227205 ,  0.22265119,  0.22243562, ...,  0.0302619 ,\n",
       "          0.02990701,  0.02956047],\n",
       "        [ 0.38525167,  0.38105229,  0.37548607, ...,  0.06250583,\n",
       "          0.05998628,  0.0574884 ]]),\n",
       " array([[[ 0.68329173,  0.63945064,  0.6094143 , ...,  0.51155048,\n",
       "           0.53137047,  0.5525445 ],\n",
       "         [ 0.17270911,  0.15739551,  0.14168305, ..., -0.00786345,\n",
       "          -0.01116344, -0.013964  ],\n",
       "         [-0.05027901, -0.03593297, -0.03268992, ..., -0.00249042,\n",
       "          -0.00153225, -0.0013647 ],\n",
       "         ...,\n",
       "         [-0.00020395, -0.00020075, -0.00019168, ..., -0.00005207,\n",
       "          -0.00005175, -0.00005029],\n",
       "         [-0.00007608, -0.00006726, -0.00005889, ..., -0.0000328 ,\n",
       "          -0.00003239, -0.00003185],\n",
       "         [-0.00015584, -0.00014924, -0.00013575, ...,  0.00002552,\n",
       "           0.00002679,  0.00002758]],\n",
       " \n",
       "        [[ 0.17270911,  0.15739551,  0.14168305, ..., -0.00786345,\n",
       "          -0.01116344, -0.013964  ],\n",
       "         [ 0.52525032,  0.48403761,  0.44506592, ...,  0.60784504,\n",
       "           0.62680831,  0.64456582],\n",
       "         [ 0.02635474,  0.0139499 ,  0.00372317, ...,  0.10666323,\n",
       "           0.10389291,  0.10098862],\n",
       "         ...,\n",
       "         [-0.00006119, -0.00005786, -0.00005472, ...,  0.00000444,\n",
       "           0.00000285,  0.00000151],\n",
       "         [ 0.00002723,  0.00002201,  0.00001902, ...,  0.00000338,\n",
       "           0.00000265,  0.00000222],\n",
       "         [-0.00010423, -0.00010976, -0.0001133 , ..., -0.00006738,\n",
       "          -0.00006486, -0.00006207]],\n",
       " \n",
       "        [[-0.05027901, -0.03593297, -0.03268992, ..., -0.00249042,\n",
       "          -0.00153225, -0.0013647 ],\n",
       "         [ 0.02635474,  0.0139499 ,  0.00372317, ...,  0.10666323,\n",
       "           0.10389291,  0.10098862],\n",
       "         [ 0.46211456,  0.42467155,  0.39375476, ...,  0.69650731,\n",
       "           0.71587752,  0.73429666],\n",
       "         ...,\n",
       "         [-0.00010621, -0.00010625, -0.00011378, ..., -0.00003052,\n",
       "          -0.00002897, -0.00002785],\n",
       "         [-0.00000392,  0.00000289,  0.00000915, ..., -0.00002799,\n",
       "          -0.00002852, -0.0000277 ],\n",
       "         [-0.00006565, -0.0000575 , -0.00005412, ..., -0.00006462,\n",
       "          -0.0000639 , -0.00006184]],\n",
       " \n",
       "        ...,\n",
       " \n",
       "        [[-0.00020395, -0.00020075, -0.00019168, ..., -0.00005207,\n",
       "          -0.00005175, -0.00005029],\n",
       "         [-0.00006119, -0.00005786, -0.00005472, ...,  0.00000444,\n",
       "           0.00000285,  0.00000151],\n",
       "         [-0.00010621, -0.00010625, -0.00011378, ..., -0.00003052,\n",
       "          -0.00002897, -0.00002785],\n",
       "         ...,\n",
       "         [ 1.41705827,  1.34565546,  1.2846046 , ...,  0.94498721,\n",
       "           0.95576348,  0.96536676],\n",
       "         [-0.40582552, -0.39619233, -0.386847  , ..., -0.10076495,\n",
       "          -0.09583955, -0.09184085],\n",
       "         [-0.19144529, -0.18800213, -0.18175345, ..., -0.07472246,\n",
       "          -0.07431449, -0.07472124]],\n",
       " \n",
       "        [[-0.00007608, -0.00006726, -0.00005889, ..., -0.0000328 ,\n",
       "          -0.00003239, -0.00003185],\n",
       "         [ 0.00002723,  0.00002201,  0.00001902, ...,  0.00000338,\n",
       "           0.00000265,  0.00000222],\n",
       "         [-0.00000392,  0.00000289,  0.00000915, ..., -0.00002799,\n",
       "          -0.00002852, -0.0000277 ],\n",
       "         ...,\n",
       "         [-0.40582552, -0.39619233, -0.386847  , ..., -0.10076495,\n",
       "          -0.09583955, -0.09184085],\n",
       "         [ 1.4583622 ,  1.39014143,  1.33101994, ...,  0.86791961,\n",
       "           0.88147305,  0.89473217],\n",
       "         [-0.38047221, -0.37354191, -0.36538766, ..., -0.1060494 ,\n",
       "          -0.10319187, -0.09946413]],\n",
       " \n",
       "        [[-0.00015584, -0.00014924, -0.00013575, ...,  0.00002552,\n",
       "           0.00002679,  0.00002758],\n",
       "         [-0.00010423, -0.00010976, -0.0001133 , ..., -0.00006738,\n",
       "          -0.00006486, -0.00006207],\n",
       "         [-0.00006565, -0.0000575 , -0.00005412, ..., -0.00006462,\n",
       "          -0.0000639 , -0.00006184],\n",
       "         ...,\n",
       "         [-0.19144529, -0.18800213, -0.18175345, ..., -0.07472246,\n",
       "          -0.07431449, -0.07472124],\n",
       "         [-0.38047221, -0.37354191, -0.36538766, ..., -0.1060494 ,\n",
       "          -0.10319187, -0.09946413],\n",
       "         [ 1.48938194,  1.41414655,  1.35326019, ...,  0.84493135,\n",
       "           0.85668286,  0.86837677]]]))"
      ]
     },
     "execution_count": 33,
     "metadata": {},
     "output_type": "execute_result"
    }
   ],
   "source": [
    "tvp.initialize_priors(prior='horseshoe', prior_parameters={'a0':30, 'b0': 30})\n",
    "tvp.train()"
   ]
  },
  {
   "cell_type": "code",
   "execution_count": null,
   "metadata": {},
   "outputs": [],
   "source": [
    "import pickle\n",
    "\n",
    "dump_to_disk = (msfe_horseshoe, alpl_horseshoe, msfe_lasso,\n",
    "                alpl_lasso, optimal_svss, optimal_horseshoe, optimal_lambda)\n",
    "\n",
    "with open('dumps/mse_alpl_7_non_standard_horseshoe_lasso.pkl', 'wb') as f:\n",
    "    pickle.dump(dump_to_disk, f, pickle.HIGHEST_PROTOCOL)"
   ]
  },
  {
   "cell_type": "code",
   "execution_count": 10,
   "metadata": {},
   "outputs": [
    {
     "name": "stdout",
     "output_type": "stream",
     "text": [
      "hello world\n"
     ]
    }
   ],
   "source": [
    "print(\"hello world\")"
   ]
  },
  {
   "cell_type": "code",
   "execution_count": null,
   "metadata": {},
   "outputs": [],
   "source": [
    "np.mean(msfe_horseshoe,1)"
   ]
  },
  {
   "cell_type": "code",
   "execution_count": null,
   "metadata": {},
   "outputs": [],
   "source": [
    "import pickle\n",
    "\n",
    "dump_to_disk = (msfe_horseshoe, alpl_horseshoe, optimal_horseshoe)\n",
    "\n",
    "with open('dumps/mse_alpl_7_non_standard_horseshoe.pkl', 'wb') as f:\n",
    "    pickle.dump(dump_to_disk, f, pickle.HIGHEST_PROTOCOL)"
   ]
  }
 ],
 "metadata": {
  "kernelspec": {
   "display_name": "Python 3",
   "language": "python",
   "name": "python3"
  },
  "language_info": {
   "codemirror_mode": {
    "name": "ipython",
    "version": 3
   },
   "file_extension": ".py",
   "mimetype": "text/x-python",
   "name": "python",
   "nbconvert_exporter": "python",
   "pygments_lexer": "ipython3",
   "version": "3.7.6"
  }
 },
 "nbformat": 4,
 "nbformat_minor": 4
}
