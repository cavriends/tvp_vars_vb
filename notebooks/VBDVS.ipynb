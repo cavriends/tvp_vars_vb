{
 "cells": [
  {
   "cell_type": "code",
   "execution_count": 1,
   "metadata": {},
   "outputs": [],
   "source": [
    "# General libraries\n",
    "\n",
    "import sys\n",
    "import os\n",
    "import time\n",
    "import pickle\n",
    "import numpy as np\n",
    "import pandas as pd\n",
    "import matplotlib.pyplot as plt\n",
    "from scipy.stats import norm, multivariate_normal\n",
    "from IPython.display import clear_output\n",
    "\n",
    "# Own code\n",
    "sys.path.append(\"../\")\n",
    "from utils.data_utils import create_data, create_dgp_data, transformation, standardize\n",
    "from utils.tvp_models import TVPVARModel\n",
    "\n",
    "# Suppress scientific notation in numpy\n",
    "np.set_printoptions(suppress=True)\n",
    "\n",
    "# Set RNG\n",
    "np.random.seed(12345)"
   ]
  },
  {
   "cell_type": "code",
   "execution_count": 3,
   "metadata": {},
   "outputs": [
    {
     "name": "stdout",
     "output_type": "stream",
     "text": [
      "k: 39\n"
     ]
    }
   ],
   "source": [
    "train = 178 # 2005Q1\n",
    "\n",
    "M = 3\n",
    "p = 4\n",
    "T = train - p\n",
    "k = M*(M*p+1)\n",
    "\n",
    "print(f'k: {k}')"
   ]
  },
  {
   "cell_type": "code",
   "execution_count": 51,
   "metadata": {},
   "outputs": [],
   "source": [
    "X, y, mt1t_true = create_dgp_data(239, M, p)"
   ]
  },
  {
   "cell_type": "code",
   "execution_count": 40,
   "metadata": {},
   "outputs": [],
   "source": [
    "ds = pd.read_csv(\"../data/fred_qd.csv\")"
   ]
  },
  {
   "cell_type": "code",
   "execution_count": 41,
   "metadata": {},
   "outputs": [],
   "source": [
    "transform = True\n",
    "\n",
    "gdp = transformation(ds[\"GDPC1\"].iloc[2:].to_numpy(), 5, transform, scale=1)\n",
    "cpi = transformation(ds[\"CPIAUCSL\"].iloc[2:].to_numpy(), 6, transform, scale=1)\n",
    "fedfund = transformation(ds[\"FEDFUNDS\"].iloc[2:].to_numpy(), 2, transform, scale=1)\n",
    "compi = transformation(ds[\"PPIACO\"].iloc[2:].to_numpy(), 6, transform, scale=1)\n",
    "borrowings = transformation(ds[\"TOTRESNS\"].iloc[2:].to_numpy(), 6, transform, scale=1)\n",
    "sp500 = transformation(ds[\"S&P 500\"].iloc[2:].to_numpy(), 5, transform, scale=1)\n",
    "m2 = transformation(ds[\"M2REAL\"].iloc[2:].to_numpy(), 5, transform, scale=1)\n",
    "\n",
    "# Start due to transformation\n",
    "\n",
    "lag = 2\n",
    "\n",
    "series_total = [gdp[lag:], cpi[lag:], fedfund[lag:]]\n",
    "# series_total = [gdp[lag:], cpi[lag:], fedfund[lag:], compi[lag:], borrowings[lag:], sp500[lag:], m2[lag:]]"
   ]
  },
  {
   "cell_type": "code",
   "execution_count": 48,
   "metadata": {},
   "outputs": [],
   "source": [
    "standardized_series = standardize(series_total, train)"
   ]
  },
  {
   "cell_type": "markdown",
   "metadata": {},
   "source": [
    "### TVP-VAR with Variational Bayes (VB) - M = 7"
   ]
  },
  {
   "cell_type": "code",
   "execution_count": 49,
   "metadata": {},
   "outputs": [],
   "source": [
    "complete_T = len(gdp[lag:])\n",
    "X_complete, y_complete = create_data(series_total,\n",
    "                                     complete_T,\n",
    "                                     complete_T-p,\n",
    "                                     M,\n",
    "                                     p,\n",
    "                                     k)"
   ]
  },
  {
   "cell_type": "code",
   "execution_count": 46,
   "metadata": {},
   "outputs": [
    {
     "name": "stdout",
     "output_type": "stream",
     "text": [
      "Iteration: 60\n",
      "Elapsed time: 1.413083791732788 seconds\n",
      "lambda: 0.9013125342947534,phi: 5.011847609068396, v: 1.0383414186092368, delta: 1.0732584899530795 mt1t: 0.22341289595696753\n",
      "Seconds for one iteration: 0.1473231315612793\n",
      "Difference: 69.9172620428505\n",
      "lambda: 0.041434949446861366,phi: 1.9316282459552474, v: 1.0437254083084688, delta: 1.8906279412115323 mt1t: -0.004011164022305491\n",
      "Seconds for one iteration: 0.14167213439941406\n",
      "Difference: 69.91726210423244\n",
      "lambda: 0.9013125345030855,phi: 5.0118476105861625, v: 1.0383414186088777, delta: 1.073258489945158 mt1t: 0.22341289598803782\n",
      "Seconds for one iteration: 0.14086508750915527\n",
      "Difference: 69.91726210446606\n"
     ]
    },
    {
     "ename": "KeyboardInterrupt",
     "evalue": "",
     "output_type": "error",
     "traceback": [
      "\u001b[0;31m---------------------------------------------------------------------------\u001b[0m",
      "\u001b[0;31mKeyboardInterrupt\u001b[0m                         Traceback (most recent call last)",
      "\u001b[0;32m<ipython-input-46-ea4d7a324b67>\u001b[0m in \u001b[0;36m<module>\u001b[0;34m\u001b[0m\n\u001b[1;32m      1\u001b[0m \u001b[0mtvp\u001b[0m \u001b[0;34m=\u001b[0m \u001b[0mTVPVARModel\u001b[0m\u001b[0;34m(\u001b[0m\u001b[0mX_complete\u001b[0m\u001b[0;34m,\u001b[0m \u001b[0my_complete\u001b[0m\u001b[0;34m,\u001b[0m \u001b[0mp\u001b[0m\u001b[0;34m,\u001b[0m \u001b[0mtrain\u001b[0m\u001b[0;34m)\u001b[0m\u001b[0;34m\u001b[0m\u001b[0;34m\u001b[0m\u001b[0m\n\u001b[1;32m      2\u001b[0m \u001b[0mtvp\u001b[0m\u001b[0;34m.\u001b[0m\u001b[0minitialize_priors\u001b[0m\u001b[0;34m(\u001b[0m\u001b[0mprior\u001b[0m\u001b[0;34m=\u001b[0m\u001b[0;34m'horseshoe'\u001b[0m\u001b[0;34m,\u001b[0m \u001b[0mprior_parameters\u001b[0m\u001b[0;34m=\u001b[0m\u001b[0;34m{\u001b[0m\u001b[0;34m'a0'\u001b[0m\u001b[0;34m:\u001b[0m\u001b[0;36m30\u001b[0m\u001b[0;34m,\u001b[0m\u001b[0;34m'b0'\u001b[0m\u001b[0;34m:\u001b[0m\u001b[0;36m30\u001b[0m\u001b[0;34m}\u001b[0m\u001b[0;34m)\u001b[0m\u001b[0;34m\u001b[0m\u001b[0;34m\u001b[0m\u001b[0m\n\u001b[0;32m----> 3\u001b[0;31m \u001b[0mtvp\u001b[0m\u001b[0;34m.\u001b[0m\u001b[0mtrain\u001b[0m\u001b[0;34m(\u001b[0m\u001b[0;34m)\u001b[0m\u001b[0;34m\u001b[0m\u001b[0;34m\u001b[0m\u001b[0m\n\u001b[0m",
      "\u001b[0;32m~/Dropbox/ESE/MSc Econometrics/Thesis/Bayesian VARs/Code/Jupyter/utils/tvp_models.py\u001b[0m in \u001b[0;36mtrain\u001b[0;34m(self, threshold, print_status)\u001b[0m\n\u001b[1;32m    184\u001b[0m \u001b[0;34m\u001b[0m\u001b[0m\n\u001b[1;32m    185\u001b[0m             \u001b[0;32mfor\u001b[0m \u001b[0mt\u001b[0m \u001b[0;32min\u001b[0m \u001b[0mreversed\u001b[0m\u001b[0;34m(\u001b[0m\u001b[0mrange\u001b[0m\u001b[0;34m(\u001b[0m\u001b[0mself\u001b[0m\u001b[0;34m.\u001b[0m\u001b[0mT_train\u001b[0m \u001b[0;34m-\u001b[0m \u001b[0;36m1\u001b[0m\u001b[0;34m)\u001b[0m\u001b[0;34m)\u001b[0m\u001b[0;34m:\u001b[0m\u001b[0;34m\u001b[0m\u001b[0;34m\u001b[0m\u001b[0m\n\u001b[0;32m--> 186\u001b[0;31m                 \u001b[0mC\u001b[0m \u001b[0;34m=\u001b[0m \u001b[0;34m(\u001b[0m\u001b[0mStt\u001b[0m\u001b[0;34m[\u001b[0m\u001b[0;34m:\u001b[0m\u001b[0;34m,\u001b[0m \u001b[0;34m:\u001b[0m\u001b[0;34m,\u001b[0m \u001b[0mt\u001b[0m\u001b[0;34m]\u001b[0m \u001b[0;34m@\u001b[0m \u001b[0mFtilde\u001b[0m\u001b[0;34m[\u001b[0m\u001b[0;34m:\u001b[0m\u001b[0;34m,\u001b[0m \u001b[0;34m:\u001b[0m\u001b[0;34m,\u001b[0m \u001b[0mt\u001b[0m \u001b[0;34m+\u001b[0m \u001b[0;36m1\u001b[0m\u001b[0;34m]\u001b[0m\u001b[0;34m)\u001b[0m \u001b[0;34m@\u001b[0m \u001b[0mnp\u001b[0m\u001b[0;34m.\u001b[0m\u001b[0mlinalg\u001b[0m\u001b[0;34m.\u001b[0m\u001b[0minv\u001b[0m\u001b[0;34m(\u001b[0m\u001b[0mStt1\u001b[0m\u001b[0;34m[\u001b[0m\u001b[0;34m:\u001b[0m\u001b[0;34m,\u001b[0m \u001b[0;34m:\u001b[0m\u001b[0;34m,\u001b[0m \u001b[0mt\u001b[0m \u001b[0;34m+\u001b[0m \u001b[0;36m1\u001b[0m\u001b[0;34m]\u001b[0m\u001b[0;34m)\u001b[0m\u001b[0;34m\u001b[0m\u001b[0;34m\u001b[0m\u001b[0m\n\u001b[0m\u001b[1;32m    187\u001b[0m                 \u001b[0mself\u001b[0m\u001b[0;34m.\u001b[0m\u001b[0mmt1t\u001b[0m\u001b[0;34m[\u001b[0m\u001b[0;34m:\u001b[0m\u001b[0;34m,\u001b[0m \u001b[0mt\u001b[0m\u001b[0;34m]\u001b[0m \u001b[0;34m=\u001b[0m \u001b[0mmtt\u001b[0m\u001b[0;34m[\u001b[0m\u001b[0;34m:\u001b[0m\u001b[0;34m,\u001b[0m \u001b[0mt\u001b[0m\u001b[0;34m]\u001b[0m \u001b[0;34m+\u001b[0m \u001b[0mC\u001b[0m \u001b[0;34m@\u001b[0m \u001b[0;34m(\u001b[0m\u001b[0mself\u001b[0m\u001b[0;34m.\u001b[0m\u001b[0mmt1t\u001b[0m\u001b[0;34m[\u001b[0m\u001b[0;34m:\u001b[0m\u001b[0;34m,\u001b[0m \u001b[0mt\u001b[0m \u001b[0;34m+\u001b[0m \u001b[0;36m1\u001b[0m\u001b[0;34m]\u001b[0m \u001b[0;34m-\u001b[0m \u001b[0mmtt1\u001b[0m\u001b[0;34m[\u001b[0m\u001b[0;34m:\u001b[0m\u001b[0;34m,\u001b[0m \u001b[0mt\u001b[0m \u001b[0;34m+\u001b[0m \u001b[0;36m1\u001b[0m\u001b[0;34m]\u001b[0m\u001b[0;34m)\u001b[0m\u001b[0;34m\u001b[0m\u001b[0;34m\u001b[0m\u001b[0m\n\u001b[1;32m    188\u001b[0m                 \u001b[0mself\u001b[0m\u001b[0;34m.\u001b[0m\u001b[0mSt1t\u001b[0m\u001b[0;34m[\u001b[0m\u001b[0;34m:\u001b[0m\u001b[0;34m,\u001b[0m \u001b[0;34m:\u001b[0m\u001b[0;34m,\u001b[0m \u001b[0mt\u001b[0m\u001b[0;34m]\u001b[0m \u001b[0;34m=\u001b[0m \u001b[0mStt\u001b[0m\u001b[0;34m[\u001b[0m\u001b[0;34m:\u001b[0m\u001b[0;34m,\u001b[0m \u001b[0;34m:\u001b[0m\u001b[0;34m,\u001b[0m \u001b[0mt\u001b[0m\u001b[0;34m]\u001b[0m \u001b[0;34m+\u001b[0m \u001b[0mC\u001b[0m \u001b[0;34m@\u001b[0m \u001b[0;34m(\u001b[0m\u001b[0mself\u001b[0m\u001b[0;34m.\u001b[0m\u001b[0mSt1t\u001b[0m\u001b[0;34m[\u001b[0m\u001b[0;34m:\u001b[0m\u001b[0;34m,\u001b[0m \u001b[0;34m:\u001b[0m\u001b[0;34m,\u001b[0m \u001b[0mt\u001b[0m \u001b[0;34m+\u001b[0m \u001b[0;36m1\u001b[0m\u001b[0;34m]\u001b[0m \u001b[0;34m-\u001b[0m \u001b[0mStt1\u001b[0m\u001b[0;34m[\u001b[0m\u001b[0;34m:\u001b[0m\u001b[0;34m,\u001b[0m \u001b[0;34m:\u001b[0m\u001b[0;34m,\u001b[0m \u001b[0mt\u001b[0m \u001b[0;34m+\u001b[0m \u001b[0;36m1\u001b[0m\u001b[0;34m]\u001b[0m\u001b[0;34m)\u001b[0m \u001b[0;34m@\u001b[0m \u001b[0mC\u001b[0m\u001b[0;34m.\u001b[0m\u001b[0mT\u001b[0m\u001b[0;34m\u001b[0m\u001b[0;34m\u001b[0m\u001b[0m\n",
      "\u001b[0;32m<__array_function__ internals>\u001b[0m in \u001b[0;36minv\u001b[0;34m(*args, **kwargs)\u001b[0m\n",
      "\u001b[0;32m/usr/local/lib/python3.7/site-packages/numpy/linalg/linalg.py\u001b[0m in \u001b[0;36minv\u001b[0;34m(a)\u001b[0m\n\u001b[1;32m    545\u001b[0m     \u001b[0msignature\u001b[0m \u001b[0;34m=\u001b[0m \u001b[0;34m'D->D'\u001b[0m \u001b[0;32mif\u001b[0m \u001b[0misComplexType\u001b[0m\u001b[0;34m(\u001b[0m\u001b[0mt\u001b[0m\u001b[0;34m)\u001b[0m \u001b[0;32melse\u001b[0m \u001b[0;34m'd->d'\u001b[0m\u001b[0;34m\u001b[0m\u001b[0;34m\u001b[0m\u001b[0m\n\u001b[1;32m    546\u001b[0m     \u001b[0mextobj\u001b[0m \u001b[0;34m=\u001b[0m \u001b[0mget_linalg_error_extobj\u001b[0m\u001b[0;34m(\u001b[0m\u001b[0m_raise_linalgerror_singular\u001b[0m\u001b[0;34m)\u001b[0m\u001b[0;34m\u001b[0m\u001b[0;34m\u001b[0m\u001b[0m\n\u001b[0;32m--> 547\u001b[0;31m     \u001b[0mainv\u001b[0m \u001b[0;34m=\u001b[0m \u001b[0m_umath_linalg\u001b[0m\u001b[0;34m.\u001b[0m\u001b[0minv\u001b[0m\u001b[0;34m(\u001b[0m\u001b[0ma\u001b[0m\u001b[0;34m,\u001b[0m \u001b[0msignature\u001b[0m\u001b[0;34m=\u001b[0m\u001b[0msignature\u001b[0m\u001b[0;34m,\u001b[0m \u001b[0mextobj\u001b[0m\u001b[0;34m=\u001b[0m\u001b[0mextobj\u001b[0m\u001b[0;34m)\u001b[0m\u001b[0;34m\u001b[0m\u001b[0;34m\u001b[0m\u001b[0m\n\u001b[0m\u001b[1;32m    548\u001b[0m     \u001b[0;32mreturn\u001b[0m \u001b[0mwrap\u001b[0m\u001b[0;34m(\u001b[0m\u001b[0mainv\u001b[0m\u001b[0;34m.\u001b[0m\u001b[0mastype\u001b[0m\u001b[0;34m(\u001b[0m\u001b[0mresult_t\u001b[0m\u001b[0;34m,\u001b[0m \u001b[0mcopy\u001b[0m\u001b[0;34m=\u001b[0m\u001b[0;32mFalse\u001b[0m\u001b[0;34m)\u001b[0m\u001b[0;34m)\u001b[0m\u001b[0;34m\u001b[0m\u001b[0;34m\u001b[0m\u001b[0m\n\u001b[1;32m    549\u001b[0m \u001b[0;34m\u001b[0m\u001b[0m\n",
      "\u001b[0;31mKeyboardInterrupt\u001b[0m: "
     ]
    }
   ],
   "source": [
    "tvp = TVPVARModel(X_complete, y_complete, p, train)\n",
    "tvp.initialize_priors(prior='horseshoe', prior_parameters={'a0':30,'b0':30})\n",
    "tvp.train()"
   ]
  },
  {
   "cell_type": "code",
   "execution_count": 58,
   "metadata": {},
   "outputs": [
    {
     "name": "stdout",
     "output_type": "stream",
     "text": [
      "Iteration: 30\n",
      "Elapsed time: 1.3488271236419678 seconds\n",
      "Seconds for one iteration: 0.14580106735229492\n",
      "Difference: 0.00022517503466243306\n",
      "Seconds for one iteration: 0.14206290245056152\n",
      "Difference: 0.00017027113388054372\n",
      "Seconds for one iteration: 0.12946009635925293\n",
      "Difference: 0.00012889245644239096\n"
     ]
    }
   ],
   "source": [
    "tvp = TVPVARModel(X,y,p,train)\n",
    "tvp.initialize_priors(prior='lasso')\n",
    "mt1t, __ = tvp.train()"
   ]
  },
  {
   "cell_type": "code",
   "execution_count": 70,
   "metadata": {},
   "outputs": [
    {
     "data": {
      "text/plain": [
       "0.81983370111055"
      ]
     },
     "execution_count": 70,
     "metadata": {},
     "output_type": "execute_result"
    }
   ],
   "source": [
    "def create_dgp_data(T, M, p):\n",
    "    # Create data\n",
    "    lagged_y = np.zeros((T, M * p))\n",
    "    k = M*(M*p+1)\n",
    "\n",
    "    locations = np.random.randint(0, 10, size=M)\n",
    "    position_counter = 0\n",
    "\n",
    "    for m in range(M):\n",
    "        y_m = np.random.normal(loc=locations[m], scale=2, size=T + p)\n",
    "        for i in range(1, p + 1):\n",
    "            lagged_y[:, position_counter] = y_m[(p - i):-i]\n",
    "            position_counter += 1\n",
    "\n",
    "    # Create lagged dependent matrix\n",
    "    X = np.zeros((T, M, k))\n",
    "    stacked_X = np.zeros((M, T, k))\n",
    "\n",
    "    for m in range(M):\n",
    "        total_lags = M * p\n",
    "        stacked_X[m, :, m * (total_lags):(m + 1) * total_lags] = lagged_y\n",
    "\n",
    "    stacked_list = list()\n",
    "\n",
    "    for m in range(M):\n",
    "        stacked_list.append(stacked_X[m])\n",
    "\n",
    "    for t in range(T):\n",
    "        X[t] = np.squeeze(np.dstack(tuple(stacked_list)))[t].T\n",
    "\n",
    "    # Create betas\n",
    "    ub = 5\n",
    "    lb = 0\n",
    "    difference = 0.5\n",
    "    scale = 0.010\n",
    "    sign = -1\n",
    "\n",
    "    beta = np.zeros((T, k))\n",
    "\n",
    "    for i in range(k): \n",
    "        bound = np.random.randint(lb, ub)\n",
    "\n",
    "        if sign == 1:\n",
    "            sign = -1\n",
    "        else:\n",
    "            sign = 1\n",
    "\n",
    "        beta[:, i] = np.linspace(bound, bound + sign * difference, T) + np.random.normal(scale=scale, size=T)\n",
    "\n",
    "        # beta[:,27:32] = 0\n",
    "        beta[50:125, 2] = 0\n",
    "\n",
    "    # Construct dependent\n",
    "    y = np.zeros((M, T))\n",
    "\n",
    "    for i in range(T):\n",
    "        y[:, i] = X[i] @ beta[i] + np.random.normal(\n",
    "            size=M).T  # np.random.multivariate_normal(mean=np.zeros(2), cov=np.diag([0.10,5]))\n",
    "\n",
    "    # Transpose for KF\n",
    "    y = y.T\n",
    "\n",
    "    return X, y, beta"
   ]
  },
  {
   "cell_type": "code",
   "execution_count": 149,
   "metadata": {},
   "outputs": [],
   "source": [
    "def create_dgp_data(T, M, p):\n",
    "    k = M*(M*p+1)\n",
    "    \n",
    "    locations = np.random.randint(0, 100, size=M)\n",
    "    position_counter = 0\n",
    "    \n",
    "    # Create betas\n",
    "    ub = 5\n",
    "    lb = 0\n",
    "    difference = 0.5\n",
    "    scale = 0.010\n",
    "    sign = -1\n",
    "\n",
    "    beta = np.zeros((T, k))\n",
    "\n",
    "    for i in range(k): \n",
    "        bound = np.random.randint(lb, ub)\n",
    "\n",
    "        if sign == 1:\n",
    "            sign = -1\n",
    "        else:\n",
    "            sign = 1\n",
    "\n",
    "        beta[:, i] = np.linspace(bound, bound + sign * difference, T) + np.random.normal(scale=scale, size=T)\n",
    "        \n",
    "    # Construct dependent\n",
    "    y = np.zeros((M, T))\n",
    "    \n",
    "    for i in range(T):\n",
    "        y[:, i] = X[i] @ beta[i] + np.random.normal(size=M).T\n",
    "    \n",
    "    "
   ]
  },
  {
   "cell_type": "code",
   "execution_count": 174,
   "metadata": {},
   "outputs": [],
   "source": [
    "locations = np.random.randint(0, 10, size=M)\n",
    "initial_y = np.random.multivariate_normal(mean=locations,cov=np.diag([1,1,1]),size=p)\n",
    "y_constant = np.hstack(([1],initial_y.flatten('F')))"
   ]
  },
  {
   "cell_type": "code",
   "execution_count": 335,
   "metadata": {},
   "outputs": [],
   "source": [
    "y = np.zeros((T+p,M))\n",
    "\n",
    "y[:p] = initial_y = np.random.multivariate_normal(mean=locations,cov=np.diag([1,1,1]),size=p)\n",
    "\n",
    "k = M*(M*p)\n",
    "\n",
    "for t in range(p,T+p):\n",
    "\n",
    "    X = np.zeros((M, k))\n",
    "    stacked_X = np.zeros((M, k))\n",
    "\n",
    "    for m in range(M):\n",
    "        total_lags = M * p \n",
    "        stacked_X[m, m * (total_lags):(m + 1) * total_lags] = y[t-p:t].flatten('F')\n",
    "        \n",
    "    y[t,:] = beta[t-p,:]@stacked_X.T"
   ]
  },
  {
   "cell_type": "code",
   "execution_count": 336,
   "metadata": {},
   "outputs": [
    {
     "data": {
      "text/plain": [
       "[<matplotlib.lines.Line2D at 0x13849b050>]"
      ]
     },
     "execution_count": 336,
     "metadata": {},
     "output_type": "execute_result"
    },
    {
     "data": {
      "image/png": "[encoded data removed]",
      "text/plain": [
       "<Figure size 432x288 with 1 Axes>"
      ]
     },
     "metadata": {
      "needs_background": "light"
     },
     "output_type": "display_data"
    }
   ],
   "source": [
    "plt.plot(y[:,2])"
   ]
  },
  {
   "cell_type": "code",
   "execution_count": 72,
   "metadata": {},
   "outputs": [],
   "source": [
    "locations = np.random.randint(0, 100, size=M)"
   ]
  },
  {
   "cell_type": "code",
   "execution_count": 230,
   "metadata": {},
   "outputs": [],
   "source": [
    "initial_y = np.random.multivariate_normal(mean=locations,cov=np.diag([1,1,1]),size=p)\n",
    "\n",
    "# Create betas\n",
    "ub = 1\n",
    "lb = 0\n",
    "p = 0.5\n",
    "difference = 0.5\n",
    "scale = 0.010\n",
    "sign = -1\n",
    "\n",
    "beta = np.zeros((T, k))\n",
    "\n",
    "for i in range(k): \n",
    "    bound = np.random.ranf()*0.15\n",
    "\n",
    "    if sign == 1:\n",
    "        sign = -1\n",
    "    else:\n",
    "        sign = 1\n",
    "\n",
    "    beta[:, i] = np.linspace(bound, bound + sign * difference, T) + np.random.normal(scale=scale, size=T)"
   ]
  },
  {
   "cell_type": "code",
   "execution_count": 333,
   "metadata": {},
   "outputs": [],
   "source": [
    "new_k = M*(M*p)\n",
    "beta = np.zeros((T,new_k))\n",
    "\n",
    "for i in range(T):\n",
    "    \n",
    "    beta[i] = beta[i-1] + np.random.multivariate_normal(mean=np.zeros(new_k), cov=np.diag(np.ones(new_k)*0.01),size=1)"
   ]
  },
  {
   "cell_type": "code",
   "execution_count": 334,
   "metadata": {},
   "outputs": [
    {
     "data": {
      "text/plain": [
       "array([-0.00585739, -0.16473618, -0.24704648, -0.20064183, -0.34193688,\n",
       "       -0.18372427, -0.16302984, -0.33483663, -0.33203415, -0.28290002,\n",
       "       -0.19368138, -0.30732507, -0.29722012, -0.20131118, -0.19039556,\n",
       "       -0.22605881, -0.28894292, -0.29623683, -0.20019907, -0.17431602,\n",
       "       -0.2005662 , -0.19717134, -0.15194246, -0.25693848, -0.25399012,\n",
       "       -0.18590617, -0.04193357,  0.05403411,  0.04465792,  0.02067898,\n",
       "        0.02615436, -0.20113317, -0.13734634,  0.01966056,  0.05438007,\n",
       "       -0.05818185, -0.00074293, -0.15267708, -0.05680949, -0.05134714,\n",
       "        0.14059281,  0.07670372,  0.49817287,  0.48780791,  0.40881085,\n",
       "        0.30223009,  0.30549371,  0.19722182,  0.2541699 ,  0.38957388,\n",
       "        0.38077488,  0.17264375,  0.21978121,  0.29433114,  0.11956846,\n",
       "        0.16707734, -0.0275939 ,  0.05563677,  0.02605384,  0.1809755 ,\n",
       "        0.1431217 ,  0.35364647,  0.275729  ,  0.14091371,  0.0932318 ,\n",
       "        0.10457151,  0.00907655, -0.01419565,  0.06144651,  0.21862646,\n",
       "        0.2716343 ,  0.27426954,  0.36828702,  0.27854988,  0.27952741,\n",
       "        0.34924095,  0.31045968,  0.20393276,  0.21204857,  0.19791795,\n",
       "        0.30900001,  0.28408405,  0.32477246,  0.29403437,  0.37404577,\n",
       "        0.38900618,  0.3807702 ,  0.33359624,  0.48061325,  0.55946823,\n",
       "        0.35893144,  0.44041261,  0.44191446,  0.52916396,  0.67337429,\n",
       "        0.63465272,  0.58117106,  0.6281489 ,  0.84903739,  0.84107128,\n",
       "        0.70031962,  0.81527287,  0.8168469 ,  0.68639695,  0.84589875,\n",
       "        0.80520384,  0.78605727,  0.52008477,  0.3593221 ,  0.38802141,\n",
       "        0.58253808,  0.65265887,  0.56952206,  0.61051855,  0.63609886,\n",
       "        0.4769562 ,  0.4264173 ,  0.29692729,  0.32006214,  0.30176676,\n",
       "        0.15319208,  0.19071199,  0.32526471,  0.40862495,  0.37578651,\n",
       "        0.41206316,  0.24547206,  0.31318448,  0.3747127 ,  0.5259066 ,\n",
       "        0.39594904,  0.37834812,  0.41000499,  0.52720903,  0.54751483,\n",
       "        0.45962589,  0.52002143,  0.58289842,  0.66598258,  0.80510334,\n",
       "        0.74023683,  0.64730493,  0.49989364,  0.5483416 ,  0.49899212,\n",
       "        0.42723159,  0.51249423,  0.64441568,  0.68683878,  0.70629315,\n",
       "        0.89021774,  0.84252038,  0.82647586,  0.9016122 ,  1.09611392,\n",
       "        1.08168905,  1.21292729,  1.29300065,  1.33967963,  1.36735099,\n",
       "        1.14872202,  0.99677565,  1.09717413,  1.1205978 ,  1.17625169,\n",
       "        1.1832927 ,  1.31103223,  1.45770465,  1.3677311 ,  1.3313063 ,\n",
       "        1.36922582,  1.37826168,  1.05200575,  0.82827736])"
      ]
     },
     "execution_count": 334,
     "metadata": {},
     "output_type": "execute_result"
    }
   ],
   "source": [
    "beta[:,0]"
   ]
  },
  {
   "cell_type": "code",
   "execution_count": null,
   "metadata": {},
   "outputs": [],
   "source": [
    "# SVSS\n",
    "# Optimizing the shrinkage for M = 7 (default values are optimal for M = 3)\n",
    "\n",
    "# tau_0 = np.arange(0.5, 5, 1)\n",
    "# tau_1 = np.arange(100, 300, 50)\n",
    "\n",
    "tau_0 = np.arange(0.5, 5, 1)\n",
    "tau_1 = np.arange(10, 100, 15)\n",
    "\n",
    "train_gridsearch = 98 #1985Q4\n",
    "\n",
    "parameter_set = []\n",
    "\n",
    "for t_0 in tau_0:\n",
    "    for t_1 in tau_1:\n",
    "        parameter_set.append((t_0, t_1))\n",
    "\n",
    "msfe_list = []\n",
    "number_of_possibilities = len(parameter_set)\n",
    "print(f'Number of possibilities: {number_of_possibilities}')\n",
    "\n",
    "for idx, p_set in enumerate(parameter_set):\n",
    "    \n",
    "    tau_0, tau_1 = p_set\n",
    "    \n",
    "    tvp_svss = TVPVARModel(X_complete, y_complete, p, train)\n",
    "    tvp_svss.initialize_priors(prior='svss',\n",
    "                               prior_parameters={'tau_0': tau_0,\n",
    "                                                 'tau_1': tau_1,\n",
    "                                                 'pi0': 0.5},\n",
    "                               )\n",
    "    \n",
    "    mt1t, St1t = tvp_svss.train(print_status=False)\n",
    "    msfe_list.append(tvp_svss.insample_msfe())\n",
    "    \n",
    "    print(f'Progress: {(idx+1)}/{number_of_possibilities}')\n",
    "    \n",
    "# Clear printing output\n",
    "clear_output()\n",
    "    \n",
    "sorted_indices = np.argsort(msfe_list)\n",
    "\n",
    "for i in range(number_of_possibilities):\n",
    "    \n",
    "    sorted_index = sorted_indices[i]\n",
    "    \n",
    "    print(f'MSFE: {msfe_list[sorted_index]} | '\n",
    "          f'tau_0: {parameter_set[sorted_index][0]} & '\n",
    "          f'tau_1: {parameter_set[sorted_index][1]}')\n",
    "    \n",
    "    \n",
    "optimal_svss = parameter_set[sorted_indices[0]]"
   ]
  },
  {
   "cell_type": "code",
   "execution_count": null,
   "metadata": {},
   "outputs": [],
   "source": [
    "# Horseshoe\n",
    "# Optimizing the shrinkage for M = 7 (default values are optimal for M = 3)\n",
    "\n",
    "a0_horseshoe = np.arange(10, 30, 5)\n",
    "b0_horseshoe = np.arange(10, 30, 5)\n",
    "\n",
    "train_gridsearch = 98 # 1985Q1\n",
    "\n",
    "parameter_set = []\n",
    "\n",
    "for a0 in a0_horseshoe:\n",
    "    for b0 in b0_horseshoe:\n",
    "        parameter_set.append((a0, b0))\n",
    "\n",
    "msfe_list = []\n",
    "number_of_possibilities = len(parameter_set)\n",
    "print(f'Number of possibilities: {number_of_possibilities}')\n",
    "\n",
    "for idx, p_set in enumerate(parameter_set):\n",
    "    \n",
    "    a0, b0 = p_set\n",
    "    \n",
    "    tvp_horseshoe = TVPVARModel(X_complete, y_complete, p, train_gridsearch)\n",
    "    tvp_horseshoe.initialize_priors(prior='horseshoe',\n",
    "                               prior_parameters={'a0': a0,\n",
    "                                                 'b0': b0})\n",
    "    \n",
    "    mt1t, St1t = tvp_horseshoe.train(print_status=False)\n",
    "    msfe_list.append(tvp_horseshoe.insample_msfe())\n",
    "    \n",
    "    print(f'Progress: {(idx+1)}/{number_of_possibilities}')\n",
    "    \n",
    "# Clear printing output\n",
    "clear_output()\n",
    "    \n",
    "sorted_indices = np.argsort(msfe_list)\n",
    "\n",
    "for i in range(number_of_possibilities):\n",
    "    \n",
    "    sorted_index = sorted_indices[i]\n",
    "    \n",
    "    print(f'MSFE: {msfe_list[sorted_index]} | '\n",
    "          f'a0: {parameter_set[sorted_index][0]} & '\n",
    "          f'b0: {parameter_set[sorted_index][1]}')\n",
    "    \n",
    "optimal_horseshoe = parameter_set[sorted_indices[0]]"
   ]
  },
  {
   "cell_type": "code",
   "execution_count": null,
   "metadata": {},
   "outputs": [],
   "source": [
    "# Lasso\n",
    "# Optimizing the shrinkage for M = 7 (default values are optimal for M = 3)\n",
    "\n",
    "lambda_parameters = np.arange(10, 200, 25)\n",
    "\n",
    "train_gridsearch = 98 #1985Q4\n",
    "\n",
    "parameter_set = []\n",
    "\n",
    "for lambda_param in lambda_parameters:\n",
    "    parameter_set.append((lambda_param))\n",
    "\n",
    "msfe_list = []\n",
    "number_of_possibilities = len(parameter_set)\n",
    "print(f'Number of possibilities: {number_of_possibilities}')\n",
    "\n",
    "for idx, p_set in enumerate(parameter_set):\n",
    "    \n",
    "    lambda_param = p_set\n",
    "    \n",
    "    tvp_lasso = TVPVARModel(X_complete, y_complete, p, train_gridsearch)\n",
    "    tvp_lasso.initialize_priors(prior='lasso',\n",
    "                               prior_parameters={'lambda_param': lambda_param})\n",
    "    \n",
    "    mt1t, St1t = tvp_lasso.train(print_status=False)\n",
    "    msfe_list.append(tvp_lasso.insample_msfe())\n",
    "    \n",
    "    print(f'Progress: {(idx+1)}/{number_of_possibilities}')\n",
    "    \n",
    "# Clear printing output\n",
    "clear_output()\n",
    "    \n",
    "sorted_indices = np.argsort(msfe_list)\n",
    "\n",
    "for i in range(number_of_possibilities):\n",
    "    \n",
    "    sorted_index = sorted_indices[i]\n",
    "    \n",
    "    print(f'MSFE: {msfe_list[sorted_index]} | '\n",
    "          f'lambda: {parameter_set[sorted_index]}')\n",
    "    \n",
    "optimal_lambda = parameter_set[sorted_indices[0]]"
   ]
  },
  {
   "cell_type": "code",
   "execution_count": null,
   "metadata": {},
   "outputs": [],
   "source": [
    "# SVSS\n",
    "# Calculate h-step forecasts (h = 1 .. 8) for M = 7\n",
    "\n",
    "# optimal_svss = (4.5, 250) #M = 7\n",
    "optimal_svss = (1.5, 70)\n",
    "\n",
    "tvp_svss = TVPVARModel(X_complete, y_complete, p, train)\n",
    "tvp_svss.initialize_priors(prior='svss',\n",
    "                           prior_parameters={'tau_0': optimal_svss[0],\n",
    "                                             'tau_1': optimal_svss[1],\n",
    "                                             'pi0':0.5})\n",
    "\n",
    "h_forecast = 8\n",
    "\n",
    "msfe_svss, alpl_svss = tvp_svss.calculate_metrics(h_forecast)\n",
    "\n",
    "clear_output()\n",
    "print(f'MSFE for SVSS:')\n",
    "print(np.mean(msfe_svss,1))"
   ]
  },
  {
   "cell_type": "code",
   "execution_count": null,
   "metadata": {},
   "outputs": [],
   "source": [
    "# Horseshoe\n",
    "# Calculate h-step forecasts (h = 1 .. 8) for M = 7\n",
    "\n",
    "optimal_horseshoe = (25,10)\n",
    "\n",
    "tvp_horseshoe = TVPVARModel(X_complete, y_complete, p, train)\n",
    "tvp_horseshoe.initialize_priors(prior='horseshoe',\n",
    "                            prior_parameters={'a0': optimal_horseshoe[0],\n",
    "                                              'b0': optimal_horseshoe[1]})\n",
    "\n",
    "tvp_horseshoe.print_status = False\n",
    "\n",
    "h_forecast = 8\n",
    "\n",
    "msfe_horseshoe, alpl_horseshoe = tvp_horseshoe.calculate_metrics(h_forecast)\n",
    "\n",
    "clear_output()\n",
    "print(f'MSFE for Horseshoe:')\n",
    "print(np.mean(msfe_horseshoe,1))"
   ]
  },
  {
   "cell_type": "code",
   "execution_count": null,
   "metadata": {},
   "outputs": [],
   "source": [
    "for i in range(8):\n",
    "    \n",
    "    np.savetxt(f'../rcode/horseshoe_{i+1}.csv', tvp_horseshoe.y_pred[:,:,i], delimiter=\",\")"
   ]
  },
  {
   "cell_type": "code",
   "execution_count": 50,
   "metadata": {},
   "outputs": [
    {
     "name": "stdout",
     "output_type": "stream",
     "text": [
      "Iteration: 0\n",
      "Elapsed time: 0 seconds\n",
      "lambda: 0.33034885030248745,phi: 2.1988491905256105, v: 1.1341038279442246, delta: 1.4478288295656339 mt1t: 0.006915187720900422\n",
      "Seconds for one iteration: 0.15065383911132812\n",
      "Difference: 82.37718130647589\n",
      "lambda: 0.09272736825971865,phi: 1.7962611057246485, v: 1.1455866315521606, delta: 2.355596022497353 mt1t: -0.00442778581445894\n",
      "Seconds for one iteration: 0.14159178733825684\n",
      "Difference: 8.401025334569521\n",
      "lambda: 0.09780235336436652,phi: 1.7775330955236566, v: 1.1463039991966182, delta: 2.2814590108942734 mt1t: -0.007982887679353127\n",
      "Seconds for one iteration: 0.13572096824645996\n",
      "Difference: 22.00002597909927\n",
      "lambda: 0.09523138867046976,phi: 1.774372740860882, v: 1.1464281297548669, delta: 2.3155516514263454 mt1t: -0.007728416209869795\n",
      "Seconds for one iteration: 0.1368408203125\n",
      "Difference: 4.586930227112368\n",
      "lambda: 0.09523243656305909,phi: 1.7741827375060077, v: 1.1464356370574702, delta: 2.315744906831839 mt1t: -0.007738449990095723\n",
      "Seconds for one iteration: 0.13231992721557617\n",
      "Difference: 0.44553350160795036\n",
      "lambda: 0.09522078640731106,phi: 1.774159619895009, v: 1.146436535496254, delta: 2.315883716796089 mt1t: -0.007738558304791447\n",
      "Seconds for one iteration: 0.1366901397705078\n",
      "Difference: 0.05044070835731382\n",
      "lambda: 0.09522169438867305,phi: 1.774158592769799, v: 1.1464365757089814, delta: 2.315873709366262 mt1t: -0.007739228499420951\n",
      "Seconds for one iteration: 0.13167095184326172\n",
      "Difference: 0.007401412434468919\n",
      "lambda: 0.09522182079641617,phi: 1.7741585829198292, v: 1.146436576221992, delta: 2.315872198942601 mt1t: -0.007739307147116018\n",
      "Seconds for one iteration: 0.13601303100585938\n",
      "Difference: 0.0013257312430203225\n",
      "lambda: 0.09522184996534012,phi: 1.774158600326977, v: 1.146436575564141, delta: 2.3158718360267603 mt1t: -0.007739312607457733\n",
      "Seconds for one iteration: 0.13312506675720215\n",
      "Difference: 0.0003121043515821625\n"
     ]
    }
   ],
   "source": [
    "tvp_svss = TVPVARModel(X_complete, y_complete, p, train, 200)\n",
    "tvp_svss.initialize_priors(prior='horseshoe')\n",
    "__, __ = tvp_svss.train(print_status=True)"
   ]
  },
  {
   "cell_type": "code",
   "execution_count": null,
   "metadata": {},
   "outputs": [],
   "source": [
    "# Lasso\n",
    "# Calculate h-step forecasts (h = 1 .. 8) for M = 7\n",
    "\n",
    "tvp_lasso = TVPVARModel(X_complete, y_complete, p, train)\n",
    "tvp_lasso.initialize_priors(prior='lasso',\n",
    "                            prior_parameters={'lambda_param': optimal_lambda})\n",
    "\n",
    "h_forecast = 8\n",
    "\n",
    "msfe_lasso, alpl_lasso = tvp_lasso.calculate_metrics(h_forecast)\n",
    "\n",
    "clear_output()\n",
    "np.mean(msfe_lasso, 1)"
   ]
  },
  {
   "cell_type": "code",
   "execution_count": null,
   "metadata": {},
   "outputs": [],
   "source": [
    "tvp = TVPVARModel(X_complete, y_complete, p, train)"
   ]
  },
  {
   "cell_type": "code",
   "execution_count": null,
   "metadata": {},
   "outputs": [],
   "source": [
    "import pickle\n",
    "\n",
    "dump_to_disk = (msfe_horseshoe, alpl_horseshoe, msfe_lasso,\n",
    "                alpl_lasso, optimal_svss, optimal_horseshoe, optimal_lambda)\n",
    "\n",
    "with open('dumps/mse_alpl_7_non_standard_horseshoe_lasso.pkl', 'wb') as f:\n",
    "    pickle.dump(dump_to_disk, f, pickle.HIGHEST_PROTOCOL)"
   ]
  },
  {
   "cell_type": "code",
   "execution_count": null,
   "metadata": {},
   "outputs": [],
   "source": [
    "np.mean(msfe_horseshoe,1)"
   ]
  },
  {
   "cell_type": "code",
   "execution_count": null,
   "metadata": {},
   "outputs": [],
   "source": [
    "import pickle\n",
    "\n",
    "dump_to_disk = (msfe_horseshoe, alpl_horseshoe, optimal_horseshoe)\n",
    "\n",
    "with open('dumps/mse_alpl_7_non_standard_horseshoe.pkl', 'wb') as f:\n",
    "    pickle.dump(dump_to_disk, f, pickle.HIGHEST_PROTOCOL)"
   ]
  },
  {
   "cell_type": "code",
   "execution_count": null,
   "metadata": {},
   "outputs": [],
   "source": [
    "# SVSS\n",
    "# Calculate h-step forecasts (h = 1 .. 8) for M = 7\n",
    "\n",
    "# optimal_svss = (4.5, 250) #M = 7\n",
    "optimal_svss = (1.5, 70)\n",
    "\n",
    "tvp_svss = TVPVARModel(X_complete, y_complete, p, train)\n",
    "tvp_svss.initialize_priors(prior='svss',\n",
    "                           prior_parameters={'tau_0': optimal_svss[0],\n",
    "                                             'tau_1': optimal_svss[1],\n",
    "                                             'pi0':0.5})\n",
    "\n",
    "h_forecast = 1\n",
    "\n",
    "msfe_svss, alpl_svss = tvp_svss.calculate_metrics(h_forecast)\n",
    "\n",
    "clear_output()\n",
    "print(f'MSFE for SVSS:')\n",
    "print(np.mean(msfe_svss,1))"
   ]
  },
  {
   "cell_type": "code",
   "execution_count": null,
   "metadata": {},
   "outputs": [],
   "source": [
    "def calculate_derivative_svss_tau_0(parameter_values, h_forecast):\n",
    "    \n",
    "    error = np.sqrt(1.1e-16)\n",
    "    tvp_plus = TVPVARModel(X_complete, y_complete, p, train)\n",
    "    tvp_minus = TVPVARModel(X_complete, y_complete, p, train)\n",
    "    \n",
    "    tvp_plus.initialize_priors(prior='svss', prior_parameters={'tau_0':parameter_values['tau_0']+error,'tau_1':parameter_values['tau_1'],'pi0':parameter_values['pi0']})\n",
    "    tvp_minus.initialize_priors(prior='svss', prior_parameters={'tau_0':parameter_values['tau_0']-error,'tau_1':parameter_values['tau_1'],'pi0':parameter_values['pi0']})\n",
    "    \n",
    "    msfe_svss_plus, __ = tvp_plus.calculate_metrics(h_forecast, print_status=False)\n",
    "    msfe_svss_minus, __ = tvp_minus.calculate_metrics(h_forecast, print_status=False)\n",
    "    \n",
    "    derivative = (msfe_svss_plus[0][0] - msfe_svss_minus[0][0])/(2*error)\n",
    "    print(f'plus: {msfe_svss_plus[0][0]} | minus: {msfe_svss_minus[0][0]}')\n",
    "    \n",
    "    return derivative"
   ]
  },
  {
   "cell_type": "code",
   "execution_count": null,
   "metadata": {},
   "outputs": [],
   "source": [
    "%%time\n",
    "\n",
    "tau_0_set = np.arange(1.5,10,0.25)\n",
    "\n",
    "derivatives = np.zeros(tau_0_set.shape[0], dtype=np.float64)\n",
    "\n",
    "for i, tau_0 in enumerate(tau_0_set):\n",
    "    \n",
    "    derivatives[i] = calculate_derivative_svss_tau_0({'tau_0':tau_0,'tau_1':70,'pi0':0.5}, 1)\n",
    "    print(f'{i+1}/{tau_0_set.shape[0]} - derivative: {derivatives[i]}')\n",
    "    \n",
    "dump_to_disk = (tau_0_set, derivatives)\n",
    "    \n",
    "with open('dumps/derivatives_svss_tau_0.pkl', 'wb') as f:\n",
    "    pickle.dump(dump_to_disk, f, pickle.HIGHEST_PROTOCOL)"
   ]
  },
  {
   "cell_type": "code",
   "execution_count": null,
   "metadata": {},
   "outputs": [],
   "source": [
    "def calculate_derivative_svss_tau_1(parameter_values, h_forecast):\n",
    "    \n",
    "    error = np.sqrt(1.1e-16)\n",
    "    tvp_plus = TVPVARModel(X_complete, y_complete, p, train)\n",
    "    tvp_minus = TVPVARModel(X_complete, y_complete, p, train)\n",
    "    \n",
    "    tvp_plus.initialize_priors(prior='svss', prior_parameters={'tau_0':parameter_values['tau_0'],'tau_1':parameter_values['tau_1']+error,'pi0':parameter_values['pi0']})\n",
    "    tvp_minus.initialize_priors(prior='svss', prior_parameters={'tau_0':parameter_values['tau_0'],'tau_1':parameter_values['tau_1']-error,'pi0':parameter_values['pi0']})\n",
    "    \n",
    "    msfe_svss_plus, __ = tvp_plus.calculate_metrics(h_forecast, print_status=False)\n",
    "    msfe_svss_minus, __ = tvp_minus.calculate_metrics(h_forecast, print_status=False)\n",
    "    \n",
    "    derivative = (msfe_svss_plus[0][0] - msfe_svss_minus[0][0])/(2*error)\n",
    "    print(f'plus: {msfe_svss_plus[0][0]} | minus: {msfe_svss_minus[0][0]}')\n",
    "    \n",
    "    return derivative"
   ]
  },
  {
   "cell_type": "code",
   "execution_count": null,
   "metadata": {},
   "outputs": [],
   "source": [
    "%%time\n",
    "\n",
    "import pickle\n",
    "\n",
    "tau_1_set = np.arange(70,80,0.25)\n",
    "\n",
    "derivatives = np.zeros(tau_1_set.shape[0], dtype=np.float64)\n",
    "\n",
    "for i, tau_1 in enumerate(tau_1_set):\n",
    "    derivatives[i] = calculate_derivative_svss_tau_1({'tau_0':1.5,'tau_1':tau_1,'pi0':0.5}, 1)\n",
    "    print(f'{i+1}/{tau_1_set.shape[0]} - derivative: {derivatives[i]}')\n",
    "    \n",
    "dump_to_disk = (tau_1_set, derivatives)\n",
    "    \n",
    "with open('dumps/derivatives_svss_tau_1.pkl', 'wb') as f:\n",
    "    pickle.dump(dump_to_disk, f, pickle.HIGHEST_PROTOCOL)"
   ]
  },
  {
   "cell_type": "code",
   "execution_count": 7,
   "metadata": {},
   "outputs": [],
   "source": [
    "tvp = TVPVARModel(X_complete, y_complete, p, train)\n",
    "tvp.initialize_priors(prior='svss', prior_parameters={'tau_0':2.5,'tau_1':100, 'pi0':0.5})"
   ]
  },
  {
   "cell_type": "code",
   "execution_count": 19,
   "metadata": {},
   "outputs": [
    {
     "data": {
      "text/plain": [
       "0.0005257996901390391"
      ]
     },
     "execution_count": 19,
     "metadata": {},
     "output_type": "execute_result"
    }
   ],
   "source": [
    "tvp.insample_msfe()"
   ]
  },
  {
   "cell_type": "code",
   "execution_count": 20,
   "metadata": {},
   "outputs": [
    {
     "data": {
      "text/plain": [
       "0.0005257996901390391"
      ]
     },
     "execution_count": 20,
     "metadata": {},
     "output_type": "execute_result"
    }
   ],
   "source": [
    "tvp.insample_msfe()"
   ]
  },
  {
   "cell_type": "code",
   "execution_count": null,
   "metadata": {},
   "outputs": [],
   "source": [
    "tvp.prior_parameters"
   ]
  },
  {
   "cell_type": "code",
   "execution_count": 16,
   "metadata": {},
   "outputs": [],
   "source": [
    "def calculate_derivatives(prior, prior_parameters, parameter_id):\n",
    "    \n",
    "    h_forecast = 1\n",
    "    msfe_list = np.zeros(2)\n",
    "    error = np.sqrt(1.1e-16)\n",
    "    for i in range(2):\n",
    "        changed_parameter = prior_parameters.get(parameter_id)\n",
    "        if i == 0:\n",
    "            changed_parameter += error\n",
    "        else:\n",
    "            changed_parameter -= error\n",
    "        prior_parameters.pop(parameter_id)\n",
    "        prior_parameters.update({parameter_id: changed_parameter})\n",
    "        tvp = TVPVARModel(X_complete, y_complete, p, train)\n",
    "        tvp.initialize_priors(prior=prior, prior_parameters=prior_parameters)\n",
    "        msfe, __ = tvp.calculate_metrics(h_forecast, print_status=False)\n",
    "        msfe_list[i] = msfe[0][0]\n",
    "        \n",
    "    derivative = (msfe_list[0] - msfe_list[1])/(2*error)\n",
    "    return derivative"
   ]
  },
  {
   "cell_type": "code",
   "execution_count": null,
   "metadata": {},
   "outputs": [],
   "source": [
    "%%time\n",
    "\n",
    "tau_0_set = np.arange(1.5,10,0.25)\n",
    "\n",
    "derivatives = np.zeros(tau_0_set.shape[0], dtype=np.float64)\n",
    "\n",
    "for i, tau_0 in enumerate(tau_0_set):\n",
    "    \n",
    "    derivatives[i] = calculate_derivatives(prior='svss',\n",
    "                                           prior_parameters={'tau_0':tau_0,'tau_1':70,'pi0':0.5},\n",
    "                                           parameter_id='tau_0',\n",
    "                                           h_forecast=1)\n",
    "    print(f'{i+1}/{tau_0_set.shape[0]} - derivative: {derivatives[i]}')\n",
    "    \n",
    "dump_to_disk = (tau_0_set, derivatives)"
   ]
  },
  {
   "cell_type": "code",
   "execution_count": null,
   "metadata": {},
   "outputs": [],
   "source": [
    "%%time\n",
    "\n",
    "param_set = np.arange(25,35,0.25)\n",
    "\n",
    "derivatives = np.zeros(param_set.shape[0], dtype=np.float64)\n",
    "\n",
    "for i, param in enumerate(param_set):\n",
    "    \n",
    "    derivatives[i] = calculate_derivatives(prior='horseshoe',\n",
    "                                           prior_parameters={'a0':param,'b0':10},\n",
    "                                           parameter_id='a0',\n",
    "                                           h_forecast=1)\n",
    "    print(f'{i+1}/{param_set.shape[0]} - derivative: {derivatives[i]}')\n",
    "    \n",
    "dump_to_disk = (tau_0_set, derivatives)"
   ]
  },
  {
   "cell_type": "code",
   "execution_count": 20,
   "metadata": {},
   "outputs": [
    {
     "name": "stdout",
     "output_type": "stream",
     "text": [
      "1/50 - derivative: -2.707122889123256e-09\n",
      "2/50 - derivative: -2.8240654292023273e-09\n",
      "3/50 - derivative: -2.9481149744795744e-09\n",
      "4/50 - derivative: -3.0850863473898678e-09\n",
      "5/50 - derivative: -3.203967161613896e-09\n",
      "6/50 - derivative: -3.4023172157811612e-09\n",
      "7/50 - derivative: -3.5522104163245014e-09\n",
      "8/50 - derivative: -3.610358640673211e-09\n",
      "9/50 - derivative: -3.6413710269925227e-09\n",
      "10/50 - derivative: -3.6865974237081855e-09\n",
      "11/50 - derivative: -3.768004937796379e-09\n",
      "12/50 - derivative: -3.616173463108082e-09\n",
      "13/50 - derivative: -3.7486221963468095e-09\n",
      "14/50 - derivative: -3.788033770627601e-09\n",
      "15/50 - derivative: -3.836490624251526e-09\n",
      "16/50 - derivative: -3.882363112348841e-09\n",
      "17/50 - derivative: -3.795786867207429e-09\n",
      "18/50 - derivative: -3.693704428906361e-09\n",
      "19/50 - derivative: -3.733762094568806e-09\n",
      "20/50 - derivative: -3.797079049970734e-09\n",
      "21/50 - derivative: -3.8687951933341425e-09\n",
      "22/50 - derivative: -3.88494747787545e-09\n",
      "23/50 - derivative: -3.911437224523196e-09\n",
      "24/50 - derivative: -3.945033976369117e-09\n",
      "25/50 - derivative: -3.976046362688429e-09\n"
     ]
    },
    {
     "ename": "KeyboardInterrupt",
     "evalue": "",
     "output_type": "error",
     "traceback": [
      "\u001b[0;31m---------------------------------------------------------------------------\u001b[0m",
      "\u001b[0;31mKeyboardInterrupt\u001b[0m                         Traceback (most recent call last)",
      "\u001b[0;32m<timed exec>\u001b[0m in \u001b[0;36m<module>\u001b[0;34m\u001b[0m\n",
      "\u001b[0;32m<ipython-input-16-91ca7418e5ee>\u001b[0m in \u001b[0;36mcalculate_derivatives\u001b[0;34m(prior, prior_parameters, parameter_id, h_forecast)\u001b[0m\n\u001b[1;32m     13\u001b[0m         \u001b[0mtvp\u001b[0m \u001b[0;34m=\u001b[0m \u001b[0mTVPVARModel\u001b[0m\u001b[0;34m(\u001b[0m\u001b[0mX_complete\u001b[0m\u001b[0;34m,\u001b[0m \u001b[0my_complete\u001b[0m\u001b[0;34m,\u001b[0m \u001b[0mp\u001b[0m\u001b[0;34m,\u001b[0m \u001b[0mtrain\u001b[0m\u001b[0;34m)\u001b[0m\u001b[0;34m\u001b[0m\u001b[0;34m\u001b[0m\u001b[0m\n\u001b[1;32m     14\u001b[0m         \u001b[0mtvp\u001b[0m\u001b[0;34m.\u001b[0m\u001b[0minitialize_priors\u001b[0m\u001b[0;34m(\u001b[0m\u001b[0mprior\u001b[0m\u001b[0;34m=\u001b[0m\u001b[0mprior\u001b[0m\u001b[0;34m,\u001b[0m \u001b[0mprior_parameters\u001b[0m\u001b[0;34m=\u001b[0m\u001b[0mprior_parameters\u001b[0m\u001b[0;34m)\u001b[0m\u001b[0;34m\u001b[0m\u001b[0;34m\u001b[0m\u001b[0m\n\u001b[0;32m---> 15\u001b[0;31m         \u001b[0mmsfe\u001b[0m\u001b[0;34m,\u001b[0m \u001b[0m__\u001b[0m \u001b[0;34m=\u001b[0m \u001b[0mtvp\u001b[0m\u001b[0;34m.\u001b[0m\u001b[0mcalculate_metrics\u001b[0m\u001b[0;34m(\u001b[0m\u001b[0mh_forecast\u001b[0m\u001b[0;34m,\u001b[0m \u001b[0mprint_status\u001b[0m\u001b[0;34m=\u001b[0m\u001b[0;32mFalse\u001b[0m\u001b[0;34m)\u001b[0m\u001b[0;34m\u001b[0m\u001b[0;34m\u001b[0m\u001b[0m\n\u001b[0m\u001b[1;32m     16\u001b[0m         \u001b[0mmsfe_list\u001b[0m\u001b[0;34m[\u001b[0m\u001b[0mi\u001b[0m\u001b[0;34m]\u001b[0m \u001b[0;34m=\u001b[0m \u001b[0mmsfe\u001b[0m\u001b[0;34m[\u001b[0m\u001b[0;36m0\u001b[0m\u001b[0;34m]\u001b[0m\u001b[0;34m[\u001b[0m\u001b[0;36m0\u001b[0m\u001b[0;34m]\u001b[0m\u001b[0;34m\u001b[0m\u001b[0;34m\u001b[0m\u001b[0m\n\u001b[1;32m     17\u001b[0m \u001b[0;34m\u001b[0m\u001b[0m\n",
      "\u001b[0;32m~/Dropbox/ESE/MSc Econometrics/Thesis/Bayesian VARs/Code/Jupyter/utils/tvp_models.py\u001b[0m in \u001b[0;36mcalculate_metrics\u001b[0;34m(self, total_h, number_of_draws, print_status)\u001b[0m\n\u001b[1;32m    353\u001b[0m         \u001b[0malpl\u001b[0m \u001b[0;34m=\u001b[0m \u001b[0mnp\u001b[0m\u001b[0;34m.\u001b[0m\u001b[0mzeros\u001b[0m\u001b[0;34m(\u001b[0m\u001b[0mtotal_h\u001b[0m\u001b[0;34m)\u001b[0m\u001b[0;34m\u001b[0m\u001b[0;34m\u001b[0m\u001b[0m\n\u001b[1;32m    354\u001b[0m \u001b[0;34m\u001b[0m\u001b[0m\n\u001b[0;32m--> 355\u001b[0;31m         \u001b[0mself\u001b[0m\u001b[0;34m.\u001b[0m\u001b[0my_pred\u001b[0m \u001b[0;34m=\u001b[0m \u001b[0mself\u001b[0m\u001b[0;34m.\u001b[0m\u001b[0mcalculate_oos_predictions\u001b[0m\u001b[0;34m(\u001b[0m\u001b[0mtotal_h\u001b[0m\u001b[0;34m,\u001b[0m \u001b[0mnumber_of_draws\u001b[0m\u001b[0;34m,\u001b[0m \u001b[0mprint_status\u001b[0m\u001b[0;34m)\u001b[0m\u001b[0;34m\u001b[0m\u001b[0;34m\u001b[0m\u001b[0m\n\u001b[0m\u001b[1;32m    356\u001b[0m \u001b[0;34m\u001b[0m\u001b[0m\n\u001b[1;32m    357\u001b[0m         \u001b[0;32mfor\u001b[0m \u001b[0mh\u001b[0m \u001b[0;32min\u001b[0m \u001b[0mrange\u001b[0m\u001b[0;34m(\u001b[0m\u001b[0mtotal_h\u001b[0m\u001b[0;34m)\u001b[0m\u001b[0;34m:\u001b[0m\u001b[0;34m\u001b[0m\u001b[0;34m\u001b[0m\u001b[0m\n",
      "\u001b[0;32m~/Dropbox/ESE/MSc Econometrics/Thesis/Bayesian VARs/Code/Jupyter/utils/tvp_models.py\u001b[0m in \u001b[0;36mcalculate_oos_predictions\u001b[0;34m(self, total_h, number_of_draws, print_status)\u001b[0m\n\u001b[1;32m    308\u001b[0m             \u001b[0mprev_X\u001b[0m \u001b[0;34m=\u001b[0m \u001b[0mself\u001b[0m\u001b[0;34m.\u001b[0m\u001b[0mX\u001b[0m\u001b[0;34m[\u001b[0m\u001b[0mself\u001b[0m\u001b[0;34m.\u001b[0m\u001b[0mT_train\u001b[0m\u001b[0;34m]\u001b[0m\u001b[0;34m\u001b[0m\u001b[0;34m\u001b[0m\u001b[0m\n\u001b[1;32m    309\u001b[0m \u001b[0;34m\u001b[0m\u001b[0m\n\u001b[0;32m--> 310\u001b[0;31m             \u001b[0m__\u001b[0m\u001b[0;34m,\u001b[0m \u001b[0m__\u001b[0m \u001b[0;34m=\u001b[0m \u001b[0mself\u001b[0m\u001b[0;34m.\u001b[0m\u001b[0mtrain\u001b[0m\u001b[0;34m(\u001b[0m\u001b[0mprint_status\u001b[0m\u001b[0;34m=\u001b[0m\u001b[0mself\u001b[0m\u001b[0;34m.\u001b[0m\u001b[0mprint_status\u001b[0m\u001b[0;34m)\u001b[0m\u001b[0;34m\u001b[0m\u001b[0;34m\u001b[0m\u001b[0m\n\u001b[0m\u001b[1;32m    311\u001b[0m \u001b[0;34m\u001b[0m\u001b[0m\n\u001b[1;32m    312\u001b[0m             \u001b[0;32mfor\u001b[0m \u001b[0mh\u001b[0m \u001b[0;32min\u001b[0m \u001b[0mrange\u001b[0m\u001b[0;34m(\u001b[0m\u001b[0mtotal_h\u001b[0m\u001b[0;34m)\u001b[0m\u001b[0;34m:\u001b[0m\u001b[0;34m\u001b[0m\u001b[0;34m\u001b[0m\u001b[0m\n",
      "\u001b[0;32m~/Dropbox/ESE/MSc Econometrics/Thesis/Bayesian VARs/Code/Jupyter/utils/tvp_models.py\u001b[0m in \u001b[0;36mtrain\u001b[0;34m(self, threshold, print_status)\u001b[0m\n\u001b[1;32m    165\u001b[0m                 \u001b[0;32melif\u001b[0m \u001b[0mself\u001b[0m\u001b[0;34m.\u001b[0m\u001b[0mprior\u001b[0m \u001b[0;34m==\u001b[0m \u001b[0;34m'lasso'\u001b[0m\u001b[0;34m:\u001b[0m\u001b[0;34m\u001b[0m\u001b[0;34m\u001b[0m\u001b[0m\n\u001b[1;32m    166\u001b[0m                     \u001b[0mQtilde\u001b[0m\u001b[0;34m[\u001b[0m\u001b[0;34m:\u001b[0m\u001b[0;34m,\u001b[0m \u001b[0;34m:\u001b[0m\u001b[0;34m,\u001b[0m \u001b[0mt\u001b[0m\u001b[0;34m]\u001b[0m \u001b[0;34m=\u001b[0m \u001b[0mnp\u001b[0m\u001b[0;34m.\u001b[0m\u001b[0mdiag\u001b[0m\u001b[0;34m(\u001b[0m\u001b[0;36m1\u001b[0m \u001b[0;34m/\u001b[0m \u001b[0;34m(\u001b[0m\u001b[0mq_t\u001b[0m\u001b[0;34m[\u001b[0m\u001b[0mt\u001b[0m\u001b[0;34m,\u001b[0m \u001b[0;34m:\u001b[0m\u001b[0;34m]\u001b[0m \u001b[0;34m+\u001b[0m \u001b[0mself\u001b[0m\u001b[0;34m.\u001b[0m\u001b[0mtau_lasso\u001b[0m\u001b[0;34m[\u001b[0m\u001b[0mt\u001b[0m\u001b[0;34m,\u001b[0m \u001b[0;34m:\u001b[0m\u001b[0;34m]\u001b[0m\u001b[0;34m)\u001b[0m\u001b[0;34m)\u001b[0m\u001b[0;34m\u001b[0m\u001b[0;34m\u001b[0m\u001b[0m\n\u001b[0;32m--> 167\u001b[0;31m                     \u001b[0mFtilde\u001b[0m\u001b[0;34m[\u001b[0m\u001b[0;34m:\u001b[0m\u001b[0;34m,\u001b[0m \u001b[0;34m:\u001b[0m\u001b[0;34m,\u001b[0m \u001b[0mt\u001b[0m\u001b[0;34m]\u001b[0m \u001b[0;34m=\u001b[0m \u001b[0mnp\u001b[0m\u001b[0;34m.\u001b[0m\u001b[0mmultiply\u001b[0m\u001b[0;34m(\u001b[0m\u001b[0mQtilde\u001b[0m\u001b[0;34m[\u001b[0m\u001b[0;34m:\u001b[0m\u001b[0;34m,\u001b[0m \u001b[0;34m:\u001b[0m\u001b[0;34m,\u001b[0m \u001b[0mt\u001b[0m\u001b[0;34m]\u001b[0m\u001b[0;34m,\u001b[0m \u001b[0mnp\u001b[0m\u001b[0;34m.\u001b[0m\u001b[0mdiag\u001b[0m\u001b[0;34m(\u001b[0m\u001b[0mq_t\u001b[0m\u001b[0;34m[\u001b[0m\u001b[0mt\u001b[0m\u001b[0;34m,\u001b[0m \u001b[0;34m:\u001b[0m\u001b[0;34m]\u001b[0m\u001b[0;34m)\u001b[0m\u001b[0;34m)\u001b[0m\u001b[0;34m\u001b[0m\u001b[0;34m\u001b[0m\u001b[0m\n\u001b[0m\u001b[1;32m    168\u001b[0m \u001b[0;34m\u001b[0m\u001b[0m\n\u001b[1;32m    169\u001b[0m                 \u001b[0;32mif\u001b[0m \u001b[0mt\u001b[0m \u001b[0;34m==\u001b[0m \u001b[0;36m0\u001b[0m\u001b[0;34m:\u001b[0m\u001b[0;34m\u001b[0m\u001b[0;34m\u001b[0m\u001b[0m\n",
      "\u001b[0;31mKeyboardInterrupt\u001b[0m: "
     ]
    }
   ],
   "source": [
    "%%time\n",
    "\n",
    "param_set = np.arange(100,150,1)\n",
    "\n",
    "derivatives = np.zeros(param_set.shape[0], dtype=np.float64)\n",
    "\n",
    "for i, param in enumerate(param_set):\n",
    "    \n",
    "    derivatives[i] = calculate_derivatives(prior='lasso',\n",
    "                                           prior_parameters={'lambda_param': param},\n",
    "                                           parameter_id='lambda_param')\n",
    "    print(f'{i+1}/{param_set.shape[0]} - derivative: {derivatives[i]}')\n",
    "    \n",
    "dump_to_disk = (param_set, derivatives)"
   ]
  },
  {
   "cell_type": "code",
   "execution_count": 21,
   "metadata": {},
   "outputs": [
    {
     "ename": "NameError",
     "evalue": "name 'dump_to_disk' is not defined",
     "output_type": "error",
     "traceback": [
      "\u001b[0;31m---------------------------------------------------------------------------\u001b[0m",
      "\u001b[0;31mNameError\u001b[0m                                 Traceback (most recent call last)",
      "\u001b[0;32m<ipython-input-21-5a61b79396a9>\u001b[0m in \u001b[0;36m<module>\u001b[0;34m\u001b[0m\n\u001b[1;32m      1\u001b[0m \u001b[0;32mwith\u001b[0m \u001b[0mopen\u001b[0m\u001b[0;34m(\u001b[0m\u001b[0;34m'dumps/derivatives_lasso.pkl'\u001b[0m\u001b[0;34m,\u001b[0m \u001b[0;34m'wb'\u001b[0m\u001b[0;34m)\u001b[0m \u001b[0;32mas\u001b[0m \u001b[0mf\u001b[0m\u001b[0;34m:\u001b[0m\u001b[0;34m\u001b[0m\u001b[0;34m\u001b[0m\u001b[0m\n\u001b[0;32m----> 2\u001b[0;31m     \u001b[0mpickle\u001b[0m\u001b[0;34m.\u001b[0m\u001b[0mdump\u001b[0m\u001b[0;34m(\u001b[0m\u001b[0mdump_to_disk\u001b[0m\u001b[0;34m,\u001b[0m \u001b[0mf\u001b[0m\u001b[0;34m,\u001b[0m \u001b[0mpickle\u001b[0m\u001b[0;34m.\u001b[0m\u001b[0mHIGHEST_PROTOCOL\u001b[0m\u001b[0;34m)\u001b[0m\u001b[0;34m\u001b[0m\u001b[0;34m\u001b[0m\u001b[0m\n\u001b[0m",
      "\u001b[0;31mNameError\u001b[0m: name 'dump_to_disk' is not defined"
     ]
    }
   ],
   "source": [
    "with open('dumps/derivatives_lasso.pkl', 'wb') as f:\n",
    "    pickle.dump(dump_to_disk, f, pickle.HIGHEST_PROTOCOL)"
   ]
  },
  {
   "cell_type": "code",
   "execution_count": 22,
   "metadata": {},
   "outputs": [
    {
     "data": {
      "text/plain": [
       "[<matplotlib.lines.Line2D at 0x1365d6a10>]"
      ]
     },
     "execution_count": 22,
     "metadata": {},
     "output_type": "execute_result"
    },
    {
     "data": {
      "image/png": "[encoded data removed]",
      "text/plain": [
       "<Figure size 432x288 with 1 Axes>"
      ]
     },
     "metadata": {
      "needs_background": "light"
     },
     "output_type": "display_data"
    }
   ],
   "source": [
    "plt.plot(param_set[:25], derivatives[:25])"
   ]
  },
  {
   "cell_type": "code",
   "execution_count": null,
   "metadata": {},
   "outputs": [],
   "source": []
  }
 ],
 "metadata": {
  "kernelspec": {
   "display_name": "Python 3.7 (XPython)",
   "language": "python",
   "name": "xpython"
  },
  "language_info": {
   "file_extension": ".py",
   "mimetype": "text/x-python",
   "name": "python",
   "version": "3.7.8"
  }
 },
 "nbformat": 4,
 "nbformat_minor": 4
}
