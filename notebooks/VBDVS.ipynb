{
 "cells": [
  {
   "cell_type": "code",
   "execution_count": 1,
   "metadata": {},
   "outputs": [],
   "source": [
    "# General libraries\n",
    "# import jax\n",
    "import sys\n",
    "\n",
    "\n",
    "import os\n",
    "import time\n",
    "import numpy as np\n",
    "import pandas as pd\n",
    "import matplotlib.pyplot as plt\n",
    "from scipy.stats import norm, multivariate_normal\n",
    "from IPython.display import clear_output\n",
    "\n",
    "# Own code\n",
    "sys.path.append(\"../\")\n",
    "from utils.data_utils import create_data, create_dgp_data, transformation, standardize\n",
    "from utils.tvp_models import TVPVARModel\n",
    "\n",
    "# Suppress scientific notation in numpy\n",
    "np.set_printoptions(suppress=True)\n",
    "\n",
    "# Set RNG\n",
    "np.random.seed(12345)"
   ]
  },
  {
   "cell_type": "code",
   "execution_count": 2,
   "metadata": {},
   "outputs": [
    {
     "name": "stdout",
     "output_type": "stream",
     "text": [
      "k: 39\n"
     ]
    }
   ],
   "source": [
    "train = 178 # 2005Q1\n",
    "\n",
    "M = 3\n",
    "p = 4\n",
    "T = train - p\n",
    "k = M*(M*p+1)\n",
    "\n",
    "print(f'k: {k}')"
   ]
  },
  {
   "cell_type": "code",
   "execution_count": 3,
   "metadata": {},
   "outputs": [],
   "source": [
    "ds = pd.read_csv(\"../data/fred_qd.csv\")"
   ]
  },
  {
   "cell_type": "code",
   "execution_count": 4,
   "metadata": {},
   "outputs": [],
   "source": [
    "transform = True\n",
    "\n",
    "gdp = transformation(ds[\"GDPC1\"].iloc[2:].to_numpy(), 5, transform)\n",
    "cpi = transformation(ds[\"CPIAUCSL\"].iloc[2:].to_numpy(), 6, transform)\n",
    "fedfund = transformation(ds[\"FEDFUNDS\"].iloc[2:].to_numpy(), 2, transform)\n",
    "compi = transformation(ds[\"PPIACO\"].iloc[2:].to_numpy(), 6, transform)\n",
    "borrowings = transformation(ds[\"TOTRESNS\"].iloc[2:].to_numpy(), 6, transform)\n",
    "sp500 = transformation(ds[\"S&P 500\"].iloc[2:].to_numpy(), 5, transform)\n",
    "m2 = transformation(ds[\"M2REAL\"].iloc[2:].to_numpy(), 5, transform)\n",
    "\n",
    "# Start due to transformation\n",
    "\n",
    "lag = 2\n",
    "\n",
    "series_total = [gdp[lag:], cpi[lag:], fedfund[lag:]]\n",
    "# series_total = [gdp[lag:], cpi[lag:], fedfund[lag:], compi[lag:], borrowings[lag:], sp500[lag:], m2[lag:]]"
   ]
  },
  {
   "cell_type": "code",
   "execution_count": 5,
   "metadata": {},
   "outputs": [],
   "source": [
    "standardized_series = standardize(series_total, train)"
   ]
  },
  {
   "cell_type": "markdown",
   "metadata": {},
   "source": [
    "### TVP-VAR with Variational Bayes (VB) - M = 7"
   ]
  },
  {
   "cell_type": "code",
   "execution_count": 6,
   "metadata": {},
   "outputs": [],
   "source": [
    "complete_T = len(gdp[lag:])\n",
    "X_complete, y_complete = create_data(series_total,\n",
    "                                     complete_T,\n",
    "                                     complete_T-p,\n",
    "                                     M,\n",
    "                                     p,\n",
    "                                     k)"
   ]
  },
  {
   "cell_type": "code",
   "execution_count": null,
   "metadata": {},
   "outputs": [],
   "source": [
    "# SVSS\n",
    "# Optimizing the shrinkage for M = 7 (default values are optimal for M = 3)\n",
    "\n",
    "tau_0 = np.arange(0.5, 5, 1)\n",
    "tau_1 = np.arange(100, 300, 50)\n",
    "\n",
    "train_gridsearch = 98 #1985Q4\n",
    "\n",
    "parameter_set = []\n",
    "\n",
    "for t_0 in tau_0:\n",
    "    for t_1 in tau_1:\n",
    "        parameter_set.append((t_0, t_1))\n",
    "\n",
    "msfe_list = []\n",
    "number_of_possibilities = len(parameter_set)\n",
    "print(f'Number of possibilities: {number_of_possibilities}')\n",
    "\n",
    "for idx, p_set in enumerate(parameter_set):\n",
    "    \n",
    "    tau_0, tau_1 = p_set\n",
    "    \n",
    "    tvp_svss = TVPVARModel(X_complete, y_complete, p, train)\n",
    "    tvp_svss.initialize_priors(prior='svss',\n",
    "                               prior_parameters={'tau_0': tau_0,\n",
    "                                                 'tau_1': tau_1,\n",
    "                                                 'pi0': 0.5},\n",
    "                               )\n",
    "    \n",
    "    mt1t, St1t = tvp_svss.train(print_status=False)\n",
    "    msfe_list.append(tvp_svss.insample_msfe())\n",
    "    \n",
    "    print(f'Progress: {(idx+1)}/{number_of_possibilities}')\n",
    "    \n",
    "# Clear printing output\n",
    "clear_output()\n",
    "    \n",
    "sorted_indices = np.argsort(msfe_list)\n",
    "\n",
    "for i in range(number_of_possibilities):\n",
    "    \n",
    "    sorted_index = sorted_indices[i]\n",
    "    \n",
    "    print(f'MSFE: {msfe_list[sorted_index]} | '\n",
    "          f'tau_0: {parameter_set[sorted_index][0]} & '\n",
    "          f'tau_1: {parameter_set[sorted_index][1]}')\n",
    "    \n",
    "    \n",
    "optimal_svss = parameter_set[sorted_indices[0]]\n",
    "# Optimal pararmeters: 'tau_0': 2.5, 'tu_1': 150, 'pi0': 0.5"
   ]
  },
  {
   "cell_type": "code",
   "execution_count": 50,
   "metadata": {},
   "outputs": [
    {
     "name": "stdout",
     "output_type": "stream",
     "text": [
      "MSFE: 0.0006180817246110649 | a0: 10 & b0: 10\n",
      "MSFE: 0.0006650044322116735 | a0: 20 & b0: 10\n",
      "MSFE: 0.0006650044322116807 | a0: 10 & b0: 20\n",
      "MSFE: 0.0007100285232404204 | a0: 20 & b0: 20\n"
     ]
    }
   ],
   "source": [
    "# Horseshoe\n",
    "# Optimizing the shrinkage for M = 7 (default values are optimal for M = 3)\n",
    "\n",
    "a0_horseshoe = np.arange(10, 30, 10)\n",
    "b0_horseshoe = np.arange(10, 30, 10)\n",
    "\n",
    "train_gridsearch = 98 # 1985Q1\n",
    "\n",
    "parameter_set = []\n",
    "\n",
    "for a0 in a0_horseshoe:\n",
    "    for b0 in b0_horseshoe:\n",
    "        parameter_set.append((a0, b0))\n",
    "\n",
    "msfe_list = []\n",
    "number_of_possibilities = len(parameter_set)\n",
    "print(f'Number of possibilities: {number_of_possibilities}')\n",
    "\n",
    "for idx, p_set in enumerate(parameter_set):\n",
    "    \n",
    "    a0, b0 = p_set\n",
    "    \n",
    "    tvp_horseshoe = TVPVARModel(X_complete, y_complete, p, train_gridsearch)\n",
    "    tvp_horseshoe.initialize_priors(prior='horseshoe',\n",
    "                               prior_parameters={'a0': a0,\n",
    "                                                 'b0': b0})\n",
    "    \n",
    "    mt1t, St1t = tvp_horseshoe.train(print_status=False)\n",
    "    msfe_list.append(tvp_horseshoe.insample_msfe())\n",
    "    \n",
    "    print(f'Progress: {(idx+1)}/{number_of_possibilities}')\n",
    "    \n",
    "# Clear printing output\n",
    "clear_output()\n",
    "    \n",
    "sorted_indices = np.argsort(msfe_list)\n",
    "\n",
    "for i in range(number_of_possibilities):\n",
    "    \n",
    "    sorted_index = sorted_indices[i]\n",
    "    \n",
    "    print(f'MSFE: {msfe_list[sorted_index]} | '\n",
    "          f'a0: {parameter_set[sorted_index][0]} & '\n",
    "          f'b0: {parameter_set[sorted_index][1]}')\n",
    "    \n",
    "optimal_horseshoe = parameter_set[sorted_indices[0]]"
   ]
  },
  {
   "cell_type": "code",
   "execution_count": null,
   "metadata": {},
   "outputs": [],
   "source": [
    "# Lasso\n",
    "# Optimizing the shrinkage for M = 7 (default values are optimal for M = 3)\n",
    "\n",
    "lambda_parameters = np.arange(200, 1000, 100)\n",
    "\n",
    "train_gridsearch = 98 #1985Q4\n",
    "\n",
    "parameter_set = []\n",
    "\n",
    "for lambda_param in lambda_parameters:\n",
    "    parameter_set.append((lambda_param))\n",
    "\n",
    "msfe_list = []\n",
    "number_of_possibilities = len(parameter_set)\n",
    "print(f'Number of possibilities: {number_of_possibilities}')\n",
    "\n",
    "for idx, p_set in enumerate(parameter_set):\n",
    "    \n",
    "    lambda_param = p_set\n",
    "    \n",
    "    tvp_lasso = TVPVARModel(X_complete, y_complete, p, train_gridsearch)\n",
    "    tvp_lasso.initialize_priors(prior='lasso',\n",
    "                               prior_parameters={'lambda_param': lambda_param})\n",
    "    \n",
    "    mt1t, St1t = tvp_lasso.train(print_status=False)\n",
    "    msfe_list.append(tvp_lasso.insample_msfe())\n",
    "    \n",
    "    print(f'Progress: {(idx+1)}/{number_of_possibilities}')\n",
    "    \n",
    "# Clear printing output\n",
    "clear_output()\n",
    "    \n",
    "sorted_indices = np.argsort(msfe_list)\n",
    "\n",
    "for i in range(number_of_possibilities):\n",
    "    \n",
    "    sorted_index = sorted_indices[i]\n",
    "    \n",
    "    print(f'MSFE: {msfe_list[sorted_index]} | '\n",
    "          f'lambda: {parameter_set[sorted_index]}')\n",
    "    \n",
    "optimal_lambda = parameter_set[sorted_indices[0]]"
   ]
  },
  {
   "cell_type": "code",
   "execution_count": null,
   "metadata": {},
   "outputs": [],
   "source": [
    "# SVSS\n",
    "# Calculate h-step forecasts (h = 1 .. 8) for M = 7\n",
    "\n",
    "optimal_svss = (4.5, 250)\n",
    "\n",
    "tvp_svss = TVPVARModel(X_complete, y_complete, p, train)\n",
    "tvp_svss.initialize_priors(prior='svss',\n",
    "                           prior_parameters={'tau_0': optimal_svss[0],\n",
    "                                             'tau_1': optimal_svss[1],\n",
    "                                             'pi0':0.5})\n",
    "\n",
    "h_forecast = 8\n",
    "\n",
    "msfe_svss, alpl_svss = tvp_svss.calculate_metrics(h_forecast)"
   ]
  },
  {
   "cell_type": "code",
   "execution_count": null,
   "metadata": {},
   "outputs": [],
   "source": [
    "# Horseshoe\n",
    "# Calculate h-step forecasts (h = 1 .. 8) for M = 7\n",
    "\n",
    "optimal_horseshoe = (10,10)\n",
    "\n",
    "tvp_horseshoe = TVPVARModel(X_complete, y_complete, p, train)\n",
    "tvp_horseshoe.initialize_priors(prior='horseshoe',\n",
    "                            prior_parameters={'a0': optimal_horseshoe[0],\n",
    "                                              'b0': optimal_horseshoe[1]})\n",
    "\n",
    "tvp_horseshoe.print_status = True\n",
    "\n",
    "h_forecast = 8\n",
    "\n",
    "msfe_horseshoe, alpl_horseshoe = tvp_horseshoe.calculate_metrics(h_forecast)"
   ]
  },
  {
   "cell_type": "code",
   "execution_count": 25,
   "metadata": {},
   "outputs": [],
   "source": [
    "tvp_lasso = TVPVARModel(X_complete, y_complete, p, train)"
   ]
  },
  {
   "cell_type": "code",
   "execution_count": 19,
   "metadata": {},
   "outputs": [
    {
     "data": {
      "text/plain": [
       "array([0.04168368, 0.04110235, 0.04027113, 0.0392854 , 0.03839065,\n",
       "       0.03817755, 0.03704872, 0.03661861, 0.0366519 , 0.03716934,\n",
       "       0.0378728 , 0.03855978, 0.03946374, 0.03932116, 0.03944167,\n",
       "       0.03959487, 0.0398879 , 0.04016129, 0.04075584, 0.04030379,\n",
       "       0.04026295, 0.04032479, 0.04082513, 0.04055993, 0.04111584,\n",
       "       0.04045756, 0.04012435, 0.03932479, 0.03820151, 0.03748034,\n",
       "       0.03724198, 0.03841963, 0.03695012, 0.03645738, 0.03711524,\n",
       "       0.03861034, 0.03715093, 0.03639413, 0.03637   , 0.03740869,\n",
       "       0.03903832, 0.03872095, 0.03943244, 0.03727595, 0.0364757 ,\n",
       "       0.03615887, 0.03614124, 0.03565004, 0.03535333, 0.03606735,\n",
       "       0.03800296, 0.03850487, 0.04058995, 0.03801093, 0.03720508,\n",
       "       0.03784443, 0.03767673, 0.03930825, 0.03959862, 0.03892859,\n",
       "       0.03804532, 0.03747768, 0.03680681, 0.03688439, 0.03700979,\n",
       "       0.03741589, 0.03781245, 0.03846141, 0.03902957, 0.04049509,\n",
       "       0.04105636, 0.04191307, 0.04259833, 0.04362579, 0.04299078,\n",
       "       0.04293439, 0.04294587, 0.04311841, 0.04244421, 0.04194938,\n",
       "       0.04178473, 0.0416336 , 0.03915879, 0.03704328, 0.03631494,\n",
       "       0.0364117 , 0.0359046 , 0.03608415, 0.03736409, 0.03703804,\n",
       "       0.03631437, 0.03602799, 0.03646654, 0.03708087, 0.03776575,\n",
       "       0.03841424, 0.03805744, 0.03962609, 0.03826235, 0.03740801,\n",
       "       0.03720907, 0.03772097, 0.03834745, 0.03869438, 0.03833404,\n",
       "       0.03770802, 0.03695793, 0.03681387, 0.03674444, 0.03693449,\n",
       "       0.03716487, 0.03772466, 0.03794902, 0.03765618, 0.03816735,\n",
       "       0.03753072, 0.03720335, 0.03679849, 0.03683878, 0.0370003 ,\n",
       "       0.03759703, 0.03825807, 0.03979462, 0.03899573, 0.03872062,\n",
       "       0.03860355, 0.03858558, 0.03851722, 0.03842628, 0.03813159,\n",
       "       0.03802577, 0.03798331, 0.03806049, 0.03804679, 0.0383607 ,\n",
       "       0.03930427, 0.03889461, 0.03886912, 0.03868711, 0.03828636,\n",
       "       0.03793849, 0.03767521, 0.03765895, 0.03746467, 0.03754892,\n",
       "       0.0377381 , 0.03795131, 0.03833023, 0.03824107, 0.03819465,\n",
       "       0.03811622, 0.03799185, 0.03773147, 0.03835891, 0.03705746,\n",
       "       0.03624129, 0.03621559, 0.03619664, 0.03692672, 0.03794751,\n",
       "       0.03766347, 0.03777404, 0.03858653, 0.03845608, 0.03768222,\n",
       "       0.03830999, 0.0374816 , 0.03710579, 0.03697765, 0.03720539,\n",
       "       0.0378468 , 0.03856053, 0.03965004, 0.04051796])"
      ]
     },
     "execution_count": 19,
     "metadata": {},
     "output_type": "execute_result"
    }
   ],
   "source": [
    "tvp_horseshoe.lambda_t_horseshoe"
   ]
  },
  {
   "cell_type": "code",
   "execution_count": null,
   "metadata": {},
   "outputs": [],
   "source": [
    "# Lasso\n",
    "# Calculate h-step forecasts (h = 1 .. 8) for M = 7\n",
    "\n",
    "optimal_lambda = 300\n",
    "\n",
    "tvp_lasso = TVPVARModel(X_complete, y_complete, p, train)\n",
    "tvp_lasso.initialize_priors(prior='lasso',\n",
    "                            prior_parameters={'lambda_param': optimal_lambda})\n",
    "\n",
    "h_forecast = 8\n",
    "\n",
    "msfe_lasso, alpl_lasso = tvp_lasso.calculate_metrics(h_forecast)"
   ]
  },
  {
   "cell_type": "code",
   "execution_count": null,
   "metadata": {},
   "outputs": [],
   "source": [
    "import pickle\n",
    "\n",
    "dump_to_disk = (msfe_horseshoe, alpl_horseshoe, msfe_lasso,\n",
    "                alpl_lasso, optimal_svss, optimal_horseshoe, optimal_lambda)\n",
    "\n",
    "with open('dumps/mse_alpl_7_non_standard_horseshoe_lasso.pkl', 'wb') as f:\n",
    "    pickle.dump(dump_to_disk, f, pickle.HIGHEST_PROTOCOL)"
   ]
  },
  {
   "cell_type": "code",
   "execution_count": 10,
   "metadata": {},
   "outputs": [
    {
     "name": "stdout",
     "output_type": "stream",
     "text": [
      "hello world\n"
     ]
    }
   ],
   "source": [
    "print(\"hello world\")"
   ]
  },
  {
   "cell_type": "code",
   "execution_count": 57,
   "metadata": {},
   "outputs": [
    {
     "data": {
      "text/plain": [
       "array([0.04080503, 0.08028772, 0.09561953, 0.14142871, 0.17950264,\n",
       "       0.22727599, 0.29079865, 0.35616062])"
      ]
     },
     "execution_count": 57,
     "metadata": {},
     "output_type": "execute_result"
    }
   ],
   "source": [
    "np.mean(msfe_horseshoe,1)"
   ]
  },
  {
   "cell_type": "code",
   "execution_count": null,
   "metadata": {},
   "outputs": [],
   "source": [
    "import pickle\n",
    "\n",
    "dump_to_disk = (msfe_horseshoe, alpl_horseshoe, optimal_horseshoe)\n",
    "\n",
    "with open('dumps/mse_alpl_7_non_standard_horseshoe.pkl', 'wb') as f:\n",
    "    pickle.dump(dump_to_disk, f, pickle.HIGHEST_PROTOCOL)"
   ]
  }
 ],
 "metadata": {
  "kernelspec": {
   "display_name": "Python 3",
   "language": "python",
   "name": "python3"
  },
  "language_info": {
   "codemirror_mode": {
    "name": "ipython",
    "version": 3
   },
   "file_extension": ".py",
   "mimetype": "text/x-python",
   "name": "python",
   "nbconvert_exporter": "python",
   "pygments_lexer": "ipython3",
   "version": "3.7.6"
  }
 },
 "nbformat": 4,
 "nbformat_minor": 4
}
