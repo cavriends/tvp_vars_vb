{
 "cells": [
  {
   "cell_type": "code",
   "execution_count": 29,
   "metadata": {},
   "outputs": [],
   "source": [
    "# General libraries\n",
    "# import jax\n",
    "import sys\n",
    "\n",
    "\n",
    "import os\n",
    "import time\n",
    "import numpy as np\n",
    "import pandas as pd\n",
    "import matplotlib.pyplot as plt\n",
    "from scipy.stats import norm, multivariate_normal\n",
    "from IPython.display import clear_output\n",
    "\n",
    "# Own code\n",
    "sys.path.append(\"../\")\n",
    "from utils.data_utils import create_data, create_dgp_data, transformation, standardize\n",
    "from utils.tvp_models import TVPVARModel\n",
    "\n",
    "# Suppress scientific notation in numpy\n",
    "np.set_printoptions(suppress=True)\n",
    "\n",
    "# Set RNG\n",
    "np.random.seed(12345)"
   ]
  },
  {
   "cell_type": "code",
   "execution_count": 30,
   "metadata": {},
   "outputs": [
    {
     "name": "stdout",
     "output_type": "stream",
     "text": [
      "k: 203\n"
     ]
    }
   ],
   "source": [
    "train = 178 # 2005Q1\n",
    "\n",
    "M = 7\n",
    "p = 4\n",
    "T = train - p\n",
    "k = M*(M*p+1)\n",
    "\n",
    "print(f'k: {k}')"
   ]
  },
  {
   "cell_type": "code",
   "execution_count": 31,
   "metadata": {},
   "outputs": [],
   "source": [
    "ds = pd.read_csv(\"../data/fred_qd.csv\")"
   ]
  },
  {
   "cell_type": "code",
   "execution_count": 32,
   "metadata": {},
   "outputs": [],
   "source": [
    "transform = True\n",
    "\n",
    "gdp = transformation(ds[\"GDPC1\"].iloc[2:].to_numpy(), 5, transform)\n",
    "cpi = transformation(ds[\"CPIAUCSL\"].iloc[2:].to_numpy(), 6, transform)\n",
    "fedfund = transformation(ds[\"FEDFUNDS\"].iloc[2:].to_numpy(), 2, transform)\n",
    "compi = transformation(ds[\"PPIACO\"].iloc[2:].to_numpy(), 6, transform)\n",
    "borrowings = transformation(ds[\"TOTRESNS\"].iloc[2:].to_numpy(), 6, transform)\n",
    "sp500 = transformation(ds[\"S&P 500\"].iloc[2:].to_numpy(), 5, transform)\n",
    "m2 = transformation(ds[\"M2REAL\"].iloc[2:].to_numpy(), 5, transform)\n",
    "\n",
    "# Start due to transformation\n",
    "\n",
    "lag = 2\n",
    "\n",
    "# series_total = [gdp, cpi, fedfund]\n",
    "series_total = [gdp[lag:], cpi[lag:], fedfund[lag:], compi[lag:], borrowings[lag:], sp500[lag:], m2[lag:]]"
   ]
  },
  {
   "cell_type": "code",
   "execution_count": 33,
   "metadata": {},
   "outputs": [],
   "source": [
    "standardized_series = standardize(series_total, train)"
   ]
  },
  {
   "cell_type": "markdown",
   "metadata": {},
   "source": [
    "### TVP-VAR with Variational Bayes (VB) - M = 7"
   ]
  },
  {
   "cell_type": "code",
   "execution_count": 34,
   "metadata": {},
   "outputs": [],
   "source": [
    "complete_T = len(gdp[lag:])\n",
    "X_complete, y_complete = create_data(series_total,\n",
    "                                     complete_T,\n",
    "                                     complete_T-p,\n",
    "                                     M,\n",
    "                                     p,\n",
    "                                     k)"
   ]
  },
  {
   "cell_type": "code",
   "execution_count": null,
   "metadata": {},
   "outputs": [],
   "source": [
    "# SVSS\n",
    "# Optimizing the shrinkage for M = 7 (default values are optimal for M = 3)\n",
    "\n",
    "tau_0 = np.arange(0.5, 5, 1)\n",
    "tau_1 = np.arange(100, 300, 50)\n",
    "\n",
    "train_gridsearch = 98 #1985Q4\n",
    "\n",
    "parameter_set = []\n",
    "\n",
    "for t_0 in tau_0:\n",
    "    for t_1 in tau_1:\n",
    "        parameter_set.append((t_0, t_1))\n",
    "\n",
    "msfe_list = []\n",
    "number_of_possibilities = len(parameter_set)\n",
    "print(f'Number of possibilities: {number_of_possibilities}')\n",
    "\n",
    "for idx, p_set in enumerate(parameter_set):\n",
    "    \n",
    "    tau_0, tau_1 = p_set\n",
    "    \n",
    "    tvp_svss = TVPVARModel(X_complete, y_complete, p, train)\n",
    "    tvp_svss.initialize_priors(prior='svss',\n",
    "                               prior_parameters={'tau_0': tau_0,\n",
    "                                                 'tau_1': tau_1,\n",
    "                                                 'pi0': 0.5},\n",
    "                               )\n",
    "    \n",
    "    mt1t, St1t = tvp_svss.train(print_status=False)\n",
    "    msfe_list.append(tvp_svss.insample_msfe())\n",
    "    \n",
    "    print(f'Progress: {(idx+1)}/{number_of_possibilities}')\n",
    "    \n",
    "# Clear printing output\n",
    "clear_output()\n",
    "    \n",
    "sorted_indices = np.argsort(msfe_list)\n",
    "\n",
    "for i in range(number_of_possibilities):\n",
    "    \n",
    "    sorted_index = sorted_indices[i]\n",
    "    \n",
    "    print(f'MSFE: {msfe_list[sorted_index]} | '\n",
    "          f'tau_0: {parameter_set[sorted_index][0]} & '\n",
    "          f'tau_1: {parameter_set[sorted_index][1]}')\n",
    "    \n",
    "    \n",
    "optimal_svss = parameter_set[sorted_indices[0]]\n",
    "# Optimal pararmeters: 'tau_0': 2.5, 'tu_1': 150, 'pi0': 0.5"
   ]
  },
  {
   "cell_type": "code",
   "execution_count": null,
   "metadata": {},
   "outputs": [],
   "source": [
    "# Horseshoe\n",
    "# Optimizing the shrinkage for M = 7 (default values are optimal for M = 3)\n",
    "\n",
    "a0_horseshoe = np.arange(25, 150, 50)\n",
    "b0_horseshoe = np.arange(25, 150, 50)\n",
    "\n",
    "train_gridsearch = 98 # 1985Q1\n",
    "\n",
    "parameter_set = []\n",
    "\n",
    "for a0 in a0_horseshoe:\n",
    "    for b0 in b0_horseshoe:\n",
    "        parameter_set.append((a0, b0))\n",
    "\n",
    "msfe_list = []\n",
    "number_of_possibilities = len(parameter_set)\n",
    "print(f'Number of possibilities: {number_of_possibilities}')\n",
    "\n",
    "for idx, p_set in enumerate(parameter_set):\n",
    "    \n",
    "    a0, b0 = p_set\n",
    "    \n",
    "    tvp_horseshoe = TVPVARModel(X_complete, y_complete, p, train_gridsearch)\n",
    "    tvp_horseshoe.initialize_priors(prior='horseshoe',\n",
    "                               prior_parameters={'a0': a0,\n",
    "                                                 'b0': b0})\n",
    "    \n",
    "    mt1t, St1t = tvp_horseshoe.train(print_status=False)\n",
    "    msfe_list.append(tvp_horseshoe.insample_msfe())\n",
    "    \n",
    "    print(f'Progress: {(idx+1)}/{number_of_possibilities}')\n",
    "    \n",
    "# Clear printing output\n",
    "clear_output()\n",
    "    \n",
    "sorted_indices = np.argsort(msfe_list)\n",
    "\n",
    "for i in range(number_of_possibilities):\n",
    "    \n",
    "    sorted_index = sorted_indices[i]\n",
    "    \n",
    "    print(f'MSFE: {msfe_list[sorted_index]} | '\n",
    "          f'a0: {parameter_set[sorted_index][0]} & '\n",
    "          f'b0: {parameter_set[sorted_index][1]}')\n",
    "    \n",
    "optimal_horseshoe = parameter_set[sorted_indices[0]]"
   ]
  },
  {
   "cell_type": "code",
   "execution_count": null,
   "metadata": {},
   "outputs": [],
   "source": [
    "# Lasso\n",
    "# Optimizing the shrinkage for M = 7 (default values are optimal for M = 3)\n",
    "\n",
    "lambda_parameters = np.arange(200, 1000, 100)\n",
    "\n",
    "train_gridsearch = 98 #1985Q4\n",
    "\n",
    "parameter_set = []\n",
    "\n",
    "for lambda_param in lambda_parameters:\n",
    "    parameter_set.append((lambda_param))\n",
    "\n",
    "msfe_list = []\n",
    "number_of_possibilities = len(parameter_set)\n",
    "print(f'Number of possibilities: {number_of_possibilities}')\n",
    "\n",
    "for idx, p_set in enumerate(parameter_set):\n",
    "    \n",
    "    lambda_param = p_set\n",
    "    \n",
    "    tvp_lasso = TVPVARModel(X_complete, y_complete, p, train_gridsearch)\n",
    "    tvp_lasso.initialize_priors(prior='lasso',\n",
    "                               prior_parameters={'lambda_param': lambda_param})\n",
    "    \n",
    "    mt1t, St1t = tvp_lasso.train(print_status=False)\n",
    "    msfe_list.append(tvp_lasso.insample_msfe())\n",
    "    \n",
    "    print(f'Progress: {(idx+1)}/{number_of_possibilities}')\n",
    "    \n",
    "# Clear printing output\n",
    "clear_output()\n",
    "    \n",
    "sorted_indices = np.argsort(msfe_list)\n",
    "\n",
    "for i in range(number_of_possibilities):\n",
    "    \n",
    "    sorted_index = sorted_indices[i]\n",
    "    \n",
    "    print(f'MSFE: {msfe_list[sorted_index]} | '\n",
    "          f'lambda: {parameter_set[sorted_index]}')\n",
    "    \n",
    "optimal_lambda = parameter_set[sorted_indices[0]]"
   ]
  },
  {
   "cell_type": "code",
   "execution_count": null,
   "metadata": {},
   "outputs": [],
   "source": [
    "# SVSS\n",
    "# Calculate h-step forecasts (h = 1 .. 8) for M = 7\n",
    "\n",
    "optimal_svss = (4.5, 250)\n",
    "\n",
    "tvp_svss = TVPVARModel(X_complete, y_complete, p, train)\n",
    "tvp_svss.initialize_priors(prior='svss',\n",
    "                           prior_parameters={'tau_0': optimal_svss[0],\n",
    "                                             'tau_1': optimal_svss[1],\n",
    "                                             'pi0':0.5})\n",
    "\n",
    "h_forecast = 8\n",
    "\n",
    "msfe_svss, alpl_svss = tvp_svss.calculate_metrics(h_forecast)"
   ]
  },
  {
   "cell_type": "code",
   "execution_count": null,
   "metadata": {},
   "outputs": [
    {
     "name": "stdout",
     "output_type": "stream",
     "text": [
      "Progress: 1/65 | Elapsed time: 218.3086678981781 seconds\n",
      "ETA: 2020-07-22 13:44:25.991321\n",
      "Progress: 2/65 | Elapsed time: 188.76940989494324 seconds\n",
      "ETA: 2020-07-22 13:12:55.478980\n",
      "Progress: 3/65 | Elapsed time: 188.76482772827148 seconds\n",
      "ETA: 2020-07-22 13:12:55.190515\n",
      "Progress: 4/65 | Elapsed time: 189.39241003990173 seconds\n",
      "ETA: 2020-07-22 13:13:34.100805\n",
      "Progress: 5/65 | Elapsed time: 190.57853317260742 seconds\n",
      "ETA: 2020-07-22 13:14:46.454495\n",
      "Progress: 6/65 | Elapsed time: 210.31315088272095 seconds\n",
      "ETA: 2020-07-22 13:34:30.531722\n",
      "Progress: 7/65 | Elapsed time: 191.2697639465332 seconds\n",
      "ETA: 2020-07-22 13:15:46.972280\n",
      "Progress: 8/65 | Elapsed time: 196.26637196540833 seconds\n",
      "ETA: 2020-07-22 13:20:36.775709\n",
      "Progress: 9/65 | Elapsed time: 208.91086220741272 seconds\n",
      "ETA: 2020-07-22 13:32:37.511836\n",
      "Progress: 10/65 | Elapsed time: 215.01579809188843 seconds\n",
      "ETA: 2020-07-22 13:38:19.388413\n",
      "Progress: 11/65 | Elapsed time: 217.06462693214417 seconds\n",
      "ETA: 2020-07-22 13:40:12.074154\n",
      "Progress: 12/65 | Elapsed time: 213.63350892066956 seconds\n",
      "ETA: 2020-07-22 13:37:06.793944\n",
      "Progress: 13/65 | Elapsed time: 218.2412142753601 seconds\n",
      "ETA: 2020-07-22 13:41:11.002531\n",
      "Progress: 14/65 | Elapsed time: 226.9187650680542 seconds\n",
      "ETA: 2020-07-22 13:48:42.235358\n"
     ]
    }
   ],
   "source": [
    "# Horseshoe\n",
    "# Calculate h-step forecasts (h = 1 .. 8) for M = 7\n",
    "\n",
    "optimal_horseshoe = (30, 30)\n",
    "\n",
    "tvp_horseshoe = TVPVARModel(X_complete, y_complete, p, train)\n",
    "tvp_horseshoe.initialize_priors(prior='horseshoe',\n",
    "                            prior_parameters={'a0': optimal_horseshoe[0],\n",
    "                                              'b0': optimal_horseshoe[1]})\n",
    "\n",
    "tvp_horseshoe.print_status = False\n",
    "\n",
    "h_forecast = 8\n",
    "\n",
    "msfe_horseshoe, alpl_horseshoe = tvp_horseshoe.calculate_metrics(h_forecast)"
   ]
  },
  {
   "cell_type": "code",
   "execution_count": null,
   "metadata": {},
   "outputs": [],
   "source": [
    "# Lasso\n",
    "# Calculate h-step forecasts (h = 1 .. 8) for M = 7\n",
    "\n",
    "optimal_lambda = 300\n",
    "\n",
    "tvp_lasso = TVPVARModel(X_complete, y_complete, p, train)\n",
    "tvp_lasso.initialize_priors(prior='lasso',\n",
    "                            prior_parameters={'lambda_param': optimal_lambda})\n",
    "\n",
    "h_forecast = 8\n",
    "\n",
    "msfe_lasso, alpl_lasso = tvp_lasso.calculate_metrics(h_forecast)"
   ]
  },
  {
   "cell_type": "code",
   "execution_count": null,
   "metadata": {},
   "outputs": [],
   "source": [
    "import pickle\n",
    "\n",
    "dump_to_disk = (msfe_horseshoe, alpl_horseshoe, msfe_lasso,\n",
    "                alpl_lasso, optimal_svss, optimal_horseshoe, optimal_lambda)\n",
    "\n",
    "with open('dumps/mse_alpl_7_non_standard_horseshoe_lasso.pkl', 'wb') as f:\n",
    "    pickle.dump(dump_to_disk, f, pickle.HIGHEST_PROTOCOL)"
   ]
  },
  {
   "cell_type": "code",
   "execution_count": 10,
   "metadata": {},
   "outputs": [
    {
     "name": "stdout",
     "output_type": "stream",
     "text": [
      "hello world\n"
     ]
    }
   ],
   "source": [
    "print(\"hello world\")"
   ]
  },
  {
   "cell_type": "code",
   "execution_count": 15,
   "metadata": {},
   "outputs": [
    {
     "data": {
      "text/plain": [
       "array([0.04080503, 0.08028772, 0.09561953, 0.14142871, 0.17950264,\n",
       "       0.22727599, 0.29079865, 0.35616062])"
      ]
     },
     "execution_count": 15,
     "metadata": {},
     "output_type": "execute_result"
    }
   ],
   "source": [
    "np.mean(msfe_horseshoe,1)"
   ]
  },
  {
   "cell_type": "code",
   "execution_count": 22,
   "metadata": {},
   "outputs": [
    {
     "data": {
      "text/plain": [
       "(203,)"
      ]
     },
     "execution_count": 22,
     "metadata": {},
     "output_type": "execute_result"
    }
   ],
   "source": [
    "np.diag(tvp_lasso.St1t[:,:,1]).shape"
   ]
  },
  {
   "cell_type": "code",
   "execution_count": 40,
   "metadata": {},
   "outputs": [],
   "source": [
    "optimal_horseshoe = (30, 30)\n",
    "\n",
    "tvp_horseshoe = TVPVARModel(X_complete, y_complete, p, train)\n",
    "tvp_horseshoe.initialize_priors(prior='horseshoe',\n",
    "                            prior_parameters={'a0': optimal_horseshoe[0],\n",
    "                                              'b0': optimal_horseshoe[1]})"
   ]
  },
  {
   "cell_type": "code",
   "execution_count": null,
   "metadata": {},
   "outputs": [],
   "source": []
  }
 ],
 "metadata": {
  "kernelspec": {
   "display_name": "Python 3",
   "language": "python",
   "name": "python3"
  },
  "language_info": {
   "codemirror_mode": {
    "name": "ipython",
    "version": 3
   },
   "file_extension": ".py",
   "mimetype": "text/x-python",
   "name": "python",
   "nbconvert_exporter": "python",
   "pygments_lexer": "ipython3",
   "version": "3.7.6"
  }
 },
 "nbformat": 4,
 "nbformat_minor": 4
}
