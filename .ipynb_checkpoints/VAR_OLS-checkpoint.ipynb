{
 "cells": [
  {
   "cell_type": "code",
   "execution_count": 3,
   "metadata": {},
   "outputs": [],
   "source": [
    "# General libraries\n",
    "# import jax\n",
    "import sys\n",
    "\n",
    "\n",
    "import os\n",
    "import time\n",
    "import numpy as np\n",
    "import pandas as pd\n",
    "import matplotlib.pyplot as plt\n",
    "from scipy.stats import norm, multivariate_normal\n",
    "from IPython.display import clear_output\n",
    "\n",
    "# Own code\n",
    "sys.path.append(\"../\")\n",
    "from utils.data_utils import create_data, create_dgp_data, transformation, standardize\n",
    "from utils.tvp_models import TVPVARModel\n",
    "\n",
    "# Suppress scientific notation in numpy\n",
    "np.set_printoptions(suppress=True)\n",
    "\n",
    "# Set RNG\n",
    "np.random.seed(12345)"
   ]
  },
  {
   "cell_type": "code",
   "execution_count": 9,
   "metadata": {},
   "outputs": [],
   "source": [
    "ds = pd.read_csv(\"data/fred_qd.csv\")\n",
    "\n",
    "train = 200"
   ]
  },
  {
   "cell_type": "code",
   "execution_count": 103,
   "metadata": {},
   "outputs": [],
   "source": [
    "transform = True\n",
    "\n",
    "gdp = transformation(ds[\"GDPC1\"].iloc[2:].to_numpy(), 5, transform)\n",
    "cpi = transformation(ds[\"CPIAUCSL\"].iloc[2:].to_numpy(), 6, transform)\n",
    "fedfund = transformation(ds[\"FEDFUNDS\"].iloc[2:].to_numpy(), 2, transform)\n",
    "# compi = transformation(ds[\"PPIACO\"].iloc[2:].to_numpy(), 6, transform)\n",
    "# borrowings = transformation(ds[\"TOTRESNS\"].iloc[2:].to_numpy(), 6, transform)\n",
    "# sp500 = transformation(ds[\"S&P 500\"].iloc[2:].to_numpy(), 5, transform)\n",
    "# m2 = transformation(ds[\"M2REAL\"].iloc[2:].to_numpy(), 5, transform)\n",
    "\n",
    "series_total = [gdp, cpi, fedfund]\n",
    "# series_total = [gdp, cpi, fedfund, compi, borrowings , sp500, m2]"
   ]
  },
  {
   "cell_type": "code",
   "execution_count": 104,
   "metadata": {},
   "outputs": [],
   "source": [
    "standardized_series = standardize(series_total, train)\n",
    "X = np.array(standardized_series).T\n",
    "X_train = X[:train]"
   ]
  },
  {
   "cell_type": "code",
   "execution_count": 105,
   "metadata": {},
   "outputs": [],
   "source": [
    "import statsmodels.api as sm\n",
    "from statsmodels.tsa.api import VAR\n",
    "\n",
    "var_ols = VAR(X_train)"
   ]
  },
  {
   "cell_type": "code",
   "execution_count": 106,
   "metadata": {},
   "outputs": [],
   "source": [
    "var_results = var_ols.fit(4)"
   ]
  },
  {
   "cell_type": "code",
   "execution_count": 107,
   "metadata": {},
   "outputs": [],
   "source": [
    "forecasting_results = np.zeros((45, len(series_total), 8))\n",
    "\n",
    "for i in range(45):\n",
    "    var_ols = VAR(X[:(train+i)])\n",
    "    var_results = var_ols.fit(4)\n",
    "    \n",
    "    forecasting_results[i] = var_results.forecast(X[:train+i], 8).T"
   ]
  },
  {
   "cell_type": "code",
   "execution_count": 108,
   "metadata": {},
   "outputs": [],
   "source": [
    "def calculate_metrics_default(y_pred, y_true, total_h):\n",
    "    \n",
    "    msfe = np.zeros(total_h)\n",
    "    alpl = np.zeros(total_h)\n",
    "    number_of_predictions = len(y_pred)\n",
    "    \n",
    "    for h in range(total_h):\n",
    "        \n",
    "        lpl = np.zeros(number_of_predictions-h)\n",
    "\n",
    "        if h == 0:\n",
    "            y_true_h = y_true\n",
    "            y_pred_h = y_pred[:, :, 0]\n",
    "\n",
    "            msfe[h] = np.mean((y_pred_h - y_true_h) ** 2)\n",
    "            for t in range(number_of_predictions):\n",
    "                lpl[t] = multivariate_normal.pdf(y_true_h[t], y_pred_h[t], cov=np.cov(y_pred_h.T))\n",
    "\n",
    "            alpl[h] = lpl.mean()\n",
    "\n",
    "        else:\n",
    "            y_true_h = y_true[h:]\n",
    "            y_pred_h = y_pred[:-h, :, h]\n",
    "\n",
    "            msfe[h] = np.mean((y_pred_h - y_true_h) ** 2)\n",
    "            for t in range(number_of_predictions-h):\n",
    "                lpl[t] = multivariate_normal.pdf(y_true_h[t], y_pred_h[t], cov=np.cov(y_pred_h.T))\n",
    "\n",
    "            alpl[h] = lpl.mean()\n",
    "    return msfe, alpl"
   ]
  },
  {
   "cell_type": "code",
   "execution_count": 109,
   "metadata": {},
   "outputs": [],
   "source": [
    "msfe_var_ols, alpl_var_ols = calculate_metrics_default(forecasting_results, X[train:], 8)"
   ]
  }
 ],
 "metadata": {
  "kernelspec": {
   "display_name": "Python 3",
   "language": "python",
   "name": "python3"
  },
  "language_info": {
   "codemirror_mode": {
    "name": "ipython",
    "version": 3
   },
   "file_extension": ".py",
   "mimetype": "text/x-python",
   "name": "python",
   "nbconvert_exporter": "python",
   "pygments_lexer": "ipython3",
   "version": "3.7.6"
  }
 },
 "nbformat": 4,
 "nbformat_minor": 4
}
